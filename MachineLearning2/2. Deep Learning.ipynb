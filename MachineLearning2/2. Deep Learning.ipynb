{
 "cells": [
  {
   "cell_type": "markdown",
   "metadata": {},
   "source": [
    "# **Deep Learning**\n",
    "**Se define como un algoritmo automático estructurado o jerárquico que emula el aprendizaje humano con el fin de obtener ciertos conocimientos. Destaca porque no requiere de reglas programadas previamente, sino que el propio sistema es capaz de «aprender» por sí mismo para efectuar una tarea a través de una fase previa de entrenamiento.**\n",
    "\n",
    "**Sigue un proceso por capas que simula el funcionamiento básico del cerebro que se realiza a través de las redes de neuronas.**\n"
   ]
  },
  {
   "cell_type": "markdown",
   "metadata": {},
   "source": [
    "# **1. Librerías**"
   ]
  },
  {
   "cell_type": "code",
   "execution_count": 1,
   "metadata": {},
   "outputs": [],
   "source": [
    "import pandas as pd\n",
    "import numpy as np\n",
    "import io\n",
    "import warnings\n",
    "import matplotlib.pyplot as plt\n",
    "import datetime\n",
    "import sklearn.metrics\n",
    "from sklearn.metrics import accuracy_score, classification_report, confusion_matrix\n",
    "from sklearn.model_selection import train_test_split\n",
    "\n",
    "%matplotlib inline\n",
    "warnings.filterwarnings('ignore')\n",
    "\n",
    "from keras.models import Sequential\n",
    "from keras.layers import Dense, Dropout\n",
    "from tensorflow.keras.utils import to_categorical"
   ]
  },
  {
   "cell_type": "code",
   "execution_count": 24,
   "metadata": {},
   "outputs": [],
   "source": [
    "from numpy.random import seed\n",
    "seed(10)"
   ]
  },
  {
   "cell_type": "code",
   "execution_count": null,
   "metadata": {},
   "outputs": [],
   "source": [
    "from decimal import Decimal, getcontext\n",
    "\n",
    "getcontext().prec = 100000000"
   ]
  },
  {
   "cell_type": "markdown",
   "metadata": {},
   "source": [
    "# **2. Datos**\n",
    "Vamos a usar los datos que hemos usado en las asignaturas previas de este curso."
   ]
  },
  {
   "cell_type": "code",
   "execution_count": 25,
   "metadata": {},
   "outputs": [
    {
     "data": {
      "text/html": [
       "<div>\n",
       "<style scoped>\n",
       "    .dataframe tbody tr th:only-of-type {\n",
       "        vertical-align: middle;\n",
       "    }\n",
       "\n",
       "    .dataframe tbody tr th {\n",
       "        vertical-align: top;\n",
       "    }\n",
       "\n",
       "    .dataframe thead th {\n",
       "        text-align: right;\n",
       "    }\n",
       "</style>\n",
       "<table border=\"1\" class=\"dataframe\">\n",
       "  <thead>\n",
       "    <tr style=\"text-align: right;\">\n",
       "      <th></th>\n",
       "      <th>Unnamed: 0</th>\n",
       "      <th>is_canceled</th>\n",
       "      <th>lead_time</th>\n",
       "      <th>arrival_date_year</th>\n",
       "      <th>arrival_date_week_number</th>\n",
       "      <th>arrival_date_day_of_month</th>\n",
       "      <th>stays_in_weekend_nights</th>\n",
       "      <th>stays_in_week_nights</th>\n",
       "      <th>adults</th>\n",
       "      <th>children</th>\n",
       "      <th>...</th>\n",
       "      <th>arrival_month</th>\n",
       "      <th>hotel_Resort Hotel</th>\n",
       "      <th>meal_FB</th>\n",
       "      <th>meal_HB</th>\n",
       "      <th>meal_SC</th>\n",
       "      <th>meal_Undefined</th>\n",
       "      <th>deposit_type_Non Refund</th>\n",
       "      <th>deposit_type_Refundable</th>\n",
       "      <th>customer_type_Group</th>\n",
       "      <th>customer_type_Transient-Party</th>\n",
       "    </tr>\n",
       "  </thead>\n",
       "  <tbody>\n",
       "    <tr>\n",
       "      <th>count</th>\n",
       "      <td>30000.000000</td>\n",
       "      <td>30000.000000</td>\n",
       "      <td>30000.000000</td>\n",
       "      <td>30000.000000</td>\n",
       "      <td>30000.000000</td>\n",
       "      <td>30000.000000</td>\n",
       "      <td>30000.000000</td>\n",
       "      <td>30000.00000</td>\n",
       "      <td>30000.000000</td>\n",
       "      <td>30000.000000</td>\n",
       "      <td>...</td>\n",
       "      <td>30000.000000</td>\n",
       "      <td>30000.000000</td>\n",
       "      <td>30000.000000</td>\n",
       "      <td>30000.000000</td>\n",
       "      <td>30000.000000</td>\n",
       "      <td>30000.000000</td>\n",
       "      <td>30000.000000</td>\n",
       "      <td>30000.000000</td>\n",
       "      <td>30000.000000</td>\n",
       "      <td>30000.000000</td>\n",
       "    </tr>\n",
       "    <tr>\n",
       "      <th>mean</th>\n",
       "      <td>14999.500000</td>\n",
       "      <td>0.368367</td>\n",
       "      <td>8.280793</td>\n",
       "      <td>2016.156167</td>\n",
       "      <td>27.144700</td>\n",
       "      <td>15.785733</td>\n",
       "      <td>0.928400</td>\n",
       "      <td>2.51210</td>\n",
       "      <td>1.863632</td>\n",
       "      <td>0.106705</td>\n",
       "      <td>...</td>\n",
       "      <td>6.547933</td>\n",
       "      <td>0.340633</td>\n",
       "      <td>0.006100</td>\n",
       "      <td>0.122200</td>\n",
       "      <td>0.090733</td>\n",
       "      <td>0.009367</td>\n",
       "      <td>0.120433</td>\n",
       "      <td>0.001200</td>\n",
       "      <td>0.004733</td>\n",
       "      <td>0.960500</td>\n",
       "    </tr>\n",
       "    <tr>\n",
       "      <th>std</th>\n",
       "      <td>8660.398374</td>\n",
       "      <td>0.482370</td>\n",
       "      <td>2.027570</td>\n",
       "      <td>0.706490</td>\n",
       "      <td>13.649126</td>\n",
       "      <td>8.800606</td>\n",
       "      <td>1.004709</td>\n",
       "      <td>1.92888</td>\n",
       "      <td>0.635565</td>\n",
       "      <td>0.403716</td>\n",
       "      <td>...</td>\n",
       "      <td>3.099756</td>\n",
       "      <td>0.473930</td>\n",
       "      <td>0.077865</td>\n",
       "      <td>0.327522</td>\n",
       "      <td>0.287234</td>\n",
       "      <td>0.096329</td>\n",
       "      <td>0.325473</td>\n",
       "      <td>0.034621</td>\n",
       "      <td>0.068637</td>\n",
       "      <td>0.194785</td>\n",
       "    </tr>\n",
       "    <tr>\n",
       "      <th>min</th>\n",
       "      <td>0.000000</td>\n",
       "      <td>0.000000</td>\n",
       "      <td>0.763433</td>\n",
       "      <td>2015.000000</td>\n",
       "      <td>1.000000</td>\n",
       "      <td>1.000000</td>\n",
       "      <td>0.000000</td>\n",
       "      <td>0.00000</td>\n",
       "      <td>1.000000</td>\n",
       "      <td>0.000000</td>\n",
       "      <td>...</td>\n",
       "      <td>1.000000</td>\n",
       "      <td>0.000000</td>\n",
       "      <td>0.000000</td>\n",
       "      <td>0.000000</td>\n",
       "      <td>0.000000</td>\n",
       "      <td>0.000000</td>\n",
       "      <td>0.000000</td>\n",
       "      <td>0.000000</td>\n",
       "      <td>0.000000</td>\n",
       "      <td>0.000000</td>\n",
       "    </tr>\n",
       "    <tr>\n",
       "      <th>25%</th>\n",
       "      <td>7499.750000</td>\n",
       "      <td>0.000000</td>\n",
       "      <td>7.664083</td>\n",
       "      <td>2016.000000</td>\n",
       "      <td>16.000000</td>\n",
       "      <td>8.000000</td>\n",
       "      <td>0.000000</td>\n",
       "      <td>1.00000</td>\n",
       "      <td>2.000000</td>\n",
       "      <td>0.000000</td>\n",
       "      <td>...</td>\n",
       "      <td>4.000000</td>\n",
       "      <td>0.000000</td>\n",
       "      <td>0.000000</td>\n",
       "      <td>0.000000</td>\n",
       "      <td>0.000000</td>\n",
       "      <td>0.000000</td>\n",
       "      <td>0.000000</td>\n",
       "      <td>0.000000</td>\n",
       "      <td>0.000000</td>\n",
       "      <td>1.000000</td>\n",
       "    </tr>\n",
       "    <tr>\n",
       "      <th>50%</th>\n",
       "      <td>14999.500000</td>\n",
       "      <td>0.000000</td>\n",
       "      <td>8.326678</td>\n",
       "      <td>2016.000000</td>\n",
       "      <td>27.000000</td>\n",
       "      <td>16.000000</td>\n",
       "      <td>1.000000</td>\n",
       "      <td>2.00000</td>\n",
       "      <td>2.000000</td>\n",
       "      <td>0.000000</td>\n",
       "      <td>...</td>\n",
       "      <td>7.000000</td>\n",
       "      <td>0.000000</td>\n",
       "      <td>0.000000</td>\n",
       "      <td>0.000000</td>\n",
       "      <td>0.000000</td>\n",
       "      <td>0.000000</td>\n",
       "      <td>0.000000</td>\n",
       "      <td>0.000000</td>\n",
       "      <td>0.000000</td>\n",
       "      <td>1.000000</td>\n",
       "    </tr>\n",
       "    <tr>\n",
       "      <th>75%</th>\n",
       "      <td>22499.250000</td>\n",
       "      <td>1.000000</td>\n",
       "      <td>9.003887</td>\n",
       "      <td>2017.000000</td>\n",
       "      <td>38.000000</td>\n",
       "      <td>23.000000</td>\n",
       "      <td>2.000000</td>\n",
       "      <td>3.00000</td>\n",
       "      <td>2.000000</td>\n",
       "      <td>0.000000</td>\n",
       "      <td>...</td>\n",
       "      <td>9.000000</td>\n",
       "      <td>1.000000</td>\n",
       "      <td>0.000000</td>\n",
       "      <td>0.000000</td>\n",
       "      <td>0.000000</td>\n",
       "      <td>0.000000</td>\n",
       "      <td>0.000000</td>\n",
       "      <td>0.000000</td>\n",
       "      <td>0.000000</td>\n",
       "      <td>1.000000</td>\n",
       "    </tr>\n",
       "    <tr>\n",
       "      <th>max</th>\n",
       "      <td>29999.000000</td>\n",
       "      <td>1.000000</td>\n",
       "      <td>17.690502</td>\n",
       "      <td>2017.000000</td>\n",
       "      <td>53.000000</td>\n",
       "      <td>31.000000</td>\n",
       "      <td>19.000000</td>\n",
       "      <td>50.00000</td>\n",
       "      <td>55.000000</td>\n",
       "      <td>3.000000</td>\n",
       "      <td>...</td>\n",
       "      <td>12.000000</td>\n",
       "      <td>1.000000</td>\n",
       "      <td>1.000000</td>\n",
       "      <td>1.000000</td>\n",
       "      <td>1.000000</td>\n",
       "      <td>1.000000</td>\n",
       "      <td>1.000000</td>\n",
       "      <td>1.000000</td>\n",
       "      <td>1.000000</td>\n",
       "      <td>1.000000</td>\n",
       "    </tr>\n",
       "  </tbody>\n",
       "</table>\n",
       "<p>8 rows × 29 columns</p>\n",
       "</div>"
      ],
      "text/plain": [
       "         Unnamed: 0   is_canceled     lead_time  arrival_date_year  \\\n",
       "count  30000.000000  30000.000000  30000.000000       30000.000000   \n",
       "mean   14999.500000      0.368367      8.280793        2016.156167   \n",
       "std     8660.398374      0.482370      2.027570           0.706490   \n",
       "min        0.000000      0.000000      0.763433        2015.000000   \n",
       "25%     7499.750000      0.000000      7.664083        2016.000000   \n",
       "50%    14999.500000      0.000000      8.326678        2016.000000   \n",
       "75%    22499.250000      1.000000      9.003887        2017.000000   \n",
       "max    29999.000000      1.000000     17.690502        2017.000000   \n",
       "\n",
       "       arrival_date_week_number  arrival_date_day_of_month  \\\n",
       "count              30000.000000               30000.000000   \n",
       "mean                  27.144700                  15.785733   \n",
       "std                   13.649126                   8.800606   \n",
       "min                    1.000000                   1.000000   \n",
       "25%                   16.000000                   8.000000   \n",
       "50%                   27.000000                  16.000000   \n",
       "75%                   38.000000                  23.000000   \n",
       "max                   53.000000                  31.000000   \n",
       "\n",
       "       stays_in_weekend_nights  stays_in_week_nights        adults  \\\n",
       "count             30000.000000           30000.00000  30000.000000   \n",
       "mean                  0.928400               2.51210      1.863632   \n",
       "std                   1.004709               1.92888      0.635565   \n",
       "min                   0.000000               0.00000      1.000000   \n",
       "25%                   0.000000               1.00000      2.000000   \n",
       "50%                   1.000000               2.00000      2.000000   \n",
       "75%                   2.000000               3.00000      2.000000   \n",
       "max                  19.000000              50.00000     55.000000   \n",
       "\n",
       "           children  ...  arrival_month  hotel_Resort Hotel       meal_FB  \\\n",
       "count  30000.000000  ...   30000.000000        30000.000000  30000.000000   \n",
       "mean       0.106705  ...       6.547933            0.340633      0.006100   \n",
       "std        0.403716  ...       3.099756            0.473930      0.077865   \n",
       "min        0.000000  ...       1.000000            0.000000      0.000000   \n",
       "25%        0.000000  ...       4.000000            0.000000      0.000000   \n",
       "50%        0.000000  ...       7.000000            0.000000      0.000000   \n",
       "75%        0.000000  ...       9.000000            1.000000      0.000000   \n",
       "max        3.000000  ...      12.000000            1.000000      1.000000   \n",
       "\n",
       "            meal_HB       meal_SC  meal_Undefined  deposit_type_Non Refund  \\\n",
       "count  30000.000000  30000.000000    30000.000000             30000.000000   \n",
       "mean       0.122200      0.090733        0.009367                 0.120433   \n",
       "std        0.327522      0.287234        0.096329                 0.325473   \n",
       "min        0.000000      0.000000        0.000000                 0.000000   \n",
       "25%        0.000000      0.000000        0.000000                 0.000000   \n",
       "50%        0.000000      0.000000        0.000000                 0.000000   \n",
       "75%        0.000000      0.000000        0.000000                 0.000000   \n",
       "max        1.000000      1.000000        1.000000                 1.000000   \n",
       "\n",
       "       deposit_type_Refundable  customer_type_Group  \\\n",
       "count             30000.000000         30000.000000   \n",
       "mean                  0.001200             0.004733   \n",
       "std                   0.034621             0.068637   \n",
       "min                   0.000000             0.000000   \n",
       "25%                   0.000000             0.000000   \n",
       "50%                   0.000000             0.000000   \n",
       "75%                   0.000000             0.000000   \n",
       "max                   1.000000             1.000000   \n",
       "\n",
       "       customer_type_Transient-Party  \n",
       "count                   30000.000000  \n",
       "mean                        0.960500  \n",
       "std                         0.194785  \n",
       "min                         0.000000  \n",
       "25%                         1.000000  \n",
       "50%                         1.000000  \n",
       "75%                         1.000000  \n",
       "max                         1.000000  \n",
       "\n",
       "[8 rows x 29 columns]"
      ]
     },
     "execution_count": 25,
     "metadata": {},
     "output_type": "execute_result"
    }
   ],
   "source": [
    "data = pd.read_csv('data/data.csv')\n",
    "data = data.drop(\"reserverd/assigned\", axis=1)\n",
    "data.describe()"
   ]
  },
  {
   "cell_type": "code",
   "execution_count": 26,
   "metadata": {},
   "outputs": [
    {
     "data": {
      "text/html": [
       "<div>\n",
       "<style scoped>\n",
       "    .dataframe tbody tr th:only-of-type {\n",
       "        vertical-align: middle;\n",
       "    }\n",
       "\n",
       "    .dataframe tbody tr th {\n",
       "        vertical-align: top;\n",
       "    }\n",
       "\n",
       "    .dataframe thead th {\n",
       "        text-align: right;\n",
       "    }\n",
       "</style>\n",
       "<table border=\"1\" class=\"dataframe\">\n",
       "  <thead>\n",
       "    <tr style=\"text-align: right;\">\n",
       "      <th></th>\n",
       "      <th>Unnamed: 0</th>\n",
       "      <th>is_canceled</th>\n",
       "      <th>lead_time</th>\n",
       "      <th>arrival_date_year</th>\n",
       "      <th>arrival_date_week_number</th>\n",
       "      <th>arrival_date_day_of_month</th>\n",
       "      <th>stays_in_weekend_nights</th>\n",
       "      <th>stays_in_week_nights</th>\n",
       "      <th>adults</th>\n",
       "      <th>children</th>\n",
       "      <th>...</th>\n",
       "      <th>arrival_month</th>\n",
       "      <th>hotel_Resort Hotel</th>\n",
       "      <th>meal_FB</th>\n",
       "      <th>meal_HB</th>\n",
       "      <th>meal_SC</th>\n",
       "      <th>meal_Undefined</th>\n",
       "      <th>deposit_type_Non Refund</th>\n",
       "      <th>deposit_type_Refundable</th>\n",
       "      <th>customer_type_Group</th>\n",
       "      <th>customer_type_Transient-Party</th>\n",
       "    </tr>\n",
       "  </thead>\n",
       "  <tbody>\n",
       "    <tr>\n",
       "      <th>0</th>\n",
       "      <td>0</td>\n",
       "      <td>0.0</td>\n",
       "      <td>13.077658</td>\n",
       "      <td>2015.0</td>\n",
       "      <td>27.0</td>\n",
       "      <td>1.0</td>\n",
       "      <td>2.0</td>\n",
       "      <td>5.0</td>\n",
       "      <td>2.0</td>\n",
       "      <td>0.0</td>\n",
       "      <td>...</td>\n",
       "      <td>7.0</td>\n",
       "      <td>1.0</td>\n",
       "      <td>0.0</td>\n",
       "      <td>1.0</td>\n",
       "      <td>0.0</td>\n",
       "      <td>0.0</td>\n",
       "      <td>0.0</td>\n",
       "      <td>0.0</td>\n",
       "      <td>0.0</td>\n",
       "      <td>0.0</td>\n",
       "    </tr>\n",
       "    <tr>\n",
       "      <th>1</th>\n",
       "      <td>1</td>\n",
       "      <td>1.0</td>\n",
       "      <td>7.389493</td>\n",
       "      <td>2015.0</td>\n",
       "      <td>27.0</td>\n",
       "      <td>1.0</td>\n",
       "      <td>0.0</td>\n",
       "      <td>2.0</td>\n",
       "      <td>2.0</td>\n",
       "      <td>0.0</td>\n",
       "      <td>...</td>\n",
       "      <td>7.0</td>\n",
       "      <td>0.0</td>\n",
       "      <td>0.0</td>\n",
       "      <td>1.0</td>\n",
       "      <td>0.0</td>\n",
       "      <td>0.0</td>\n",
       "      <td>0.0</td>\n",
       "      <td>0.0</td>\n",
       "      <td>0.0</td>\n",
       "      <td>1.0</td>\n",
       "    </tr>\n",
       "    <tr>\n",
       "      <th>2</th>\n",
       "      <td>2</td>\n",
       "      <td>0.0</td>\n",
       "      <td>7.755577</td>\n",
       "      <td>2015.0</td>\n",
       "      <td>27.0</td>\n",
       "      <td>1.0</td>\n",
       "      <td>0.0</td>\n",
       "      <td>2.0</td>\n",
       "      <td>1.0</td>\n",
       "      <td>0.0</td>\n",
       "      <td>...</td>\n",
       "      <td>7.0</td>\n",
       "      <td>0.0</td>\n",
       "      <td>0.0</td>\n",
       "      <td>1.0</td>\n",
       "      <td>0.0</td>\n",
       "      <td>0.0</td>\n",
       "      <td>0.0</td>\n",
       "      <td>0.0</td>\n",
       "      <td>0.0</td>\n",
       "      <td>1.0</td>\n",
       "    </tr>\n",
       "    <tr>\n",
       "      <th>3</th>\n",
       "      <td>3</td>\n",
       "      <td>0.0</td>\n",
       "      <td>13.077658</td>\n",
       "      <td>2015.0</td>\n",
       "      <td>27.0</td>\n",
       "      <td>1.0</td>\n",
       "      <td>0.0</td>\n",
       "      <td>4.0</td>\n",
       "      <td>2.0</td>\n",
       "      <td>0.0</td>\n",
       "      <td>...</td>\n",
       "      <td>7.0</td>\n",
       "      <td>1.0</td>\n",
       "      <td>0.0</td>\n",
       "      <td>0.0</td>\n",
       "      <td>0.0</td>\n",
       "      <td>0.0</td>\n",
       "      <td>0.0</td>\n",
       "      <td>0.0</td>\n",
       "      <td>0.0</td>\n",
       "      <td>1.0</td>\n",
       "    </tr>\n",
       "    <tr>\n",
       "      <th>4</th>\n",
       "      <td>4</td>\n",
       "      <td>1.0</td>\n",
       "      <td>7.389493</td>\n",
       "      <td>2015.0</td>\n",
       "      <td>27.0</td>\n",
       "      <td>1.0</td>\n",
       "      <td>0.0</td>\n",
       "      <td>2.0</td>\n",
       "      <td>2.0</td>\n",
       "      <td>0.0</td>\n",
       "      <td>...</td>\n",
       "      <td>7.0</td>\n",
       "      <td>0.0</td>\n",
       "      <td>0.0</td>\n",
       "      <td>1.0</td>\n",
       "      <td>0.0</td>\n",
       "      <td>0.0</td>\n",
       "      <td>0.0</td>\n",
       "      <td>0.0</td>\n",
       "      <td>0.0</td>\n",
       "      <td>1.0</td>\n",
       "    </tr>\n",
       "  </tbody>\n",
       "</table>\n",
       "<p>5 rows × 29 columns</p>\n",
       "</div>"
      ],
      "text/plain": [
       "   Unnamed: 0  is_canceled  lead_time  arrival_date_year  \\\n",
       "0           0          0.0  13.077658             2015.0   \n",
       "1           1          1.0   7.389493             2015.0   \n",
       "2           2          0.0   7.755577             2015.0   \n",
       "3           3          0.0  13.077658             2015.0   \n",
       "4           4          1.0   7.389493             2015.0   \n",
       "\n",
       "   arrival_date_week_number  arrival_date_day_of_month  \\\n",
       "0                      27.0                        1.0   \n",
       "1                      27.0                        1.0   \n",
       "2                      27.0                        1.0   \n",
       "3                      27.0                        1.0   \n",
       "4                      27.0                        1.0   \n",
       "\n",
       "   stays_in_weekend_nights  stays_in_week_nights  adults  children  ...  \\\n",
       "0                      2.0                   5.0     2.0       0.0  ...   \n",
       "1                      0.0                   2.0     2.0       0.0  ...   \n",
       "2                      0.0                   2.0     1.0       0.0  ...   \n",
       "3                      0.0                   4.0     2.0       0.0  ...   \n",
       "4                      0.0                   2.0     2.0       0.0  ...   \n",
       "\n",
       "   arrival_month  hotel_Resort Hotel  meal_FB  meal_HB  meal_SC  \\\n",
       "0            7.0                 1.0      0.0      1.0      0.0   \n",
       "1            7.0                 0.0      0.0      1.0      0.0   \n",
       "2            7.0                 0.0      0.0      1.0      0.0   \n",
       "3            7.0                 1.0      0.0      0.0      0.0   \n",
       "4            7.0                 0.0      0.0      1.0      0.0   \n",
       "\n",
       "   meal_Undefined  deposit_type_Non Refund  deposit_type_Refundable  \\\n",
       "0             0.0                      0.0                      0.0   \n",
       "1             0.0                      0.0                      0.0   \n",
       "2             0.0                      0.0                      0.0   \n",
       "3             0.0                      0.0                      0.0   \n",
       "4             0.0                      0.0                      0.0   \n",
       "\n",
       "   customer_type_Group  customer_type_Transient-Party  \n",
       "0                  0.0                            0.0  \n",
       "1                  0.0                            1.0  \n",
       "2                  0.0                            1.0  \n",
       "3                  0.0                            1.0  \n",
       "4                  0.0                            1.0  \n",
       "\n",
       "[5 rows x 29 columns]"
      ]
     },
     "execution_count": 26,
     "metadata": {},
     "output_type": "execute_result"
    }
   ],
   "source": [
    "data.head()"
   ]
  },
  {
   "cell_type": "markdown",
   "metadata": {},
   "source": [
    "## Variable Objetivo: is_canceled\n",
    "Nos vamos a centrar en la variable is_canceled, con la intención de predecir si una reserva será cancelada o no."
   ]
  },
  {
   "cell_type": "code",
   "execution_count": 27,
   "metadata": {},
   "outputs": [],
   "source": [
    "X = data.iloc[:,2:29].values\n",
    "Y = data.iloc[:,1:2].values"
   ]
  },
  {
   "cell_type": "code",
   "execution_count": 28,
   "metadata": {},
   "outputs": [],
   "source": [
    "from sklearn.preprocessing import StandardScaler\n",
    "sc = StandardScaler()\n",
    "X = sc.fit_transform(X)"
   ]
  },
  {
   "cell_type": "code",
   "execution_count": 29,
   "metadata": {},
   "outputs": [
    {
     "name": "stdout",
     "output_type": "stream",
     "text": [
      "(30000, 27)\n",
      "(30000, 1)\n"
     ]
    }
   ],
   "source": [
    "print(X.shape)\n",
    "print(Y.shape)"
   ]
  },
  {
   "cell_type": "code",
   "execution_count": 30,
   "metadata": {},
   "outputs": [
    {
     "name": "stdout",
     "output_type": "stream",
     "text": [
      "Train (20100, 27) (20100, 1)\n",
      "Test (9900, 27) (9900, 1)\n"
     ]
    }
   ],
   "source": [
    "X_train, X_test, Y_train, Y_test = train_test_split(X, Y, test_size=0.33, random_state=1)\n",
    "print('Train', X_train.shape, Y_train.shape)\n",
    "print('Test', X_test.shape, Y_test.shape)"
   ]
  },
  {
   "cell_type": "code",
   "execution_count": 31,
   "metadata": {},
   "outputs": [],
   "source": [
    "epochs = 50\n",
    "batch_size = 50"
   ]
  },
  {
   "cell_type": "markdown",
   "metadata": {},
   "source": [
    "# **3. Red Monocapa**\n",
    "**Las redes monocapa son redes con una sola capa.Para unirse las neuronas crean conexiones laterales para conectar con otras neuronas de su capa.**\n",
    "\n",
    "**Las redes más representativas son la red de Hopfield, la red BRAIN-STATE-IN-A-BOX o memoria asociativa y las maquinas estocásticas de Botzmann y Cauchy.**\n",
    "\n",
    "**Entre las redes neuronales monocapa, existen algunas que permiten que las neuronas tengan conexiones a si mismas y se denominan autorecurrentes.**"
   ]
  },
  {
   "cell_type": "markdown",
   "metadata": {},
   "source": [
    "Primero vamos a realizar una primera prueba simple con unsa sola capa, y un número de nodos aleatorio.\n",
    "\n",
    "Después iremos comprobando cual es el mejor número de capas y el mejor número de nodos por capa."
   ]
  },
  {
   "cell_type": "markdown",
   "metadata": {},
   "source": [
    "Creamos una primera capa con un número de nodos equivalente a la dimensión de los datos y una capa final con un nodo, pues estamos en un problema de clasificación"
   ]
  },
  {
   "cell_type": "code",
   "execution_count": 32,
   "metadata": {},
   "outputs": [],
   "source": [
    "from keras.models import Sequential\n",
    "model = Sequential()\n",
    "model.add(Dense(28, input_dim=27, activation='relu'))\n",
    "model.add(Dense(1, activation='sigmoid'))"
   ]
  },
  {
   "cell_type": "code",
   "execution_count": 33,
   "metadata": {},
   "outputs": [],
   "source": [
    "model.compile(loss='binary_crossentropy', optimizer='adam', metrics=['BinaryAccuracy'])"
   ]
  },
  {
   "cell_type": "code",
   "execution_count": 34,
   "metadata": {},
   "outputs": [],
   "source": [
    "history = model.fit(X_train, Y_train, validation_data = (X_test,Y_test), epochs=epochs, batch_size=batch_size, verbose = 0)"
   ]
  },
  {
   "cell_type": "code",
   "execution_count": 35,
   "metadata": {},
   "outputs": [
    {
     "name": "stdout",
     "output_type": "stream",
     "text": [
      "198/198 [==============================] - 0s 859us/step\n"
     ]
    },
    {
     "data": {
      "text/plain": [
       "array([[6190,  108],\n",
       "       [ 247, 3355]])"
      ]
     },
     "execution_count": 35,
     "metadata": {},
     "output_type": "execute_result"
    }
   ],
   "source": [
    "y_pred = model.predict(X_test, batch_size=batch_size, verbose=1)\n",
    "y_pred = [0 if i < 0.5 else 1 for i in y_pred]\n",
    "confusion_matrix(Y_test, y_pred)"
   ]
  },
  {
   "cell_type": "code",
   "execution_count": 36,
   "metadata": {},
   "outputs": [
    {
     "data": {
      "image/png": "[encoded data removed]",
      "text/plain": [
       "<Figure size 432x288 with 1 Axes>"
      ]
     },
     "metadata": {
      "needs_background": "light"
     },
     "output_type": "display_data"
    }
   ],
   "source": [
    "import matplotlib.pyplot as plt\n",
    "plt.plot(history.history['binary_accuracy'])\n",
    "plt.plot(history.history['val_binary_accuracy'])\n",
    "plt.title('Model accuracy')\n",
    "plt.ylabel('Accuracy')\n",
    "plt.xlabel('Epoch')\n",
    "plt.legend(['Train', 'Test'], loc='upper left')\n",
    "plt.show()"
   ]
  },
  {
   "cell_type": "code",
   "execution_count": 37,
   "metadata": {},
   "outputs": [
    {
     "data": {
      "image/png": "[encoded data removed]",
      "text/plain": [
       "<Figure size 432x288 with 1 Axes>"
      ]
     },
     "metadata": {
      "needs_background": "light"
     },
     "output_type": "display_data"
    }
   ],
   "source": [
    "plt.plot(history.history['loss']) \n",
    "plt.plot(history.history['val_loss']) \n",
    "plt.title('Model loss') \n",
    "plt.ylabel('Loss') \n",
    "plt.xlabel('Epoch') \n",
    "plt.legend(['Train', 'Test'], loc='upper left') \n",
    "plt.show()"
   ]
  },
  {
   "cell_type": "markdown",
   "metadata": {},
   "source": [
    "Como podemos ver, se optiene un accuracy muy bueno con algo muy simple.\n",
    "Esto puede deberse a que los datos estén desbalanceados."
   ]
  },
  {
   "cell_type": "code",
   "execution_count": 38,
   "metadata": {},
   "outputs": [
    {
     "data": {
      "text/plain": [
       "0.0    18949\n",
       "1.0    11051\n",
       "Name: is_canceled, dtype: int64"
      ]
     },
     "execution_count": 38,
     "metadata": {},
     "output_type": "execute_result"
    }
   ],
   "source": [
    "data[\"is_canceled\"].value_counts()"
   ]
  },
  {
   "cell_type": "code",
   "execution_count": 39,
   "metadata": {},
   "outputs": [
    {
     "name": "stdout",
     "output_type": "stream",
     "text": [
      "0: 63.16333333333334%\n",
      "1: 36.836666666666666%\n"
     ]
    }
   ],
   "source": [
    "print(\"0: {}%\".format((18949/30000)*100))\n",
    "print(\"1: {}%\".format((11051/30000)*100))\n"
   ]
  },
  {
   "cell_type": "markdown",
   "metadata": {},
   "source": [
    "No es que sean unos datos muy desbalanceados, pero vamos a añadir mas métricas para evaluar mejor el modelo (Recall y Precision)"
   ]
  },
  {
   "cell_type": "markdown",
   "metadata": {},
   "source": [
    "# **4. Nodos primera capa**\n",
    "Después de una primera prueba muy simple inicial, vamos a probar con distinto número de nodos en la primera capa."
   ]
  },
  {
   "cell_type": "code",
   "execution_count": 44,
   "metadata": {},
   "outputs": [],
   "source": [
    "def find_nodes(input_dim, max_nodes, epochs, batch_size):\n",
    "    \"\"\"Create Neural Network with with two lstm layers with sizes i, j\"\"\"\n",
    "\n",
    "    loss_array = []\n",
    "    accuracy_array = []\n",
    "    recall_array = []\n",
    "    precision_array = []\n",
    "    fscore_array = []\n",
    "    \n",
    "    model = Sequential()\n",
    "    \n",
    "    best_num_nodes = 0\n",
    "    best_fscore = 0\n",
    "    \n",
    "    max_nodes = np.linspace(10, int(max_nodes), int(max_nodes/10))\n",
    "    for nodes in np.nditer(max_nodes):\n",
    "        print(\"################################################################################################\")\n",
    "        print(\"#################################### Working with {} nodes #####################################\".format(int(nodes)))\n",
    "        \n",
    "        model.add(Dense(int(nodes), input_dim=input_dim, activation='relu'))\n",
    "        model.add(Dense(1, activation='sigmoid'))\n",
    "        \n",
    "        model.compile(loss='binary_crossentropy', optimizer='adam', metrics=['BinaryAccuracy', 'Recall', 'Precision'])\n",
    "        model.fit(X_train, Y_train, epochs=epochs, batch_size=batch_size, verbose = 0)\n",
    "        \n",
    "        loss, accuracy, recall, precision = model.evaluate(X_test, Y_test)\n",
    "        accuracy = accuracy * 100\n",
    "        recall = recall * 100\n",
    "        precision = precision * 100\n",
    "        if recall+precision == 0:\n",
    "            fscore = 0\n",
    "        else:\n",
    "            fscore = (2*(recall*precision))/(recall+precision) \n",
    "        \n",
    "        loss_array.append(loss)\n",
    "        accuracy_array.append(accuracy)\n",
    "        recall_array.append(recall)\n",
    "        precision_array.append(precision)\n",
    "        fscore_array.append(fscore)\n",
    "        \n",
    "        print('Loss for {} nodes: {}'.format(int(nodes), loss))\n",
    "        print('Accuracy for {} nodes: {}'.format(int(nodes), accuracy))\n",
    "        print('Recall for {} nodes: {}'.format(int(nodes), recall))\n",
    "        print('Precision for {} nodes: {}'.format(int(nodes), precision))\n",
    "        print('F1-score for {} nodes: {}'.format(int(nodes), fscore))\n",
    "        \n",
    "        if fscore > best_fscore:\n",
    "            best_num_nodes = nodes\n",
    "            best_fscore = fscore\n",
    "        \n",
    "    print(\"La mejor configuración encontrada (fscore: {}) se ha dado con {} nodos\".format(best_fscore, int(best_num_nodes)))\n",
    "    \n",
    "    return max_nodes, loss_array, accuracy_array, recall_array, precision_array, fscore_array"
   ]
  },
  {
   "cell_type": "code",
   "execution_count": 45,
   "metadata": {},
   "outputs": [
    {
     "name": "stdout",
     "output_type": "stream",
     "text": [
      "################################################################################################\n",
      "#################################### Working with 10 nodes #####################################\n",
      "310/310 [==============================] - 1s 897us/step - loss: 0.1094 - binary_accuracy: 0.9567 - recall: 0.9139 - precision: 0.9651\n",
      "Loss for 10 nodes: 0.10943744331598282\n",
      "Accuracy for 10 nodes: 95.6666648387909\n",
      "Recall for 10 nodes: 91.39366745948792\n",
      "Precision for 10 nodes: 96.51128649711609\n",
      "F1-score for 10 nodes: 93.88278742498575\n",
      "################################################################################################\n",
      "#################################### Working with 20 nodes #####################################\n",
      "310/310 [==============================] - 1s 1ms/step - loss: 0.1032 - binary_accuracy: 0.9613 - recall: 0.9398 - precision: 0.9533\n",
      "Loss for 20 nodes: 0.10322381556034088\n",
      "Accuracy for 20 nodes: 96.13131284713745\n",
      "Recall for 20 nodes: 93.97556781768799\n",
      "Precision for 20 nodes: 95.32526135444641\n",
      "F1-score for 20 nodes: 94.64560300481017\n",
      "################################################################################################\n",
      "#################################### Working with 30 nodes #####################################\n",
      "310/310 [==============================] - 1s 1ms/step - loss: 0.1040 - binary_accuracy: 0.9607 - recall: 0.9420 - precision: 0.9496\n",
      "Loss for 30 nodes: 0.1039843037724495\n",
      "Accuracy for 30 nodes: 96.07070684432983\n",
      "Recall for 30 nodes: 94.19766664505005\n",
      "Precision for 30 nodes: 94.96221542358398\n",
      "F1-score for 30 nodes: 94.5783959529066\n",
      "################################################################################################\n",
      "#################################### Working with 40 nodes #####################################\n",
      "310/310 [==============================] - 1s 2ms/step - loss: 0.1035 - binary_accuracy: 0.9609 - recall: 0.9323 - precision: 0.9592\n",
      "Loss for 40 nodes: 0.10349913686513901\n",
      "Accuracy for 40 nodes: 96.09090685844421\n",
      "Recall for 40 nodes: 93.22598576545715\n",
      "Precision for 40 nodes: 95.91545462608337\n",
      "F1-score for 40 nodes: 94.55159894255017\n",
      "################################################################################################\n",
      "#################################### Working with 50 nodes #####################################\n",
      "310/310 [==============================] - 1s 1ms/step - loss: 0.1026 - binary_accuracy: 0.9621 - recall: 0.9417 - precision: 0.9536\n",
      "Loss for 50 nodes: 0.10258039087057114\n",
      "Accuracy for 50 nodes: 96.21211886405945\n",
      "Recall for 50 nodes: 94.16990280151367\n",
      "Precision for 50 nodes: 95.36125659942627\n",
      "F1-score for 50 nodes: 94.76183539827638\n",
      "################################################################################################\n",
      "#################################### Working with 60 nodes #####################################\n",
      "310/310 [==============================] - 1s 2ms/step - loss: 0.1099 - binary_accuracy: 0.9570 - recall: 0.9570 - precision: 0.9271\n",
      "Loss for 60 nodes: 0.10994777083396912\n",
      "Accuracy for 60 nodes: 95.6969678401947\n",
      "Recall for 60 nodes: 95.6968367099762\n",
      "Precision for 60 nodes: 92.71113276481628\n",
      "F1-score for 60 nodes: 94.18032748958186\n",
      "################################################################################################\n",
      "#################################### Working with 70 nodes #####################################\n",
      "310/310 [==============================] - 1s 1ms/step - loss: 0.1064 - binary_accuracy: 0.9622 - recall: 0.9200 - precision: 0.9747\n",
      "Loss for 70 nodes: 0.10639986395835876\n",
      "Accuracy for 70 nodes: 96.22222185134888\n",
      "Recall for 70 nodes: 92.00444221496582\n",
      "Precision for 70 nodes: 97.47058749198914\n",
      "F1-score for 70 nodes: 94.65866872732636\n",
      "################################################################################################\n",
      "#################################### Working with 80 nodes #####################################\n",
      "310/310 [==============================] - 1s 1ms/step - loss: 0.1207 - binary_accuracy: 0.9547 - recall: 0.9592 - precision: 0.9199\n",
      "Loss for 80 nodes: 0.12068045139312744\n",
      "Accuracy for 80 nodes: 95.47474980354309\n",
      "Recall for 80 nodes: 95.91893553733826\n",
      "Precision for 80 nodes: 91.98615550994873\n",
      "F1-score for 80 nodes: 93.91138975011542\n",
      "################################################################################################\n",
      "#################################### Working with 90 nodes #####################################\n",
      "310/310 [==============================] - 2s 2ms/step - loss: 0.1013 - binary_accuracy: 0.9631 - recall: 0.9342 - precision: 0.9634\n",
      "Loss for 90 nodes: 0.10129761695861816\n",
      "Accuracy for 90 nodes: 96.3131308555603\n",
      "Recall for 90 nodes: 93.42032074928284\n",
      "Precision for 90 nodes: 96.3355302810669\n",
      "F1-score for 90 nodes: 94.85553240695697\n",
      "################################################################################################\n",
      "#################################### Working with 100 nodes #####################################\n",
      "310/310 [==============================] - 2s 2ms/step - loss: 0.1105 - binary_accuracy: 0.9600 - recall: 0.9400 - precision: 0.9495\n",
      "Loss for 100 nodes: 0.11047026515007019\n",
      "Accuracy for 100 nodes: 95.99999785423279\n",
      "Recall for 100 nodes: 94.00333166122437\n",
      "Precision for 100 nodes: 94.95232701301575\n",
      "F1-score for 100 nodes: 94.47544625903697\n",
      "La mejor configuración encontrada (fscore: 94.85553240695697) se ha dado con 90 nodos\n"
     ]
    }
   ],
   "source": [
    "nodes, loss_array, accuracy_array, recall_array, precision_array, fscore_array = find_nodes(27, 100, epochs, batch_size)"
   ]
  },
  {
   "cell_type": "code",
   "execution_count": 46,
   "metadata": {},
   "outputs": [
    {
     "data": {
      "image/png": "[encoded data removed]",
      "text/plain": [
       "<Figure size 432x288 with 1 Axes>"
      ]
     },
     "metadata": {
      "needs_background": "light"
     },
     "output_type": "display_data"
    }
   ],
   "source": [
    "plt.plot(nodes, fscore_array)\n",
    "plt.title('Fscore Evolution')\n",
    "plt.ylabel('Fscore')\n",
    "plt.xlabel('Nodes')\n",
    "plt.show()"
   ]
  },
  {
   "cell_type": "code",
   "execution_count": 47,
   "metadata": {},
   "outputs": [
    {
     "data": {
      "image/png": "[encoded data removed]",
      "text/plain": [
       "<Figure size 432x288 with 4 Axes>"
      ]
     },
     "metadata": {
      "needs_background": "light"
     },
     "output_type": "display_data"
    }
   ],
   "source": [
    "fig, axs = plt.subplots(2, 2)\n",
    "\n",
    "axs[0, 0].plot(nodes, loss_array)\n",
    "axs[0, 0].set_title('Loss Evolution')\n",
    "axs[0, 0].set(xlabel='Nodes')\n",
    "\n",
    "axs[0, 1].plot(nodes, accuracy_array, 'tab:orange')\n",
    "axs[0, 1].set_title('Accuracy Evolution')\n",
    "axs[0, 1].set(xlabel='Nodes')\n",
    "\n",
    "axs[1, 0].plot(nodes, recall_array, 'tab:green')\n",
    "axs[1, 0].set_title('Recall Evolution')\n",
    "axs[1, 0].set(xlabel='Nodes')\n",
    "\n",
    "axs[1, 1].plot(nodes, precision_array, 'tab:red')\n",
    "axs[1, 1].set_title('Precision Evolution')\n",
    "axs[1, 1].set(xlabel='Nodes')\n",
    "\n",
    "# Hide x labels and tick labels for top plots and y ticks for right plots.\n",
    "for ax in axs.flat:\n",
    "    ax.label_outer()"
   ]
  },
  {
   "cell_type": "markdown",
   "metadata": {},
   "source": [
    "En general, seguimos obteniendo buenos resultados con las nuevas métricas.\n",
    "\n",
    "Nos vamos a quedar con XXX nodos en la primera capa, y ahora vamos a probar cual es el mejor número de capas."
   ]
  },
  {
   "cell_type": "markdown",
   "metadata": {},
   "source": [
    "# **5. Número de capas**\n",
    "Vamos a buscar el mejor número de capas para nuestro modelo"
   ]
  },
  {
   "cell_type": "code",
   "execution_count": 48,
   "metadata": {},
   "outputs": [],
   "source": [
    "def create_model(nodes_per_layer, input_dim, hidden_layers):\n",
    "    \"\"\"Create Neural Network with with two lstm layers with sizes i, j\"\"\"\n",
    "    \n",
    "    model = Sequential()\n",
    "    model.add(Dense(90, input_dim=input_dim, activation='relu'))\n",
    "    \n",
    "    hidden_layers = np.linspace(1, int(hidden_layers), int(hidden_layers))\n",
    "    for layer in np.nditer(hidden_layers):\n",
    "        model.add(Dense(int(nodes_per_layer), activation='relu'))\n",
    "    \n",
    "    model.add(Dense(1, activation='sigmoid'))\n",
    "    model.compile(loss='binary_crossentropy', optimizer='adam', metrics=['BinaryAccuracy', 'Recall', 'Precision'])\n",
    "    return model\n",
    "\n",
    "def find_num_layers(nodes_per_layer, input_dim, max_layers, epochs, batch_size):\n",
    "    best_num_layers = 0\n",
    "    best_fscore = 0\n",
    "    \n",
    "    loss_array = []\n",
    "    accuracy_array = []\n",
    "    recall_array = []\n",
    "    precision_array = []\n",
    "    fscore_array = []\n",
    "    \n",
    "    layers = np.linspace(1, max_layers-1, max_layers-1)\n",
    "    for hidden_layers in np.nditer(layers):\n",
    "        print(\"################################################################################################\")\n",
    "        print(\"#################################### Working with {} layers #####################################\".format(int(hidden_layers+1)))\n",
    "        model = create_model(nodes_per_layer, input_dim, hidden_layers)\n",
    "        model.fit(X_train, Y_train, epochs=epochs, batch_size=batch_size, verbose = 0)\n",
    "        \n",
    "        loss, accuracy, recall, precision = model.evaluate(X_test, Y_test)\n",
    "        accuracy = accuracy * 100\n",
    "        recall = recall * 100\n",
    "        precision = precision * 100\n",
    "        fscore = (2*(recall*precision))/(recall+precision)\n",
    "        \n",
    "        loss_array.append(loss)\n",
    "        accuracy_array.append(accuracy)\n",
    "        recall_array.append(recall)\n",
    "        precision_array.append(precision)\n",
    "        fscore_array.append(fscore)\n",
    "        \n",
    "        if fscore > best_fscore:\n",
    "            best_num_layers = hidden_layers\n",
    "            best_fscore = fscore\n",
    "        \n",
    "        print('Loss for {} layers: {}'.format(int(hidden_layers), loss))\n",
    "        print('Accuracy for {} layers: {}'.format(int(hidden_layers), accuracy))\n",
    "        print('Recall for {} layers: {}'.format(int(hidden_layers), recall))\n",
    "        print('Precision for {} layers: {}'.format(int(hidden_layers), precision))\n",
    "        print('F1-score for {} layers: {}'.format(int(hidden_layers), fscore))\n",
    "        \n",
    "    print(\"La mejor configuración encontrada (fscore: {}) se ha dado con {} capas\".format(best_fscore, int(best_num_layers+1)))\n",
    "    \n",
    "    return layers, loss_array, accuracy_array, recall_array, precision_array, fscore_array"
   ]
  },
  {
   "cell_type": "code",
   "execution_count": 49,
   "metadata": {},
   "outputs": [
    {
     "name": "stdout",
     "output_type": "stream",
     "text": [
      "################################################################################################\n",
      "#################################### Working with 2 layers #####################################\n",
      "310/310 [==============================] - 1s 1ms/step - loss: 0.1123 - binary_accuracy: 0.9595 - recall: 0.9448 - precision: 0.9440\n",
      "Loss for 1 layers: 0.11230367422103882\n",
      "Accuracy for 1 layers: 95.9494948387146\n",
      "Recall for 1 layers: 94.47529315948486\n",
      "Precision for 1 layers: 94.39666867256165\n",
      "F1-score for 1 layers: 94.43596455094216\n",
      "################################################################################################\n",
      "#################################### Working with 3 layers #####################################\n",
      "310/310 [==============================] - 1s 1ms/step - loss: 0.1310 - binary_accuracy: 0.9615 - recall: 0.9511 - precision: 0.9435\n",
      "Loss for 2 layers: 0.130961611866951\n",
      "Accuracy for 2 layers: 96.15151286125183\n",
      "Recall for 2 layers: 95.11382579803467\n",
      "Precision for 2 layers: 94.35417056083679\n",
      "F1-score for 2 layers: 94.73247529406592\n",
      "################################################################################################\n",
      "#################################### Working with 4 layers #####################################\n",
      "310/310 [==============================] - 1s 1ms/step - loss: 0.1481 - binary_accuracy: 0.9606 - recall: 0.9442 - precision: 0.9474\n",
      "Loss for 3 layers: 0.14805543422698975\n",
      "Accuracy for 3 layers: 96.0606038570404\n",
      "Recall for 3 layers: 94.41976547241211\n",
      "Precision for 3 layers: 94.73537802696228\n",
      "F1-score for 3 layers: 94.5773084439088\n",
      "################################################################################################\n",
      "#################################### Working with 5 layers #####################################\n",
      "310/310 [==============================] - 1s 1ms/step - loss: 0.1201 - binary_accuracy: 0.9612 - recall: 0.9334 - precision: 0.9589\n",
      "Loss for 4 layers: 0.12014300376176834\n",
      "Accuracy for 4 layers: 96.12120985984802\n",
      "Recall for 4 layers: 93.33703517913818\n",
      "Precision for 4 layers: 95.8927571773529\n",
      "F1-score for 4 layers: 94.59763749278481\n",
      "################################################################################################\n",
      "#################################### Working with 6 layers #####################################\n",
      "310/310 [==============================] - 1s 2ms/step - loss: 0.1270 - binary_accuracy: 0.9614 - recall: 0.9417 - precision: 0.9517\n",
      "Loss for 5 layers: 0.12703584134578705\n",
      "Accuracy for 5 layers: 96.14141583442688\n",
      "Recall for 5 layers: 94.16990280151367\n",
      "Precision for 5 layers: 95.17396092414856\n",
      "F1-score for 5 layers: 94.66926968858954\n",
      "################################################################################################\n",
      "#################################### Working with 7 layers #####################################\n",
      "310/310 [==============================] - 1s 1ms/step - loss: 0.1166 - binary_accuracy: 0.9613 - recall: 0.9384 - precision: 0.9545\n",
      "Loss for 6 layers: 0.1165691465139389\n",
      "Accuracy for 6 layers: 96.13131284713745\n",
      "Recall for 6 layers: 93.83675456047058\n",
      "Precision for 6 layers: 95.45326232910156\n",
      "F1-score for 6 layers: 94.63810608033764\n",
      "################################################################################################\n",
      "#################################### Working with 8 layers #####################################\n",
      "310/310 [==============================] - 1s 1ms/step - loss: 0.1191 - binary_accuracy: 0.9591 - recall: 0.9320 - precision: 0.9545\n",
      "Loss for 7 layers: 0.1190548911690712\n",
      "Accuracy for 7 layers: 95.90908885002136\n",
      "Recall for 7 layers: 93.19822192192078\n",
      "Precision for 7 layers: 95.45066952705383\n",
      "F1-score for 7 layers: 94.31099873263143\n",
      "################################################################################################\n",
      "#################################### Working with 9 layers #####################################\n",
      "310/310 [==============================] - 1s 1ms/step - loss: 0.1235 - binary_accuracy: 0.9620 - recall: 0.9237 - precision: 0.9705\n",
      "Loss for 8 layers: 0.12351663410663605\n",
      "Accuracy for 8 layers: 96.2020218372345\n",
      "Recall for 8 layers: 92.36535429954529\n",
      "Precision for 8 layers: 97.05367684364319\n",
      "F1-score for 8 layers: 94.65149508615293\n",
      "################################################################################################\n",
      "#################################### Working with 10 layers #####################################\n",
      "310/310 [==============================] - 1s 1ms/step - loss: 0.1253 - binary_accuracy: 0.9632 - recall: 0.9361 - precision: 0.9618\n",
      "Loss for 9 layers: 0.12525087594985962\n",
      "Accuracy for 9 layers: 96.32323384284973\n",
      "Recall for 9 layers: 93.61465573310852\n",
      "Precision for 9 layers: 96.17798328399658\n",
      "F1-score for 9 layers: 94.87900943750034\n",
      "La mejor configuración encontrada (fscore: 94.87900943750034) se ha dado con 10 capas\n"
     ]
    }
   ],
   "source": [
    "layers, loss_array_layers, accuracy_array_layers, recall_array_layers, precision_array_layers, fscore_array_layers = find_num_layers(20, 27, 10, epochs, batch_size)"
   ]
  },
  {
   "cell_type": "code",
   "execution_count": 50,
   "metadata": {},
   "outputs": [
    {
     "data": {
      "image/png": "[encoded data removed]",
      "text/plain": [
       "<Figure size 432x288 with 1 Axes>"
      ]
     },
     "metadata": {
      "needs_background": "light"
     },
     "output_type": "display_data"
    }
   ],
   "source": [
    "plt.plot(layers+1,fscore_array_layers)\n",
    "plt.title('Fscore Evolution')\n",
    "plt.ylabel('Fscore')\n",
    "plt.xlabel('Layers')\n",
    "plt.show()"
   ]
  },
  {
   "cell_type": "code",
   "execution_count": 51,
   "metadata": {},
   "outputs": [
    {
     "data": {
      "image/png": "[encoded data removed]",
      "text/plain": [
       "<Figure size 432x288 with 4 Axes>"
      ]
     },
     "metadata": {
      "needs_background": "light"
     },
     "output_type": "display_data"
    }
   ],
   "source": [
    "fig, axs = plt.subplots(2, 2)\n",
    "\n",
    "axs[0, 0].plot(layers+1, loss_array_layers)\n",
    "axs[0, 0].set_title('Loss Evolution')\n",
    "axs[0, 0].set(xlabel='Layers')\n",
    "\n",
    "axs[0, 1].plot(layers+1, accuracy_array_layers, 'tab:orange')\n",
    "axs[0, 1].set_title('Accuracy Evolution')\n",
    "axs[0, 1].set(xlabel='Layers')\n",
    "\n",
    "axs[1, 0].plot(layers+1, recall_array_layers, 'tab:green')\n",
    "axs[1, 0].set_title('Recall Evolution')\n",
    "axs[1, 0].set(xlabel='Layers')\n",
    "\n",
    "axs[1, 1].plot(layers+1, precision_array_layers, 'tab:red')\n",
    "axs[1, 1].set_title('Precision Evolution')\n",
    "axs[1, 1].set(xlabel='Layers')\n",
    "\n",
    "# Hide x labels and tick labels for top plots and y ticks for right plots.\n",
    "for ax in axs.flat:\n",
    "    ax.label_outer()"
   ]
  },
  {
   "cell_type": "markdown",
   "metadata": {},
   "source": [
    "Podemos ver que los mejores resultados se dan con 7 capas."
   ]
  },
  {
   "cell_type": "markdown",
   "metadata": {},
   "source": [
    "# **6. Nodos por capa**"
   ]
  },
  {
   "cell_type": "code",
   "execution_count": 52,
   "metadata": {},
   "outputs": [],
   "source": [
    "def find_nodes_per_layer(max_nodes_per_layer, input_dim, hidden_layers, epochs, batch_size):\n",
    "    best_num_nodes = 0\n",
    "    best_fscore = 0\n",
    "    \n",
    "    loss_array = []\n",
    "    accuracy_array = []\n",
    "    recall_array = []\n",
    "    precision_array = []\n",
    "    fscore_array = []\n",
    "    \n",
    "    max_nodes_per_layer = np.linspace(50, max_nodes_per_layer, int(max_nodes_per_layer/50))\n",
    "    print(max_nodes_per_layer)\n",
    "    for nodes in np.nditer(max_nodes_per_layer):\n",
    "        print(\"################################################################################################\")\n",
    "        print(\"#################################### Working with {} nodes #####################################\".format(int(nodes)))\n",
    "        model = create_model(nodes, input_dim, hidden_layers)\n",
    "        model.fit(X_train, Y_train, epochs=epochs, batch_size=batch_size, verbose = 0)\n",
    "        \n",
    "        loss, accuracy, recall, precision = model.evaluate(X_test, Y_test)\n",
    "        accuracy = accuracy * 100\n",
    "        recall = recall * 100\n",
    "        precision = precision * 100\n",
    "        fscore = (2*(recall*precision))/(recall+precision)\n",
    "        \n",
    "        loss_array.append(loss)\n",
    "        accuracy_array.append(accuracy)\n",
    "        recall_array.append(recall)\n",
    "        precision_array.append(precision)\n",
    "        fscore_array.append(fscore)\n",
    "        \n",
    "        if accuracy > best_fscore:\n",
    "            best_num_nodes = nodes\n",
    "            best_fscore = fscore\n",
    "        \n",
    "        print('Loss for {} nodes and {} layers: {}'.format(int(nodes), loss, int(hidden_layers+1)))\n",
    "        print('Accuracy for {} nodes and {} layers: {}'.format(int(nodes), accuracy, int(hidden_layers+1)))\n",
    "        print('Recall for {} nodes and {} layers: {}'.format(int(nodes), recall, int(hidden_layers+1)))\n",
    "        print('Precision for {} nodes and {} layers: {}'.format(int(nodes), precision, int(hidden_layers+1)))\n",
    "        print('F1-score for {} nodes and {} layers: {}'.format(int(nodes), fscore, int(hidden_layers+1)))\n",
    "\n",
    "        print(\"La mejor configuración encontrada (fscore: {}) se ha dado con {} nodeos y {} capas\".format(best_fscore, int(best_num_nodes), int(hidden_layers+1)))\n",
    "    \n",
    "    return max_nodes_per_layer, loss_array, accuracy_array, recall_array, precision_array, fscore_array"
   ]
  },
  {
   "cell_type": "code",
   "execution_count": 53,
   "metadata": {},
   "outputs": [
    {
     "name": "stdout",
     "output_type": "stream",
     "text": [
      "[ 50. 100. 150. 200. 250.]\n",
      "################################################################################################\n",
      "#################################### Working with 50 nodes #####################################\n",
      "310/310 [==============================] - 1s 1ms/step - loss: 0.1480 - binary_accuracy: 0.9597 - recall: 0.9378 - precision: 0.9507\n",
      "Loss for 50 nodes and 0.1480143666267395 layers: 10\n",
      "Accuracy for 50 nodes and 95.96969485282898 layers: 10\n",
      "Recall for 50 nodes and 93.7812328338623 layers: 10\n",
      "Precision for 50 nodes and 95.07458209991455 layers: 10\n",
      "F1-score for 50 nodes and 94.4234788176446 layers: 10\n",
      "La mejor configuración encontrada (fscore: 94.4234788176446) se ha dado con 50 nodeos y 10 capas\n",
      "################################################################################################\n",
      "#################################### Working with 100 nodes #####################################\n",
      "310/310 [==============================] - 1s 1ms/step - loss: 0.2040 - binary_accuracy: 0.9619 - recall: 0.9400 - precision: 0.9546\n",
      "Loss for 100 nodes and 0.20403286814689636 layers: 10\n",
      "Accuracy for 100 nodes and 96.19191884994507 layers: 10\n",
      "Recall for 100 nodes and 94.00333166122437 layers: 10\n",
      "Precision for 100 nodes and 95.46095132827759 layers: 10\n",
      "F1-score for 100 nodes and 94.7265344878253 layers: 10\n",
      "La mejor configuración encontrada (fscore: 94.7265344878253) se ha dado con 100 nodeos y 10 capas\n",
      "################################################################################################\n",
      "#################################### Working with 150 nodes #####################################\n",
      "310/310 [==============================] - 1s 1ms/step - loss: 0.1224 - binary_accuracy: 0.9630 - recall: 0.9242 - precision: 0.9728\n",
      "Loss for 150 nodes and 0.12236349284648895 layers: 10\n",
      "Accuracy for 150 nodes and 96.30302786827087 layers: 10\n",
      "Recall for 150 nodes and 92.42087602615356 layers: 10\n",
      "Precision for 150 nodes and 97.2822904586792 layers: 10\n",
      "F1-score for 150 nodes and 94.78929290029218 layers: 10\n",
      "La mejor configuración encontrada (fscore: 94.78929290029218) se ha dado con 150 nodeos y 10 capas\n",
      "################################################################################################\n",
      "#################################### Working with 200 nodes #####################################\n",
      "310/310 [==============================] - 1s 2ms/step - loss: 0.2113 - binary_accuracy: 0.9616 - recall: 0.9317 - precision: 0.9616\n",
      "Loss for 200 nodes and 0.2112881988286972 layers: 10\n",
      "Accuracy for 200 nodes and 96.16161584854126 layers: 10\n",
      "Recall for 200 nodes and 93.1704580783844 layers: 10\n",
      "Precision for 200 nodes and 96.16045951843262 layers: 10\n",
      "F1-score for 200 nodes and 94.64184905541205 layers: 10\n",
      "La mejor configuración encontrada (fscore: 94.64184905541205) se ha dado con 200 nodeos y 10 capas\n",
      "################################################################################################\n",
      "#################################### Working with 250 nodes #####################################\n",
      "310/310 [==============================] - 2s 3ms/step - loss: 0.3043 - binary_accuracy: 0.9595 - recall: 0.9409 - precision: 0.9474\n",
      "Loss for 250 nodes and 0.30433374643325806 layers: 10\n",
      "Accuracy for 250 nodes and 95.9494948387146 layers: 10\n",
      "Recall for 250 nodes and 94.08661723136902 layers: 10\n",
      "Precision for 250 nodes and 94.74419951438904 layers: 10\n",
      "F1-score for 250 nodes and 94.414263394357 layers: 10\n",
      "La mejor configuración encontrada (fscore: 94.414263394357) se ha dado con 250 nodeos y 10 capas\n"
     ]
    }
   ],
   "source": [
    "nodes, loss_array_nodes, accuracy_array_nodes, recall_array_nodes, precision_array_nodes, fscore_array_nodes = find_nodes_per_layer(250, 27, 9, epochs, batch_size)\n"
   ]
  },
  {
   "cell_type": "code",
   "execution_count": 54,
   "metadata": {},
   "outputs": [
    {
     "data": {
      "image/png": "[encoded data removed]",
      "text/plain": [
       "<Figure size 432x288 with 1 Axes>"
      ]
     },
     "metadata": {
      "needs_background": "light"
     },
     "output_type": "display_data"
    }
   ],
   "source": [
    "plt.plot(nodes,fscore_array_nodes)\n",
    "plt.title('Fscore Evolution')\n",
    "plt.ylabel('Fscore')\n",
    "plt.xlabel('Layers')\n",
    "plt.show()"
   ]
  },
  {
   "cell_type": "code",
   "execution_count": 55,
   "metadata": {},
   "outputs": [
    {
     "data": {
      "image/png": "[encoded data removed]",
      "text/plain": [
       "<Figure size 432x288 with 4 Axes>"
      ]
     },
     "metadata": {
      "needs_background": "light"
     },
     "output_type": "display_data"
    }
   ],
   "source": [
    "fig, axs = plt.subplots(2, 2)\n",
    "\n",
    "axs[0, 0].plot(nodes, loss_array_nodes)\n",
    "axs[0, 0].set_title('Loss Evolution')\n",
    "axs[0, 0].set(xlabel='Layers')\n",
    "\n",
    "axs[0, 1].plot(nodes, accuracy_array_nodes, 'tab:orange')\n",
    "axs[0, 1].set_title('Accuracy Evolution')\n",
    "axs[0, 1].set(xlabel='Layers')\n",
    "\n",
    "axs[1, 0].plot(nodes, recall_array_nodes, 'tab:green')\n",
    "axs[1, 0].set_title('Recall Evolution')\n",
    "axs[1, 0].set(xlabel='Layers')\n",
    "\n",
    "axs[1, 1].plot(nodes, precision_array_nodes, 'tab:red')\n",
    "axs[1, 1].set_title('Precision Evolution')\n",
    "axs[1, 1].set(xlabel='Layers')\n",
    "\n",
    "# Hide x labels and tick labels for top plots and y ticks for right plots.\n",
    "for ax in axs.flat:\n",
    "    ax.label_outer()"
   ]
  },
  {
   "cell_type": "markdown",
   "metadata": {},
   "source": [
    "Con esta última prueba no se ha mejorado lo anterior.\n",
    "\n",
    "La mejor configuración que tenemos es con 10 capas, 90 nodos en la primera capa y 20 en las demás."
   ]
  },
  {
   "cell_type": "markdown",
   "metadata": {},
   "source": [
    "# **7. Dropout**"
   ]
  },
  {
   "cell_type": "code",
   "execution_count": 56,
   "metadata": {},
   "outputs": [],
   "source": [
    "def create_model_hyp(nodes_per_layer, input_dim, hidden_layers, dropout):\n",
    "    \"\"\"Create Neural Network with with two lstm layers with sizes i, j\"\"\"\n",
    "    \n",
    "    model = Sequential()\n",
    "    model.add(Dense(90, input_dim=input_dim, activation='relu'))\n",
    "    \n",
    "    hidden_layers = np.linspace(1, int(hidden_layers), int(hidden_layers))\n",
    "    for layer in np.nditer(hidden_layers):\n",
    "        model.add(Dense(int(nodes_per_layer), activation='relu'))\n",
    "        model.add(Dropout(dropout))\n",
    "    \n",
    "    model.add(Dense(1, activation='sigmoid'))\n",
    "    model.compile(loss='binary_crossentropy', optimizer='adam', metrics=['BinaryAccuracy', 'Recall', 'Precision'])\n",
    "    return model\n",
    "\n",
    "def find_dropout(nodes_per_layer, input_dim, hidden_layers, epochs, batch_size):\n",
    "    dropout_array = [0.001, 0.0025, 0.005, 0.01, 0.02, 0.05, 0.1, 0.25, 0.5]\n",
    "\n",
    "    best_dropout = 0\n",
    "    best_fscore = 0\n",
    "    \n",
    "    loss_array = []\n",
    "    accuracy_array = []\n",
    "    recall_array = []\n",
    "    precision_array = []\n",
    "    fscore_array = []\n",
    "    \n",
    "    for dropout in dropout_array:        \n",
    "        print(\"################################################################################################\")\n",
    "        print(\"#################################### Working with dropout {} #####################################\".format(dropout))\n",
    "        model = create_model_hyp(nodes_per_layer, input_dim, hidden_layers, dropout)\n",
    "        model.fit(X_train, Y_train, epochs=epochs, batch_size=batch_size, verbose = 0)\n",
    "        \n",
    "        loss, accuracy, recall, precision = model.evaluate(X_test, Y_test)\n",
    "        accuracy = accuracy * 100\n",
    "        recall = recall * 100\n",
    "        precision = precision * 100\n",
    "        fscore = (2*(recall*precision))/(recall+precision)\n",
    "        \n",
    "        loss_array.append(loss)\n",
    "        accuracy_array.append(accuracy)\n",
    "        recall_array.append(recall)\n",
    "        precision_array.append(precision)\n",
    "        fscore_array.append(fscore)\n",
    "        \n",
    "        if fscore > best_fscore:\n",
    "            best_dropout = dropout\n",
    "            best_fscore = fscore\n",
    "        \n",
    "        print('Loss for dropout {}: {}'.format(dropout, loss))\n",
    "        print('Accuracy for dropout {}: {}'.format(dropout, accuracy))\n",
    "        print('Recall for dropout {}: {}'.format(dropout, recall))\n",
    "        print('Precision for dropout {}: {}'.format(dropout, precision))\n",
    "        print('F1-score for dropout {}: {}'.format(dropout, fscore))\n",
    "\n",
    "    print(\"La mejor configuración encontrada (fscore: {}) se ha dado con dropout {}\".format(best_fscore, best_dropout))\n",
    "    \n",
    "    return dropout_array, loss_array, accuracy_array, recall_array, precision_array, fscore_array"
   ]
  },
  {
   "cell_type": "code",
   "execution_count": 57,
   "metadata": {},
   "outputs": [
    {
     "name": "stdout",
     "output_type": "stream",
     "text": [
      "################################################################################################\n",
      "#################################### Working with dropout 0.001 #####################################\n",
      "310/310 [==============================] - 2s 1ms/step - loss: 0.1124 - binary_accuracy: 0.9627 - recall: 0.9328 - precision: 0.9636\n",
      "Loss for dropout 0.001: 0.11236675828695297\n",
      "Accuracy for dropout 0.001: 96.27272486686707\n",
      "Recall for dropout 0.001: 93.28150749206543\n",
      "Precision for dropout 0.001: 96.3578999042511\n",
      "F1-score for dropout 0.001: 94.79475057685376\n",
      "################################################################################################\n",
      "#################################### Working with dropout 0.0025 #####################################\n",
      "310/310 [==============================] - 1s 1ms/step - loss: 0.1403 - binary_accuracy: 0.9568 - recall: 0.9517 - precision: 0.9310\n",
      "Loss for dropout 0.0025: 0.14032311737537384\n",
      "Accuracy for dropout 0.0025: 95.67676782608032\n",
      "Recall for dropout 0.0025: 95.16934752464294\n",
      "Precision for dropout 0.0025: 93.10157299041748\n",
      "F1-score for dropout 0.0025: 94.12410510105492\n",
      "################################################################################################\n",
      "#################################### Working with dropout 0.005 #####################################\n",
      "310/310 [==============================] - 1s 1ms/step - loss: 0.0995 - binary_accuracy: 0.9645 - recall: 0.9275 - precision: 0.9738\n",
      "Loss for dropout 0.005: 0.09945201873779297\n",
      "Accuracy for dropout 0.005: 96.45454287528992\n",
      "Recall for dropout 0.005: 92.75402426719666\n",
      "Precision for dropout 0.005: 97.37685918807983\n",
      "F1-score for dropout 0.005: 95.00924201321688\n",
      "################################################################################################\n",
      "#################################### Working with dropout 0.01 #####################################\n",
      "310/310 [==============================] - 1s 1ms/step - loss: 0.1201 - binary_accuracy: 0.9626 - recall: 0.9359 - precision: 0.9604\n",
      "Loss for dropout 0.01: 0.12009218335151672\n",
      "Accuracy for dropout 0.01: 96.26262784004211\n",
      "Recall for dropout 0.01: 93.58689785003662\n",
      "Precision for dropout 0.01: 96.03988528251648\n",
      "F1-score for dropout 0.01: 94.79752580289518\n",
      "################################################################################################\n",
      "#################################### Working with dropout 0.02 #####################################\n",
      "310/310 [==============================] - 1s 1ms/step - loss: 0.0991 - binary_accuracy: 0.9625 - recall: 0.9448 - precision: 0.9519\n",
      "Loss for dropout 0.02: 0.09905267506837845\n",
      "Accuracy for dropout 0.02: 96.25252485275269\n",
      "Recall for dropout 0.02: 94.47529315948486\n",
      "Precision for dropout 0.02: 95.18880844116211\n",
      "F1-score for dropout 0.02: 94.83070868008858\n",
      "################################################################################################\n",
      "#################################### Working with dropout 0.05 #####################################\n",
      "310/310 [==============================] - 1s 1ms/step - loss: 0.1088 - binary_accuracy: 0.9602 - recall: 0.9456 - precision: 0.9451\n",
      "Loss for dropout 0.05: 0.10881892591714859\n",
      "Accuracy for dropout 0.05: 96.02020382881165\n",
      "Recall for dropout 0.05: 94.55857872962952\n",
      "Precision for dropout 0.05: 94.50610280036926\n",
      "F1-score for dropout 0.05: 94.5323334825098\n",
      "################################################################################################\n",
      "#################################### Working with dropout 0.1 #####################################\n",
      "310/310 [==============================] - 1s 1ms/step - loss: 0.1636 - binary_accuracy: 0.9091 - recall: 0.9900 - precision: 0.8050\n",
      "Loss for dropout 0.1: 0.16359581053256989\n",
      "Accuracy for dropout 0.1: 90.90909361839294\n",
      "Recall for dropout 0.1: 99.00055527687073\n",
      "Precision for dropout 0.1: 80.4966151714325\n",
      "F1-score for dropout 0.1: 88.79482144455973\n",
      "################################################################################################\n",
      "#################################### Working with dropout 0.25 #####################################\n",
      "310/310 [==============================] - 2s 1ms/step - loss: 0.0980 - binary_accuracy: 0.9652 - recall: 0.9231 - precision: 0.9800\n",
      "Loss for dropout 0.25: 0.09796018898487091\n",
      "Accuracy for dropout 0.25: 96.51514887809753\n",
      "Recall for dropout 0.25: 92.30982661247253\n",
      "Precision for dropout 0.25: 97.9958713054657\n",
      "F1-score for dropout 0.25: 95.06790377707378\n",
      "################################################################################################\n",
      "#################################### Working with dropout 0.5 #####################################\n",
      "310/310 [==============================] - 2s 1ms/step - loss: 0.2629 - binary_accuracy: 0.8781 - recall: 0.9947 - precision: 0.7510\n",
      "Loss for dropout 0.5: 0.26294469833374023\n",
      "Accuracy for dropout 0.5: 87.80807852745056\n",
      "Recall for dropout 0.5: 99.47251677513123\n",
      "Precision for dropout 0.5: 75.09955763816833\n",
      "F1-score for dropout 0.5: 85.58461634913716\n",
      "La mejor configuración encontrada (fscore: 95.06790377707378) se ha dado con dropout 0.25\n"
     ]
    }
   ],
   "source": [
    "dropout_array, loss_array, accuracy_array, recall_array, precision_array, fscore_array = find_dropout(20, 27, 9, epochs, batch_size)"
   ]
  },
  {
   "cell_type": "code",
   "execution_count": 58,
   "metadata": {},
   "outputs": [
    {
     "data": {
      "image/png": "[encoded data removed]",
      "text/plain": [
       "<Figure size 432x288 with 1 Axes>"
      ]
     },
     "metadata": {
      "needs_background": "light"
     },
     "output_type": "display_data"
    }
   ],
   "source": [
    "plt.plot(dropout_array,fscore_array)\n",
    "plt.title('Fscore Evolution')\n",
    "plt.ylabel('Fscore')\n",
    "plt.xlabel('Layers')\n",
    "plt.show()"
   ]
  },
  {
   "cell_type": "code",
   "execution_count": 59,
   "metadata": {},
   "outputs": [
    {
     "data": {
      "image/png": "[encoded data removed]",
      "text/plain": [
       "<Figure size 432x288 with 4 Axes>"
      ]
     },
     "metadata": {
      "needs_background": "light"
     },
     "output_type": "display_data"
    }
   ],
   "source": [
    "fig, axs = plt.subplots(2, 2)\n",
    "\n",
    "axs[0, 0].plot(dropout_array, loss_array)\n",
    "axs[0, 0].set_title('Loss Evolution')\n",
    "axs[0, 0].set(xlabel='Layers')\n",
    "\n",
    "axs[0, 1].plot(dropout_array, accuracy_array, 'tab:orange')\n",
    "axs[0, 1].set_title('Accuracy Evolution')\n",
    "axs[0, 1].set(xlabel='Layers')\n",
    "\n",
    "axs[1, 0].plot(dropout_array, recall_array, 'tab:green')\n",
    "axs[1, 0].set_title('Recall Evolution')\n",
    "axs[1, 0].set(xlabel='Layers')\n",
    "\n",
    "axs[1, 1].plot(dropout_array, precision_array, 'tab:red')\n",
    "axs[1, 1].set_title('Precision Evolution')\n",
    "axs[1, 1].set(xlabel='Layers')\n",
    "\n",
    "# Hide x labels and tick labels for top plots and y ticks for right plots.\n",
    "for ax in axs.flat:\n",
    "    ax.label_outer()"
   ]
  },
  {
   "cell_type": "markdown",
   "metadata": {},
   "source": [
    "# **8. Resultados**\n",
    "Aunque todos los resultados obtenidos son muy parecidos, el mejor de todos (fscore 95.38) se ha dado con 10 capas, 90 nodos en la primera capa y 20 en las demás, y dropout 0.05"
   ]
  },
  {
   "cell_type": "code",
   "execution_count": 62,
   "metadata": {},
   "outputs": [
    {
     "name": "stdout",
     "output_type": "stream",
     "text": [
      "310/310 [==============================] - 2s 1ms/step - loss: 0.1156 - binary_accuracy: 0.9665 - recall: 0.9367 - precision: 0.9701\n",
      "Loss: 0.11558783799409866\n",
      "Accuracy: 96.6464638710022\n",
      "Recall: 93.67018342018127\n",
      "Precision: 97.00977802276611\n",
      "F1-score: 95.31073566597543\n"
     ]
    }
   ],
   "source": [
    "model = create_model_hyp(90, 27, 9, 0.25)\n",
    "model.fit(X_train, Y_train, epochs=epochs, batch_size=batch_size, verbose = 0)\n",
    "\n",
    "loss, accuracy, recall, precision = model.evaluate(X_test, Y_test)\n",
    "accuracy = accuracy * 100\n",
    "recall = recall * 100\n",
    "precision = precision * 100\n",
    "fscore = (2*(recall*precision))/(recall+precision)\n",
    "\n",
    "print('Loss: {}'.format(loss))\n",
    "print('Accuracy: {}'.format(accuracy))\n",
    "print('Recall: {}'.format(recall))\n",
    "print('Precision: {}'.format(precision))\n",
    "print('F1-score: {}'.format(fscore))"
   ]
  },
  {
   "cell_type": "code",
   "execution_count": 63,
   "metadata": {},
   "outputs": [
    {
     "name": "stdout",
     "output_type": "stream",
     "text": [
      "198/198 [==============================] - 1s 1ms/step\n"
     ]
    },
    {
     "data": {
      "text/plain": [
       "array([[6194,  104],\n",
       "       [ 228, 3374]])"
      ]
     },
     "execution_count": 63,
     "metadata": {},
     "output_type": "execute_result"
    }
   ],
   "source": [
    "y_pred = model.predict(X_test, batch_size=batch_size, verbose=1)\n",
    "y_pred = [0 if i < 0.5 else 1 for i in y_pred]\n",
    "confusion_matrix(Y_test, y_pred)"
   ]
  },
  {
   "cell_type": "code",
   "execution_count": null,
   "metadata": {},
   "outputs": [],
   "source": []
  },
  {
   "cell_type": "code",
   "execution_count": null,
   "metadata": {},
   "outputs": [],
   "source": []
  }
 ],
 "metadata": {
  "kernelspec": {
   "display_name": "Python 3",
   "language": "python",
   "name": "python3"
  },
  "language_info": {
   "codemirror_mode": {
    "name": "ipython",
    "version": 3
   },
   "file_extension": ".py",
   "mimetype": "text/x-python",
   "name": "python",
   "nbconvert_exporter": "python",
   "pygments_lexer": "ipython3",
   "version": "3.8.5"
  }
 },
 "nbformat": 4,
 "nbformat_minor": 4
}
