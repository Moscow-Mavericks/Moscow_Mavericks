{
 "cells": [
  {
   "cell_type": "markdown",
   "metadata": {
    "id": "rNn58UrW7OBS"
   },
   "source": [
    "# Análisis y modelización"
   ]
  },
  {
   "cell_type": "markdown",
   "metadata": {
    "id": "z2L-gcvN5kKx"
   },
   "source": [
    "## Añadir heatmap de datos faltantes!!!!!!!!\n",
    "https://github.com/ResidentMario/missingno"
   ]
  },
  {
   "cell_type": "markdown",
   "metadata": {
    "id": "PRDvIszt7xI7"
   },
   "source": [
    "## Carga de librerias\n",
    "\n",
    "Para el correcto funcionamiento del análisis, se requiere el uso de las siguientes librerias:"
   ]
  },
  {
   "cell_type": "code",
   "execution_count": 1,
   "metadata": {
    "id": "Va_m5Mgs7Zvk"
   },
   "outputs": [],
   "source": [
    "import pandas as pd\n",
    "import pandas_profiling\n",
    "import io\n",
    "import warnings\n",
    "import matplotlib.pyplot as plt\n",
    "import datetime\n",
    "%matplotlib inline\n",
    "import seaborn as sns\n",
    "warnings.filterwarnings('ignore')"
   ]
  },
  {
   "cell_type": "markdown",
   "metadata": {
    "id": "wXp7DvxJ71JQ"
   },
   "source": [
    "## Datos\n",
    "\n",
    "### Contexto\n",
    "\n",
    "¿Alguna vez te has preguntado cuándo es la mejor época del año para reservar una habitación de hotel? ¿O la duración óptima de la estancia para obtener la mejor tarifa diaria? ¿Y si quisiera predecir si un hotel es probable que reciba un número desproporcionadamente alto de solicitudes especiales?\n",
    "\n",
    "Mediante este conjunto de datos de reservas de hotel nos proponemos explorar estas preguntas!\n",
    "\n",
    " ### Contenido\n",
    " \n",
    "Este conjunto de datos contiene información sobre las reservas de un hotel de ciudad y de un hotel turístico, e incluye información como la fecha de la reserva, la duración de la estancia, el número de adultos, niños y/o bebés y el número de plazas de aparcamiento disponibles, entre otras cosas.\n",
    "\n",
    "Toda la información de identificación personal se ha eliminado de los datos.\n",
    "\n",
    "### Carga de datos"
   ]
  },
  {
   "cell_type": "code",
   "execution_count": 2,
   "metadata": {
    "colab": {
     "base_uri": "https://localhost:8080/",
     "height": 313
    },
    "id": "seMCOLsc91dE",
    "outputId": "d7bfcf4e-6e86-44f7-817b-d577f99d35e7"
   },
   "outputs": [
    {
     "data": {
      "text/html": [
       "<div>\n",
       "<style scoped>\n",
       "    .dataframe tbody tr th:only-of-type {\n",
       "        vertical-align: middle;\n",
       "    }\n",
       "\n",
       "    .dataframe tbody tr th {\n",
       "        vertical-align: top;\n",
       "    }\n",
       "\n",
       "    .dataframe thead th {\n",
       "        text-align: right;\n",
       "    }\n",
       "</style>\n",
       "<table border=\"1\" class=\"dataframe\">\n",
       "  <thead>\n",
       "    <tr style=\"text-align: right;\">\n",
       "      <th></th>\n",
       "      <th>hotel</th>\n",
       "      <th>is_canceled</th>\n",
       "      <th>lead_time</th>\n",
       "      <th>arrival_date_year</th>\n",
       "      <th>arrival_date_month</th>\n",
       "      <th>arrival_date_week_number</th>\n",
       "      <th>arrival_date_day_of_month</th>\n",
       "      <th>stays_in_weekend_nights</th>\n",
       "      <th>stays_in_week_nights</th>\n",
       "      <th>adults</th>\n",
       "      <th>...</th>\n",
       "      <th>deposit_type</th>\n",
       "      <th>agent</th>\n",
       "      <th>company</th>\n",
       "      <th>days_in_waiting_list</th>\n",
       "      <th>customer_type</th>\n",
       "      <th>adr</th>\n",
       "      <th>required_car_parking_spaces</th>\n",
       "      <th>total_of_special_requests</th>\n",
       "      <th>reservation_status</th>\n",
       "      <th>reservation_status_date</th>\n",
       "    </tr>\n",
       "  </thead>\n",
       "  <tbody>\n",
       "    <tr>\n",
       "      <th>0</th>\n",
       "      <td>City Hotel</td>\n",
       "      <td>1</td>\n",
       "      <td>177</td>\n",
       "      <td>2017</td>\n",
       "      <td>August</td>\n",
       "      <td>33</td>\n",
       "      <td>17</td>\n",
       "      <td>2</td>\n",
       "      <td>5</td>\n",
       "      <td>3</td>\n",
       "      <td>...</td>\n",
       "      <td>No Deposit</td>\n",
       "      <td>9.0</td>\n",
       "      <td>NaN</td>\n",
       "      <td>0</td>\n",
       "      <td>Transient</td>\n",
       "      <td>164.44</td>\n",
       "      <td>0</td>\n",
       "      <td>0</td>\n",
       "      <td>Canceled</td>\n",
       "      <td>2017-02-24</td>\n",
       "    </tr>\n",
       "    <tr>\n",
       "      <th>1</th>\n",
       "      <td>Resort Hotel</td>\n",
       "      <td>0</td>\n",
       "      <td>8</td>\n",
       "      <td>2017</td>\n",
       "      <td>February</td>\n",
       "      <td>7</td>\n",
       "      <td>17</td>\n",
       "      <td>1</td>\n",
       "      <td>2</td>\n",
       "      <td>2</td>\n",
       "      <td>...</td>\n",
       "      <td>No Deposit</td>\n",
       "      <td>250.0</td>\n",
       "      <td>NaN</td>\n",
       "      <td>0</td>\n",
       "      <td>Transient</td>\n",
       "      <td>67.00</td>\n",
       "      <td>1</td>\n",
       "      <td>0</td>\n",
       "      <td>Check-Out</td>\n",
       "      <td>2017-02-20</td>\n",
       "    </tr>\n",
       "    <tr>\n",
       "      <th>2</th>\n",
       "      <td>City Hotel</td>\n",
       "      <td>1</td>\n",
       "      <td>181</td>\n",
       "      <td>2017</td>\n",
       "      <td>June</td>\n",
       "      <td>23</td>\n",
       "      <td>8</td>\n",
       "      <td>0</td>\n",
       "      <td>2</td>\n",
       "      <td>2</td>\n",
       "      <td>...</td>\n",
       "      <td>Non Refund</td>\n",
       "      <td>58.0</td>\n",
       "      <td>NaN</td>\n",
       "      <td>0</td>\n",
       "      <td>Transient</td>\n",
       "      <td>100.00</td>\n",
       "      <td>0</td>\n",
       "      <td>0</td>\n",
       "      <td>Canceled</td>\n",
       "      <td>2017-01-24</td>\n",
       "    </tr>\n",
       "    <tr>\n",
       "      <th>3</th>\n",
       "      <td>City Hotel</td>\n",
       "      <td>0</td>\n",
       "      <td>45</td>\n",
       "      <td>2016</td>\n",
       "      <td>November</td>\n",
       "      <td>48</td>\n",
       "      <td>25</td>\n",
       "      <td>1</td>\n",
       "      <td>2</td>\n",
       "      <td>2</td>\n",
       "      <td>...</td>\n",
       "      <td>No Deposit</td>\n",
       "      <td>NaN</td>\n",
       "      <td>NaN</td>\n",
       "      <td>0</td>\n",
       "      <td>Transient-Party</td>\n",
       "      <td>90.00</td>\n",
       "      <td>0</td>\n",
       "      <td>0</td>\n",
       "      <td>Check-Out</td>\n",
       "      <td>2016-11-28</td>\n",
       "    </tr>\n",
       "    <tr>\n",
       "      <th>4</th>\n",
       "      <td>City Hotel</td>\n",
       "      <td>1</td>\n",
       "      <td>64</td>\n",
       "      <td>2017</td>\n",
       "      <td>July</td>\n",
       "      <td>30</td>\n",
       "      <td>23</td>\n",
       "      <td>2</td>\n",
       "      <td>1</td>\n",
       "      <td>2</td>\n",
       "      <td>...</td>\n",
       "      <td>No Deposit</td>\n",
       "      <td>14.0</td>\n",
       "      <td>NaN</td>\n",
       "      <td>0</td>\n",
       "      <td>Transient</td>\n",
       "      <td>174.33</td>\n",
       "      <td>0</td>\n",
       "      <td>1</td>\n",
       "      <td>Canceled</td>\n",
       "      <td>2017-05-22</td>\n",
       "    </tr>\n",
       "  </tbody>\n",
       "</table>\n",
       "<p>5 rows × 32 columns</p>\n",
       "</div>"
      ],
      "text/plain": [
       "          hotel  is_canceled  lead_time  arrival_date_year arrival_date_month  \\\n",
       "0    City Hotel            1        177               2017             August   \n",
       "1  Resort Hotel            0          8               2017           February   \n",
       "2    City Hotel            1        181               2017               June   \n",
       "3    City Hotel            0         45               2016           November   \n",
       "4    City Hotel            1         64               2017               July   \n",
       "\n",
       "   arrival_date_week_number  arrival_date_day_of_month  \\\n",
       "0                        33                         17   \n",
       "1                         7                         17   \n",
       "2                        23                          8   \n",
       "3                        48                         25   \n",
       "4                        30                         23   \n",
       "\n",
       "   stays_in_weekend_nights  stays_in_week_nights  adults  ...  deposit_type  \\\n",
       "0                        2                     5       3  ...    No Deposit   \n",
       "1                        1                     2       2  ...    No Deposit   \n",
       "2                        0                     2       2  ...    Non Refund   \n",
       "3                        1                     2       2  ...    No Deposit   \n",
       "4                        2                     1       2  ...    No Deposit   \n",
       "\n",
       "   agent company days_in_waiting_list    customer_type     adr  \\\n",
       "0    9.0     NaN                    0        Transient  164.44   \n",
       "1  250.0     NaN                    0        Transient   67.00   \n",
       "2   58.0     NaN                    0        Transient  100.00   \n",
       "3    NaN     NaN                    0  Transient-Party   90.00   \n",
       "4   14.0     NaN                    0        Transient  174.33   \n",
       "\n",
       "   required_car_parking_spaces  total_of_special_requests  reservation_status  \\\n",
       "0                            0                          0            Canceled   \n",
       "1                            1                          0           Check-Out   \n",
       "2                            0                          0            Canceled   \n",
       "3                            0                          0           Check-Out   \n",
       "4                            0                          1            Canceled   \n",
       "\n",
       "  reservation_status_date  \n",
       "0              2017-02-24  \n",
       "1              2017-02-20  \n",
       "2              2017-01-24  \n",
       "3              2016-11-28  \n",
       "4              2017-05-22  \n",
       "\n",
       "[5 rows x 32 columns]"
      ]
     },
     "execution_count": 2,
     "metadata": {},
     "output_type": "execute_result"
    }
   ],
   "source": [
    "data = pd.read_csv('simple-hotels.csv')\n",
    "data.head()"
   ]
  },
  {
   "cell_type": "code",
   "execution_count": 3,
   "metadata": {},
   "outputs": [
    {
     "name": "stdout",
     "output_type": "stream",
     "text": [
      "<class 'pandas.core.frame.DataFrame'>\n",
      "RangeIndex: 10000 entries, 0 to 9999\n",
      "Data columns (total 32 columns):\n",
      " #   Column                          Non-Null Count  Dtype  \n",
      "---  ------                          --------------  -----  \n",
      " 0   hotel                           10000 non-null  object \n",
      " 1   is_canceled                     10000 non-null  int64  \n",
      " 2   lead_time                       10000 non-null  int64  \n",
      " 3   arrival_date_year               10000 non-null  int64  \n",
      " 4   arrival_date_month              10000 non-null  object \n",
      " 5   arrival_date_week_number        10000 non-null  int64  \n",
      " 6   arrival_date_day_of_month       10000 non-null  int64  \n",
      " 7   stays_in_weekend_nights         10000 non-null  int64  \n",
      " 8   stays_in_week_nights            10000 non-null  int64  \n",
      " 9   adults                          10000 non-null  int64  \n",
      " 10  children                        10000 non-null  float64\n",
      " 11  babies                          10000 non-null  int64  \n",
      " 12  meal                            10000 non-null  object \n",
      " 13  country                         9950 non-null   object \n",
      " 14  market_segment                  10000 non-null  object \n",
      " 15  distribution_channel            10000 non-null  object \n",
      " 16  is_repeated_guest               10000 non-null  int64  \n",
      " 17  previous_cancellations          10000 non-null  int64  \n",
      " 18  previous_bookings_not_canceled  10000 non-null  int64  \n",
      " 19  reserved_room_type              10000 non-null  object \n",
      " 20  assigned_room_type              10000 non-null  object \n",
      " 21  booking_changes                 10000 non-null  int64  \n",
      " 22  deposit_type                    10000 non-null  object \n",
      " 23  agent                           8654 non-null   float64\n",
      " 24  company                         559 non-null    float64\n",
      " 25  days_in_waiting_list            10000 non-null  int64  \n",
      " 26  customer_type                   10000 non-null  object \n",
      " 27  adr                             10000 non-null  float64\n",
      " 28  required_car_parking_spaces     10000 non-null  int64  \n",
      " 29  total_of_special_requests       10000 non-null  int64  \n",
      " 30  reservation_status              10000 non-null  object \n",
      " 31  reservation_status_date         10000 non-null  object \n",
      "dtypes: float64(4), int64(16), object(12)\n",
      "memory usage: 2.4+ MB\n"
     ]
    }
   ],
   "source": [
    "data.info()"
   ]
  },
  {
   "cell_type": "markdown",
   "metadata": {
    "id": "WCEwzOcfBqqh"
   },
   "source": [
    "Podemos observar que nuestro data.set consta de 31 variables, 20 variables numericas, aunque muchas de ellas son categóricas, y el resto de tipo indefinido. Iremos analizando cada una de ellas de manera individual, y en caso de considerar conveniente, realizaremos la comparación con nuestra variable a predecir.\n",
    "\n",
    "Vamos a observar un resumen sobre las variables numéricas:"
   ]
  },
  {
   "cell_type": "code",
   "execution_count": 4,
   "metadata": {
    "colab": {
     "base_uri": "https://localhost:8080/",
     "height": 320
    },
    "id": "Muc64oZ3ochw",
    "outputId": "54ab5aec-171b-43f3-a9a6-985d9aa5ac2c"
   },
   "outputs": [
    {
     "data": {
      "text/html": [
       "<div>\n",
       "<style scoped>\n",
       "    .dataframe tbody tr th:only-of-type {\n",
       "        vertical-align: middle;\n",
       "    }\n",
       "\n",
       "    .dataframe tbody tr th {\n",
       "        vertical-align: top;\n",
       "    }\n",
       "\n",
       "    .dataframe thead th {\n",
       "        text-align: right;\n",
       "    }\n",
       "</style>\n",
       "<table border=\"1\" class=\"dataframe\">\n",
       "  <thead>\n",
       "    <tr style=\"text-align: right;\">\n",
       "      <th></th>\n",
       "      <th>is_canceled</th>\n",
       "      <th>lead_time</th>\n",
       "      <th>arrival_date_year</th>\n",
       "      <th>arrival_date_week_number</th>\n",
       "      <th>arrival_date_day_of_month</th>\n",
       "      <th>stays_in_weekend_nights</th>\n",
       "      <th>stays_in_week_nights</th>\n",
       "      <th>adults</th>\n",
       "      <th>children</th>\n",
       "      <th>babies</th>\n",
       "      <th>is_repeated_guest</th>\n",
       "      <th>previous_cancellations</th>\n",
       "      <th>previous_bookings_not_canceled</th>\n",
       "      <th>booking_changes</th>\n",
       "      <th>agent</th>\n",
       "      <th>company</th>\n",
       "      <th>days_in_waiting_list</th>\n",
       "      <th>adr</th>\n",
       "      <th>required_car_parking_spaces</th>\n",
       "      <th>total_of_special_requests</th>\n",
       "    </tr>\n",
       "  </thead>\n",
       "  <tbody>\n",
       "    <tr>\n",
       "      <th>count</th>\n",
       "      <td>10000.000000</td>\n",
       "      <td>10000.000000</td>\n",
       "      <td>10000.000000</td>\n",
       "      <td>10000.000000</td>\n",
       "      <td>10000.000000</td>\n",
       "      <td>10000.000000</td>\n",
       "      <td>10000.000000</td>\n",
       "      <td>10000.000000</td>\n",
       "      <td>10000.000000</td>\n",
       "      <td>10000.000000</td>\n",
       "      <td>10000.000000</td>\n",
       "      <td>10000.000000</td>\n",
       "      <td>10000.000000</td>\n",
       "      <td>10000.000000</td>\n",
       "      <td>8654.000000</td>\n",
       "      <td>559.000000</td>\n",
       "      <td>10000.000000</td>\n",
       "      <td>10000.000000</td>\n",
       "      <td>10000.00000</td>\n",
       "      <td>10000.000000</td>\n",
       "    </tr>\n",
       "    <tr>\n",
       "      <th>mean</th>\n",
       "      <td>0.375100</td>\n",
       "      <td>105.393800</td>\n",
       "      <td>2016.166900</td>\n",
       "      <td>27.267700</td>\n",
       "      <td>15.864100</td>\n",
       "      <td>0.927100</td>\n",
       "      <td>2.516500</td>\n",
       "      <td>1.869600</td>\n",
       "      <td>0.108000</td>\n",
       "      <td>0.008500</td>\n",
       "      <td>0.031900</td>\n",
       "      <td>0.087500</td>\n",
       "      <td>0.127400</td>\n",
       "      <td>0.218700</td>\n",
       "      <td>89.090941</td>\n",
       "      <td>188.869410</td>\n",
       "      <td>2.201200</td>\n",
       "      <td>102.150192</td>\n",
       "      <td>0.06440</td>\n",
       "      <td>0.579300</td>\n",
       "    </tr>\n",
       "    <tr>\n",
       "      <th>std</th>\n",
       "      <td>0.484173</td>\n",
       "      <td>108.267682</td>\n",
       "      <td>0.705616</td>\n",
       "      <td>13.671588</td>\n",
       "      <td>8.725941</td>\n",
       "      <td>0.990396</td>\n",
       "      <td>1.882892</td>\n",
       "      <td>0.572912</td>\n",
       "      <td>0.405157</td>\n",
       "      <td>0.093961</td>\n",
       "      <td>0.175743</td>\n",
       "      <td>0.852242</td>\n",
       "      <td>1.269067</td>\n",
       "      <td>0.684045</td>\n",
       "      <td>112.721390</td>\n",
       "      <td>138.001931</td>\n",
       "      <td>17.405235</td>\n",
       "      <td>48.778734</td>\n",
       "      <td>0.24629</td>\n",
       "      <td>0.797731</td>\n",
       "    </tr>\n",
       "    <tr>\n",
       "      <th>min</th>\n",
       "      <td>0.000000</td>\n",
       "      <td>0.000000</td>\n",
       "      <td>2015.000000</td>\n",
       "      <td>1.000000</td>\n",
       "      <td>1.000000</td>\n",
       "      <td>0.000000</td>\n",
       "      <td>0.000000</td>\n",
       "      <td>0.000000</td>\n",
       "      <td>0.000000</td>\n",
       "      <td>0.000000</td>\n",
       "      <td>0.000000</td>\n",
       "      <td>0.000000</td>\n",
       "      <td>0.000000</td>\n",
       "      <td>0.000000</td>\n",
       "      <td>1.000000</td>\n",
       "      <td>9.000000</td>\n",
       "      <td>0.000000</td>\n",
       "      <td>0.000000</td>\n",
       "      <td>0.00000</td>\n",
       "      <td>0.000000</td>\n",
       "    </tr>\n",
       "    <tr>\n",
       "      <th>25%</th>\n",
       "      <td>0.000000</td>\n",
       "      <td>18.000000</td>\n",
       "      <td>2016.000000</td>\n",
       "      <td>16.000000</td>\n",
       "      <td>8.000000</td>\n",
       "      <td>0.000000</td>\n",
       "      <td>1.000000</td>\n",
       "      <td>2.000000</td>\n",
       "      <td>0.000000</td>\n",
       "      <td>0.000000</td>\n",
       "      <td>0.000000</td>\n",
       "      <td>0.000000</td>\n",
       "      <td>0.000000</td>\n",
       "      <td>0.000000</td>\n",
       "      <td>9.000000</td>\n",
       "      <td>49.000000</td>\n",
       "      <td>0.000000</td>\n",
       "      <td>68.530000</td>\n",
       "      <td>0.00000</td>\n",
       "      <td>0.000000</td>\n",
       "    </tr>\n",
       "    <tr>\n",
       "      <th>50%</th>\n",
       "      <td>0.000000</td>\n",
       "      <td>70.000000</td>\n",
       "      <td>2016.000000</td>\n",
       "      <td>28.000000</td>\n",
       "      <td>16.000000</td>\n",
       "      <td>1.000000</td>\n",
       "      <td>2.000000</td>\n",
       "      <td>2.000000</td>\n",
       "      <td>0.000000</td>\n",
       "      <td>0.000000</td>\n",
       "      <td>0.000000</td>\n",
       "      <td>0.000000</td>\n",
       "      <td>0.000000</td>\n",
       "      <td>0.000000</td>\n",
       "      <td>14.000000</td>\n",
       "      <td>174.000000</td>\n",
       "      <td>0.000000</td>\n",
       "      <td>94.000000</td>\n",
       "      <td>0.00000</td>\n",
       "      <td>0.000000</td>\n",
       "    </tr>\n",
       "    <tr>\n",
       "      <th>75%</th>\n",
       "      <td>1.000000</td>\n",
       "      <td>164.000000</td>\n",
       "      <td>2017.000000</td>\n",
       "      <td>38.000000</td>\n",
       "      <td>23.000000</td>\n",
       "      <td>2.000000</td>\n",
       "      <td>3.000000</td>\n",
       "      <td>2.000000</td>\n",
       "      <td>0.000000</td>\n",
       "      <td>0.000000</td>\n",
       "      <td>0.000000</td>\n",
       "      <td>0.000000</td>\n",
       "      <td>0.000000</td>\n",
       "      <td>0.000000</td>\n",
       "      <td>240.000000</td>\n",
       "      <td>280.000000</td>\n",
       "      <td>0.000000</td>\n",
       "      <td>126.000000</td>\n",
       "      <td>0.00000</td>\n",
       "      <td>1.000000</td>\n",
       "    </tr>\n",
       "    <tr>\n",
       "      <th>max</th>\n",
       "      <td>1.000000</td>\n",
       "      <td>629.000000</td>\n",
       "      <td>2017.000000</td>\n",
       "      <td>53.000000</td>\n",
       "      <td>31.000000</td>\n",
       "      <td>10.000000</td>\n",
       "      <td>25.000000</td>\n",
       "      <td>27.000000</td>\n",
       "      <td>3.000000</td>\n",
       "      <td>2.000000</td>\n",
       "      <td>1.000000</td>\n",
       "      <td>26.000000</td>\n",
       "      <td>60.000000</td>\n",
       "      <td>16.000000</td>\n",
       "      <td>531.000000</td>\n",
       "      <td>530.000000</td>\n",
       "      <td>391.000000</td>\n",
       "      <td>388.000000</td>\n",
       "      <td>2.00000</td>\n",
       "      <td>5.000000</td>\n",
       "    </tr>\n",
       "  </tbody>\n",
       "</table>\n",
       "</div>"
      ],
      "text/plain": [
       "        is_canceled     lead_time  arrival_date_year  \\\n",
       "count  10000.000000  10000.000000       10000.000000   \n",
       "mean       0.375100    105.393800        2016.166900   \n",
       "std        0.484173    108.267682           0.705616   \n",
       "min        0.000000      0.000000        2015.000000   \n",
       "25%        0.000000     18.000000        2016.000000   \n",
       "50%        0.000000     70.000000        2016.000000   \n",
       "75%        1.000000    164.000000        2017.000000   \n",
       "max        1.000000    629.000000        2017.000000   \n",
       "\n",
       "       arrival_date_week_number  arrival_date_day_of_month  \\\n",
       "count              10000.000000               10000.000000   \n",
       "mean                  27.267700                  15.864100   \n",
       "std                   13.671588                   8.725941   \n",
       "min                    1.000000                   1.000000   \n",
       "25%                   16.000000                   8.000000   \n",
       "50%                   28.000000                  16.000000   \n",
       "75%                   38.000000                  23.000000   \n",
       "max                   53.000000                  31.000000   \n",
       "\n",
       "       stays_in_weekend_nights  stays_in_week_nights        adults  \\\n",
       "count             10000.000000          10000.000000  10000.000000   \n",
       "mean                  0.927100              2.516500      1.869600   \n",
       "std                   0.990396              1.882892      0.572912   \n",
       "min                   0.000000              0.000000      0.000000   \n",
       "25%                   0.000000              1.000000      2.000000   \n",
       "50%                   1.000000              2.000000      2.000000   \n",
       "75%                   2.000000              3.000000      2.000000   \n",
       "max                  10.000000             25.000000     27.000000   \n",
       "\n",
       "           children        babies  is_repeated_guest  previous_cancellations  \\\n",
       "count  10000.000000  10000.000000       10000.000000            10000.000000   \n",
       "mean       0.108000      0.008500           0.031900                0.087500   \n",
       "std        0.405157      0.093961           0.175743                0.852242   \n",
       "min        0.000000      0.000000           0.000000                0.000000   \n",
       "25%        0.000000      0.000000           0.000000                0.000000   \n",
       "50%        0.000000      0.000000           0.000000                0.000000   \n",
       "75%        0.000000      0.000000           0.000000                0.000000   \n",
       "max        3.000000      2.000000           1.000000               26.000000   \n",
       "\n",
       "       previous_bookings_not_canceled  booking_changes        agent  \\\n",
       "count                    10000.000000     10000.000000  8654.000000   \n",
       "mean                         0.127400         0.218700    89.090941   \n",
       "std                          1.269067         0.684045   112.721390   \n",
       "min                          0.000000         0.000000     1.000000   \n",
       "25%                          0.000000         0.000000     9.000000   \n",
       "50%                          0.000000         0.000000    14.000000   \n",
       "75%                          0.000000         0.000000   240.000000   \n",
       "max                         60.000000        16.000000   531.000000   \n",
       "\n",
       "          company  days_in_waiting_list           adr  \\\n",
       "count  559.000000          10000.000000  10000.000000   \n",
       "mean   188.869410              2.201200    102.150192   \n",
       "std    138.001931             17.405235     48.778734   \n",
       "min      9.000000              0.000000      0.000000   \n",
       "25%     49.000000              0.000000     68.530000   \n",
       "50%    174.000000              0.000000     94.000000   \n",
       "75%    280.000000              0.000000    126.000000   \n",
       "max    530.000000            391.000000    388.000000   \n",
       "\n",
       "       required_car_parking_spaces  total_of_special_requests  \n",
       "count                  10000.00000               10000.000000  \n",
       "mean                       0.06440                   0.579300  \n",
       "std                        0.24629                   0.797731  \n",
       "min                        0.00000                   0.000000  \n",
       "25%                        0.00000                   0.000000  \n",
       "50%                        0.00000                   0.000000  \n",
       "75%                        0.00000                   1.000000  \n",
       "max                        2.00000                   5.000000  "
      ]
     },
     "execution_count": 4,
     "metadata": {},
     "output_type": "execute_result"
    }
   ],
   "source": [
    "data.describe()"
   ]
  },
  {
   "cell_type": "markdown",
   "metadata": {
    "id": "_68uTwg1VOYc"
   },
   "source": [
    "Mostramos la matriz de correlación entre las variables"
   ]
  },
  {
   "cell_type": "code",
   "execution_count": 5,
   "metadata": {
    "colab": {
     "base_uri": "https://localhost:8080/",
     "height": 488
    },
    "id": "b5mqafXaVSaz",
    "outputId": "9bd6e455-6d8e-43c6-aa05-3cd4e60fa2b3"
   },
   "outputs": [
    {
     "data": {
      "text/html": [
       "<style  type=\"text/css\" >\n",
       "#T_3d01cb90_30e7_11eb_8d70_983b8fd83181row0_col0,#T_3d01cb90_30e7_11eb_8d70_983b8fd83181row1_col1,#T_3d01cb90_30e7_11eb_8d70_983b8fd83181row2_col2,#T_3d01cb90_30e7_11eb_8d70_983b8fd83181row3_col3,#T_3d01cb90_30e7_11eb_8d70_983b8fd83181row4_col4,#T_3d01cb90_30e7_11eb_8d70_983b8fd83181row5_col5,#T_3d01cb90_30e7_11eb_8d70_983b8fd83181row6_col6,#T_3d01cb90_30e7_11eb_8d70_983b8fd83181row7_col7,#T_3d01cb90_30e7_11eb_8d70_983b8fd83181row8_col8,#T_3d01cb90_30e7_11eb_8d70_983b8fd83181row9_col9,#T_3d01cb90_30e7_11eb_8d70_983b8fd83181row10_col10,#T_3d01cb90_30e7_11eb_8d70_983b8fd83181row11_col11,#T_3d01cb90_30e7_11eb_8d70_983b8fd83181row12_col12,#T_3d01cb90_30e7_11eb_8d70_983b8fd83181row13_col13,#T_3d01cb90_30e7_11eb_8d70_983b8fd83181row14_col14,#T_3d01cb90_30e7_11eb_8d70_983b8fd83181row15_col15,#T_3d01cb90_30e7_11eb_8d70_983b8fd83181row16_col16,#T_3d01cb90_30e7_11eb_8d70_983b8fd83181row17_col17,#T_3d01cb90_30e7_11eb_8d70_983b8fd83181row18_col18,#T_3d01cb90_30e7_11eb_8d70_983b8fd83181row19_col19{\n",
       "            background-color:  #b40426;\n",
       "            color:  #f1f1f1;\n",
       "        }#T_3d01cb90_30e7_11eb_8d70_983b8fd83181row0_col1,#T_3d01cb90_30e7_11eb_8d70_983b8fd83181row1_col2,#T_3d01cb90_30e7_11eb_8d70_983b8fd83181row6_col2{\n",
       "            background-color:  #b9d0f9;\n",
       "            color:  #000000;\n",
       "        }#T_3d01cb90_30e7_11eb_8d70_983b8fd83181row0_col2,#T_3d01cb90_30e7_11eb_8d70_983b8fd83181row19_col3{\n",
       "            background-color:  #b5cdfa;\n",
       "            color:  #000000;\n",
       "        }#T_3d01cb90_30e7_11eb_8d70_983b8fd83181row0_col3,#T_3d01cb90_30e7_11eb_8d70_983b8fd83181row1_col15,#T_3d01cb90_30e7_11eb_8d70_983b8fd83181row4_col2,#T_3d01cb90_30e7_11eb_8d70_983b8fd83181row8_col3,#T_3d01cb90_30e7_11eb_8d70_983b8fd83181row13_col3,#T_3d01cb90_30e7_11eb_8d70_983b8fd83181row18_col3{\n",
       "            background-color:  #afcafc;\n",
       "            color:  #000000;\n",
       "        }#T_3d01cb90_30e7_11eb_8d70_983b8fd83181row0_col4,#T_3d01cb90_30e7_11eb_8d70_983b8fd83181row2_col9,#T_3d01cb90_30e7_11eb_8d70_983b8fd83181row4_col9,#T_3d01cb90_30e7_11eb_8d70_983b8fd83181row9_col4,#T_3d01cb90_30e7_11eb_8d70_983b8fd83181row10_col9,#T_3d01cb90_30e7_11eb_8d70_983b8fd83181row11_col9,#T_3d01cb90_30e7_11eb_8d70_983b8fd83181row12_col9,#T_3d01cb90_30e7_11eb_8d70_983b8fd83181row16_col5,#T_3d01cb90_30e7_11eb_8d70_983b8fd83181row16_col14{\n",
       "            background-color:  #4055c8;\n",
       "            color:  #f1f1f1;\n",
       "        }#T_3d01cb90_30e7_11eb_8d70_983b8fd83181row0_col5,#T_3d01cb90_30e7_11eb_8d70_983b8fd83181row6_col8,#T_3d01cb90_30e7_11eb_8d70_983b8fd83181row8_col9,#T_3d01cb90_30e7_11eb_8d70_983b8fd83181row11_col15{\n",
       "            background-color:  #516ddb;\n",
       "            color:  #000000;\n",
       "        }#T_3d01cb90_30e7_11eb_8d70_983b8fd83181row0_col6,#T_3d01cb90_30e7_11eb_8d70_983b8fd83181row1_col19,#T_3d01cb90_30e7_11eb_8d70_983b8fd83181row2_col5,#T_3d01cb90_30e7_11eb_8d70_983b8fd83181row4_col16,#T_3d01cb90_30e7_11eb_8d70_983b8fd83181row9_col14,#T_3d01cb90_30e7_11eb_8d70_983b8fd83181row12_col14{\n",
       "            background-color:  #5b7ae5;\n",
       "            color:  #000000;\n",
       "        }#T_3d01cb90_30e7_11eb_8d70_983b8fd83181row0_col7,#T_3d01cb90_30e7_11eb_8d70_983b8fd83181row3_col0,#T_3d01cb90_30e7_11eb_8d70_983b8fd83181row4_col19,#T_3d01cb90_30e7_11eb_8d70_983b8fd83181row5_col1,#T_3d01cb90_30e7_11eb_8d70_983b8fd83181row8_col10,#T_3d01cb90_30e7_11eb_8d70_983b8fd83181row9_col13{\n",
       "            background-color:  #779af7;\n",
       "            color:  #000000;\n",
       "        }#T_3d01cb90_30e7_11eb_8d70_983b8fd83181row0_col8,#T_3d01cb90_30e7_11eb_8d70_983b8fd83181row2_col11,#T_3d01cb90_30e7_11eb_8d70_983b8fd83181row3_col14,#T_3d01cb90_30e7_11eb_8d70_983b8fd83181row4_col5,#T_3d01cb90_30e7_11eb_8d70_983b8fd83181row5_col9{\n",
       "            background-color:  #4a63d3;\n",
       "            color:  #f1f1f1;\n",
       "        }#T_3d01cb90_30e7_11eb_8d70_983b8fd83181row0_col9,#T_3d01cb90_30e7_11eb_8d70_983b8fd83181row0_col13,#T_3d01cb90_30e7_11eb_8d70_983b8fd83181row0_col14,#T_3d01cb90_30e7_11eb_8d70_983b8fd83181row0_col18,#T_3d01cb90_30e7_11eb_8d70_983b8fd83181row0_col19,#T_3d01cb90_30e7_11eb_8d70_983b8fd83181row1_col8,#T_3d01cb90_30e7_11eb_8d70_983b8fd83181row2_col3,#T_3d01cb90_30e7_11eb_8d70_983b8fd83181row3_col2,#T_3d01cb90_30e7_11eb_8d70_983b8fd83181row5_col4,#T_3d01cb90_30e7_11eb_8d70_983b8fd83181row10_col1,#T_3d01cb90_30e7_11eb_8d70_983b8fd83181row10_col5,#T_3d01cb90_30e7_11eb_8d70_983b8fd83181row10_col6,#T_3d01cb90_30e7_11eb_8d70_983b8fd83181row10_col7,#T_3d01cb90_30e7_11eb_8d70_983b8fd83181row10_col8,#T_3d01cb90_30e7_11eb_8d70_983b8fd83181row10_col15,#T_3d01cb90_30e7_11eb_8d70_983b8fd83181row10_col17,#T_3d01cb90_30e7_11eb_8d70_983b8fd83181row15_col10,#T_3d01cb90_30e7_11eb_8d70_983b8fd83181row15_col11,#T_3d01cb90_30e7_11eb_8d70_983b8fd83181row15_col12,#T_3d01cb90_30e7_11eb_8d70_983b8fd83181row18_col1,#T_3d01cb90_30e7_11eb_8d70_983b8fd83181row19_col0,#T_3d01cb90_30e7_11eb_8d70_983b8fd83181row19_col16{\n",
       "            background-color:  #3b4cc0;\n",
       "            color:  #f1f1f1;\n",
       "        }#T_3d01cb90_30e7_11eb_8d70_983b8fd83181row0_col10,#T_3d01cb90_30e7_11eb_8d70_983b8fd83181row2_col18,#T_3d01cb90_30e7_11eb_8d70_983b8fd83181row3_col15,#T_3d01cb90_30e7_11eb_8d70_983b8fd83181row8_col13,#T_3d01cb90_30e7_11eb_8d70_983b8fd83181row16_col11{\n",
       "            background-color:  #6c8ff1;\n",
       "            color:  #000000;\n",
       "        }#T_3d01cb90_30e7_11eb_8d70_983b8fd83181row0_col11,#T_3d01cb90_30e7_11eb_8d70_983b8fd83181row1_col6{\n",
       "            background-color:  #8badfd;\n",
       "            color:  #000000;\n",
       "        }#T_3d01cb90_30e7_11eb_8d70_983b8fd83181row0_col12,#T_3d01cb90_30e7_11eb_8d70_983b8fd83181row12_col0,#T_3d01cb90_30e7_11eb_8d70_983b8fd83181row13_col11,#T_3d01cb90_30e7_11eb_8d70_983b8fd83181row17_col13,#T_3d01cb90_30e7_11eb_8d70_983b8fd83181row19_col8{\n",
       "            background-color:  #6485ec;\n",
       "            color:  #000000;\n",
       "        }#T_3d01cb90_30e7_11eb_8d70_983b8fd83181row0_col15,#T_3d01cb90_30e7_11eb_8d70_983b8fd83181row1_col7,#T_3d01cb90_30e7_11eb_8d70_983b8fd83181row10_col11,#T_3d01cb90_30e7_11eb_8d70_983b8fd83181row13_col19{\n",
       "            background-color:  #88abfd;\n",
       "            color:  #000000;\n",
       "        }#T_3d01cb90_30e7_11eb_8d70_983b8fd83181row0_col16,#T_3d01cb90_30e7_11eb_8d70_983b8fd83181row1_col10,#T_3d01cb90_30e7_11eb_8d70_983b8fd83181row2_col6,#T_3d01cb90_30e7_11eb_8d70_983b8fd83181row4_col13,#T_3d01cb90_30e7_11eb_8d70_983b8fd83181row8_col5,#T_3d01cb90_30e7_11eb_8d70_983b8fd83181row9_col6,#T_3d01cb90_30e7_11eb_8d70_983b8fd83181row10_col0,#T_3d01cb90_30e7_11eb_8d70_983b8fd83181row14_col0,#T_3d01cb90_30e7_11eb_8d70_983b8fd83181row16_col19{\n",
       "            background-color:  #6282ea;\n",
       "            color:  #000000;\n",
       "        }#T_3d01cb90_30e7_11eb_8d70_983b8fd83181row0_col17,#T_3d01cb90_30e7_11eb_8d70_983b8fd83181row1_col5,#T_3d01cb90_30e7_11eb_8d70_983b8fd83181row3_col12,#T_3d01cb90_30e7_11eb_8d70_983b8fd83181row7_col5,#T_3d01cb90_30e7_11eb_8d70_983b8fd83181row8_col7,#T_3d01cb90_30e7_11eb_8d70_983b8fd83181row9_col0{\n",
       "            background-color:  #6f92f3;\n",
       "            color:  #000000;\n",
       "        }#T_3d01cb90_30e7_11eb_8d70_983b8fd83181row1_col0{\n",
       "            background-color:  #cbd8ee;\n",
       "            color:  #000000;\n",
       "        }#T_3d01cb90_30e7_11eb_8d70_983b8fd83181row1_col3,#T_3d01cb90_30e7_11eb_8d70_983b8fd83181row8_col17{\n",
       "            background-color:  #cad8ef;\n",
       "            color:  #000000;\n",
       "        }#T_3d01cb90_30e7_11eb_8d70_983b8fd83181row1_col4,#T_3d01cb90_30e7_11eb_8d70_983b8fd83181row2_col4,#T_3d01cb90_30e7_11eb_8d70_983b8fd83181row2_col16,#T_3d01cb90_30e7_11eb_8d70_983b8fd83181row8_col4,#T_3d01cb90_30e7_11eb_8d70_983b8fd83181row12_col5,#T_3d01cb90_30e7_11eb_8d70_983b8fd83181row18_col0{\n",
       "            background-color:  #4358cb;\n",
       "            color:  #f1f1f1;\n",
       "        }#T_3d01cb90_30e7_11eb_8d70_983b8fd83181row1_col9,#T_3d01cb90_30e7_11eb_8d70_983b8fd83181row5_col16,#T_3d01cb90_30e7_11eb_8d70_983b8fd83181row11_col8,#T_3d01cb90_30e7_11eb_8d70_983b8fd83181row12_col8,#T_3d01cb90_30e7_11eb_8d70_983b8fd83181row19_col1{\n",
       "            background-color:  #3e51c5;\n",
       "            color:  #f1f1f1;\n",
       "        }#T_3d01cb90_30e7_11eb_8d70_983b8fd83181row1_col11,#T_3d01cb90_30e7_11eb_8d70_983b8fd83181row17_col18{\n",
       "            background-color:  #84a7fc;\n",
       "            color:  #000000;\n",
       "        }#T_3d01cb90_30e7_11eb_8d70_983b8fd83181row1_col12,#T_3d01cb90_30e7_11eb_8d70_983b8fd83181row8_col6,#T_3d01cb90_30e7_11eb_8d70_983b8fd83181row11_col7,#T_3d01cb90_30e7_11eb_8d70_983b8fd83181row13_col5,#T_3d01cb90_30e7_11eb_8d70_983b8fd83181row17_col12{\n",
       "            background-color:  #6180e9;\n",
       "            color:  #000000;\n",
       "        }#T_3d01cb90_30e7_11eb_8d70_983b8fd83181row1_col13,#T_3d01cb90_30e7_11eb_8d70_983b8fd83181row10_col13,#T_3d01cb90_30e7_11eb_8d70_983b8fd83181row13_col9{\n",
       "            background-color:  #5e7de7;\n",
       "            color:  #000000;\n",
       "        }#T_3d01cb90_30e7_11eb_8d70_983b8fd83181row1_col14,#T_3d01cb90_30e7_11eb_8d70_983b8fd83181row11_col4{\n",
       "            background-color:  #3d50c3;\n",
       "            color:  #f1f1f1;\n",
       "        }#T_3d01cb90_30e7_11eb_8d70_983b8fd83181row1_col16,#T_3d01cb90_30e7_11eb_8d70_983b8fd83181row5_col14,#T_3d01cb90_30e7_11eb_8d70_983b8fd83181row14_col19,#T_3d01cb90_30e7_11eb_8d70_983b8fd83181row19_col10{\n",
       "            background-color:  #85a8fc;\n",
       "            color:  #000000;\n",
       "        }#T_3d01cb90_30e7_11eb_8d70_983b8fd83181row1_col17,#T_3d01cb90_30e7_11eb_8d70_983b8fd83181row4_col6,#T_3d01cb90_30e7_11eb_8d70_983b8fd83181row7_col16,#T_3d01cb90_30e7_11eb_8d70_983b8fd83181row9_col16,#T_3d01cb90_30e7_11eb_8d70_983b8fd83181row11_col5,#T_3d01cb90_30e7_11eb_8d70_983b8fd83181row11_col14,#T_3d01cb90_30e7_11eb_8d70_983b8fd83181row12_col16,#T_3d01cb90_30e7_11eb_8d70_983b8fd83181row13_col16,#T_3d01cb90_30e7_11eb_8d70_983b8fd83181row16_col4,#T_3d01cb90_30e7_11eb_8d70_983b8fd83181row18_col5,#T_3d01cb90_30e7_11eb_8d70_983b8fd83181row18_col8{\n",
       "            background-color:  #4e68d8;\n",
       "            color:  #000000;\n",
       "        }#T_3d01cb90_30e7_11eb_8d70_983b8fd83181row1_col18,#T_3d01cb90_30e7_11eb_8d70_983b8fd83181row6_col9,#T_3d01cb90_30e7_11eb_8d70_983b8fd83181row11_col17,#T_3d01cb90_30e7_11eb_8d70_983b8fd83181row15_col4{\n",
       "            background-color:  #4f69d9;\n",
       "            color:  #000000;\n",
       "        }#T_3d01cb90_30e7_11eb_8d70_983b8fd83181row2_col0,#T_3d01cb90_30e7_11eb_8d70_983b8fd83181row2_col10,#T_3d01cb90_30e7_11eb_8d70_983b8fd83181row3_col19,#T_3d01cb90_30e7_11eb_8d70_983b8fd83181row10_col18,#T_3d01cb90_30e7_11eb_8d70_983b8fd83181row12_col19,#T_3d01cb90_30e7_11eb_8d70_983b8fd83181row19_col12{\n",
       "            background-color:  #80a3fa;\n",
       "            color:  #000000;\n",
       "        }#T_3d01cb90_30e7_11eb_8d70_983b8fd83181row2_col1,#T_3d01cb90_30e7_11eb_8d70_983b8fd83181row2_col13,#T_3d01cb90_30e7_11eb_8d70_983b8fd83181row6_col10,#T_3d01cb90_30e7_11eb_8d70_983b8fd83181row13_col17,#T_3d01cb90_30e7_11eb_8d70_983b8fd83181row16_col18,#T_3d01cb90_30e7_11eb_8d70_983b8fd83181row19_col9{\n",
       "            background-color:  #6788ee;\n",
       "            color:  #000000;\n",
       "        }#T_3d01cb90_30e7_11eb_8d70_983b8fd83181row2_col7,#T_3d01cb90_30e7_11eb_8d70_983b8fd83181row3_col7,#T_3d01cb90_30e7_11eb_8d70_983b8fd83181row5_col18,#T_3d01cb90_30e7_11eb_8d70_983b8fd83181row6_col18,#T_3d01cb90_30e7_11eb_8d70_983b8fd83181row11_col18,#T_3d01cb90_30e7_11eb_8d70_983b8fd83181row15_col5,#T_3d01cb90_30e7_11eb_8d70_983b8fd83181row18_col13{\n",
       "            background-color:  #6b8df0;\n",
       "            color:  #000000;\n",
       "        }#T_3d01cb90_30e7_11eb_8d70_983b8fd83181row2_col8,#T_3d01cb90_30e7_11eb_8d70_983b8fd83181row3_col4,#T_3d01cb90_30e7_11eb_8d70_983b8fd83181row9_col1,#T_3d01cb90_30e7_11eb_8d70_983b8fd83181row10_col14,#T_3d01cb90_30e7_11eb_8d70_983b8fd83181row11_col13,#T_3d01cb90_30e7_11eb_8d70_983b8fd83181row13_col0,#T_3d01cb90_30e7_11eb_8d70_983b8fd83181row14_col7,#T_3d01cb90_30e7_11eb_8d70_983b8fd83181row18_col9{\n",
       "            background-color:  #5673e0;\n",
       "            color:  #000000;\n",
       "        }#T_3d01cb90_30e7_11eb_8d70_983b8fd83181row2_col12,#T_3d01cb90_30e7_11eb_8d70_983b8fd83181row4_col10,#T_3d01cb90_30e7_11eb_8d70_983b8fd83181row7_col1,#T_3d01cb90_30e7_11eb_8d70_983b8fd83181row14_col12,#T_3d01cb90_30e7_11eb_8d70_983b8fd83181row15_col13,#T_3d01cb90_30e7_11eb_8d70_983b8fd83181row18_col15{\n",
       "            background-color:  #81a4fb;\n",
       "            color:  #000000;\n",
       "        }#T_3d01cb90_30e7_11eb_8d70_983b8fd83181row2_col14,#T_3d01cb90_30e7_11eb_8d70_983b8fd83181row4_col17,#T_3d01cb90_30e7_11eb_8d70_983b8fd83181row5_col12,#T_3d01cb90_30e7_11eb_8d70_983b8fd83181row14_col11,#T_3d01cb90_30e7_11eb_8d70_983b8fd83181row17_col6,#T_3d01cb90_30e7_11eb_8d70_983b8fd83181row19_col5{\n",
       "            background-color:  #688aef;\n",
       "            color:  #000000;\n",
       "        }#T_3d01cb90_30e7_11eb_8d70_983b8fd83181row2_col15,#T_3d01cb90_30e7_11eb_8d70_983b8fd83181row19_col2{\n",
       "            background-color:  #c6d6f1;\n",
       "            color:  #000000;\n",
       "        }#T_3d01cb90_30e7_11eb_8d70_983b8fd83181row2_col17,#T_3d01cb90_30e7_11eb_8d70_983b8fd83181row13_col15,#T_3d01cb90_30e7_11eb_8d70_983b8fd83181row14_col15{\n",
       "            background-color:  #a2c1ff;\n",
       "            color:  #000000;\n",
       "        }#T_3d01cb90_30e7_11eb_8d70_983b8fd83181row2_col19,#T_3d01cb90_30e7_11eb_8d70_983b8fd83181row8_col19{\n",
       "            background-color:  #96b7ff;\n",
       "            color:  #000000;\n",
       "        }#T_3d01cb90_30e7_11eb_8d70_983b8fd83181row3_col1,#T_3d01cb90_30e7_11eb_8d70_983b8fd83181row8_col15,#T_3d01cb90_30e7_11eb_8d70_983b8fd83181row9_col18,#T_3d01cb90_30e7_11eb_8d70_983b8fd83181row13_col10,#T_3d01cb90_30e7_11eb_8d70_983b8fd83181row15_col17{\n",
       "            background-color:  #82a6fb;\n",
       "            color:  #000000;\n",
       "        }#T_3d01cb90_30e7_11eb_8d70_983b8fd83181row3_col5,#T_3d01cb90_30e7_11eb_8d70_983b8fd83181row3_col6,#T_3d01cb90_30e7_11eb_8d70_983b8fd83181row13_col7{\n",
       "            background-color:  #5977e3;\n",
       "            color:  #000000;\n",
       "        }#T_3d01cb90_30e7_11eb_8d70_983b8fd83181row3_col8,#T_3d01cb90_30e7_11eb_8d70_983b8fd83181row3_col9,#T_3d01cb90_30e7_11eb_8d70_983b8fd83181row12_col1,#T_3d01cb90_30e7_11eb_8d70_983b8fd83181row12_col15{\n",
       "            background-color:  #445acc;\n",
       "            color:  #f1f1f1;\n",
       "        }#T_3d01cb90_30e7_11eb_8d70_983b8fd83181row3_col10,#T_3d01cb90_30e7_11eb_8d70_983b8fd83181row4_col0,#T_3d01cb90_30e7_11eb_8d70_983b8fd83181row5_col0,#T_3d01cb90_30e7_11eb_8d70_983b8fd83181row9_col12,#T_3d01cb90_30e7_11eb_8d70_983b8fd83181row15_col14{\n",
       "            background-color:  #7699f6;\n",
       "            color:  #000000;\n",
       "        }#T_3d01cb90_30e7_11eb_8d70_983b8fd83181row3_col11,#T_3d01cb90_30e7_11eb_8d70_983b8fd83181row3_col17,#T_3d01cb90_30e7_11eb_8d70_983b8fd83181row16_col12,#T_3d01cb90_30e7_11eb_8d70_983b8fd83181row18_col17{\n",
       "            background-color:  #7597f6;\n",
       "            color:  #000000;\n",
       "        }#T_3d01cb90_30e7_11eb_8d70_983b8fd83181row3_col13,#T_3d01cb90_30e7_11eb_8d70_983b8fd83181row8_col14,#T_3d01cb90_30e7_11eb_8d70_983b8fd83181row13_col1,#T_3d01cb90_30e7_11eb_8d70_983b8fd83181row17_col10,#T_3d01cb90_30e7_11eb_8d70_983b8fd83181row19_col11,#T_3d01cb90_30e7_11eb_8d70_983b8fd83181row19_col15{\n",
       "            background-color:  #5d7ce6;\n",
       "            color:  #000000;\n",
       "        }#T_3d01cb90_30e7_11eb_8d70_983b8fd83181row3_col16,#T_3d01cb90_30e7_11eb_8d70_983b8fd83181row5_col8,#T_3d01cb90_30e7_11eb_8d70_983b8fd83181row9_col8,#T_3d01cb90_30e7_11eb_8d70_983b8fd83181row16_col6,#T_3d01cb90_30e7_11eb_8d70_983b8fd83181row16_col17{\n",
       "            background-color:  #5470de;\n",
       "            color:  #000000;\n",
       "        }#T_3d01cb90_30e7_11eb_8d70_983b8fd83181row3_col18,#T_3d01cb90_30e7_11eb_8d70_983b8fd83181row7_col6,#T_3d01cb90_30e7_11eb_8d70_983b8fd83181row13_col6,#T_3d01cb90_30e7_11eb_8d70_983b8fd83181row14_col13,#T_3d01cb90_30e7_11eb_8d70_983b8fd83181row15_col18{\n",
       "            background-color:  #7093f3;\n",
       "            color:  #000000;\n",
       "        }#T_3d01cb90_30e7_11eb_8d70_983b8fd83181row4_col1,#T_3d01cb90_30e7_11eb_8d70_983b8fd83181row7_col10,#T_3d01cb90_30e7_11eb_8d70_983b8fd83181row9_col5,#T_3d01cb90_30e7_11eb_8d70_983b8fd83181row14_col17,#T_3d01cb90_30e7_11eb_8d70_983b8fd83181row15_col16,#T_3d01cb90_30e7_11eb_8d70_983b8fd83181row16_col13,#T_3d01cb90_30e7_11eb_8d70_983b8fd83181row17_col11{\n",
       "            background-color:  #5a78e4;\n",
       "            color:  #000000;\n",
       "        }#T_3d01cb90_30e7_11eb_8d70_983b8fd83181row4_col3{\n",
       "            background-color:  #bed2f6;\n",
       "            color:  #000000;\n",
       "        }#T_3d01cb90_30e7_11eb_8d70_983b8fd83181row4_col7,#T_3d01cb90_30e7_11eb_8d70_983b8fd83181row4_col11,#T_3d01cb90_30e7_11eb_8d70_983b8fd83181row5_col11,#T_3d01cb90_30e7_11eb_8d70_983b8fd83181row6_col11,#T_3d01cb90_30e7_11eb_8d70_983b8fd83181row9_col7,#T_3d01cb90_30e7_11eb_8d70_983b8fd83181row13_col14,#T_3d01cb90_30e7_11eb_8d70_983b8fd83181row17_col5,#T_3d01cb90_30e7_11eb_8d70_983b8fd83181row18_col7,#T_3d01cb90_30e7_11eb_8d70_983b8fd83181row18_col11{\n",
       "            background-color:  #6687ed;\n",
       "            color:  #000000;\n",
       "        }#T_3d01cb90_30e7_11eb_8d70_983b8fd83181row4_col8,#T_3d01cb90_30e7_11eb_8d70_983b8fd83181row7_col14,#T_3d01cb90_30e7_11eb_8d70_983b8fd83181row17_col16,#T_3d01cb90_30e7_11eb_8d70_983b8fd83181row18_col4{\n",
       "            background-color:  #455cce;\n",
       "            color:  #f1f1f1;\n",
       "        }#T_3d01cb90_30e7_11eb_8d70_983b8fd83181row4_col12,#T_3d01cb90_30e7_11eb_8d70_983b8fd83181row9_col15,#T_3d01cb90_30e7_11eb_8d70_983b8fd83181row10_col19{\n",
       "            background-color:  #7b9ff9;\n",
       "            color:  #000000;\n",
       "        }#T_3d01cb90_30e7_11eb_8d70_983b8fd83181row4_col14,#T_3d01cb90_30e7_11eb_8d70_983b8fd83181row7_col12,#T_3d01cb90_30e7_11eb_8d70_983b8fd83181row13_col8{\n",
       "            background-color:  #5572df;\n",
       "            color:  #000000;\n",
       "        }#T_3d01cb90_30e7_11eb_8d70_983b8fd83181row4_col15,#T_3d01cb90_30e7_11eb_8d70_983b8fd83181row5_col19,#T_3d01cb90_30e7_11eb_8d70_983b8fd83181row6_col19,#T_3d01cb90_30e7_11eb_8d70_983b8fd83181row7_col0,#T_3d01cb90_30e7_11eb_8d70_983b8fd83181row19_col18{\n",
       "            background-color:  #8caffe;\n",
       "            color:  #000000;\n",
       "        }#T_3d01cb90_30e7_11eb_8d70_983b8fd83181row4_col18,#T_3d01cb90_30e7_11eb_8d70_983b8fd83181row8_col12{\n",
       "            background-color:  #7295f4;\n",
       "            color:  #000000;\n",
       "        }#T_3d01cb90_30e7_11eb_8d70_983b8fd83181row5_col2,#T_3d01cb90_30e7_11eb_8d70_983b8fd83181row7_col2,#T_3d01cb90_30e7_11eb_8d70_983b8fd83181row7_col3,#T_3d01cb90_30e7_11eb_8d70_983b8fd83181row11_col3,#T_3d01cb90_30e7_11eb_8d70_983b8fd83181row12_col2{\n",
       "            background-color:  #b6cefa;\n",
       "            color:  #000000;\n",
       "        }#T_3d01cb90_30e7_11eb_8d70_983b8fd83181row5_col3,#T_3d01cb90_30e7_11eb_8d70_983b8fd83181row17_col19{\n",
       "            background-color:  #b3cdfb;\n",
       "            color:  #000000;\n",
       "        }#T_3d01cb90_30e7_11eb_8d70_983b8fd83181row5_col6{\n",
       "            background-color:  #e7d7ce;\n",
       "            color:  #000000;\n",
       "        }#T_3d01cb90_30e7_11eb_8d70_983b8fd83181row5_col7,#T_3d01cb90_30e7_11eb_8d70_983b8fd83181row6_col0,#T_3d01cb90_30e7_11eb_8d70_983b8fd83181row9_col10,#T_3d01cb90_30e7_11eb_8d70_983b8fd83181row12_col18,#T_3d01cb90_30e7_11eb_8d70_983b8fd83181row13_col18,#T_3d01cb90_30e7_11eb_8d70_983b8fd83181row15_col0{\n",
       "            background-color:  #7ea1fa;\n",
       "            color:  #000000;\n",
       "        }#T_3d01cb90_30e7_11eb_8d70_983b8fd83181row5_col10,#T_3d01cb90_30e7_11eb_8d70_983b8fd83181row5_col13,#T_3d01cb90_30e7_11eb_8d70_983b8fd83181row6_col12,#T_3d01cb90_30e7_11eb_8d70_983b8fd83181row7_col11,#T_3d01cb90_30e7_11eb_8d70_983b8fd83181row9_col11,#T_3d01cb90_30e7_11eb_8d70_983b8fd83181row11_col19,#T_3d01cb90_30e7_11eb_8d70_983b8fd83181row19_col6{\n",
       "            background-color:  #6a8bef;\n",
       "            color:  #000000;\n",
       "        }#T_3d01cb90_30e7_11eb_8d70_983b8fd83181row5_col15,#T_3d01cb90_30e7_11eb_8d70_983b8fd83181row9_col19{\n",
       "            background-color:  #98b9ff;\n",
       "            color:  #000000;\n",
       "        }#T_3d01cb90_30e7_11eb_8d70_983b8fd83181row5_col17,#T_3d01cb90_30e7_11eb_8d70_983b8fd83181row6_col17,#T_3d01cb90_30e7_11eb_8d70_983b8fd83181row7_col18,#T_3d01cb90_30e7_11eb_8d70_983b8fd83181row11_col1{\n",
       "            background-color:  #7396f5;\n",
       "            color:  #000000;\n",
       "        }#T_3d01cb90_30e7_11eb_8d70_983b8fd83181row6_col1,#T_3d01cb90_30e7_11eb_8d70_983b8fd83181row6_col14,#T_3d01cb90_30e7_11eb_8d70_983b8fd83181row18_col10{\n",
       "            background-color:  #90b2fe;\n",
       "            color:  #000000;\n",
       "        }#T_3d01cb90_30e7_11eb_8d70_983b8fd83181row6_col3,#T_3d01cb90_30e7_11eb_8d70_983b8fd83181row16_col3{\n",
       "            background-color:  #b2ccfb;\n",
       "            color:  #000000;\n",
       "        }#T_3d01cb90_30e7_11eb_8d70_983b8fd83181row6_col4,#T_3d01cb90_30e7_11eb_8d70_983b8fd83181row15_col9,#T_3d01cb90_30e7_11eb_8d70_983b8fd83181row16_col8{\n",
       "            background-color:  #3c4ec2;\n",
       "            color:  #f1f1f1;\n",
       "        }#T_3d01cb90_30e7_11eb_8d70_983b8fd83181row6_col5{\n",
       "            background-color:  #e6d7cf;\n",
       "            color:  #000000;\n",
       "        }#T_3d01cb90_30e7_11eb_8d70_983b8fd83181row6_col7,#T_3d01cb90_30e7_11eb_8d70_983b8fd83181row8_col0,#T_3d01cb90_30e7_11eb_8d70_983b8fd83181row16_col10{\n",
       "            background-color:  #7da0f9;\n",
       "            color:  #000000;\n",
       "        }#T_3d01cb90_30e7_11eb_8d70_983b8fd83181row6_col13,#T_3d01cb90_30e7_11eb_8d70_983b8fd83181row8_col18{\n",
       "            background-color:  #799cf8;\n",
       "            color:  #000000;\n",
       "        }#T_3d01cb90_30e7_11eb_8d70_983b8fd83181row6_col15,#T_3d01cb90_30e7_11eb_8d70_983b8fd83181row13_col2{\n",
       "            background-color:  #b7cff9;\n",
       "            color:  #000000;\n",
       "        }#T_3d01cb90_30e7_11eb_8d70_983b8fd83181row6_col16,#T_3d01cb90_30e7_11eb_8d70_983b8fd83181row8_col1,#T_3d01cb90_30e7_11eb_8d70_983b8fd83181row11_col6,#T_3d01cb90_30e7_11eb_8d70_983b8fd83181row14_col8,#T_3d01cb90_30e7_11eb_8d70_983b8fd83181row17_col9,#T_3d01cb90_30e7_11eb_8d70_983b8fd83181row18_col6{\n",
       "            background-color:  #506bda;\n",
       "            color:  #000000;\n",
       "        }#T_3d01cb90_30e7_11eb_8d70_983b8fd83181row7_col4,#T_3d01cb90_30e7_11eb_8d70_983b8fd83181row7_col9,#T_3d01cb90_30e7_11eb_8d70_983b8fd83181row12_col4,#T_3d01cb90_30e7_11eb_8d70_983b8fd83181row12_col6,#T_3d01cb90_30e7_11eb_8d70_983b8fd83181row14_col1,#T_3d01cb90_30e7_11eb_8d70_983b8fd83181row15_col8{\n",
       "            background-color:  #465ecf;\n",
       "            color:  #f1f1f1;\n",
       "        }#T_3d01cb90_30e7_11eb_8d70_983b8fd83181row7_col8,#T_3d01cb90_30e7_11eb_8d70_983b8fd83181row7_col13,#T_3d01cb90_30e7_11eb_8d70_983b8fd83181row11_col16,#T_3d01cb90_30e7_11eb_8d70_983b8fd83181row15_col19{\n",
       "            background-color:  #536edd;\n",
       "            color:  #000000;\n",
       "        }#T_3d01cb90_30e7_11eb_8d70_983b8fd83181row7_col15,#T_3d01cb90_30e7_11eb_8d70_983b8fd83181row14_col2,#T_3d01cb90_30e7_11eb_8d70_983b8fd83181row17_col3{\n",
       "            background-color:  #bfd3f6;\n",
       "            color:  #000000;\n",
       "        }#T_3d01cb90_30e7_11eb_8d70_983b8fd83181row7_col17{\n",
       "            background-color:  #abc8fd;\n",
       "            color:  #000000;\n",
       "        }#T_3d01cb90_30e7_11eb_8d70_983b8fd83181row7_col19,#T_3d01cb90_30e7_11eb_8d70_983b8fd83181row11_col10,#T_3d01cb90_30e7_11eb_8d70_983b8fd83181row11_col12{\n",
       "            background-color:  #9bbcff;\n",
       "            color:  #000000;\n",
       "        }#T_3d01cb90_30e7_11eb_8d70_983b8fd83181row8_col2{\n",
       "            background-color:  #bcd2f7;\n",
       "            color:  #000000;\n",
       "        }#T_3d01cb90_30e7_11eb_8d70_983b8fd83181row8_col11{\n",
       "            background-color:  #6384eb;\n",
       "            color:  #000000;\n",
       "        }#T_3d01cb90_30e7_11eb_8d70_983b8fd83181row8_col16,#T_3d01cb90_30e7_11eb_8d70_983b8fd83181row12_col17,#T_3d01cb90_30e7_11eb_8d70_983b8fd83181row14_col4,#T_3d01cb90_30e7_11eb_8d70_983b8fd83181row18_col16{\n",
       "            background-color:  #485fd1;\n",
       "            color:  #f1f1f1;\n",
       "        }#T_3d01cb90_30e7_11eb_8d70_983b8fd83181row9_col2,#T_3d01cb90_30e7_11eb_8d70_983b8fd83181row10_col2,#T_3d01cb90_30e7_11eb_8d70_983b8fd83181row17_col7{\n",
       "            background-color:  #aec9fc;\n",
       "            color:  #000000;\n",
       "        }#T_3d01cb90_30e7_11eb_8d70_983b8fd83181row9_col3{\n",
       "            background-color:  #b1cbfc;\n",
       "            color:  #000000;\n",
       "        }#T_3d01cb90_30e7_11eb_8d70_983b8fd83181row9_col17,#T_3d01cb90_30e7_11eb_8d70_983b8fd83181row19_col13{\n",
       "            background-color:  #6e90f2;\n",
       "            color:  #000000;\n",
       "        }#T_3d01cb90_30e7_11eb_8d70_983b8fd83181row10_col3,#T_3d01cb90_30e7_11eb_8d70_983b8fd83181row15_col7{\n",
       "            background-color:  #a7c5fe;\n",
       "            color:  #000000;\n",
       "        }#T_3d01cb90_30e7_11eb_8d70_983b8fd83181row10_col4,#T_3d01cb90_30e7_11eb_8d70_983b8fd83181row19_col4{\n",
       "            background-color:  #4257c9;\n",
       "            color:  #f1f1f1;\n",
       "        }#T_3d01cb90_30e7_11eb_8d70_983b8fd83181row10_col12{\n",
       "            background-color:  #ecd3c5;\n",
       "            color:  #000000;\n",
       "        }#T_3d01cb90_30e7_11eb_8d70_983b8fd83181row10_col16,#T_3d01cb90_30e7_11eb_8d70_983b8fd83181row17_col14{\n",
       "            background-color:  #4b64d5;\n",
       "            color:  #f1f1f1;\n",
       "        }#T_3d01cb90_30e7_11eb_8d70_983b8fd83181row11_col0{\n",
       "            background-color:  #97b8ff;\n",
       "            color:  #000000;\n",
       "        }#T_3d01cb90_30e7_11eb_8d70_983b8fd83181row11_col2,#T_3d01cb90_30e7_11eb_8d70_983b8fd83181row15_col6,#T_3d01cb90_30e7_11eb_8d70_983b8fd83181row18_col19{\n",
       "            background-color:  #94b6ff;\n",
       "            color:  #000000;\n",
       "        }#T_3d01cb90_30e7_11eb_8d70_983b8fd83181row12_col3{\n",
       "            background-color:  #a9c6fd;\n",
       "            color:  #000000;\n",
       "        }#T_3d01cb90_30e7_11eb_8d70_983b8fd83181row12_col7,#T_3d01cb90_30e7_11eb_8d70_983b8fd83181row14_col16,#T_3d01cb90_30e7_11eb_8d70_983b8fd83181row16_col9{\n",
       "            background-color:  #3f53c6;\n",
       "            color:  #f1f1f1;\n",
       "        }#T_3d01cb90_30e7_11eb_8d70_983b8fd83181row12_col10{\n",
       "            background-color:  #efcfbf;\n",
       "            color:  #000000;\n",
       "        }#T_3d01cb90_30e7_11eb_8d70_983b8fd83181row12_col11,#T_3d01cb90_30e7_11eb_8d70_983b8fd83181row15_col1,#T_3d01cb90_30e7_11eb_8d70_983b8fd83181row16_col1{\n",
       "            background-color:  #8fb1fe;\n",
       "            color:  #000000;\n",
       "        }#T_3d01cb90_30e7_11eb_8d70_983b8fd83181row12_col13,#T_3d01cb90_30e7_11eb_8d70_983b8fd83181row16_col7,#T_3d01cb90_30e7_11eb_8d70_983b8fd83181row19_col14{\n",
       "            background-color:  #5f7fe8;\n",
       "            color:  #000000;\n",
       "        }#T_3d01cb90_30e7_11eb_8d70_983b8fd83181row13_col4,#T_3d01cb90_30e7_11eb_8d70_983b8fd83181row17_col1{\n",
       "            background-color:  #4961d2;\n",
       "            color:  #f1f1f1;\n",
       "        }#T_3d01cb90_30e7_11eb_8d70_983b8fd83181row13_col12{\n",
       "            background-color:  #7a9df8;\n",
       "            color:  #000000;\n",
       "        }#T_3d01cb90_30e7_11eb_8d70_983b8fd83181row14_col3{\n",
       "            background-color:  #aac7fd;\n",
       "            color:  #000000;\n",
       "        }#T_3d01cb90_30e7_11eb_8d70_983b8fd83181row14_col5,#T_3d01cb90_30e7_11eb_8d70_983b8fd83181row14_col10,#T_3d01cb90_30e7_11eb_8d70_983b8fd83181row17_col0,#T_3d01cb90_30e7_11eb_8d70_983b8fd83181row18_col12,#T_3d01cb90_30e7_11eb_8d70_983b8fd83181row19_col7{\n",
       "            background-color:  #86a9fc;\n",
       "            color:  #000000;\n",
       "        }#T_3d01cb90_30e7_11eb_8d70_983b8fd83181row14_col6{\n",
       "            background-color:  #93b5fe;\n",
       "            color:  #000000;\n",
       "        }#T_3d01cb90_30e7_11eb_8d70_983b8fd83181row14_col9,#T_3d01cb90_30e7_11eb_8d70_983b8fd83181row17_col4{\n",
       "            background-color:  #4c66d6;\n",
       "            color:  #000000;\n",
       "        }#T_3d01cb90_30e7_11eb_8d70_983b8fd83181row14_col18{\n",
       "            background-color:  #a3c2fe;\n",
       "            color:  #000000;\n",
       "        }#T_3d01cb90_30e7_11eb_8d70_983b8fd83181row15_col2{\n",
       "            background-color:  #e1dad6;\n",
       "            color:  #000000;\n",
       "        }#T_3d01cb90_30e7_11eb_8d70_983b8fd83181row15_col3{\n",
       "            background-color:  #9ebeff;\n",
       "            color:  #000000;\n",
       "        }#T_3d01cb90_30e7_11eb_8d70_983b8fd83181row16_col0,#T_3d01cb90_30e7_11eb_8d70_983b8fd83181row16_col15,#T_3d01cb90_30e7_11eb_8d70_983b8fd83181row18_col14{\n",
       "            background-color:  #89acfd;\n",
       "            color:  #000000;\n",
       "        }#T_3d01cb90_30e7_11eb_8d70_983b8fd83181row16_col2{\n",
       "            background-color:  #a5c3fe;\n",
       "            color:  #000000;\n",
       "        }#T_3d01cb90_30e7_11eb_8d70_983b8fd83181row17_col2{\n",
       "            background-color:  #dadce0;\n",
       "            color:  #000000;\n",
       "        }#T_3d01cb90_30e7_11eb_8d70_983b8fd83181row17_col8{\n",
       "            background-color:  #bad0f8;\n",
       "            color:  #000000;\n",
       "        }#T_3d01cb90_30e7_11eb_8d70_983b8fd83181row17_col15{\n",
       "            background-color:  #a1c0ff;\n",
       "            color:  #000000;\n",
       "        }#T_3d01cb90_30e7_11eb_8d70_983b8fd83181row18_col2{\n",
       "            background-color:  #adc9fd;\n",
       "            color:  #000000;\n",
       "        }#T_3d01cb90_30e7_11eb_8d70_983b8fd83181row19_col17{\n",
       "            background-color:  #9fbfff;\n",
       "            color:  #000000;\n",
       "        }</style><table id=\"T_3d01cb90_30e7_11eb_8d70_983b8fd83181\" ><thead>    <tr>        <th class=\"blank level0\" ></th>        <th class=\"col_heading level0 col0\" >is_canceled</th>        <th class=\"col_heading level0 col1\" >lead_time</th>        <th class=\"col_heading level0 col2\" >arrival_date_year</th>        <th class=\"col_heading level0 col3\" >arrival_date_week_number</th>        <th class=\"col_heading level0 col4\" >arrival_date_day_of_month</th>        <th class=\"col_heading level0 col5\" >stays_in_weekend_nights</th>        <th class=\"col_heading level0 col6\" >stays_in_week_nights</th>        <th class=\"col_heading level0 col7\" >adults</th>        <th class=\"col_heading level0 col8\" >children</th>        <th class=\"col_heading level0 col9\" >babies</th>        <th class=\"col_heading level0 col10\" >is_repeated_guest</th>        <th class=\"col_heading level0 col11\" >previous_cancellations</th>        <th class=\"col_heading level0 col12\" >previous_bookings_not_canceled</th>        <th class=\"col_heading level0 col13\" >booking_changes</th>        <th class=\"col_heading level0 col14\" >agent</th>        <th class=\"col_heading level0 col15\" >company</th>        <th class=\"col_heading level0 col16\" >days_in_waiting_list</th>        <th class=\"col_heading level0 col17\" >adr</th>        <th class=\"col_heading level0 col18\" >required_car_parking_spaces</th>        <th class=\"col_heading level0 col19\" >total_of_special_requests</th>    </tr></thead><tbody>\n",
       "                <tr>\n",
       "                        <th id=\"T_3d01cb90_30e7_11eb_8d70_983b8fd83181level0_row0\" class=\"row_heading level0 row0\" >is_canceled</th>\n",
       "                        <td id=\"T_3d01cb90_30e7_11eb_8d70_983b8fd83181row0_col0\" class=\"data row0 col0\" >1.000000</td>\n",
       "                        <td id=\"T_3d01cb90_30e7_11eb_8d70_983b8fd83181row0_col1\" class=\"data row0 col1\" >0.300322</td>\n",
       "                        <td id=\"T_3d01cb90_30e7_11eb_8d70_983b8fd83181row0_col2\" class=\"data row0 col2\" >0.024577</td>\n",
       "                        <td id=\"T_3d01cb90_30e7_11eb_8d70_983b8fd83181row0_col3\" class=\"data row0 col3\" >-0.002117</td>\n",
       "                        <td id=\"T_3d01cb90_30e7_11eb_8d70_983b8fd83181row0_col4\" class=\"data row0 col4\" >-0.009072</td>\n",
       "                        <td id=\"T_3d01cb90_30e7_11eb_8d70_983b8fd83181row0_col5\" class=\"data row0 col5\" >-0.006372</td>\n",
       "                        <td id=\"T_3d01cb90_30e7_11eb_8d70_983b8fd83181row0_col6\" class=\"data row0 col6\" >0.019155</td>\n",
       "                        <td id=\"T_3d01cb90_30e7_11eb_8d70_983b8fd83181row0_col7\" class=\"data row0 col7\" >0.068910</td>\n",
       "                        <td id=\"T_3d01cb90_30e7_11eb_8d70_983b8fd83181row0_col8\" class=\"data row0 col8\" >0.013710</td>\n",
       "                        <td id=\"T_3d01cb90_30e7_11eb_8d70_983b8fd83181row0_col9\" class=\"data row0 col9\" >-0.030521</td>\n",
       "                        <td id=\"T_3d01cb90_30e7_11eb_8d70_983b8fd83181row0_col10\" class=\"data row0 col10\" >-0.079520</td>\n",
       "                        <td id=\"T_3d01cb90_30e7_11eb_8d70_983b8fd83181row0_col11\" class=\"data row0 col11\" >0.105622</td>\n",
       "                        <td id=\"T_3d01cb90_30e7_11eb_8d70_983b8fd83181row0_col12\" class=\"data row0 col12\" >-0.070294</td>\n",
       "                        <td id=\"T_3d01cb90_30e7_11eb_8d70_983b8fd83181row0_col13\" class=\"data row0 col13\" >-0.126024</td>\n",
       "                        <td id=\"T_3d01cb90_30e7_11eb_8d70_983b8fd83181row0_col14\" class=\"data row0 col14\" >-0.083498</td>\n",
       "                        <td id=\"T_3d01cb90_30e7_11eb_8d70_983b8fd83181row0_col15\" class=\"data row0 col15\" >0.022658</td>\n",
       "                        <td id=\"T_3d01cb90_30e7_11eb_8d70_983b8fd83181row0_col16\" class=\"data row0 col16\" >0.057597</td>\n",
       "                        <td id=\"T_3d01cb90_30e7_11eb_8d70_983b8fd83181row0_col17\" class=\"data row0 col17\" >0.049155</td>\n",
       "                        <td id=\"T_3d01cb90_30e7_11eb_8d70_983b8fd83181row0_col18\" class=\"data row0 col18\" >-0.202595</td>\n",
       "                        <td id=\"T_3d01cb90_30e7_11eb_8d70_983b8fd83181row0_col19\" class=\"data row0 col19\" >-0.238465</td>\n",
       "            </tr>\n",
       "            <tr>\n",
       "                        <th id=\"T_3d01cb90_30e7_11eb_8d70_983b8fd83181level0_row1\" class=\"row_heading level0 row1\" >lead_time</th>\n",
       "                        <td id=\"T_3d01cb90_30e7_11eb_8d70_983b8fd83181row1_col0\" class=\"data row1 col0\" >0.300322</td>\n",
       "                        <td id=\"T_3d01cb90_30e7_11eb_8d70_983b8fd83181row1_col1\" class=\"data row1 col1\" >1.000000</td>\n",
       "                        <td id=\"T_3d01cb90_30e7_11eb_8d70_983b8fd83181row1_col2\" class=\"data row1 col2\" >0.039142</td>\n",
       "                        <td id=\"T_3d01cb90_30e7_11eb_8d70_983b8fd83181row1_col3\" class=\"data row1 col3\" >0.125362</td>\n",
       "                        <td id=\"T_3d01cb90_30e7_11eb_8d70_983b8fd83181row1_col4\" class=\"data row1 col4\" >-0.002752</td>\n",
       "                        <td id=\"T_3d01cb90_30e7_11eb_8d70_983b8fd83181row1_col5\" class=\"data row1 col5\" >0.093504</td>\n",
       "                        <td id=\"T_3d01cb90_30e7_11eb_8d70_983b8fd83181row1_col6\" class=\"data row1 col6\" >0.172592</td>\n",
       "                        <td id=\"T_3d01cb90_30e7_11eb_8d70_983b8fd83181row1_col7\" class=\"data row1 col7\" >0.123425</td>\n",
       "                        <td id=\"T_3d01cb90_30e7_11eb_8d70_983b8fd83181row1_col8\" class=\"data row1 col8\" >-0.039498</td>\n",
       "                        <td id=\"T_3d01cb90_30e7_11eb_8d70_983b8fd83181row1_col9\" class=\"data row1 col9\" >-0.015174</td>\n",
       "                        <td id=\"T_3d01cb90_30e7_11eb_8d70_983b8fd83181row1_col10\" class=\"data row1 col10\" >-0.116012</td>\n",
       "                        <td id=\"T_3d01cb90_30e7_11eb_8d70_983b8fd83181row1_col11\" class=\"data row1 col11\" >0.081086</td>\n",
       "                        <td id=\"T_3d01cb90_30e7_11eb_8d70_983b8fd83181row1_col12\" class=\"data row1 col12\" >-0.084707</td>\n",
       "                        <td id=\"T_3d01cb90_30e7_11eb_8d70_983b8fd83181row1_col13\" class=\"data row1 col13\" >0.003191</td>\n",
       "                        <td id=\"T_3d01cb90_30e7_11eb_8d70_983b8fd83181row1_col14\" class=\"data row1 col14\" >-0.074082</td>\n",
       "                        <td id=\"T_3d01cb90_30e7_11eb_8d70_983b8fd83181row1_col15\" class=\"data row1 col15\" >0.168360</td>\n",
       "                        <td id=\"T_3d01cb90_30e7_11eb_8d70_983b8fd83181row1_col16\" class=\"data row1 col16\" >0.165606</td>\n",
       "                        <td id=\"T_3d01cb90_30e7_11eb_8d70_983b8fd83181row1_col17\" class=\"data row1 col17\" >-0.064772</td>\n",
       "                        <td id=\"T_3d01cb90_30e7_11eb_8d70_983b8fd83181row1_col18\" class=\"data row1 col18\" >-0.119927</td>\n",
       "                        <td id=\"T_3d01cb90_30e7_11eb_8d70_983b8fd83181row1_col19\" class=\"data row1 col19\" >-0.103249</td>\n",
       "            </tr>\n",
       "            <tr>\n",
       "                        <th id=\"T_3d01cb90_30e7_11eb_8d70_983b8fd83181level0_row2\" class=\"row_heading level0 row2\" >arrival_date_year</th>\n",
       "                        <td id=\"T_3d01cb90_30e7_11eb_8d70_983b8fd83181row2_col0\" class=\"data row2 col0\" >0.024577</td>\n",
       "                        <td id=\"T_3d01cb90_30e7_11eb_8d70_983b8fd83181row2_col1\" class=\"data row2 col1\" >0.039142</td>\n",
       "                        <td id=\"T_3d01cb90_30e7_11eb_8d70_983b8fd83181row2_col2\" class=\"data row2 col2\" >1.000000</td>\n",
       "                        <td id=\"T_3d01cb90_30e7_11eb_8d70_983b8fd83181row2_col3\" class=\"data row2 col3\" >-0.539884</td>\n",
       "                        <td id=\"T_3d01cb90_30e7_11eb_8d70_983b8fd83181row2_col4\" class=\"data row2 col4\" >-0.001400</td>\n",
       "                        <td id=\"T_3d01cb90_30e7_11eb_8d70_983b8fd83181row2_col5\" class=\"data row2 col5\" >0.028002</td>\n",
       "                        <td id=\"T_3d01cb90_30e7_11eb_8d70_983b8fd83181row2_col6\" class=\"data row2 col6\" >0.042828</td>\n",
       "                        <td id=\"T_3d01cb90_30e7_11eb_8d70_983b8fd83181row2_col7\" class=\"data row2 col7\" >0.028113</td>\n",
       "                        <td id=\"T_3d01cb90_30e7_11eb_8d70_983b8fd83181row2_col8\" class=\"data row2 col8\" >0.056933</td>\n",
       "                        <td id=\"T_3d01cb90_30e7_11eb_8d70_983b8fd83181row2_col9\" class=\"data row2 col9\" >-0.009332</td>\n",
       "                        <td id=\"T_3d01cb90_30e7_11eb_8d70_983b8fd83181row2_col10\" class=\"data row2 col10\" >-0.007453</td>\n",
       "                        <td id=\"T_3d01cb90_30e7_11eb_8d70_983b8fd83181row2_col11\" class=\"data row2 col11\" >-0.122741</td>\n",
       "                        <td id=\"T_3d01cb90_30e7_11eb_8d70_983b8fd83181row2_col12\" class=\"data row2 col12\" >0.029414</td>\n",
       "                        <td id=\"T_3d01cb90_30e7_11eb_8d70_983b8fd83181row2_col13\" class=\"data row2 col13\" >0.035844</td>\n",
       "                        <td id=\"T_3d01cb90_30e7_11eb_8d70_983b8fd83181row2_col14\" class=\"data row2 col14\" >0.073102</td>\n",
       "                        <td id=\"T_3d01cb90_30e7_11eb_8d70_983b8fd83181row2_col15\" class=\"data row2 col15\" >0.259735</td>\n",
       "                        <td id=\"T_3d01cb90_30e7_11eb_8d70_983b8fd83181row2_col16\" class=\"data row2 col16\" >-0.050217</td>\n",
       "                        <td id=\"T_3d01cb90_30e7_11eb_8d70_983b8fd83181row2_col17\" class=\"data row2 col17\" >0.217300</td>\n",
       "                        <td id=\"T_3d01cb90_30e7_11eb_8d70_983b8fd83181row2_col18\" class=\"data row2 col18\" >-0.011788</td>\n",
       "                        <td id=\"T_3d01cb90_30e7_11eb_8d70_983b8fd83181row2_col19\" class=\"data row2 col19\" >0.104497</td>\n",
       "            </tr>\n",
       "            <tr>\n",
       "                        <th id=\"T_3d01cb90_30e7_11eb_8d70_983b8fd83181level0_row3\" class=\"row_heading level0 row3\" >arrival_date_week_number</th>\n",
       "                        <td id=\"T_3d01cb90_30e7_11eb_8d70_983b8fd83181row3_col0\" class=\"data row3 col0\" >-0.002117</td>\n",
       "                        <td id=\"T_3d01cb90_30e7_11eb_8d70_983b8fd83181row3_col1\" class=\"data row3 col1\" >0.125362</td>\n",
       "                        <td id=\"T_3d01cb90_30e7_11eb_8d70_983b8fd83181row3_col2\" class=\"data row3 col2\" >-0.539884</td>\n",
       "                        <td id=\"T_3d01cb90_30e7_11eb_8d70_983b8fd83181row3_col3\" class=\"data row3 col3\" >1.000000</td>\n",
       "                        <td id=\"T_3d01cb90_30e7_11eb_8d70_983b8fd83181row3_col4\" class=\"data row3 col4\" >0.064799</td>\n",
       "                        <td id=\"T_3d01cb90_30e7_11eb_8d70_983b8fd83181row3_col5\" class=\"data row3 col5\" >0.018045</td>\n",
       "                        <td id=\"T_3d01cb90_30e7_11eb_8d70_983b8fd83181row3_col6\" class=\"data row3 col6\" >0.011346</td>\n",
       "                        <td id=\"T_3d01cb90_30e7_11eb_8d70_983b8fd83181row3_col7\" class=\"data row3 col7\" >0.029802</td>\n",
       "                        <td id=\"T_3d01cb90_30e7_11eb_8d70_983b8fd83181row3_col8\" class=\"data row3 col8\" >-0.002981</td>\n",
       "                        <td id=\"T_3d01cb90_30e7_11eb_8d70_983b8fd83181row3_col9\" class=\"data row3 col9\" >0.004690</td>\n",
       "                        <td id=\"T_3d01cb90_30e7_11eb_8d70_983b8fd83181row3_col10\" class=\"data row3 col10\" >-0.040559</td>\n",
       "                        <td id=\"T_3d01cb90_30e7_11eb_8d70_983b8fd83181row3_col11\" class=\"data row3 col11\" >0.029336</td>\n",
       "                        <td id=\"T_3d01cb90_30e7_11eb_8d70_983b8fd83181row3_col12\" class=\"data row3 col12\" >-0.030383</td>\n",
       "                        <td id=\"T_3d01cb90_30e7_11eb_8d70_983b8fd83181row3_col13\" class=\"data row3 col13\" >-0.002817</td>\n",
       "                        <td id=\"T_3d01cb90_30e7_11eb_8d70_983b8fd83181row3_col14\" class=\"data row3 col14\" >-0.028062</td>\n",
       "                        <td id=\"T_3d01cb90_30e7_11eb_8d70_983b8fd83181row3_col15\" class=\"data row3 col15\" >-0.078391</td>\n",
       "                        <td id=\"T_3d01cb90_30e7_11eb_8d70_983b8fd83181row3_col16\" class=\"data row3 col16\" >0.011536</td>\n",
       "                        <td id=\"T_3d01cb90_30e7_11eb_8d70_983b8fd83181row3_col17\" class=\"data row3 col17\" >0.069965</td>\n",
       "                        <td id=\"T_3d01cb90_30e7_11eb_8d70_983b8fd83181row3_col18\" class=\"data row3 col18\" >-0.000309</td>\n",
       "                        <td id=\"T_3d01cb90_30e7_11eb_8d70_983b8fd83181row3_col19\" class=\"data row3 col19\" >0.023936</td>\n",
       "            </tr>\n",
       "            <tr>\n",
       "                        <th id=\"T_3d01cb90_30e7_11eb_8d70_983b8fd83181level0_row4\" class=\"row_heading level0 row4\" >arrival_date_day_of_month</th>\n",
       "                        <td id=\"T_3d01cb90_30e7_11eb_8d70_983b8fd83181row4_col0\" class=\"data row4 col0\" >-0.009072</td>\n",
       "                        <td id=\"T_3d01cb90_30e7_11eb_8d70_983b8fd83181row4_col1\" class=\"data row4 col1\" >-0.002752</td>\n",
       "                        <td id=\"T_3d01cb90_30e7_11eb_8d70_983b8fd83181row4_col2\" class=\"data row4 col2\" >-0.001400</td>\n",
       "                        <td id=\"T_3d01cb90_30e7_11eb_8d70_983b8fd83181row4_col3\" class=\"data row4 col3\" >0.064799</td>\n",
       "                        <td id=\"T_3d01cb90_30e7_11eb_8d70_983b8fd83181row4_col4\" class=\"data row4 col4\" >1.000000</td>\n",
       "                        <td id=\"T_3d01cb90_30e7_11eb_8d70_983b8fd83181row4_col5\" class=\"data row4 col5\" >-0.031836</td>\n",
       "                        <td id=\"T_3d01cb90_30e7_11eb_8d70_983b8fd83181row4_col6\" class=\"data row4 col6\" >-0.027325</td>\n",
       "                        <td id=\"T_3d01cb90_30e7_11eb_8d70_983b8fd83181row4_col7\" class=\"data row4 col7\" >0.009958</td>\n",
       "                        <td id=\"T_3d01cb90_30e7_11eb_8d70_983b8fd83181row4_col8\" class=\"data row4 col8\" >-0.000346</td>\n",
       "                        <td id=\"T_3d01cb90_30e7_11eb_8d70_983b8fd83181row4_col9\" class=\"data row4 col9\" >-0.008105</td>\n",
       "                        <td id=\"T_3d01cb90_30e7_11eb_8d70_983b8fd83181row4_col10\" class=\"data row4 col10\" >-0.004933</td>\n",
       "                        <td id=\"T_3d01cb90_30e7_11eb_8d70_983b8fd83181row4_col11\" class=\"data row4 col11\" >-0.020335</td>\n",
       "                        <td id=\"T_3d01cb90_30e7_11eb_8d70_983b8fd83181row4_col12\" class=\"data row4 col12\" >0.011733</td>\n",
       "                        <td id=\"T_3d01cb90_30e7_11eb_8d70_983b8fd83181row4_col13\" class=\"data row4 col13\" >0.017864</td>\n",
       "                        <td id=\"T_3d01cb90_30e7_11eb_8d70_983b8fd83181row4_col14\" class=\"data row4 col14\" >0.013063</td>\n",
       "                        <td id=\"T_3d01cb90_30e7_11eb_8d70_983b8fd83181row4_col15\" class=\"data row4 col15\" >0.037240</td>\n",
       "                        <td id=\"T_3d01cb90_30e7_11eb_8d70_983b8fd83181row4_col16\" class=\"data row4 col16\" >0.034493</td>\n",
       "                        <td id=\"T_3d01cb90_30e7_11eb_8d70_983b8fd83181row4_col17\" class=\"data row4 col17\" >0.030133</td>\n",
       "                        <td id=\"T_3d01cb90_30e7_11eb_8d70_983b8fd83181row4_col18\" class=\"data row4 col18\" >0.005841</td>\n",
       "                        <td id=\"T_3d01cb90_30e7_11eb_8d70_983b8fd83181row4_col19\" class=\"data row4 col19\" >-0.003962</td>\n",
       "            </tr>\n",
       "            <tr>\n",
       "                        <th id=\"T_3d01cb90_30e7_11eb_8d70_983b8fd83181level0_row5\" class=\"row_heading level0 row5\" >stays_in_weekend_nights</th>\n",
       "                        <td id=\"T_3d01cb90_30e7_11eb_8d70_983b8fd83181row5_col0\" class=\"data row5 col0\" >-0.006372</td>\n",
       "                        <td id=\"T_3d01cb90_30e7_11eb_8d70_983b8fd83181row5_col1\" class=\"data row5 col1\" >0.093504</td>\n",
       "                        <td id=\"T_3d01cb90_30e7_11eb_8d70_983b8fd83181row5_col2\" class=\"data row5 col2\" >0.028002</td>\n",
       "                        <td id=\"T_3d01cb90_30e7_11eb_8d70_983b8fd83181row5_col3\" class=\"data row5 col3\" >0.018045</td>\n",
       "                        <td id=\"T_3d01cb90_30e7_11eb_8d70_983b8fd83181row5_col4\" class=\"data row5 col4\" >-0.031836</td>\n",
       "                        <td id=\"T_3d01cb90_30e7_11eb_8d70_983b8fd83181row5_col5\" class=\"data row5 col5\" >1.000000</td>\n",
       "                        <td id=\"T_3d01cb90_30e7_11eb_8d70_983b8fd83181row5_col6\" class=\"data row5 col6\" >0.496751</td>\n",
       "                        <td id=\"T_3d01cb90_30e7_11eb_8d70_983b8fd83181row5_col7\" class=\"data row5 col7\" >0.090233</td>\n",
       "                        <td id=\"T_3d01cb90_30e7_11eb_8d70_983b8fd83181row5_col8\" class=\"data row5 col8\" >0.048036</td>\n",
       "                        <td id=\"T_3d01cb90_30e7_11eb_8d70_983b8fd83181row5_col9\" class=\"data row5 col9\" >0.023855</td>\n",
       "                        <td id=\"T_3d01cb90_30e7_11eb_8d70_983b8fd83181row5_col10\" class=\"data row5 col10\" >-0.088915</td>\n",
       "                        <td id=\"T_3d01cb90_30e7_11eb_8d70_983b8fd83181row5_col11\" class=\"data row5 col11\" >-0.017917</td>\n",
       "                        <td id=\"T_3d01cb90_30e7_11eb_8d70_983b8fd83181row5_col12\" class=\"data row5 col12\" >-0.055550</td>\n",
       "                        <td id=\"T_3d01cb90_30e7_11eb_8d70_983b8fd83181row5_col13\" class=\"data row5 col13\" >0.043907</td>\n",
       "                        <td id=\"T_3d01cb90_30e7_11eb_8d70_983b8fd83181row5_col14\" class=\"data row5 col14\" >0.162056</td>\n",
       "                        <td id=\"T_3d01cb90_30e7_11eb_8d70_983b8fd83181row5_col15\" class=\"data row5 col15\" >0.080099</td>\n",
       "                        <td id=\"T_3d01cb90_30e7_11eb_8d70_983b8fd83181row5_col16\" class=\"data row5 col16\" >-0.065167</td>\n",
       "                        <td id=\"T_3d01cb90_30e7_11eb_8d70_983b8fd83181row5_col17\" class=\"data row5 col17\" >0.062446</td>\n",
       "                        <td id=\"T_3d01cb90_30e7_11eb_8d70_983b8fd83181row5_col18\" class=\"data row5 col18\" >-0.017652</td>\n",
       "                        <td id=\"T_3d01cb90_30e7_11eb_8d70_983b8fd83181row5_col19\" class=\"data row5 col19\" >0.070293</td>\n",
       "            </tr>\n",
       "            <tr>\n",
       "                        <th id=\"T_3d01cb90_30e7_11eb_8d70_983b8fd83181level0_row6\" class=\"row_heading level0 row6\" >stays_in_week_nights</th>\n",
       "                        <td id=\"T_3d01cb90_30e7_11eb_8d70_983b8fd83181row6_col0\" class=\"data row6 col0\" >0.019155</td>\n",
       "                        <td id=\"T_3d01cb90_30e7_11eb_8d70_983b8fd83181row6_col1\" class=\"data row6 col1\" >0.172592</td>\n",
       "                        <td id=\"T_3d01cb90_30e7_11eb_8d70_983b8fd83181row6_col2\" class=\"data row6 col2\" >0.042828</td>\n",
       "                        <td id=\"T_3d01cb90_30e7_11eb_8d70_983b8fd83181row6_col3\" class=\"data row6 col3\" >0.011346</td>\n",
       "                        <td id=\"T_3d01cb90_30e7_11eb_8d70_983b8fd83181row6_col4\" class=\"data row6 col4\" >-0.027325</td>\n",
       "                        <td id=\"T_3d01cb90_30e7_11eb_8d70_983b8fd83181row6_col5\" class=\"data row6 col5\" >0.496751</td>\n",
       "                        <td id=\"T_3d01cb90_30e7_11eb_8d70_983b8fd83181row6_col6\" class=\"data row6 col6\" >1.000000</td>\n",
       "                        <td id=\"T_3d01cb90_30e7_11eb_8d70_983b8fd83181row6_col7\" class=\"data row6 col7\" >0.089143</td>\n",
       "                        <td id=\"T_3d01cb90_30e7_11eb_8d70_983b8fd83181row6_col8\" class=\"data row6 col8\" >0.039615</td>\n",
       "                        <td id=\"T_3d01cb90_30e7_11eb_8d70_983b8fd83181row6_col9\" class=\"data row6 col9\" >0.040191</td>\n",
       "                        <td id=\"T_3d01cb90_30e7_11eb_8d70_983b8fd83181row6_col10\" class=\"data row6 col10\" >-0.097247</td>\n",
       "                        <td id=\"T_3d01cb90_30e7_11eb_8d70_983b8fd83181row6_col11\" class=\"data row6 col11\" >-0.018070</td>\n",
       "                        <td id=\"T_3d01cb90_30e7_11eb_8d70_983b8fd83181row6_col12\" class=\"data row6 col12\" >-0.053741</td>\n",
       "                        <td id=\"T_3d01cb90_30e7_11eb_8d70_983b8fd83181row6_col13\" class=\"data row6 col13\" >0.090570</td>\n",
       "                        <td id=\"T_3d01cb90_30e7_11eb_8d70_983b8fd83181row6_col14\" class=\"data row6 col14\" >0.197426</td>\n",
       "                        <td id=\"T_3d01cb90_30e7_11eb_8d70_983b8fd83181row6_col15\" class=\"data row6 col15\" >0.199179</td>\n",
       "                        <td id=\"T_3d01cb90_30e7_11eb_8d70_983b8fd83181row6_col16\" class=\"data row6 col16\" >-0.003306</td>\n",
       "                        <td id=\"T_3d01cb90_30e7_11eb_8d70_983b8fd83181row6_col17\" class=\"data row6 col17\" >0.063893</td>\n",
       "                        <td id=\"T_3d01cb90_30e7_11eb_8d70_983b8fd83181row6_col18\" class=\"data row6 col18\" >-0.016310</td>\n",
       "                        <td id=\"T_3d01cb90_30e7_11eb_8d70_983b8fd83181row6_col19\" class=\"data row6 col19\" >0.067509</td>\n",
       "            </tr>\n",
       "            <tr>\n",
       "                        <th id=\"T_3d01cb90_30e7_11eb_8d70_983b8fd83181level0_row7\" class=\"row_heading level0 row7\" >adults</th>\n",
       "                        <td id=\"T_3d01cb90_30e7_11eb_8d70_983b8fd83181row7_col0\" class=\"data row7 col0\" >0.068910</td>\n",
       "                        <td id=\"T_3d01cb90_30e7_11eb_8d70_983b8fd83181row7_col1\" class=\"data row7 col1\" >0.123425</td>\n",
       "                        <td id=\"T_3d01cb90_30e7_11eb_8d70_983b8fd83181row7_col2\" class=\"data row7 col2\" >0.028113</td>\n",
       "                        <td id=\"T_3d01cb90_30e7_11eb_8d70_983b8fd83181row7_col3\" class=\"data row7 col3\" >0.029802</td>\n",
       "                        <td id=\"T_3d01cb90_30e7_11eb_8d70_983b8fd83181row7_col4\" class=\"data row7 col4\" >0.009958</td>\n",
       "                        <td id=\"T_3d01cb90_30e7_11eb_8d70_983b8fd83181row7_col5\" class=\"data row7 col5\" >0.090233</td>\n",
       "                        <td id=\"T_3d01cb90_30e7_11eb_8d70_983b8fd83181row7_col6\" class=\"data row7 col6\" >0.089143</td>\n",
       "                        <td id=\"T_3d01cb90_30e7_11eb_8d70_983b8fd83181row7_col7\" class=\"data row7 col7\" >1.000000</td>\n",
       "                        <td id=\"T_3d01cb90_30e7_11eb_8d70_983b8fd83181row7_col8\" class=\"data row7 col8\" >0.042151</td>\n",
       "                        <td id=\"T_3d01cb90_30e7_11eb_8d70_983b8fd83181row7_col9\" class=\"data row7 col9\" >0.013161</td>\n",
       "                        <td id=\"T_3d01cb90_30e7_11eb_8d70_983b8fd83181row7_col10\" class=\"data row7 col10\" >-0.147407</td>\n",
       "                        <td id=\"T_3d01cb90_30e7_11eb_8d70_983b8fd83181row7_col11\" class=\"data row7 col11\" >-0.005715</td>\n",
       "                        <td id=\"T_3d01cb90_30e7_11eb_8d70_983b8fd83181row7_col12\" class=\"data row7 col12\" >-0.127632</td>\n",
       "                        <td id=\"T_3d01cb90_30e7_11eb_8d70_983b8fd83181row7_col13\" class=\"data row7 col13\" >-0.033894</td>\n",
       "                        <td id=\"T_3d01cb90_30e7_11eb_8d70_983b8fd83181row7_col14\" class=\"data row7 col14\" >-0.044185</td>\n",
       "                        <td id=\"T_3d01cb90_30e7_11eb_8d70_983b8fd83181row7_col15\" class=\"data row7 col15\" >0.227391</td>\n",
       "                        <td id=\"T_3d01cb90_30e7_11eb_8d70_983b8fd83181row7_col16\" class=\"data row7 col16\" >-0.010477</td>\n",
       "                        <td id=\"T_3d01cb90_30e7_11eb_8d70_983b8fd83181row7_col17\" class=\"data row7 col17\" >0.247537</td>\n",
       "                        <td id=\"T_3d01cb90_30e7_11eb_8d70_983b8fd83181row7_col18\" class=\"data row7 col18\" >0.010616</td>\n",
       "                        <td id=\"T_3d01cb90_30e7_11eb_8d70_983b8fd83181row7_col19\" class=\"data row7 col19\" >0.119568</td>\n",
       "            </tr>\n",
       "            <tr>\n",
       "                        <th id=\"T_3d01cb90_30e7_11eb_8d70_983b8fd83181level0_row8\" class=\"row_heading level0 row8\" >children</th>\n",
       "                        <td id=\"T_3d01cb90_30e7_11eb_8d70_983b8fd83181row8_col0\" class=\"data row8 col0\" >0.013710</td>\n",
       "                        <td id=\"T_3d01cb90_30e7_11eb_8d70_983b8fd83181row8_col1\" class=\"data row8 col1\" >-0.039498</td>\n",
       "                        <td id=\"T_3d01cb90_30e7_11eb_8d70_983b8fd83181row8_col2\" class=\"data row8 col2\" >0.056933</td>\n",
       "                        <td id=\"T_3d01cb90_30e7_11eb_8d70_983b8fd83181row8_col3\" class=\"data row8 col3\" >-0.002981</td>\n",
       "                        <td id=\"T_3d01cb90_30e7_11eb_8d70_983b8fd83181row8_col4\" class=\"data row8 col4\" >-0.000346</td>\n",
       "                        <td id=\"T_3d01cb90_30e7_11eb_8d70_983b8fd83181row8_col5\" class=\"data row8 col5\" >0.048036</td>\n",
       "                        <td id=\"T_3d01cb90_30e7_11eb_8d70_983b8fd83181row8_col6\" class=\"data row8 col6\" >0.039615</td>\n",
       "                        <td id=\"T_3d01cb90_30e7_11eb_8d70_983b8fd83181row8_col7\" class=\"data row8 col7\" >0.042151</td>\n",
       "                        <td id=\"T_3d01cb90_30e7_11eb_8d70_983b8fd83181row8_col8\" class=\"data row8 col8\" >1.000000</td>\n",
       "                        <td id=\"T_3d01cb90_30e7_11eb_8d70_983b8fd83181row8_col9\" class=\"data row8 col9\" >0.046815</td>\n",
       "                        <td id=\"T_3d01cb90_30e7_11eb_8d70_983b8fd83181row8_col10\" class=\"data row8 col10\" >-0.038558</td>\n",
       "                        <td id=\"T_3d01cb90_30e7_11eb_8d70_983b8fd83181row8_col11\" class=\"data row8 col11\" >-0.027081</td>\n",
       "                        <td id=\"T_3d01cb90_30e7_11eb_8d70_983b8fd83181row8_col12\" class=\"data row8 col12\" >-0.025207</td>\n",
       "                        <td id=\"T_3d01cb90_30e7_11eb_8d70_983b8fd83181row8_col13\" class=\"data row8 col13\" >0.052975</td>\n",
       "                        <td id=\"T_3d01cb90_30e7_11eb_8d70_983b8fd83181row8_col14\" class=\"data row8 col14\" >0.037633</td>\n",
       "                        <td id=\"T_3d01cb90_30e7_11eb_8d70_983b8fd83181row8_col15\" class=\"data row8 col15\" >0.002325</td>\n",
       "                        <td id=\"T_3d01cb90_30e7_11eb_8d70_983b8fd83181row8_col16\" class=\"data row8 col16\" >-0.033715</td>\n",
       "                        <td id=\"T_3d01cb90_30e7_11eb_8d70_983b8fd83181row8_col17\" class=\"data row8 col17\" >0.354569</td>\n",
       "                        <td id=\"T_3d01cb90_30e7_11eb_8d70_983b8fd83181row8_col18\" class=\"data row8 col18\" >0.029514</td>\n",
       "                        <td id=\"T_3d01cb90_30e7_11eb_8d70_983b8fd83181row8_col19\" class=\"data row8 col19\" >0.100985</td>\n",
       "            </tr>\n",
       "            <tr>\n",
       "                        <th id=\"T_3d01cb90_30e7_11eb_8d70_983b8fd83181level0_row9\" class=\"row_heading level0 row9\" >babies</th>\n",
       "                        <td id=\"T_3d01cb90_30e7_11eb_8d70_983b8fd83181row9_col0\" class=\"data row9 col0\" >-0.030521</td>\n",
       "                        <td id=\"T_3d01cb90_30e7_11eb_8d70_983b8fd83181row9_col1\" class=\"data row9 col1\" >-0.015174</td>\n",
       "                        <td id=\"T_3d01cb90_30e7_11eb_8d70_983b8fd83181row9_col2\" class=\"data row9 col2\" >-0.009332</td>\n",
       "                        <td id=\"T_3d01cb90_30e7_11eb_8d70_983b8fd83181row9_col3\" class=\"data row9 col3\" >0.004690</td>\n",
       "                        <td id=\"T_3d01cb90_30e7_11eb_8d70_983b8fd83181row9_col4\" class=\"data row9 col4\" >-0.008105</td>\n",
       "                        <td id=\"T_3d01cb90_30e7_11eb_8d70_983b8fd83181row9_col5\" class=\"data row9 col5\" >0.023855</td>\n",
       "                        <td id=\"T_3d01cb90_30e7_11eb_8d70_983b8fd83181row9_col6\" class=\"data row9 col6\" >0.040191</td>\n",
       "                        <td id=\"T_3d01cb90_30e7_11eb_8d70_983b8fd83181row9_col7\" class=\"data row9 col7\" >0.013161</td>\n",
       "                        <td id=\"T_3d01cb90_30e7_11eb_8d70_983b8fd83181row9_col8\" class=\"data row9 col8\" >0.046815</td>\n",
       "                        <td id=\"T_3d01cb90_30e7_11eb_8d70_983b8fd83181row9_col9\" class=\"data row9 col9\" >1.000000</td>\n",
       "                        <td id=\"T_3d01cb90_30e7_11eb_8d70_983b8fd83181row9_col10\" class=\"data row9 col10\" >-0.010366</td>\n",
       "                        <td id=\"T_3d01cb90_30e7_11eb_8d70_983b8fd83181row9_col11\" class=\"data row9 col11\" >-0.008040</td>\n",
       "                        <td id=\"T_3d01cb90_30e7_11eb_8d70_983b8fd83181row9_col12\" class=\"data row9 col12\" >-0.009082</td>\n",
       "                        <td id=\"T_3d01cb90_30e7_11eb_8d70_983b8fd83181row9_col13\" class=\"data row9 col13\" >0.086219</td>\n",
       "                        <td id=\"T_3d01cb90_30e7_11eb_8d70_983b8fd83181row9_col14\" class=\"data row9 col14\" >0.033853</td>\n",
       "                        <td id=\"T_3d01cb90_30e7_11eb_8d70_983b8fd83181row9_col15\" class=\"data row9 col15\" >-0.023846</td>\n",
       "                        <td id=\"T_3d01cb90_30e7_11eb_8d70_983b8fd83181row9_col16\" class=\"data row9 col16\" >-0.011381</td>\n",
       "                        <td id=\"T_3d01cb90_30e7_11eb_8d70_983b8fd83181row9_col17\" class=\"data row9 col17\" >0.044477</td>\n",
       "                        <td id=\"T_3d01cb90_30e7_11eb_8d70_983b8fd83181row9_col18\" class=\"data row9 col18\" >0.062776</td>\n",
       "                        <td id=\"T_3d01cb90_30e7_11eb_8d70_983b8fd83181row9_col19\" class=\"data row9 col19\" >0.114425</td>\n",
       "            </tr>\n",
       "            <tr>\n",
       "                        <th id=\"T_3d01cb90_30e7_11eb_8d70_983b8fd83181level0_row10\" class=\"row_heading level0 row10\" >is_repeated_guest</th>\n",
       "                        <td id=\"T_3d01cb90_30e7_11eb_8d70_983b8fd83181row10_col0\" class=\"data row10 col0\" >-0.079520</td>\n",
       "                        <td id=\"T_3d01cb90_30e7_11eb_8d70_983b8fd83181row10_col1\" class=\"data row10 col1\" >-0.116012</td>\n",
       "                        <td id=\"T_3d01cb90_30e7_11eb_8d70_983b8fd83181row10_col2\" class=\"data row10 col2\" >-0.007453</td>\n",
       "                        <td id=\"T_3d01cb90_30e7_11eb_8d70_983b8fd83181row10_col3\" class=\"data row10 col3\" >-0.040559</td>\n",
       "                        <td id=\"T_3d01cb90_30e7_11eb_8d70_983b8fd83181row10_col4\" class=\"data row10 col4\" >-0.004933</td>\n",
       "                        <td id=\"T_3d01cb90_30e7_11eb_8d70_983b8fd83181row10_col5\" class=\"data row10 col5\" >-0.088915</td>\n",
       "                        <td id=\"T_3d01cb90_30e7_11eb_8d70_983b8fd83181row10_col6\" class=\"data row10 col6\" >-0.097247</td>\n",
       "                        <td id=\"T_3d01cb90_30e7_11eb_8d70_983b8fd83181row10_col7\" class=\"data row10 col7\" >-0.147407</td>\n",
       "                        <td id=\"T_3d01cb90_30e7_11eb_8d70_983b8fd83181row10_col8\" class=\"data row10 col8\" >-0.038558</td>\n",
       "                        <td id=\"T_3d01cb90_30e7_11eb_8d70_983b8fd83181row10_col9\" class=\"data row10 col9\" >-0.010366</td>\n",
       "                        <td id=\"T_3d01cb90_30e7_11eb_8d70_983b8fd83181row10_col10\" class=\"data row10 col10\" >1.000000</td>\n",
       "                        <td id=\"T_3d01cb90_30e7_11eb_8d70_983b8fd83181row10_col11\" class=\"data row10 col11\" >0.094209</td>\n",
       "                        <td id=\"T_3d01cb90_30e7_11eb_8d70_983b8fd83181row10_col12\" class=\"data row10 col12\" >0.462927</td>\n",
       "                        <td id=\"T_3d01cb90_30e7_11eb_8d70_983b8fd83181row10_col13\" class=\"data row10 col13\" >0.004355</td>\n",
       "                        <td id=\"T_3d01cb90_30e7_11eb_8d70_983b8fd83181row10_col14\" class=\"data row10 col14\" >0.017626</td>\n",
       "                        <td id=\"T_3d01cb90_30e7_11eb_8d70_983b8fd83181row10_col15\" class=\"data row10 col15\" >-0.279978</td>\n",
       "                        <td id=\"T_3d01cb90_30e7_11eb_8d70_983b8fd83181row10_col16\" class=\"data row10 col16\" >-0.018413</td>\n",
       "                        <td id=\"T_3d01cb90_30e7_11eb_8d70_983b8fd83181row10_col17\" class=\"data row10 col17\" >-0.137857</td>\n",
       "                        <td id=\"T_3d01cb90_30e7_11eb_8d70_983b8fd83181row10_col18\" class=\"data row10 col18\" >0.051887</td>\n",
       "                        <td id=\"T_3d01cb90_30e7_11eb_8d70_983b8fd83181row10_col19\" class=\"data row10 col19\" >0.010132</td>\n",
       "            </tr>\n",
       "            <tr>\n",
       "                        <th id=\"T_3d01cb90_30e7_11eb_8d70_983b8fd83181level0_row11\" class=\"row_heading level0 row11\" >previous_cancellations</th>\n",
       "                        <td id=\"T_3d01cb90_30e7_11eb_8d70_983b8fd83181row11_col0\" class=\"data row11 col0\" >0.105622</td>\n",
       "                        <td id=\"T_3d01cb90_30e7_11eb_8d70_983b8fd83181row11_col1\" class=\"data row11 col1\" >0.081086</td>\n",
       "                        <td id=\"T_3d01cb90_30e7_11eb_8d70_983b8fd83181row11_col2\" class=\"data row11 col2\" >-0.122741</td>\n",
       "                        <td id=\"T_3d01cb90_30e7_11eb_8d70_983b8fd83181row11_col3\" class=\"data row11 col3\" >0.029336</td>\n",
       "                        <td id=\"T_3d01cb90_30e7_11eb_8d70_983b8fd83181row11_col4\" class=\"data row11 col4\" >-0.020335</td>\n",
       "                        <td id=\"T_3d01cb90_30e7_11eb_8d70_983b8fd83181row11_col5\" class=\"data row11 col5\" >-0.017917</td>\n",
       "                        <td id=\"T_3d01cb90_30e7_11eb_8d70_983b8fd83181row11_col6\" class=\"data row11 col6\" >-0.018070</td>\n",
       "                        <td id=\"T_3d01cb90_30e7_11eb_8d70_983b8fd83181row11_col7\" class=\"data row11 col7\" >-0.005715</td>\n",
       "                        <td id=\"T_3d01cb90_30e7_11eb_8d70_983b8fd83181row11_col8\" class=\"data row11 col8\" >-0.027081</td>\n",
       "                        <td id=\"T_3d01cb90_30e7_11eb_8d70_983b8fd83181row11_col9\" class=\"data row11 col9\" >-0.008040</td>\n",
       "                        <td id=\"T_3d01cb90_30e7_11eb_8d70_983b8fd83181row11_col10\" class=\"data row11 col10\" >0.094209</td>\n",
       "                        <td id=\"T_3d01cb90_30e7_11eb_8d70_983b8fd83181row11_col11\" class=\"data row11 col11\" >1.000000</td>\n",
       "                        <td id=\"T_3d01cb90_30e7_11eb_8d70_983b8fd83181row11_col12\" class=\"data row11 col12\" >0.120443</td>\n",
       "                        <td id=\"T_3d01cb90_30e7_11eb_8d70_983b8fd83181row11_col13\" class=\"data row11 col13\" >-0.022879</td>\n",
       "                        <td id=\"T_3d01cb90_30e7_11eb_8d70_983b8fd83181row11_col14\" class=\"data row11 col14\" >-0.011720</td>\n",
       "                        <td id=\"T_3d01cb90_30e7_11eb_8d70_983b8fd83181row11_col15\" class=\"data row11 col15\" >-0.184035</td>\n",
       "                        <td id=\"T_3d01cb90_30e7_11eb_8d70_983b8fd83181row11_col16\" class=\"data row11 col16\" >0.003216</td>\n",
       "                        <td id=\"T_3d01cb90_30e7_11eb_8d70_983b8fd83181row11_col17\" class=\"data row11 col17\" >-0.060605</td>\n",
       "                        <td id=\"T_3d01cb90_30e7_11eb_8d70_983b8fd83181row11_col18\" class=\"data row11 col18\" >-0.018273</td>\n",
       "                        <td id=\"T_3d01cb90_30e7_11eb_8d70_983b8fd83181row11_col19\" class=\"data row11 col19\" >-0.053676</td>\n",
       "            </tr>\n",
       "            <tr>\n",
       "                        <th id=\"T_3d01cb90_30e7_11eb_8d70_983b8fd83181level0_row12\" class=\"row_heading level0 row12\" >previous_bookings_not_canceled</th>\n",
       "                        <td id=\"T_3d01cb90_30e7_11eb_8d70_983b8fd83181row12_col0\" class=\"data row12 col0\" >-0.070294</td>\n",
       "                        <td id=\"T_3d01cb90_30e7_11eb_8d70_983b8fd83181row12_col1\" class=\"data row12 col1\" >-0.084707</td>\n",
       "                        <td id=\"T_3d01cb90_30e7_11eb_8d70_983b8fd83181row12_col2\" class=\"data row12 col2\" >0.029414</td>\n",
       "                        <td id=\"T_3d01cb90_30e7_11eb_8d70_983b8fd83181row12_col3\" class=\"data row12 col3\" >-0.030383</td>\n",
       "                        <td id=\"T_3d01cb90_30e7_11eb_8d70_983b8fd83181row12_col4\" class=\"data row12 col4\" >0.011733</td>\n",
       "                        <td id=\"T_3d01cb90_30e7_11eb_8d70_983b8fd83181row12_col5\" class=\"data row12 col5\" >-0.055550</td>\n",
       "                        <td id=\"T_3d01cb90_30e7_11eb_8d70_983b8fd83181row12_col6\" class=\"data row12 col6\" >-0.053741</td>\n",
       "                        <td id=\"T_3d01cb90_30e7_11eb_8d70_983b8fd83181row12_col7\" class=\"data row12 col7\" >-0.127632</td>\n",
       "                        <td id=\"T_3d01cb90_30e7_11eb_8d70_983b8fd83181row12_col8\" class=\"data row12 col8\" >-0.025207</td>\n",
       "                        <td id=\"T_3d01cb90_30e7_11eb_8d70_983b8fd83181row12_col9\" class=\"data row12 col9\" >-0.009082</td>\n",
       "                        <td id=\"T_3d01cb90_30e7_11eb_8d70_983b8fd83181row12_col10\" class=\"data row12 col10\" >0.462927</td>\n",
       "                        <td id=\"T_3d01cb90_30e7_11eb_8d70_983b8fd83181row12_col11\" class=\"data row12 col11\" >0.120443</td>\n",
       "                        <td id=\"T_3d01cb90_30e7_11eb_8d70_983b8fd83181row12_col12\" class=\"data row12 col12\" >1.000000</td>\n",
       "                        <td id=\"T_3d01cb90_30e7_11eb_8d70_983b8fd83181row12_col13\" class=\"data row12 col13\" >0.006840</td>\n",
       "                        <td id=\"T_3d01cb90_30e7_11eb_8d70_983b8fd83181row12_col14\" class=\"data row12 col14\" >0.031340</td>\n",
       "                        <td id=\"T_3d01cb90_30e7_11eb_8d70_983b8fd83181row12_col15\" class=\"data row12 col15\" >-0.238024</td>\n",
       "                        <td id=\"T_3d01cb90_30e7_11eb_8d70_983b8fd83181row12_col16\" class=\"data row12 col16\" >-0.011579</td>\n",
       "                        <td id=\"T_3d01cb90_30e7_11eb_8d70_983b8fd83181row12_col17\" class=\"data row12 col17\" >-0.084632</td>\n",
       "                        <td id=\"T_3d01cb90_30e7_11eb_8d70_983b8fd83181row12_col18\" class=\"data row12 col18\" >0.049261</td>\n",
       "                        <td id=\"T_3d01cb90_30e7_11eb_8d70_983b8fd83181row12_col19\" class=\"data row12 col19\" >0.026769</td>\n",
       "            </tr>\n",
       "            <tr>\n",
       "                        <th id=\"T_3d01cb90_30e7_11eb_8d70_983b8fd83181level0_row13\" class=\"row_heading level0 row13\" >booking_changes</th>\n",
       "                        <td id=\"T_3d01cb90_30e7_11eb_8d70_983b8fd83181row13_col0\" class=\"data row13 col0\" >-0.126024</td>\n",
       "                        <td id=\"T_3d01cb90_30e7_11eb_8d70_983b8fd83181row13_col1\" class=\"data row13 col1\" >0.003191</td>\n",
       "                        <td id=\"T_3d01cb90_30e7_11eb_8d70_983b8fd83181row13_col2\" class=\"data row13 col2\" >0.035844</td>\n",
       "                        <td id=\"T_3d01cb90_30e7_11eb_8d70_983b8fd83181row13_col3\" class=\"data row13 col3\" >-0.002817</td>\n",
       "                        <td id=\"T_3d01cb90_30e7_11eb_8d70_983b8fd83181row13_col4\" class=\"data row13 col4\" >0.017864</td>\n",
       "                        <td id=\"T_3d01cb90_30e7_11eb_8d70_983b8fd83181row13_col5\" class=\"data row13 col5\" >0.043907</td>\n",
       "                        <td id=\"T_3d01cb90_30e7_11eb_8d70_983b8fd83181row13_col6\" class=\"data row13 col6\" >0.090570</td>\n",
       "                        <td id=\"T_3d01cb90_30e7_11eb_8d70_983b8fd83181row13_col7\" class=\"data row13 col7\" >-0.033894</td>\n",
       "                        <td id=\"T_3d01cb90_30e7_11eb_8d70_983b8fd83181row13_col8\" class=\"data row13 col8\" >0.052975</td>\n",
       "                        <td id=\"T_3d01cb90_30e7_11eb_8d70_983b8fd83181row13_col9\" class=\"data row13 col9\" >0.086219</td>\n",
       "                        <td id=\"T_3d01cb90_30e7_11eb_8d70_983b8fd83181row13_col10\" class=\"data row13 col10\" >0.004355</td>\n",
       "                        <td id=\"T_3d01cb90_30e7_11eb_8d70_983b8fd83181row13_col11\" class=\"data row13 col11\" >-0.022879</td>\n",
       "                        <td id=\"T_3d01cb90_30e7_11eb_8d70_983b8fd83181row13_col12\" class=\"data row13 col12\" >0.006840</td>\n",
       "                        <td id=\"T_3d01cb90_30e7_11eb_8d70_983b8fd83181row13_col13\" class=\"data row13 col13\" >1.000000</td>\n",
       "                        <td id=\"T_3d01cb90_30e7_11eb_8d70_983b8fd83181row13_col14\" class=\"data row13 col14\" >0.064795</td>\n",
       "                        <td id=\"T_3d01cb90_30e7_11eb_8d70_983b8fd83181row13_col15\" class=\"data row13 col15\" >0.116448</td>\n",
       "                        <td id=\"T_3d01cb90_30e7_11eb_8d70_983b8fd83181row13_col16\" class=\"data row13 col16\" >-0.009946</td>\n",
       "                        <td id=\"T_3d01cb90_30e7_11eb_8d70_983b8fd83181row13_col17\" class=\"data row13 col17\" >0.024766</td>\n",
       "                        <td id=\"T_3d01cb90_30e7_11eb_8d70_983b8fd83181row13_col18\" class=\"data row13 col18\" >0.046396</td>\n",
       "                        <td id=\"T_3d01cb90_30e7_11eb_8d70_983b8fd83181row13_col19\" class=\"data row13 col19\" >0.054446</td>\n",
       "            </tr>\n",
       "            <tr>\n",
       "                        <th id=\"T_3d01cb90_30e7_11eb_8d70_983b8fd83181level0_row14\" class=\"row_heading level0 row14\" >agent</th>\n",
       "                        <td id=\"T_3d01cb90_30e7_11eb_8d70_983b8fd83181row14_col0\" class=\"data row14 col0\" >-0.083498</td>\n",
       "                        <td id=\"T_3d01cb90_30e7_11eb_8d70_983b8fd83181row14_col1\" class=\"data row14 col1\" >-0.074082</td>\n",
       "                        <td id=\"T_3d01cb90_30e7_11eb_8d70_983b8fd83181row14_col2\" class=\"data row14 col2\" >0.073102</td>\n",
       "                        <td id=\"T_3d01cb90_30e7_11eb_8d70_983b8fd83181row14_col3\" class=\"data row14 col3\" >-0.028062</td>\n",
       "                        <td id=\"T_3d01cb90_30e7_11eb_8d70_983b8fd83181row14_col4\" class=\"data row14 col4\" >0.013063</td>\n",
       "                        <td id=\"T_3d01cb90_30e7_11eb_8d70_983b8fd83181row14_col5\" class=\"data row14 col5\" >0.162056</td>\n",
       "                        <td id=\"T_3d01cb90_30e7_11eb_8d70_983b8fd83181row14_col6\" class=\"data row14 col6\" >0.197426</td>\n",
       "                        <td id=\"T_3d01cb90_30e7_11eb_8d70_983b8fd83181row14_col7\" class=\"data row14 col7\" >-0.044185</td>\n",
       "                        <td id=\"T_3d01cb90_30e7_11eb_8d70_983b8fd83181row14_col8\" class=\"data row14 col8\" >0.037633</td>\n",
       "                        <td id=\"T_3d01cb90_30e7_11eb_8d70_983b8fd83181row14_col9\" class=\"data row14 col9\" >0.033853</td>\n",
       "                        <td id=\"T_3d01cb90_30e7_11eb_8d70_983b8fd83181row14_col10\" class=\"data row14 col10\" >0.017626</td>\n",
       "                        <td id=\"T_3d01cb90_30e7_11eb_8d70_983b8fd83181row14_col11\" class=\"data row14 col11\" >-0.011720</td>\n",
       "                        <td id=\"T_3d01cb90_30e7_11eb_8d70_983b8fd83181row14_col12\" class=\"data row14 col12\" >0.031340</td>\n",
       "                        <td id=\"T_3d01cb90_30e7_11eb_8d70_983b8fd83181row14_col13\" class=\"data row14 col13\" >0.064795</td>\n",
       "                        <td id=\"T_3d01cb90_30e7_11eb_8d70_983b8fd83181row14_col14\" class=\"data row14 col14\" >1.000000</td>\n",
       "                        <td id=\"T_3d01cb90_30e7_11eb_8d70_983b8fd83181row14_col15\" class=\"data row14 col15\" >0.118880</td>\n",
       "                        <td id=\"T_3d01cb90_30e7_11eb_8d70_983b8fd83181row14_col16\" class=\"data row14 col16\" >-0.061358</td>\n",
       "                        <td id=\"T_3d01cb90_30e7_11eb_8d70_983b8fd83181row14_col17\" class=\"data row14 col17\" >-0.020784</td>\n",
       "                        <td id=\"T_3d01cb90_30e7_11eb_8d70_983b8fd83181row14_col18\" class=\"data row14 col18\" >0.175709</td>\n",
       "                        <td id=\"T_3d01cb90_30e7_11eb_8d70_983b8fd83181row14_col19\" class=\"data row14 col19\" >0.044658</td>\n",
       "            </tr>\n",
       "            <tr>\n",
       "                        <th id=\"T_3d01cb90_30e7_11eb_8d70_983b8fd83181level0_row15\" class=\"row_heading level0 row15\" >company</th>\n",
       "                        <td id=\"T_3d01cb90_30e7_11eb_8d70_983b8fd83181row15_col0\" class=\"data row15 col0\" >0.022658</td>\n",
       "                        <td id=\"T_3d01cb90_30e7_11eb_8d70_983b8fd83181row15_col1\" class=\"data row15 col1\" >0.168360</td>\n",
       "                        <td id=\"T_3d01cb90_30e7_11eb_8d70_983b8fd83181row15_col2\" class=\"data row15 col2\" >0.259735</td>\n",
       "                        <td id=\"T_3d01cb90_30e7_11eb_8d70_983b8fd83181row15_col3\" class=\"data row15 col3\" >-0.078391</td>\n",
       "                        <td id=\"T_3d01cb90_30e7_11eb_8d70_983b8fd83181row15_col4\" class=\"data row15 col4\" >0.037240</td>\n",
       "                        <td id=\"T_3d01cb90_30e7_11eb_8d70_983b8fd83181row15_col5\" class=\"data row15 col5\" >0.080099</td>\n",
       "                        <td id=\"T_3d01cb90_30e7_11eb_8d70_983b8fd83181row15_col6\" class=\"data row15 col6\" >0.199179</td>\n",
       "                        <td id=\"T_3d01cb90_30e7_11eb_8d70_983b8fd83181row15_col7\" class=\"data row15 col7\" >0.227391</td>\n",
       "                        <td id=\"T_3d01cb90_30e7_11eb_8d70_983b8fd83181row15_col8\" class=\"data row15 col8\" >0.002325</td>\n",
       "                        <td id=\"T_3d01cb90_30e7_11eb_8d70_983b8fd83181row15_col9\" class=\"data row15 col9\" >-0.023846</td>\n",
       "                        <td id=\"T_3d01cb90_30e7_11eb_8d70_983b8fd83181row15_col10\" class=\"data row15 col10\" >-0.279978</td>\n",
       "                        <td id=\"T_3d01cb90_30e7_11eb_8d70_983b8fd83181row15_col11\" class=\"data row15 col11\" >-0.184035</td>\n",
       "                        <td id=\"T_3d01cb90_30e7_11eb_8d70_983b8fd83181row15_col12\" class=\"data row15 col12\" >-0.238024</td>\n",
       "                        <td id=\"T_3d01cb90_30e7_11eb_8d70_983b8fd83181row15_col13\" class=\"data row15 col13\" >0.116448</td>\n",
       "                        <td id=\"T_3d01cb90_30e7_11eb_8d70_983b8fd83181row15_col14\" class=\"data row15 col14\" >0.118880</td>\n",
       "                        <td id=\"T_3d01cb90_30e7_11eb_8d70_983b8fd83181row15_col15\" class=\"data row15 col15\" >1.000000</td>\n",
       "                        <td id=\"T_3d01cb90_30e7_11eb_8d70_983b8fd83181row15_col16\" class=\"data row15 col16\" >0.028927</td>\n",
       "                        <td id=\"T_3d01cb90_30e7_11eb_8d70_983b8fd83181row15_col17\" class=\"data row15 col17\" >0.112783</td>\n",
       "                        <td id=\"T_3d01cb90_30e7_11eb_8d70_983b8fd83181row15_col18\" class=\"data row15 col18\" >-0.000571</td>\n",
       "                        <td id=\"T_3d01cb90_30e7_11eb_8d70_983b8fd83181row15_col19\" class=\"data row15 col19\" >-0.137899</td>\n",
       "            </tr>\n",
       "            <tr>\n",
       "                        <th id=\"T_3d01cb90_30e7_11eb_8d70_983b8fd83181level0_row16\" class=\"row_heading level0 row16\" >days_in_waiting_list</th>\n",
       "                        <td id=\"T_3d01cb90_30e7_11eb_8d70_983b8fd83181row16_col0\" class=\"data row16 col0\" >0.057597</td>\n",
       "                        <td id=\"T_3d01cb90_30e7_11eb_8d70_983b8fd83181row16_col1\" class=\"data row16 col1\" >0.165606</td>\n",
       "                        <td id=\"T_3d01cb90_30e7_11eb_8d70_983b8fd83181row16_col2\" class=\"data row16 col2\" >-0.050217</td>\n",
       "                        <td id=\"T_3d01cb90_30e7_11eb_8d70_983b8fd83181row16_col3\" class=\"data row16 col3\" >0.011536</td>\n",
       "                        <td id=\"T_3d01cb90_30e7_11eb_8d70_983b8fd83181row16_col4\" class=\"data row16 col4\" >0.034493</td>\n",
       "                        <td id=\"T_3d01cb90_30e7_11eb_8d70_983b8fd83181row16_col5\" class=\"data row16 col5\" >-0.065167</td>\n",
       "                        <td id=\"T_3d01cb90_30e7_11eb_8d70_983b8fd83181row16_col6\" class=\"data row16 col6\" >-0.003306</td>\n",
       "                        <td id=\"T_3d01cb90_30e7_11eb_8d70_983b8fd83181row16_col7\" class=\"data row16 col7\" >-0.010477</td>\n",
       "                        <td id=\"T_3d01cb90_30e7_11eb_8d70_983b8fd83181row16_col8\" class=\"data row16 col8\" >-0.033715</td>\n",
       "                        <td id=\"T_3d01cb90_30e7_11eb_8d70_983b8fd83181row16_col9\" class=\"data row16 col9\" >-0.011381</td>\n",
       "                        <td id=\"T_3d01cb90_30e7_11eb_8d70_983b8fd83181row16_col10\" class=\"data row16 col10\" >-0.018413</td>\n",
       "                        <td id=\"T_3d01cb90_30e7_11eb_8d70_983b8fd83181row16_col11\" class=\"data row16 col11\" >0.003216</td>\n",
       "                        <td id=\"T_3d01cb90_30e7_11eb_8d70_983b8fd83181row16_col12\" class=\"data row16 col12\" >-0.011579</td>\n",
       "                        <td id=\"T_3d01cb90_30e7_11eb_8d70_983b8fd83181row16_col13\" class=\"data row16 col13\" >-0.009946</td>\n",
       "                        <td id=\"T_3d01cb90_30e7_11eb_8d70_983b8fd83181row16_col14\" class=\"data row16 col14\" >-0.061358</td>\n",
       "                        <td id=\"T_3d01cb90_30e7_11eb_8d70_983b8fd83181row16_col15\" class=\"data row16 col15\" >0.028927</td>\n",
       "                        <td id=\"T_3d01cb90_30e7_11eb_8d70_983b8fd83181row16_col16\" class=\"data row16 col16\" >1.000000</td>\n",
       "                        <td id=\"T_3d01cb90_30e7_11eb_8d70_983b8fd83181row16_col17\" class=\"data row16 col17\" >-0.042381</td>\n",
       "                        <td id=\"T_3d01cb90_30e7_11eb_8d70_983b8fd83181row16_col18\" class=\"data row16 col18\" >-0.030902</td>\n",
       "                        <td id=\"T_3d01cb90_30e7_11eb_8d70_983b8fd83181row16_col19\" class=\"data row16 col19\" >-0.081353</td>\n",
       "            </tr>\n",
       "            <tr>\n",
       "                        <th id=\"T_3d01cb90_30e7_11eb_8d70_983b8fd83181level0_row17\" class=\"row_heading level0 row17\" >adr</th>\n",
       "                        <td id=\"T_3d01cb90_30e7_11eb_8d70_983b8fd83181row17_col0\" class=\"data row17 col0\" >0.049155</td>\n",
       "                        <td id=\"T_3d01cb90_30e7_11eb_8d70_983b8fd83181row17_col1\" class=\"data row17 col1\" >-0.064772</td>\n",
       "                        <td id=\"T_3d01cb90_30e7_11eb_8d70_983b8fd83181row17_col2\" class=\"data row17 col2\" >0.217300</td>\n",
       "                        <td id=\"T_3d01cb90_30e7_11eb_8d70_983b8fd83181row17_col3\" class=\"data row17 col3\" >0.069965</td>\n",
       "                        <td id=\"T_3d01cb90_30e7_11eb_8d70_983b8fd83181row17_col4\" class=\"data row17 col4\" >0.030133</td>\n",
       "                        <td id=\"T_3d01cb90_30e7_11eb_8d70_983b8fd83181row17_col5\" class=\"data row17 col5\" >0.062446</td>\n",
       "                        <td id=\"T_3d01cb90_30e7_11eb_8d70_983b8fd83181row17_col6\" class=\"data row17 col6\" >0.063893</td>\n",
       "                        <td id=\"T_3d01cb90_30e7_11eb_8d70_983b8fd83181row17_col7\" class=\"data row17 col7\" >0.247537</td>\n",
       "                        <td id=\"T_3d01cb90_30e7_11eb_8d70_983b8fd83181row17_col8\" class=\"data row17 col8\" >0.354569</td>\n",
       "                        <td id=\"T_3d01cb90_30e7_11eb_8d70_983b8fd83181row17_col9\" class=\"data row17 col9\" >0.044477</td>\n",
       "                        <td id=\"T_3d01cb90_30e7_11eb_8d70_983b8fd83181row17_col10\" class=\"data row17 col10\" >-0.137857</td>\n",
       "                        <td id=\"T_3d01cb90_30e7_11eb_8d70_983b8fd83181row17_col11\" class=\"data row17 col11\" >-0.060605</td>\n",
       "                        <td id=\"T_3d01cb90_30e7_11eb_8d70_983b8fd83181row17_col12\" class=\"data row17 col12\" >-0.084632</td>\n",
       "                        <td id=\"T_3d01cb90_30e7_11eb_8d70_983b8fd83181row17_col13\" class=\"data row17 col13\" >0.024766</td>\n",
       "                        <td id=\"T_3d01cb90_30e7_11eb_8d70_983b8fd83181row17_col14\" class=\"data row17 col14\" >-0.020784</td>\n",
       "                        <td id=\"T_3d01cb90_30e7_11eb_8d70_983b8fd83181row17_col15\" class=\"data row17 col15\" >0.112783</td>\n",
       "                        <td id=\"T_3d01cb90_30e7_11eb_8d70_983b8fd83181row17_col16\" class=\"data row17 col16\" >-0.042381</td>\n",
       "                        <td id=\"T_3d01cb90_30e7_11eb_8d70_983b8fd83181row17_col17\" class=\"data row17 col17\" >1.000000</td>\n",
       "                        <td id=\"T_3d01cb90_30e7_11eb_8d70_983b8fd83181row17_col18\" class=\"data row17 col18\" >0.068119</td>\n",
       "                        <td id=\"T_3d01cb90_30e7_11eb_8d70_983b8fd83181row17_col19\" class=\"data row17 col19\" >0.207506</td>\n",
       "            </tr>\n",
       "            <tr>\n",
       "                        <th id=\"T_3d01cb90_30e7_11eb_8d70_983b8fd83181level0_row18\" class=\"row_heading level0 row18\" >required_car_parking_spaces</th>\n",
       "                        <td id=\"T_3d01cb90_30e7_11eb_8d70_983b8fd83181row18_col0\" class=\"data row18 col0\" >-0.202595</td>\n",
       "                        <td id=\"T_3d01cb90_30e7_11eb_8d70_983b8fd83181row18_col1\" class=\"data row18 col1\" >-0.119927</td>\n",
       "                        <td id=\"T_3d01cb90_30e7_11eb_8d70_983b8fd83181row18_col2\" class=\"data row18 col2\" >-0.011788</td>\n",
       "                        <td id=\"T_3d01cb90_30e7_11eb_8d70_983b8fd83181row18_col3\" class=\"data row18 col3\" >-0.000309</td>\n",
       "                        <td id=\"T_3d01cb90_30e7_11eb_8d70_983b8fd83181row18_col4\" class=\"data row18 col4\" >0.005841</td>\n",
       "                        <td id=\"T_3d01cb90_30e7_11eb_8d70_983b8fd83181row18_col5\" class=\"data row18 col5\" >-0.017652</td>\n",
       "                        <td id=\"T_3d01cb90_30e7_11eb_8d70_983b8fd83181row18_col6\" class=\"data row18 col6\" >-0.016310</td>\n",
       "                        <td id=\"T_3d01cb90_30e7_11eb_8d70_983b8fd83181row18_col7\" class=\"data row18 col7\" >0.010616</td>\n",
       "                        <td id=\"T_3d01cb90_30e7_11eb_8d70_983b8fd83181row18_col8\" class=\"data row18 col8\" >0.029514</td>\n",
       "                        <td id=\"T_3d01cb90_30e7_11eb_8d70_983b8fd83181row18_col9\" class=\"data row18 col9\" >0.062776</td>\n",
       "                        <td id=\"T_3d01cb90_30e7_11eb_8d70_983b8fd83181row18_col10\" class=\"data row18 col10\" >0.051887</td>\n",
       "                        <td id=\"T_3d01cb90_30e7_11eb_8d70_983b8fd83181row18_col11\" class=\"data row18 col11\" >-0.018273</td>\n",
       "                        <td id=\"T_3d01cb90_30e7_11eb_8d70_983b8fd83181row18_col12\" class=\"data row18 col12\" >0.049261</td>\n",
       "                        <td id=\"T_3d01cb90_30e7_11eb_8d70_983b8fd83181row18_col13\" class=\"data row18 col13\" >0.046396</td>\n",
       "                        <td id=\"T_3d01cb90_30e7_11eb_8d70_983b8fd83181row18_col14\" class=\"data row18 col14\" >0.175709</td>\n",
       "                        <td id=\"T_3d01cb90_30e7_11eb_8d70_983b8fd83181row18_col15\" class=\"data row18 col15\" >-0.000571</td>\n",
       "                        <td id=\"T_3d01cb90_30e7_11eb_8d70_983b8fd83181row18_col16\" class=\"data row18 col16\" >-0.030902</td>\n",
       "                        <td id=\"T_3d01cb90_30e7_11eb_8d70_983b8fd83181row18_col17\" class=\"data row18 col17\" >0.068119</td>\n",
       "                        <td id=\"T_3d01cb90_30e7_11eb_8d70_983b8fd83181row18_col18\" class=\"data row18 col18\" >1.000000</td>\n",
       "                        <td id=\"T_3d01cb90_30e7_11eb_8d70_983b8fd83181row18_col19\" class=\"data row18 col19\" >0.096171</td>\n",
       "            </tr>\n",
       "            <tr>\n",
       "                        <th id=\"T_3d01cb90_30e7_11eb_8d70_983b8fd83181level0_row19\" class=\"row_heading level0 row19\" >total_of_special_requests</th>\n",
       "                        <td id=\"T_3d01cb90_30e7_11eb_8d70_983b8fd83181row19_col0\" class=\"data row19 col0\" >-0.238465</td>\n",
       "                        <td id=\"T_3d01cb90_30e7_11eb_8d70_983b8fd83181row19_col1\" class=\"data row19 col1\" >-0.103249</td>\n",
       "                        <td id=\"T_3d01cb90_30e7_11eb_8d70_983b8fd83181row19_col2\" class=\"data row19 col2\" >0.104497</td>\n",
       "                        <td id=\"T_3d01cb90_30e7_11eb_8d70_983b8fd83181row19_col3\" class=\"data row19 col3\" >0.023936</td>\n",
       "                        <td id=\"T_3d01cb90_30e7_11eb_8d70_983b8fd83181row19_col4\" class=\"data row19 col4\" >-0.003962</td>\n",
       "                        <td id=\"T_3d01cb90_30e7_11eb_8d70_983b8fd83181row19_col5\" class=\"data row19 col5\" >0.070293</td>\n",
       "                        <td id=\"T_3d01cb90_30e7_11eb_8d70_983b8fd83181row19_col6\" class=\"data row19 col6\" >0.067509</td>\n",
       "                        <td id=\"T_3d01cb90_30e7_11eb_8d70_983b8fd83181row19_col7\" class=\"data row19 col7\" >0.119568</td>\n",
       "                        <td id=\"T_3d01cb90_30e7_11eb_8d70_983b8fd83181row19_col8\" class=\"data row19 col8\" >0.100985</td>\n",
       "                        <td id=\"T_3d01cb90_30e7_11eb_8d70_983b8fd83181row19_col9\" class=\"data row19 col9\" >0.114425</td>\n",
       "                        <td id=\"T_3d01cb90_30e7_11eb_8d70_983b8fd83181row19_col10\" class=\"data row19 col10\" >0.010132</td>\n",
       "                        <td id=\"T_3d01cb90_30e7_11eb_8d70_983b8fd83181row19_col11\" class=\"data row19 col11\" >-0.053676</td>\n",
       "                        <td id=\"T_3d01cb90_30e7_11eb_8d70_983b8fd83181row19_col12\" class=\"data row19 col12\" >0.026769</td>\n",
       "                        <td id=\"T_3d01cb90_30e7_11eb_8d70_983b8fd83181row19_col13\" class=\"data row19 col13\" >0.054446</td>\n",
       "                        <td id=\"T_3d01cb90_30e7_11eb_8d70_983b8fd83181row19_col14\" class=\"data row19 col14\" >0.044658</td>\n",
       "                        <td id=\"T_3d01cb90_30e7_11eb_8d70_983b8fd83181row19_col15\" class=\"data row19 col15\" >-0.137899</td>\n",
       "                        <td id=\"T_3d01cb90_30e7_11eb_8d70_983b8fd83181row19_col16\" class=\"data row19 col16\" >-0.081353</td>\n",
       "                        <td id=\"T_3d01cb90_30e7_11eb_8d70_983b8fd83181row19_col17\" class=\"data row19 col17\" >0.207506</td>\n",
       "                        <td id=\"T_3d01cb90_30e7_11eb_8d70_983b8fd83181row19_col18\" class=\"data row19 col18\" >0.096171</td>\n",
       "                        <td id=\"T_3d01cb90_30e7_11eb_8d70_983b8fd83181row19_col19\" class=\"data row19 col19\" >1.000000</td>\n",
       "            </tr>\n",
       "    </tbody></table>"
      ],
      "text/plain": [
       "<pandas.io.formats.style.Styler at 0x24eb23e4b70>"
      ]
     },
     "execution_count": 5,
     "metadata": {},
     "output_type": "execute_result"
    }
   ],
   "source": [
    "corr = data.corr()\n",
    "corr.style.background_gradient(cmap='coolwarm')"
   ]
  },
  {
   "cell_type": "markdown",
   "metadata": {
    "id": "IAgci7iXBtTN"
   },
   "source": [
    "Juntamos las columnas de año, mes y dia para crear un único datetime.\n",
    "También añadimos una con el mes de forma numérica para usarlas posteriormente."
   ]
  },
  {
   "cell_type": "code",
   "execution_count": 6,
   "metadata": {
    "id": "YMg05sEIG_-7"
   },
   "outputs": [],
   "source": [
    "data['arrival_datetime'] = pd.to_datetime(data['arrival_date_year'].map(str) + \"-\" + data['arrival_date_month'].map(str) + \"-\" + data['arrival_date_day_of_month'].map(str))\n",
    "data['arrival_month'] = data['arrival_datetime'].map(str).str[5:7]"
   ]
  },
  {
   "cell_type": "code",
   "execution_count": 7,
   "metadata": {
    "colab": {
     "base_uri": "https://localhost:8080/",
     "height": 617
    },
    "id": "sPigjpzHQp56",
    "outputId": "9d1e22fd-9b52-4e9c-dead-5a7dcb5188f1"
   },
   "outputs": [
    {
     "data": {
      "text/html": [
       "<div>\n",
       "<style scoped>\n",
       "    .dataframe tbody tr th:only-of-type {\n",
       "        vertical-align: middle;\n",
       "    }\n",
       "\n",
       "    .dataframe tbody tr th {\n",
       "        vertical-align: top;\n",
       "    }\n",
       "\n",
       "    .dataframe thead th {\n",
       "        text-align: right;\n",
       "    }\n",
       "</style>\n",
       "<table border=\"1\" class=\"dataframe\">\n",
       "  <thead>\n",
       "    <tr style=\"text-align: right;\">\n",
       "      <th></th>\n",
       "      <th>hotel</th>\n",
       "      <th>is_canceled</th>\n",
       "      <th>lead_time</th>\n",
       "      <th>arrival_date_year</th>\n",
       "      <th>arrival_date_month</th>\n",
       "      <th>arrival_date_week_number</th>\n",
       "      <th>arrival_date_day_of_month</th>\n",
       "      <th>stays_in_weekend_nights</th>\n",
       "      <th>stays_in_week_nights</th>\n",
       "      <th>adults</th>\n",
       "      <th>...</th>\n",
       "      <th>company</th>\n",
       "      <th>days_in_waiting_list</th>\n",
       "      <th>customer_type</th>\n",
       "      <th>adr</th>\n",
       "      <th>required_car_parking_spaces</th>\n",
       "      <th>total_of_special_requests</th>\n",
       "      <th>reservation_status</th>\n",
       "      <th>reservation_status_date</th>\n",
       "      <th>arrival_datetime</th>\n",
       "      <th>arrival_month</th>\n",
       "    </tr>\n",
       "  </thead>\n",
       "  <tbody>\n",
       "    <tr>\n",
       "      <th>8095</th>\n",
       "      <td>City Hotel</td>\n",
       "      <td>0</td>\n",
       "      <td>257</td>\n",
       "      <td>2015</td>\n",
       "      <td>July</td>\n",
       "      <td>27</td>\n",
       "      <td>1</td>\n",
       "      <td>0</td>\n",
       "      <td>2</td>\n",
       "      <td>2</td>\n",
       "      <td>...</td>\n",
       "      <td>NaN</td>\n",
       "      <td>0</td>\n",
       "      <td>Transient</td>\n",
       "      <td>101.50</td>\n",
       "      <td>0</td>\n",
       "      <td>0</td>\n",
       "      <td>Check-Out</td>\n",
       "      <td>2015-07-03</td>\n",
       "      <td>2015-07-01</td>\n",
       "      <td>07</td>\n",
       "    </tr>\n",
       "    <tr>\n",
       "      <th>5423</th>\n",
       "      <td>City Hotel</td>\n",
       "      <td>0</td>\n",
       "      <td>257</td>\n",
       "      <td>2015</td>\n",
       "      <td>July</td>\n",
       "      <td>27</td>\n",
       "      <td>1</td>\n",
       "      <td>0</td>\n",
       "      <td>2</td>\n",
       "      <td>2</td>\n",
       "      <td>...</td>\n",
       "      <td>NaN</td>\n",
       "      <td>0</td>\n",
       "      <td>Transient</td>\n",
       "      <td>101.50</td>\n",
       "      <td>0</td>\n",
       "      <td>0</td>\n",
       "      <td>Check-Out</td>\n",
       "      <td>2015-07-03</td>\n",
       "      <td>2015-07-01</td>\n",
       "      <td>07</td>\n",
       "    </tr>\n",
       "    <tr>\n",
       "      <th>1182</th>\n",
       "      <td>City Hotel</td>\n",
       "      <td>0</td>\n",
       "      <td>257</td>\n",
       "      <td>2015</td>\n",
       "      <td>July</td>\n",
       "      <td>27</td>\n",
       "      <td>1</td>\n",
       "      <td>0</td>\n",
       "      <td>2</td>\n",
       "      <td>1</td>\n",
       "      <td>...</td>\n",
       "      <td>NaN</td>\n",
       "      <td>0</td>\n",
       "      <td>Transient</td>\n",
       "      <td>80.00</td>\n",
       "      <td>0</td>\n",
       "      <td>0</td>\n",
       "      <td>Check-Out</td>\n",
       "      <td>2015-07-03</td>\n",
       "      <td>2015-07-01</td>\n",
       "      <td>07</td>\n",
       "    </tr>\n",
       "    <tr>\n",
       "      <th>5157</th>\n",
       "      <td>City Hotel</td>\n",
       "      <td>0</td>\n",
       "      <td>257</td>\n",
       "      <td>2015</td>\n",
       "      <td>July</td>\n",
       "      <td>27</td>\n",
       "      <td>1</td>\n",
       "      <td>0</td>\n",
       "      <td>2</td>\n",
       "      <td>2</td>\n",
       "      <td>...</td>\n",
       "      <td>NaN</td>\n",
       "      <td>0</td>\n",
       "      <td>Transient</td>\n",
       "      <td>101.50</td>\n",
       "      <td>0</td>\n",
       "      <td>0</td>\n",
       "      <td>Check-Out</td>\n",
       "      <td>2015-07-03</td>\n",
       "      <td>2015-07-01</td>\n",
       "      <td>07</td>\n",
       "    </tr>\n",
       "    <tr>\n",
       "      <th>5772</th>\n",
       "      <td>City Hotel</td>\n",
       "      <td>0</td>\n",
       "      <td>257</td>\n",
       "      <td>2015</td>\n",
       "      <td>July</td>\n",
       "      <td>27</td>\n",
       "      <td>1</td>\n",
       "      <td>0</td>\n",
       "      <td>2</td>\n",
       "      <td>2</td>\n",
       "      <td>...</td>\n",
       "      <td>NaN</td>\n",
       "      <td>0</td>\n",
       "      <td>Transient</td>\n",
       "      <td>101.50</td>\n",
       "      <td>0</td>\n",
       "      <td>0</td>\n",
       "      <td>Check-Out</td>\n",
       "      <td>2015-07-03</td>\n",
       "      <td>2015-07-01</td>\n",
       "      <td>07</td>\n",
       "    </tr>\n",
       "    <tr>\n",
       "      <th>...</th>\n",
       "      <td>...</td>\n",
       "      <td>...</td>\n",
       "      <td>...</td>\n",
       "      <td>...</td>\n",
       "      <td>...</td>\n",
       "      <td>...</td>\n",
       "      <td>...</td>\n",
       "      <td>...</td>\n",
       "      <td>...</td>\n",
       "      <td>...</td>\n",
       "      <td>...</td>\n",
       "      <td>...</td>\n",
       "      <td>...</td>\n",
       "      <td>...</td>\n",
       "      <td>...</td>\n",
       "      <td>...</td>\n",
       "      <td>...</td>\n",
       "      <td>...</td>\n",
       "      <td>...</td>\n",
       "      <td>...</td>\n",
       "      <td>...</td>\n",
       "    </tr>\n",
       "    <tr>\n",
       "      <th>2640</th>\n",
       "      <td>Resort Hotel</td>\n",
       "      <td>0</td>\n",
       "      <td>2</td>\n",
       "      <td>2017</td>\n",
       "      <td>August</td>\n",
       "      <td>35</td>\n",
       "      <td>31</td>\n",
       "      <td>0</td>\n",
       "      <td>3</td>\n",
       "      <td>2</td>\n",
       "      <td>...</td>\n",
       "      <td>NaN</td>\n",
       "      <td>0</td>\n",
       "      <td>Transient-Party</td>\n",
       "      <td>200.00</td>\n",
       "      <td>0</td>\n",
       "      <td>2</td>\n",
       "      <td>Check-Out</td>\n",
       "      <td>2017-09-03</td>\n",
       "      <td>2017-08-31</td>\n",
       "      <td>08</td>\n",
       "    </tr>\n",
       "    <tr>\n",
       "      <th>3980</th>\n",
       "      <td>City Hotel</td>\n",
       "      <td>0</td>\n",
       "      <td>63</td>\n",
       "      <td>2017</td>\n",
       "      <td>August</td>\n",
       "      <td>35</td>\n",
       "      <td>31</td>\n",
       "      <td>0</td>\n",
       "      <td>3</td>\n",
       "      <td>3</td>\n",
       "      <td>...</td>\n",
       "      <td>NaN</td>\n",
       "      <td>0</td>\n",
       "      <td>Transient-Party</td>\n",
       "      <td>195.33</td>\n",
       "      <td>0</td>\n",
       "      <td>2</td>\n",
       "      <td>Check-Out</td>\n",
       "      <td>2017-09-03</td>\n",
       "      <td>2017-08-31</td>\n",
       "      <td>08</td>\n",
       "    </tr>\n",
       "    <tr>\n",
       "      <th>94</th>\n",
       "      <td>City Hotel</td>\n",
       "      <td>1</td>\n",
       "      <td>218</td>\n",
       "      <td>2017</td>\n",
       "      <td>August</td>\n",
       "      <td>35</td>\n",
       "      <td>31</td>\n",
       "      <td>2</td>\n",
       "      <td>5</td>\n",
       "      <td>3</td>\n",
       "      <td>...</td>\n",
       "      <td>NaN</td>\n",
       "      <td>0</td>\n",
       "      <td>Transient</td>\n",
       "      <td>162.00</td>\n",
       "      <td>0</td>\n",
       "      <td>0</td>\n",
       "      <td>Canceled</td>\n",
       "      <td>2017-01-31</td>\n",
       "      <td>2017-08-31</td>\n",
       "      <td>08</td>\n",
       "    </tr>\n",
       "    <tr>\n",
       "      <th>8322</th>\n",
       "      <td>Resort Hotel</td>\n",
       "      <td>0</td>\n",
       "      <td>2</td>\n",
       "      <td>2017</td>\n",
       "      <td>August</td>\n",
       "      <td>35</td>\n",
       "      <td>31</td>\n",
       "      <td>0</td>\n",
       "      <td>3</td>\n",
       "      <td>2</td>\n",
       "      <td>...</td>\n",
       "      <td>NaN</td>\n",
       "      <td>0</td>\n",
       "      <td>Transient</td>\n",
       "      <td>245.33</td>\n",
       "      <td>0</td>\n",
       "      <td>2</td>\n",
       "      <td>Check-Out</td>\n",
       "      <td>2017-09-03</td>\n",
       "      <td>2017-08-31</td>\n",
       "      <td>08</td>\n",
       "    </tr>\n",
       "    <tr>\n",
       "      <th>2212</th>\n",
       "      <td>City Hotel</td>\n",
       "      <td>0</td>\n",
       "      <td>194</td>\n",
       "      <td>2017</td>\n",
       "      <td>August</td>\n",
       "      <td>35</td>\n",
       "      <td>31</td>\n",
       "      <td>0</td>\n",
       "      <td>3</td>\n",
       "      <td>2</td>\n",
       "      <td>...</td>\n",
       "      <td>NaN</td>\n",
       "      <td>0</td>\n",
       "      <td>Transient</td>\n",
       "      <td>99.00</td>\n",
       "      <td>0</td>\n",
       "      <td>0</td>\n",
       "      <td>Check-Out</td>\n",
       "      <td>2017-09-03</td>\n",
       "      <td>2017-08-31</td>\n",
       "      <td>08</td>\n",
       "    </tr>\n",
       "  </tbody>\n",
       "</table>\n",
       "<p>10000 rows × 34 columns</p>\n",
       "</div>"
      ],
      "text/plain": [
       "             hotel  is_canceled  lead_time  arrival_date_year  \\\n",
       "8095    City Hotel            0        257               2015   \n",
       "5423    City Hotel            0        257               2015   \n",
       "1182    City Hotel            0        257               2015   \n",
       "5157    City Hotel            0        257               2015   \n",
       "5772    City Hotel            0        257               2015   \n",
       "...            ...          ...        ...                ...   \n",
       "2640  Resort Hotel            0          2               2017   \n",
       "3980    City Hotel            0         63               2017   \n",
       "94      City Hotel            1        218               2017   \n",
       "8322  Resort Hotel            0          2               2017   \n",
       "2212    City Hotel            0        194               2017   \n",
       "\n",
       "     arrival_date_month  arrival_date_week_number  arrival_date_day_of_month  \\\n",
       "8095               July                        27                          1   \n",
       "5423               July                        27                          1   \n",
       "1182               July                        27                          1   \n",
       "5157               July                        27                          1   \n",
       "5772               July                        27                          1   \n",
       "...                 ...                       ...                        ...   \n",
       "2640             August                        35                         31   \n",
       "3980             August                        35                         31   \n",
       "94               August                        35                         31   \n",
       "8322             August                        35                         31   \n",
       "2212             August                        35                         31   \n",
       "\n",
       "      stays_in_weekend_nights  stays_in_week_nights  adults  ...  company  \\\n",
       "8095                        0                     2       2  ...      NaN   \n",
       "5423                        0                     2       2  ...      NaN   \n",
       "1182                        0                     2       1  ...      NaN   \n",
       "5157                        0                     2       2  ...      NaN   \n",
       "5772                        0                     2       2  ...      NaN   \n",
       "...                       ...                   ...     ...  ...      ...   \n",
       "2640                        0                     3       2  ...      NaN   \n",
       "3980                        0                     3       3  ...      NaN   \n",
       "94                          2                     5       3  ...      NaN   \n",
       "8322                        0                     3       2  ...      NaN   \n",
       "2212                        0                     3       2  ...      NaN   \n",
       "\n",
       "      days_in_waiting_list    customer_type     adr  \\\n",
       "8095                     0        Transient  101.50   \n",
       "5423                     0        Transient  101.50   \n",
       "1182                     0        Transient   80.00   \n",
       "5157                     0        Transient  101.50   \n",
       "5772                     0        Transient  101.50   \n",
       "...                    ...              ...     ...   \n",
       "2640                     0  Transient-Party  200.00   \n",
       "3980                     0  Transient-Party  195.33   \n",
       "94                       0        Transient  162.00   \n",
       "8322                     0        Transient  245.33   \n",
       "2212                     0        Transient   99.00   \n",
       "\n",
       "     required_car_parking_spaces total_of_special_requests  \\\n",
       "8095                           0                         0   \n",
       "5423                           0                         0   \n",
       "1182                           0                         0   \n",
       "5157                           0                         0   \n",
       "5772                           0                         0   \n",
       "...                          ...                       ...   \n",
       "2640                           0                         2   \n",
       "3980                           0                         2   \n",
       "94                             0                         0   \n",
       "8322                           0                         2   \n",
       "2212                           0                         0   \n",
       "\n",
       "      reservation_status  reservation_status_date  arrival_datetime  \\\n",
       "8095           Check-Out               2015-07-03        2015-07-01   \n",
       "5423           Check-Out               2015-07-03        2015-07-01   \n",
       "1182           Check-Out               2015-07-03        2015-07-01   \n",
       "5157           Check-Out               2015-07-03        2015-07-01   \n",
       "5772           Check-Out               2015-07-03        2015-07-01   \n",
       "...                  ...                      ...               ...   \n",
       "2640           Check-Out               2017-09-03        2017-08-31   \n",
       "3980           Check-Out               2017-09-03        2017-08-31   \n",
       "94              Canceled               2017-01-31        2017-08-31   \n",
       "8322           Check-Out               2017-09-03        2017-08-31   \n",
       "2212           Check-Out               2017-09-03        2017-08-31   \n",
       "\n",
       "     arrival_month  \n",
       "8095            07  \n",
       "5423            07  \n",
       "1182            07  \n",
       "5157            07  \n",
       "5772            07  \n",
       "...            ...  \n",
       "2640            08  \n",
       "3980            08  \n",
       "94              08  \n",
       "8322            08  \n",
       "2212            08  \n",
       "\n",
       "[10000 rows x 34 columns]"
      ]
     },
     "execution_count": 7,
     "metadata": {},
     "output_type": "execute_result"
    }
   ],
   "source": [
    "data = data.sort_values(by=['arrival_datetime'], ascending=True)\n",
    "data"
   ]
  },
  {
   "cell_type": "markdown",
   "metadata": {
    "id": "uHu_Xw8dCVVt"
   },
   "source": [
    "Agrupamos los datos por la fecha total, y por año y mes para estudiar los cambios a lo largo del tiempo."
   ]
  },
  {
   "cell_type": "code",
   "execution_count": 8,
   "metadata": {
    "id": "VQNGrPhIPTzb"
   },
   "outputs": [],
   "source": [
    "data_groupby_year_month = data.groupby(by=[\"arrival_date_year\", \"arrival_date_month\"])\n",
    "data_groupby_date = data.groupby(by=[\"arrival_datetime\"])"
   ]
  },
  {
   "cell_type": "markdown",
   "metadata": {
    "id": "LB5m6Ezqo3zK"
   },
   "source": [
    "### hotel\n",
    "Primero comenzamos observando la columna de hotel\n",
    "\n"
   ]
  },
  {
   "cell_type": "code",
   "execution_count": 9,
   "metadata": {
    "colab": {
     "base_uri": "https://localhost:8080/"
    },
    "id": "4MnkJhB5o2wb",
    "outputId": "402dcb5d-f763-4658-aa65-4657eb443f41"
   },
   "outputs": [
    {
     "data": {
      "text/plain": [
       "count          10000\n",
       "unique             2\n",
       "top       City Hotel\n",
       "freq            6564\n",
       "Name: hotel, dtype: object"
      ]
     },
     "execution_count": 9,
     "metadata": {},
     "output_type": "execute_result"
    }
   ],
   "source": [
    "data['hotel'].describe()"
   ]
  },
  {
   "cell_type": "markdown",
   "metadata": {
    "id": "Awc384_JsBIO"
   },
   "source": [
    "Como vemos, solo hay dos tipos distintos de hoteles, y el más repetido es el \"City Hotel\".\n",
    "\n"
   ]
  },
  {
   "cell_type": "code",
   "execution_count": 10,
   "metadata": {
    "colab": {
     "base_uri": "https://localhost:8080/",
     "height": 282
    },
    "id": "L4AiHnqSpXHp",
    "outputId": "8a1b96ba-75ec-4d64-9b5a-1fbbc3e43e45"
   },
   "outputs": [
    {
     "data": {
      "text/plain": [
       "<AxesSubplot:>"
      ]
     },
     "execution_count": 10,
     "metadata": {},
     "output_type": "execute_result"
    },
    {
     "data": {
      "image/png": "[encoded data removed]",
      "text/plain": [
       "<Figure size 432x288 with 1 Axes>"
      ]
     },
     "metadata": {
      "needs_background": "light"
     },
     "output_type": "display_data"
    }
   ],
   "source": [
    "data['hotel'].hist()"
   ]
  },
  {
   "cell_type": "markdown",
   "metadata": {
    "id": "gZ7Q6yHY7qR5"
   },
   "source": [
    "##### Tabla de contingencias"
   ]
  },
  {
   "cell_type": "code",
   "execution_count": 11,
   "metadata": {
    "colab": {
     "base_uri": "https://localhost:8080/",
     "height": 143
    },
    "id": "GWwVWJ_nstD6",
    "outputId": "dd678d30-32a8-48e6-cf2d-7ba5095542b7"
   },
   "outputs": [
    {
     "data": {
      "text/html": [
       "<div>\n",
       "<style scoped>\n",
       "    .dataframe tbody tr th:only-of-type {\n",
       "        vertical-align: middle;\n",
       "    }\n",
       "\n",
       "    .dataframe tbody tr th {\n",
       "        vertical-align: top;\n",
       "    }\n",
       "\n",
       "    .dataframe thead th {\n",
       "        text-align: right;\n",
       "    }\n",
       "</style>\n",
       "<table border=\"1\" class=\"dataframe\">\n",
       "  <thead>\n",
       "    <tr style=\"text-align: right;\">\n",
       "      <th>is_canceled</th>\n",
       "      <th>0</th>\n",
       "      <th>1</th>\n",
       "    </tr>\n",
       "    <tr>\n",
       "      <th>hotel</th>\n",
       "      <th></th>\n",
       "      <th></th>\n",
       "    </tr>\n",
       "  </thead>\n",
       "  <tbody>\n",
       "    <tr>\n",
       "      <th>City Hotel</th>\n",
       "      <td>0.578458</td>\n",
       "      <td>0.421542</td>\n",
       "    </tr>\n",
       "    <tr>\n",
       "      <th>Resort Hotel</th>\n",
       "      <td>0.713620</td>\n",
       "      <td>0.286380</td>\n",
       "    </tr>\n",
       "  </tbody>\n",
       "</table>\n",
       "</div>"
      ],
      "text/plain": [
       "is_canceled          0         1\n",
       "hotel                           \n",
       "City Hotel    0.578458  0.421542\n",
       "Resort Hotel  0.713620  0.286380"
      ]
     },
     "execution_count": 11,
     "metadata": {},
     "output_type": "execute_result"
    }
   ],
   "source": [
    "pd.crosstab(data['hotel'], data['is_canceled']).apply(lambda r: r/r.sum(), axis=1)\n"
   ]
  },
  {
   "cell_type": "markdown",
   "metadata": {
    "id": "qvWODL2ysJOE"
   },
   "source": [
    "Creamos una tabla de contiengencias, y después esa misma tabla de contingencias pero observando los porcentajes, de tal forma que se puede ver que el porcentaje de cancelados es mayor en \"City Hotel\".\n"
   ]
  },
  {
   "cell_type": "markdown",
   "metadata": {
    "id": "e4Lc0_4NMU6G"
   },
   "source": [
    "##### Evolución Histórica\n",
    "Ahora vamos a obtener columnas númericas a partir de la columna \"hotel\" (**one hot encoder**) para poder agrupar cuantos hoteles se reservan cada mes.\n"
   ]
  },
  {
   "cell_type": "code",
   "execution_count": 12,
   "metadata": {
    "colab": {
     "base_uri": "https://localhost:8080/",
     "height": 896
    },
    "id": "rQNDfn2QKl4s",
    "outputId": "c40a184e-af69-453a-c922-1cf0ff196187"
   },
   "outputs": [
    {
     "data": {
      "text/html": [
       "<div>\n",
       "<style scoped>\n",
       "    .dataframe tbody tr th:only-of-type {\n",
       "        vertical-align: middle;\n",
       "    }\n",
       "\n",
       "    .dataframe tbody tr th {\n",
       "        vertical-align: top;\n",
       "    }\n",
       "\n",
       "    .dataframe thead th {\n",
       "        text-align: right;\n",
       "    }\n",
       "</style>\n",
       "<table border=\"1\" class=\"dataframe\">\n",
       "  <thead>\n",
       "    <tr style=\"text-align: right;\">\n",
       "      <th></th>\n",
       "      <th></th>\n",
       "      <th>hotel_City Hotel</th>\n",
       "      <th>hotel_Resort Hotel</th>\n",
       "    </tr>\n",
       "    <tr>\n",
       "      <th>arrival_date_year</th>\n",
       "      <th>arrival_month</th>\n",
       "      <th></th>\n",
       "      <th></th>\n",
       "    </tr>\n",
       "  </thead>\n",
       "  <tbody>\n",
       "    <tr>\n",
       "      <th rowspan=\"6\" valign=\"top\">2015</th>\n",
       "      <th>07</th>\n",
       "      <td>122.0</td>\n",
       "      <td>111.0</td>\n",
       "    </tr>\n",
       "    <tr>\n",
       "      <th>08</th>\n",
       "      <td>195.0</td>\n",
       "      <td>117.0</td>\n",
       "    </tr>\n",
       "    <tr>\n",
       "      <th>09</th>\n",
       "      <td>276.0</td>\n",
       "      <td>132.0</td>\n",
       "    </tr>\n",
       "    <tr>\n",
       "      <th>10</th>\n",
       "      <td>283.0</td>\n",
       "      <td>133.0</td>\n",
       "    </tr>\n",
       "    <tr>\n",
       "      <th>11</th>\n",
       "      <td>89.0</td>\n",
       "      <td>86.0</td>\n",
       "    </tr>\n",
       "    <tr>\n",
       "      <th>12</th>\n",
       "      <td>137.0</td>\n",
       "      <td>113.0</td>\n",
       "    </tr>\n",
       "    <tr>\n",
       "      <th rowspan=\"12\" valign=\"top\">2016</th>\n",
       "      <th>01</th>\n",
       "      <td>113.0</td>\n",
       "      <td>65.0</td>\n",
       "    </tr>\n",
       "    <tr>\n",
       "      <th>02</th>\n",
       "      <td>172.0</td>\n",
       "      <td>136.0</td>\n",
       "    </tr>\n",
       "    <tr>\n",
       "      <th>03</th>\n",
       "      <td>263.0</td>\n",
       "      <td>137.0</td>\n",
       "    </tr>\n",
       "    <tr>\n",
       "      <th>04</th>\n",
       "      <td>300.0</td>\n",
       "      <td>155.0</td>\n",
       "    </tr>\n",
       "    <tr>\n",
       "      <th>05</th>\n",
       "      <td>279.0</td>\n",
       "      <td>166.0</td>\n",
       "    </tr>\n",
       "    <tr>\n",
       "      <th>06</th>\n",
       "      <td>318.0</td>\n",
       "      <td>115.0</td>\n",
       "    </tr>\n",
       "    <tr>\n",
       "      <th>07</th>\n",
       "      <td>250.0</td>\n",
       "      <td>121.0</td>\n",
       "    </tr>\n",
       "    <tr>\n",
       "      <th>08</th>\n",
       "      <td>277.0</td>\n",
       "      <td>137.0</td>\n",
       "    </tr>\n",
       "    <tr>\n",
       "      <th>09</th>\n",
       "      <td>332.0</td>\n",
       "      <td>145.0</td>\n",
       "    </tr>\n",
       "    <tr>\n",
       "      <th>10</th>\n",
       "      <td>347.0</td>\n",
       "      <td>183.0</td>\n",
       "    </tr>\n",
       "    <tr>\n",
       "      <th>11</th>\n",
       "      <td>258.0</td>\n",
       "      <td>118.0</td>\n",
       "    </tr>\n",
       "    <tr>\n",
       "      <th>12</th>\n",
       "      <td>225.0</td>\n",
       "      <td>131.0</td>\n",
       "    </tr>\n",
       "    <tr>\n",
       "      <th rowspan=\"8\" valign=\"top\">2017</th>\n",
       "      <th>01</th>\n",
       "      <td>220.0</td>\n",
       "      <td>106.0</td>\n",
       "    </tr>\n",
       "    <tr>\n",
       "      <th>02</th>\n",
       "      <td>194.0</td>\n",
       "      <td>142.0</td>\n",
       "    </tr>\n",
       "    <tr>\n",
       "      <th>03</th>\n",
       "      <td>330.0</td>\n",
       "      <td>131.0</td>\n",
       "    </tr>\n",
       "    <tr>\n",
       "      <th>04</th>\n",
       "      <td>327.0</td>\n",
       "      <td>143.0</td>\n",
       "    </tr>\n",
       "    <tr>\n",
       "      <th>05</th>\n",
       "      <td>343.0</td>\n",
       "      <td>158.0</td>\n",
       "    </tr>\n",
       "    <tr>\n",
       "      <th>06</th>\n",
       "      <td>325.0</td>\n",
       "      <td>134.0</td>\n",
       "    </tr>\n",
       "    <tr>\n",
       "      <th>07</th>\n",
       "      <td>298.0</td>\n",
       "      <td>177.0</td>\n",
       "    </tr>\n",
       "    <tr>\n",
       "      <th>08</th>\n",
       "      <td>291.0</td>\n",
       "      <td>144.0</td>\n",
       "    </tr>\n",
       "  </tbody>\n",
       "</table>\n",
       "</div>"
      ],
      "text/plain": [
       "                                 hotel_City Hotel  hotel_Resort Hotel\n",
       "arrival_date_year arrival_month                                      \n",
       "2015              07                        122.0               111.0\n",
       "                  08                        195.0               117.0\n",
       "                  09                        276.0               132.0\n",
       "                  10                        283.0               133.0\n",
       "                  11                         89.0                86.0\n",
       "                  12                        137.0               113.0\n",
       "2016              01                        113.0                65.0\n",
       "                  02                        172.0               136.0\n",
       "                  03                        263.0               137.0\n",
       "                  04                        300.0               155.0\n",
       "                  05                        279.0               166.0\n",
       "                  06                        318.0               115.0\n",
       "                  07                        250.0               121.0\n",
       "                  08                        277.0               137.0\n",
       "                  09                        332.0               145.0\n",
       "                  10                        347.0               183.0\n",
       "                  11                        258.0               118.0\n",
       "                  12                        225.0               131.0\n",
       "2017              01                        220.0               106.0\n",
       "                  02                        194.0               142.0\n",
       "                  03                        330.0               131.0\n",
       "                  04                        327.0               143.0\n",
       "                  05                        343.0               158.0\n",
       "                  06                        325.0               134.0\n",
       "                  07                        298.0               177.0\n",
       "                  08                        291.0               144.0"
      ]
     },
     "execution_count": 12,
     "metadata": {},
     "output_type": "execute_result"
    }
   ],
   "source": [
    "data_hotel_and_date = data[['arrival_date_year', 'arrival_month', 'hotel']]\n",
    "data_hotel_and_date = pd.get_dummies(data_hotel_and_date, columns=[\"hotel\"])[['arrival_date_year', 'arrival_month', 'hotel_City Hotel', 'hotel_Resort Hotel']]\n",
    "data_hotel_and_date = data_hotel_and_date.groupby(by=['arrival_date_year', 'arrival_month']).sum()\n",
    "data_hotel_and_date"
   ]
  },
  {
   "cell_type": "code",
   "execution_count": 13,
   "metadata": {
    "colab": {
     "base_uri": "https://localhost:8080/",
     "height": 542
    },
    "id": "BYYcJVylNT0D",
    "outputId": "5175b13a-7d64-428c-ded7-735b4fca52ab"
   },
   "outputs": [
    {
     "data": {
      "text/plain": [
       "<Figure size 36000x720 with 0 Axes>"
      ]
     },
     "metadata": {},
     "output_type": "display_data"
    },
    {
     "data": {
      "image/png": "[encoded data removed]",
      "text/plain": [
       "<Figure size 2160x576 with 1 Axes>"
      ]
     },
     "metadata": {
      "needs_background": "light"
     },
     "output_type": "display_data"
    }
   ],
   "source": [
    "plt.figure(figsize=(500,10));\n",
    "data_hotel_and_date.plot.bar(figsize=(30,8));\n",
    "plt.tight_layout()\n",
    "# Pintar todos los valores del eje X!!!"
   ]
  },
  {
   "cell_type": "markdown",
   "metadata": {
    "id": "Pv9Boax2CspI"
   },
   "source": [
    "### is_canceled\n",
    "\n",
    "Se trata de unas de las variables más importantes, pues sería interesante tratar de predecirla en un futuro."
   ]
  },
  {
   "cell_type": "code",
   "execution_count": 14,
   "metadata": {
    "colab": {
     "base_uri": "https://localhost:8080/"
    },
    "id": "BK4Fj1OnDBe5",
    "outputId": "ee590d46-cd64-4b01-e20f-db63ee126e01"
   },
   "outputs": [
    {
     "data": {
      "text/plain": [
       "count    10000.000000\n",
       "mean         0.375100\n",
       "std          0.484173\n",
       "min          0.000000\n",
       "25%          0.000000\n",
       "50%          0.000000\n",
       "75%          1.000000\n",
       "max          1.000000\n",
       "Name: is_canceled, dtype: float64"
      ]
     },
     "execution_count": 14,
     "metadata": {},
     "output_type": "execute_result"
    }
   ],
   "source": [
    "data['is_canceled'].describe()"
   ]
  },
  {
   "cell_type": "code",
   "execution_count": 15,
   "metadata": {
    "colab": {
     "base_uri": "https://localhost:8080/",
     "height": 282
    },
    "id": "oLjtjy_ADNBT",
    "outputId": "14bd0acc-3187-49d1-e108-310086c2149e"
   },
   "outputs": [
    {
     "data": {
      "text/plain": [
       "<AxesSubplot:>"
      ]
     },
     "execution_count": 15,
     "metadata": {},
     "output_type": "execute_result"
    },
    {
     "data": {
      "image/png": "[encoded data removed]",
      "text/plain": [
       "<Figure size 432x288 with 1 Axes>"
      ]
     },
     "metadata": {
      "needs_background": "light"
     },
     "output_type": "display_data"
    }
   ],
   "source": [
    "data['is_canceled'].plot(kind='bar')"
   ]
  },
  {
   "cell_type": "markdown",
   "metadata": {
    "id": "3WHQh7eALvkq"
   },
   "source": [
    "##### Evolución histórica"
   ]
  },
  {
   "cell_type": "code",
   "execution_count": 16,
   "metadata": {
    "colab": {
     "base_uri": "https://localhost:8080/",
     "height": 237
    },
    "id": "yTbYNGTmDNBb",
    "outputId": "39470e95-5506-46d2-acbc-cc16246a888a"
   },
   "outputs": [
    {
     "data": {
      "text/html": [
       "<div>\n",
       "<style scoped>\n",
       "    .dataframe tbody tr th:only-of-type {\n",
       "        vertical-align: middle;\n",
       "    }\n",
       "\n",
       "    .dataframe tbody tr th {\n",
       "        vertical-align: top;\n",
       "    }\n",
       "\n",
       "    .dataframe thead th {\n",
       "        text-align: right;\n",
       "    }\n",
       "</style>\n",
       "<table border=\"1\" class=\"dataframe\">\n",
       "  <thead>\n",
       "    <tr style=\"text-align: right;\">\n",
       "      <th></th>\n",
       "      <th></th>\n",
       "      <th>is_canceled</th>\n",
       "    </tr>\n",
       "    <tr>\n",
       "      <th>arrival_date_year</th>\n",
       "      <th>arrival_month</th>\n",
       "      <th></th>\n",
       "    </tr>\n",
       "  </thead>\n",
       "  <tbody>\n",
       "    <tr>\n",
       "      <th rowspan=\"5\" valign=\"top\">2015</th>\n",
       "      <th>07</th>\n",
       "      <td>106</td>\n",
       "    </tr>\n",
       "    <tr>\n",
       "      <th>08</th>\n",
       "      <td>139</td>\n",
       "    </tr>\n",
       "    <tr>\n",
       "      <th>09</th>\n",
       "      <td>167</td>\n",
       "    </tr>\n",
       "    <tr>\n",
       "      <th>10</th>\n",
       "      <td>129</td>\n",
       "    </tr>\n",
       "    <tr>\n",
       "      <th>11</th>\n",
       "      <td>43</td>\n",
       "    </tr>\n",
       "  </tbody>\n",
       "</table>\n",
       "</div>"
      ],
      "text/plain": [
       "                                 is_canceled\n",
       "arrival_date_year arrival_month             \n",
       "2015              07                     106\n",
       "                  08                     139\n",
       "                  09                     167\n",
       "                  10                     129\n",
       "                  11                      43"
      ]
     },
     "execution_count": 16,
     "metadata": {},
     "output_type": "execute_result"
    }
   ],
   "source": [
    "data_canceled_and_date = data[['arrival_date_year', 'arrival_month', 'is_canceled']].groupby(by=['arrival_date_year', 'arrival_month']).sum()\n",
    "data_canceled_and_date.head()"
   ]
  },
  {
   "cell_type": "code",
   "execution_count": 17,
   "metadata": {
    "colab": {
     "base_uri": "https://localhost:8080/",
     "height": 542
    },
    "id": "LfG2M-CuDNBc",
    "outputId": "7052efb5-9c88-4ca2-bb4a-4b3ca92e61bf"
   },
   "outputs": [
    {
     "data": {
      "text/plain": [
       "<Figure size 36000x720 with 0 Axes>"
      ]
     },
     "metadata": {},
     "output_type": "display_data"
    },
    {
     "data": {
      "image/png": "[encoded data removed]",
      "text/plain": [
       "<Figure size 2160x576 with 1 Axes>"
      ]
     },
     "metadata": {
      "needs_background": "light"
     },
     "output_type": "display_data"
    }
   ],
   "source": [
    "plt.figure(figsize=(500,10));\n",
    "data_canceled_and_date.plot.bar(figsize=(30,8));\n",
    "plt.tight_layout()\n",
    "# Pintar todos los valores del eje X!!!"
   ]
  },
  {
   "cell_type": "markdown",
   "metadata": {
    "id": "KfrXc8nPK2q-"
   },
   "source": [
    "### lead_time \t\n"
   ]
  },
  {
   "cell_type": "code",
   "execution_count": 18,
   "metadata": {
    "colab": {
     "base_uri": "https://localhost:8080/"
    },
    "id": "8XrpF9o3LmDP",
    "outputId": "5378b79a-c9e1-4647-8b4c-dfce507e78dc"
   },
   "outputs": [
    {
     "data": {
      "text/plain": [
       "count    10000.000000\n",
       "mean       105.393800\n",
       "std        108.267682\n",
       "min          0.000000\n",
       "25%         18.000000\n",
       "50%         70.000000\n",
       "75%        164.000000\n",
       "max        629.000000\n",
       "Name: lead_time, dtype: float64"
      ]
     },
     "execution_count": 18,
     "metadata": {},
     "output_type": "execute_result"
    }
   ],
   "source": [
    "data['lead_time'].describe()"
   ]
  },
  {
   "cell_type": "code",
   "execution_count": 19,
   "metadata": {
    "colab": {
     "base_uri": "https://localhost:8080/",
     "height": 282
    },
    "id": "-q4AfaYrLmDZ",
    "outputId": "914808e2-7b3b-4cfe-de15-891e0bde5768"
   },
   "outputs": [
    {
     "data": {
      "text/plain": [
       "<AxesSubplot:>"
      ]
     },
     "execution_count": 19,
     "metadata": {},
     "output_type": "execute_result"
    },
    {
     "data": {
      "image/png": "[encoded data removed]",
      "text/plain": [
       "<Figure size 432x288 with 1 Axes>"
      ]
     },
     "metadata": {
      "needs_background": "light"
     },
     "output_type": "display_data"
    }
   ],
   "source": [
    "data['lead_time'].hist()"
   ]
  },
  {
   "cell_type": "markdown",
   "metadata": {
    "id": "1teS032jMJiz"
   },
   "source": [
    "##### Evolución histórica\n",
    "Vamos a mostrar como ha ido evolucionando la variable a lo largo de cada mes."
   ]
  },
  {
   "cell_type": "code",
   "execution_count": 20,
   "metadata": {
    "colab": {
     "base_uri": "https://localhost:8080/",
     "height": 237
    },
    "id": "_K4G60SQLmDb",
    "outputId": "669fed93-36d0-4a44-f9b8-fdd79bc2dd95"
   },
   "outputs": [
    {
     "data": {
      "text/html": [
       "<div>\n",
       "<style scoped>\n",
       "    .dataframe tbody tr th:only-of-type {\n",
       "        vertical-align: middle;\n",
       "    }\n",
       "\n",
       "    .dataframe tbody tr th {\n",
       "        vertical-align: top;\n",
       "    }\n",
       "\n",
       "    .dataframe thead th {\n",
       "        text-align: right;\n",
       "    }\n",
       "</style>\n",
       "<table border=\"1\" class=\"dataframe\">\n",
       "  <thead>\n",
       "    <tr style=\"text-align: right;\">\n",
       "      <th></th>\n",
       "      <th></th>\n",
       "      <th>lead_time</th>\n",
       "    </tr>\n",
       "    <tr>\n",
       "      <th>arrival_date_year</th>\n",
       "      <th>arrival_month</th>\n",
       "      <th></th>\n",
       "    </tr>\n",
       "  </thead>\n",
       "  <tbody>\n",
       "    <tr>\n",
       "      <th rowspan=\"5\" valign=\"top\">2015</th>\n",
       "      <th>07</th>\n",
       "      <td>30640</td>\n",
       "    </tr>\n",
       "    <tr>\n",
       "      <th>08</th>\n",
       "      <td>32627</td>\n",
       "    </tr>\n",
       "    <tr>\n",
       "      <th>09</th>\n",
       "      <td>50643</td>\n",
       "    </tr>\n",
       "    <tr>\n",
       "      <th>10</th>\n",
       "      <td>42165</td>\n",
       "    </tr>\n",
       "    <tr>\n",
       "      <th>11</th>\n",
       "      <td>7546</td>\n",
       "    </tr>\n",
       "  </tbody>\n",
       "</table>\n",
       "</div>"
      ],
      "text/plain": [
       "                                 lead_time\n",
       "arrival_date_year arrival_month           \n",
       "2015              07                 30640\n",
       "                  08                 32627\n",
       "                  09                 50643\n",
       "                  10                 42165\n",
       "                  11                  7546"
      ]
     },
     "execution_count": 20,
     "metadata": {},
     "output_type": "execute_result"
    }
   ],
   "source": [
    "data_lead_time_and_date = data[['arrival_date_year', 'arrival_month', 'lead_time']].groupby(by=['arrival_date_year', 'arrival_month']).sum()\n",
    "data_lead_time_and_date.head()"
   ]
  },
  {
   "cell_type": "code",
   "execution_count": 21,
   "metadata": {
    "colab": {
     "base_uri": "https://localhost:8080/",
     "height": 542
    },
    "id": "yY4NDnLFLmDe",
    "outputId": "acaa8788-edb9-475e-cde3-731687ae5ce4"
   },
   "outputs": [
    {
     "data": {
      "text/plain": [
       "<Figure size 36000x720 with 0 Axes>"
      ]
     },
     "metadata": {},
     "output_type": "display_data"
    },
    {
     "data": {
      "image/png": "[encoded data removed]",
      "text/plain": [
       "<Figure size 2160x576 with 1 Axes>"
      ]
     },
     "metadata": {
      "needs_background": "light"
     },
     "output_type": "display_data"
    }
   ],
   "source": [
    "plt.figure(figsize=(500,10));\n",
    "data_lead_time_and_date.plot.bar(figsize=(30,8));\n",
    "plt.tight_layout()\n",
    "# Pintar todos los valores del eje X!!!"
   ]
  },
  {
   "cell_type": "code",
   "execution_count": 22,
   "metadata": {
    "colab": {
     "base_uri": "https://localhost:8080/",
     "height": 565
    },
    "id": "rSKXgSqzNlgU",
    "outputId": "549c4b02-6128-42d3-89c1-dd309a418863"
   },
   "outputs": [
    {
     "ename": "KeyError",
     "evalue": "\"None of [Index(['arrival_date_year', 'arrival_month'], dtype='object')] are in the [columns]\"",
     "output_type": "error",
     "traceback": [
      "\u001b[1;31m---------------------------------------------------------------------------\u001b[0m",
      "\u001b[1;31mKeyError\u001b[0m                                  Traceback (most recent call last)",
      "\u001b[1;32m<ipython-input-22-613a161021a8>\u001b[0m in \u001b[0;36m<module>\u001b[1;34m\u001b[0m\n\u001b[1;32m----> 1\u001b[1;33m \u001b[0mdata_lead_time_and_date\u001b[0m\u001b[1;33m.\u001b[0m\u001b[0mplot\u001b[0m\u001b[1;33m.\u001b[0m\u001b[0mscatter\u001b[0m\u001b[1;33m(\u001b[0m\u001b[0mx\u001b[0m\u001b[1;33m=\u001b[0m\u001b[1;33m[\u001b[0m\u001b[1;34m'arrival_date_year'\u001b[0m\u001b[1;33m,\u001b[0m \u001b[1;34m'arrival_month'\u001b[0m\u001b[1;33m]\u001b[0m\u001b[1;33m,\u001b[0m \u001b[0my\u001b[0m\u001b[1;33m=\u001b[0m\u001b[1;33m[\u001b[0m\u001b[1;34m'lead_time'\u001b[0m\u001b[1;33m]\u001b[0m\u001b[1;33m)\u001b[0m\u001b[1;33m\u001b[0m\u001b[1;33m\u001b[0m\u001b[0m\n\u001b[0m",
      "\u001b[1;32mD:\\AnacondaPython\\lib\\site-packages\\pandas\\plotting\\_core.py\u001b[0m in \u001b[0;36mscatter\u001b[1;34m(self, x, y, s, c, **kwargs)\u001b[0m\n\u001b[0;32m   1611\u001b[0m             ...                       colormap='viridis')\n\u001b[0;32m   1612\u001b[0m         \"\"\"\n\u001b[1;32m-> 1613\u001b[1;33m         \u001b[1;32mreturn\u001b[0m \u001b[0mself\u001b[0m\u001b[1;33m(\u001b[0m\u001b[0mkind\u001b[0m\u001b[1;33m=\u001b[0m\u001b[1;34m\"scatter\"\u001b[0m\u001b[1;33m,\u001b[0m \u001b[0mx\u001b[0m\u001b[1;33m=\u001b[0m\u001b[0mx\u001b[0m\u001b[1;33m,\u001b[0m \u001b[0my\u001b[0m\u001b[1;33m=\u001b[0m\u001b[0my\u001b[0m\u001b[1;33m,\u001b[0m \u001b[0ms\u001b[0m\u001b[1;33m=\u001b[0m\u001b[0ms\u001b[0m\u001b[1;33m,\u001b[0m \u001b[0mc\u001b[0m\u001b[1;33m=\u001b[0m\u001b[0mc\u001b[0m\u001b[1;33m,\u001b[0m \u001b[1;33m**\u001b[0m\u001b[0mkwargs\u001b[0m\u001b[1;33m)\u001b[0m\u001b[1;33m\u001b[0m\u001b[1;33m\u001b[0m\u001b[0m\n\u001b[0m\u001b[0;32m   1614\u001b[0m \u001b[1;33m\u001b[0m\u001b[0m\n\u001b[0;32m   1615\u001b[0m     \u001b[1;32mdef\u001b[0m \u001b[0mhexbin\u001b[0m\u001b[1;33m(\u001b[0m\u001b[0mself\u001b[0m\u001b[1;33m,\u001b[0m \u001b[0mx\u001b[0m\u001b[1;33m,\u001b[0m \u001b[0my\u001b[0m\u001b[1;33m,\u001b[0m \u001b[0mC\u001b[0m\u001b[1;33m=\u001b[0m\u001b[1;32mNone\u001b[0m\u001b[1;33m,\u001b[0m \u001b[0mreduce_C_function\u001b[0m\u001b[1;33m=\u001b[0m\u001b[1;32mNone\u001b[0m\u001b[1;33m,\u001b[0m \u001b[0mgridsize\u001b[0m\u001b[1;33m=\u001b[0m\u001b[1;32mNone\u001b[0m\u001b[1;33m,\u001b[0m \u001b[1;33m**\u001b[0m\u001b[0mkwargs\u001b[0m\u001b[1;33m)\u001b[0m\u001b[1;33m:\u001b[0m\u001b[1;33m\u001b[0m\u001b[1;33m\u001b[0m\u001b[0m\n",
      "\u001b[1;32mD:\\AnacondaPython\\lib\\site-packages\\pandas\\plotting\\_core.py\u001b[0m in \u001b[0;36m__call__\u001b[1;34m(self, *args, **kwargs)\u001b[0m\n\u001b[0;32m    892\u001b[0m         \u001b[1;32mif\u001b[0m \u001b[0mkind\u001b[0m \u001b[1;32min\u001b[0m \u001b[0mself\u001b[0m\u001b[1;33m.\u001b[0m\u001b[0m_dataframe_kinds\u001b[0m\u001b[1;33m:\u001b[0m\u001b[1;33m\u001b[0m\u001b[1;33m\u001b[0m\u001b[0m\n\u001b[0;32m    893\u001b[0m             \u001b[1;32mif\u001b[0m \u001b[0misinstance\u001b[0m\u001b[1;33m(\u001b[0m\u001b[0mdata\u001b[0m\u001b[1;33m,\u001b[0m \u001b[0mABCDataFrame\u001b[0m\u001b[1;33m)\u001b[0m\u001b[1;33m:\u001b[0m\u001b[1;33m\u001b[0m\u001b[1;33m\u001b[0m\u001b[0m\n\u001b[1;32m--> 894\u001b[1;33m                 \u001b[1;32mreturn\u001b[0m \u001b[0mplot_backend\u001b[0m\u001b[1;33m.\u001b[0m\u001b[0mplot\u001b[0m\u001b[1;33m(\u001b[0m\u001b[0mdata\u001b[0m\u001b[1;33m,\u001b[0m \u001b[0mx\u001b[0m\u001b[1;33m=\u001b[0m\u001b[0mx\u001b[0m\u001b[1;33m,\u001b[0m \u001b[0my\u001b[0m\u001b[1;33m=\u001b[0m\u001b[0my\u001b[0m\u001b[1;33m,\u001b[0m \u001b[0mkind\u001b[0m\u001b[1;33m=\u001b[0m\u001b[0mkind\u001b[0m\u001b[1;33m,\u001b[0m \u001b[1;33m**\u001b[0m\u001b[0mkwargs\u001b[0m\u001b[1;33m)\u001b[0m\u001b[1;33m\u001b[0m\u001b[1;33m\u001b[0m\u001b[0m\n\u001b[0m\u001b[0;32m    895\u001b[0m             \u001b[1;32melse\u001b[0m\u001b[1;33m:\u001b[0m\u001b[1;33m\u001b[0m\u001b[1;33m\u001b[0m\u001b[0m\n\u001b[0;32m    896\u001b[0m                 \u001b[1;32mraise\u001b[0m \u001b[0mValueError\u001b[0m\u001b[1;33m(\u001b[0m\u001b[1;34mf\"plot kind {kind} can only be used for data frames\"\u001b[0m\u001b[1;33m)\u001b[0m\u001b[1;33m\u001b[0m\u001b[1;33m\u001b[0m\u001b[0m\n",
      "\u001b[1;32mD:\\AnacondaPython\\lib\\site-packages\\pandas\\plotting\\_matplotlib\\__init__.py\u001b[0m in \u001b[0;36mplot\u001b[1;34m(data, kind, **kwargs)\u001b[0m\n\u001b[0;32m     59\u001b[0m             \u001b[0mkwargs\u001b[0m\u001b[1;33m[\u001b[0m\u001b[1;34m\"ax\"\u001b[0m\u001b[1;33m]\u001b[0m \u001b[1;33m=\u001b[0m \u001b[0mgetattr\u001b[0m\u001b[1;33m(\u001b[0m\u001b[0max\u001b[0m\u001b[1;33m,\u001b[0m \u001b[1;34m\"left_ax\"\u001b[0m\u001b[1;33m,\u001b[0m \u001b[0max\u001b[0m\u001b[1;33m)\u001b[0m\u001b[1;33m\u001b[0m\u001b[1;33m\u001b[0m\u001b[0m\n\u001b[0;32m     60\u001b[0m     \u001b[0mplot_obj\u001b[0m \u001b[1;33m=\u001b[0m \u001b[0mPLOT_CLASSES\u001b[0m\u001b[1;33m[\u001b[0m\u001b[0mkind\u001b[0m\u001b[1;33m]\u001b[0m\u001b[1;33m(\u001b[0m\u001b[0mdata\u001b[0m\u001b[1;33m,\u001b[0m \u001b[1;33m**\u001b[0m\u001b[0mkwargs\u001b[0m\u001b[1;33m)\u001b[0m\u001b[1;33m\u001b[0m\u001b[1;33m\u001b[0m\u001b[0m\n\u001b[1;32m---> 61\u001b[1;33m     \u001b[0mplot_obj\u001b[0m\u001b[1;33m.\u001b[0m\u001b[0mgenerate\u001b[0m\u001b[1;33m(\u001b[0m\u001b[1;33m)\u001b[0m\u001b[1;33m\u001b[0m\u001b[1;33m\u001b[0m\u001b[0m\n\u001b[0m\u001b[0;32m     62\u001b[0m     \u001b[0mplot_obj\u001b[0m\u001b[1;33m.\u001b[0m\u001b[0mdraw\u001b[0m\u001b[1;33m(\u001b[0m\u001b[1;33m)\u001b[0m\u001b[1;33m\u001b[0m\u001b[1;33m\u001b[0m\u001b[0m\n\u001b[0;32m     63\u001b[0m     \u001b[1;32mreturn\u001b[0m \u001b[0mplot_obj\u001b[0m\u001b[1;33m.\u001b[0m\u001b[0mresult\u001b[0m\u001b[1;33m\u001b[0m\u001b[1;33m\u001b[0m\u001b[0m\n",
      "\u001b[1;32mD:\\AnacondaPython\\lib\\site-packages\\pandas\\plotting\\_matplotlib\\core.py\u001b[0m in \u001b[0;36mgenerate\u001b[1;34m(self)\u001b[0m\n\u001b[0;32m    269\u001b[0m         \u001b[0mself\u001b[0m\u001b[1;33m.\u001b[0m\u001b[0m_compute_plot_data\u001b[0m\u001b[1;33m(\u001b[0m\u001b[1;33m)\u001b[0m\u001b[1;33m\u001b[0m\u001b[1;33m\u001b[0m\u001b[0m\n\u001b[0;32m    270\u001b[0m         \u001b[0mself\u001b[0m\u001b[1;33m.\u001b[0m\u001b[0m_setup_subplots\u001b[0m\u001b[1;33m(\u001b[0m\u001b[1;33m)\u001b[0m\u001b[1;33m\u001b[0m\u001b[1;33m\u001b[0m\u001b[0m\n\u001b[1;32m--> 271\u001b[1;33m         \u001b[0mself\u001b[0m\u001b[1;33m.\u001b[0m\u001b[0m_make_plot\u001b[0m\u001b[1;33m(\u001b[0m\u001b[1;33m)\u001b[0m\u001b[1;33m\u001b[0m\u001b[1;33m\u001b[0m\u001b[0m\n\u001b[0m\u001b[0;32m    272\u001b[0m         \u001b[0mself\u001b[0m\u001b[1;33m.\u001b[0m\u001b[0m_add_table\u001b[0m\u001b[1;33m(\u001b[0m\u001b[1;33m)\u001b[0m\u001b[1;33m\u001b[0m\u001b[1;33m\u001b[0m\u001b[0m\n\u001b[0;32m    273\u001b[0m         \u001b[0mself\u001b[0m\u001b[1;33m.\u001b[0m\u001b[0m_make_legend\u001b[0m\u001b[1;33m(\u001b[0m\u001b[1;33m)\u001b[0m\u001b[1;33m\u001b[0m\u001b[1;33m\u001b[0m\u001b[0m\n",
      "\u001b[1;32mD:\\AnacondaPython\\lib\\site-packages\\pandas\\plotting\\_matplotlib\\core.py\u001b[0m in \u001b[0;36m_make_plot\u001b[1;34m(self)\u001b[0m\n\u001b[0;32m   1009\u001b[0m             \u001b[0mlabel\u001b[0m \u001b[1;33m=\u001b[0m \u001b[1;32mNone\u001b[0m\u001b[1;33m\u001b[0m\u001b[1;33m\u001b[0m\u001b[0m\n\u001b[0;32m   1010\u001b[0m         scatter = ax.scatter(\n\u001b[1;32m-> 1011\u001b[1;33m             \u001b[0mdata\u001b[0m\u001b[1;33m[\u001b[0m\u001b[0mx\u001b[0m\u001b[1;33m]\u001b[0m\u001b[1;33m.\u001b[0m\u001b[0mvalues\u001b[0m\u001b[1;33m,\u001b[0m\u001b[1;33m\u001b[0m\u001b[1;33m\u001b[0m\u001b[0m\n\u001b[0m\u001b[0;32m   1012\u001b[0m             \u001b[0mdata\u001b[0m\u001b[1;33m[\u001b[0m\u001b[0my\u001b[0m\u001b[1;33m]\u001b[0m\u001b[1;33m.\u001b[0m\u001b[0mvalues\u001b[0m\u001b[1;33m,\u001b[0m\u001b[1;33m\u001b[0m\u001b[1;33m\u001b[0m\u001b[0m\n\u001b[0;32m   1013\u001b[0m             \u001b[0mc\u001b[0m\u001b[1;33m=\u001b[0m\u001b[0mc_values\u001b[0m\u001b[1;33m,\u001b[0m\u001b[1;33m\u001b[0m\u001b[1;33m\u001b[0m\u001b[0m\n",
      "\u001b[1;32mD:\\AnacondaPython\\lib\\site-packages\\pandas\\core\\frame.py\u001b[0m in \u001b[0;36m__getitem__\u001b[1;34m(self, key)\u001b[0m\n\u001b[0;32m   2906\u001b[0m             \u001b[1;32mif\u001b[0m \u001b[0mis_iterator\u001b[0m\u001b[1;33m(\u001b[0m\u001b[0mkey\u001b[0m\u001b[1;33m)\u001b[0m\u001b[1;33m:\u001b[0m\u001b[1;33m\u001b[0m\u001b[1;33m\u001b[0m\u001b[0m\n\u001b[0;32m   2907\u001b[0m                 \u001b[0mkey\u001b[0m \u001b[1;33m=\u001b[0m \u001b[0mlist\u001b[0m\u001b[1;33m(\u001b[0m\u001b[0mkey\u001b[0m\u001b[1;33m)\u001b[0m\u001b[1;33m\u001b[0m\u001b[1;33m\u001b[0m\u001b[0m\n\u001b[1;32m-> 2908\u001b[1;33m             \u001b[0mindexer\u001b[0m \u001b[1;33m=\u001b[0m \u001b[0mself\u001b[0m\u001b[1;33m.\u001b[0m\u001b[0mloc\u001b[0m\u001b[1;33m.\u001b[0m\u001b[0m_get_listlike_indexer\u001b[0m\u001b[1;33m(\u001b[0m\u001b[0mkey\u001b[0m\u001b[1;33m,\u001b[0m \u001b[0maxis\u001b[0m\u001b[1;33m=\u001b[0m\u001b[1;36m1\u001b[0m\u001b[1;33m,\u001b[0m \u001b[0mraise_missing\u001b[0m\u001b[1;33m=\u001b[0m\u001b[1;32mTrue\u001b[0m\u001b[1;33m)\u001b[0m\u001b[1;33m[\u001b[0m\u001b[1;36m1\u001b[0m\u001b[1;33m]\u001b[0m\u001b[1;33m\u001b[0m\u001b[1;33m\u001b[0m\u001b[0m\n\u001b[0m\u001b[0;32m   2909\u001b[0m \u001b[1;33m\u001b[0m\u001b[0m\n\u001b[0;32m   2910\u001b[0m         \u001b[1;31m# take() does not accept boolean indexers\u001b[0m\u001b[1;33m\u001b[0m\u001b[1;33m\u001b[0m\u001b[1;33m\u001b[0m\u001b[0m\n",
      "\u001b[1;32mD:\\AnacondaPython\\lib\\site-packages\\pandas\\core\\indexing.py\u001b[0m in \u001b[0;36m_get_listlike_indexer\u001b[1;34m(self, key, axis, raise_missing)\u001b[0m\n\u001b[0;32m   1252\u001b[0m             \u001b[0mkeyarr\u001b[0m\u001b[1;33m,\u001b[0m \u001b[0mindexer\u001b[0m\u001b[1;33m,\u001b[0m \u001b[0mnew_indexer\u001b[0m \u001b[1;33m=\u001b[0m \u001b[0max\u001b[0m\u001b[1;33m.\u001b[0m\u001b[0m_reindex_non_unique\u001b[0m\u001b[1;33m(\u001b[0m\u001b[0mkeyarr\u001b[0m\u001b[1;33m)\u001b[0m\u001b[1;33m\u001b[0m\u001b[1;33m\u001b[0m\u001b[0m\n\u001b[0;32m   1253\u001b[0m \u001b[1;33m\u001b[0m\u001b[0m\n\u001b[1;32m-> 1254\u001b[1;33m         \u001b[0mself\u001b[0m\u001b[1;33m.\u001b[0m\u001b[0m_validate_read_indexer\u001b[0m\u001b[1;33m(\u001b[0m\u001b[0mkeyarr\u001b[0m\u001b[1;33m,\u001b[0m \u001b[0mindexer\u001b[0m\u001b[1;33m,\u001b[0m \u001b[0maxis\u001b[0m\u001b[1;33m,\u001b[0m \u001b[0mraise_missing\u001b[0m\u001b[1;33m=\u001b[0m\u001b[0mraise_missing\u001b[0m\u001b[1;33m)\u001b[0m\u001b[1;33m\u001b[0m\u001b[1;33m\u001b[0m\u001b[0m\n\u001b[0m\u001b[0;32m   1255\u001b[0m         \u001b[1;32mreturn\u001b[0m \u001b[0mkeyarr\u001b[0m\u001b[1;33m,\u001b[0m \u001b[0mindexer\u001b[0m\u001b[1;33m\u001b[0m\u001b[1;33m\u001b[0m\u001b[0m\n\u001b[0;32m   1256\u001b[0m \u001b[1;33m\u001b[0m\u001b[0m\n",
      "\u001b[1;32mD:\\AnacondaPython\\lib\\site-packages\\pandas\\core\\indexing.py\u001b[0m in \u001b[0;36m_validate_read_indexer\u001b[1;34m(self, key, indexer, axis, raise_missing)\u001b[0m\n\u001b[0;32m   1296\u001b[0m             \u001b[1;32mif\u001b[0m \u001b[0mmissing\u001b[0m \u001b[1;33m==\u001b[0m \u001b[0mlen\u001b[0m\u001b[1;33m(\u001b[0m\u001b[0mindexer\u001b[0m\u001b[1;33m)\u001b[0m\u001b[1;33m:\u001b[0m\u001b[1;33m\u001b[0m\u001b[1;33m\u001b[0m\u001b[0m\n\u001b[0;32m   1297\u001b[0m                 \u001b[0maxis_name\u001b[0m \u001b[1;33m=\u001b[0m \u001b[0mself\u001b[0m\u001b[1;33m.\u001b[0m\u001b[0mobj\u001b[0m\u001b[1;33m.\u001b[0m\u001b[0m_get_axis_name\u001b[0m\u001b[1;33m(\u001b[0m\u001b[0maxis\u001b[0m\u001b[1;33m)\u001b[0m\u001b[1;33m\u001b[0m\u001b[1;33m\u001b[0m\u001b[0m\n\u001b[1;32m-> 1298\u001b[1;33m                 \u001b[1;32mraise\u001b[0m \u001b[0mKeyError\u001b[0m\u001b[1;33m(\u001b[0m\u001b[1;34mf\"None of [{key}] are in the [{axis_name}]\"\u001b[0m\u001b[1;33m)\u001b[0m\u001b[1;33m\u001b[0m\u001b[1;33m\u001b[0m\u001b[0m\n\u001b[0m\u001b[0;32m   1299\u001b[0m \u001b[1;33m\u001b[0m\u001b[0m\n\u001b[0;32m   1300\u001b[0m             \u001b[1;31m# We (temporarily) allow for some missing keys with .loc, except in\u001b[0m\u001b[1;33m\u001b[0m\u001b[1;33m\u001b[0m\u001b[1;33m\u001b[0m\u001b[0m\n",
      "\u001b[1;31mKeyError\u001b[0m: \"None of [Index(['arrival_date_year', 'arrival_month'], dtype='object')] are in the [columns]\""
     ]
    },
    {
     "data": {
      "image/png": "[encoded data removed]",
      "text/plain": [
       "<Figure size 432x288 with 1 Axes>"
      ]
     },
     "metadata": {
      "needs_background": "light"
     },
     "output_type": "display_data"
    }
   ],
   "source": [
    "data_lead_time_and_date.plot.scatter(x=['arrival_date_year', 'arrival_month'], y=['lead_time'])"
   ]
  },
  {
   "cell_type": "markdown",
   "metadata": {
    "id": "fpQldNnHK-Al"
   },
   "source": [
    "### arrival_date_year \t"
   ]
  },
  {
   "cell_type": "code",
   "execution_count": null,
   "metadata": {
    "colab": {
     "base_uri": "https://localhost:8080/"
    },
    "id": "fmZ_Hp5TQp3b",
    "outputId": "6e048e08-fa12-4d58-d85b-c66e9b7b46ea"
   },
   "outputs": [],
   "source": [
    "data['arrival_date_year'].describe()"
   ]
  },
  {
   "cell_type": "code",
   "execution_count": null,
   "metadata": {
    "colab": {
     "base_uri": "https://localhost:8080/",
     "height": 309
    },
    "id": "cyy6qm-_Qp3f",
    "outputId": "7c7aeb34-6e5d-4f15-84f5-7738ed457c5d"
   },
   "outputs": [],
   "source": [
    "plt.xticks(rotation=45)\n",
    "data['arrival_date_year'].hist()"
   ]
  },
  {
   "cell_type": "markdown",
   "metadata": {
    "id": "zWDevJcCSVd9"
   },
   "source": [
    "##### Tabla de contingencias\n",
    "Sacamos una tabla de contingencias para ver con que probabilidad se cancela o no en función del año y pintarlo en una gráfica."
   ]
  },
  {
   "cell_type": "code",
   "execution_count": null,
   "metadata": {
    "colab": {
     "base_uri": "https://localhost:8080/",
     "height": 175
    },
    "id": "st_EZKjiRTRC",
    "outputId": "be483fe1-d2b1-4a06-a9b6-731757095d16"
   },
   "outputs": [],
   "source": [
    "data_prob_canceled_by_year = pd.crosstab(data['arrival_date_year'], data['is_canceled']).apply(lambda r: r/r.sum(), axis=1)\n",
    "data_prob_canceled_by_year"
   ]
  },
  {
   "cell_type": "code",
   "execution_count": null,
   "metadata": {
    "colab": {
     "base_uri": "https://localhost:8080/",
     "height": 542
    },
    "id": "LvwRlLLAS3K_",
    "outputId": "98b17cd7-003a-450b-dcf2-a743eead3253"
   },
   "outputs": [],
   "source": [
    "plt.figure(figsize=(500,10));\n",
    "data_prob_canceled_by_year.plot.bar(figsize=(30,8));\n",
    "plt.tight_layout()"
   ]
  },
  {
   "cell_type": "markdown",
   "metadata": {
    "id": "HnwfxgUkSCkp"
   },
   "source": [
    "##### Comparación con is_canceled\n",
    "Vamos a agrupar por año para ver como han ido cambiando las cancelaciones a lo largo de los años."
   ]
  },
  {
   "cell_type": "code",
   "execution_count": null,
   "metadata": {
    "colab": {
     "base_uri": "https://localhost:8080/",
     "height": 175
    },
    "id": "kEQhlTqMRTRE",
    "outputId": "177216f0-0e99-4a2a-da02-1e6c614a3c31"
   },
   "outputs": [],
   "source": [
    "data_year_and_canceled = data[['arrival_date_year', 'is_canceled']]\n",
    "data_year_and_canceled = data_year_and_canceled.groupby(by=['arrival_date_year']).sum()\n",
    "data_year_and_canceled"
   ]
  },
  {
   "cell_type": "code",
   "execution_count": null,
   "metadata": {
    "colab": {
     "base_uri": "https://localhost:8080/",
     "height": 542
    },
    "id": "DvbDNoclRTRF",
    "outputId": "aa6bbda6-6458-4f2c-8753-a5028357e81f"
   },
   "outputs": [],
   "source": [
    "plt.figure(figsize=(500,10));\n",
    "data_year_and_canceled.plot(figsize=(30,8));\n",
    "plt.tight_layout()\n",
    "# Pintar todos los valores del eje X!!!"
   ]
  },
  {
   "cell_type": "markdown",
   "metadata": {
    "id": "bIkhoVR9LBoh"
   },
   "source": [
    "### arrival_month \t\n",
    "Usamos arrival_month(numérica), en lugar de arrival_date_month(categórica), pues son equivalentes."
   ]
  },
  {
   "cell_type": "code",
   "execution_count": null,
   "metadata": {
    "colab": {
     "base_uri": "https://localhost:8080/"
    },
    "id": "uCPrRdPrTFkl",
    "outputId": "3b89760f-2b39-4970-bf5b-8bfa2f8870dd"
   },
   "outputs": [],
   "source": [
    "data['arrival_month'].describe()"
   ]
  },
  {
   "cell_type": "code",
   "execution_count": null,
   "metadata": {
    "colab": {
     "base_uri": "https://localhost:8080/",
     "height": 282
    },
    "id": "7rKi0HStTFkp",
    "outputId": "19429cb3-b92a-42ab-bd6b-bd4310aa60e2"
   },
   "outputs": [],
   "source": [
    "data['arrival_month'].hist()"
   ]
  },
  {
   "cell_type": "markdown",
   "metadata": {
    "id": "lEpLkBHRTFkr"
   },
   "source": [
    "##### Tabla de contingencias\n",
    "Sacamos una tabla de contingencias para ver con que probabilidad se cancela o no en función del mes y pintarlo en una gráfica."
   ]
  },
  {
   "cell_type": "code",
   "execution_count": null,
   "metadata": {
    "colab": {
     "base_uri": "https://localhost:8080/",
     "height": 457
    },
    "id": "0XIc5gYjTFkr",
    "outputId": "828e1281-843d-4d9c-9534-215260518c74"
   },
   "outputs": [],
   "source": [
    "data_prob_canceled_by_month = pd.crosstab(data['arrival_month'], data['is_canceled']).apply(lambda r: r/r.sum(), axis=1)\n",
    "data_prob_canceled_by_month"
   ]
  },
  {
   "cell_type": "code",
   "execution_count": null,
   "metadata": {
    "colab": {
     "base_uri": "https://localhost:8080/",
     "height": 542
    },
    "id": "PbAQ2mYiTFkt",
    "outputId": "f045741e-4f1d-4c41-99a3-127b2e7af63c"
   },
   "outputs": [],
   "source": [
    "plt.figure(figsize=(500,10));\n",
    "data_prob_canceled_by_month.plot(figsize=(30,8));\n",
    "plt.tight_layout()\n",
    "# Pintar todos los valores del eje X!!!"
   ]
  },
  {
   "cell_type": "markdown",
   "metadata": {
    "id": "JXsbkGNNTFkv"
   },
   "source": [
    "#### Comparación con is_canceled\n",
    "Vamos a agrupar por mes para ver como han ido cambiando las cancelaciones a lo largo de los meses."
   ]
  },
  {
   "cell_type": "code",
   "execution_count": null,
   "metadata": {
    "colab": {
     "base_uri": "https://localhost:8080/",
     "height": 457
    },
    "id": "iwFpr4SlTFkv",
    "outputId": "e72e0291-8ff4-4dc3-a415-3590937ce7a7"
   },
   "outputs": [],
   "source": [
    "data_month_and_canceled = data[['arrival_month', 'is_canceled']]\n",
    "data_month_and_canceled = data_month_and_canceled.groupby(by=['arrival_month']).sum()\n",
    "data_month_and_canceled"
   ]
  },
  {
   "cell_type": "code",
   "execution_count": null,
   "metadata": {
    "colab": {
     "base_uri": "https://localhost:8080/",
     "height": 542
    },
    "id": "cu55AjdGTFky",
    "outputId": "bc30952f-f077-4c1d-c1c3-88db14a7097f"
   },
   "outputs": [],
   "source": [
    "plt.figure(figsize=(500,10));\n",
    "data_month_and_canceled.plot(figsize=(30,8));\n",
    "plt.tight_layout()\n",
    "# Pintar todos los valores del eje X!!!"
   ]
  },
  {
   "cell_type": "markdown",
   "metadata": {
    "id": "YAzRvPzZLBeS"
   },
   "source": [
    "### arrival_date_week_number \t"
   ]
  },
  {
   "cell_type": "code",
   "execution_count": null,
   "metadata": {
    "colab": {
     "base_uri": "https://localhost:8080/"
    },
    "id": "TyeD2KI1Uj5n",
    "outputId": "e0fd3901-c1ac-43ef-b9a8-484c198f9ade"
   },
   "outputs": [],
   "source": [
    "data['arrival_date_week_number'].describe()"
   ]
  },
  {
   "cell_type": "code",
   "execution_count": null,
   "metadata": {
    "colab": {
     "base_uri": "https://localhost:8080/",
     "height": 282
    },
    "id": "YZ7jwIi6Uj5r",
    "outputId": "167dbd98-b6f1-4e4c-f619-be75f25c1035"
   },
   "outputs": [],
   "source": [
    "data['arrival_date_week_number'].hist()"
   ]
  },
  {
   "cell_type": "markdown",
   "metadata": {
    "id": "p6yxLempUj5t"
   },
   "source": [
    "##### Tabla de contingencias\n",
    "Sacamos una tabla de contingencias para ver con que probabilidad se cancela o no en función de la semana y pintarlo en una gráfica."
   ]
  },
  {
   "cell_type": "code",
   "execution_count": null,
   "metadata": {
    "colab": {
     "base_uri": "https://localhost:8080/",
     "height": 237
    },
    "id": "wLnPp2C_Uj5t",
    "outputId": "82aebba1-b945-4862-9912-a15d0ac6ee51"
   },
   "outputs": [],
   "source": [
    "data_prob_canceled_by_weeknumber = pd.crosstab(data['arrival_date_week_number'], data['is_canceled']).apply(lambda r: r/r.sum(), axis=1)\n",
    "data_prob_canceled_by_weeknumber.head()"
   ]
  },
  {
   "cell_type": "code",
   "execution_count": null,
   "metadata": {
    "colab": {
     "base_uri": "https://localhost:8080/",
     "height": 542
    },
    "id": "GMyVYuLsUj5v",
    "outputId": "1dc83e6a-a06a-4fba-f6d5-05f565f26bcb"
   },
   "outputs": [],
   "source": [
    "plt.figure(figsize=(500,10));\n",
    "data_prob_canceled_by_weeknumber.plot.bar(figsize=(30,8));\n",
    "plt.tight_layout()\n",
    "# Pintar todos los valores del eje X!!!"
   ]
  },
  {
   "cell_type": "markdown",
   "metadata": {
    "id": "bQv0tNOtUj5x"
   },
   "source": [
    "#### Comparación con is_canceled\n",
    "Vamos a agrupar por el número de la semana para ver como han ido cambiando las cancelaciones a lo largo de las mismas."
   ]
  },
  {
   "cell_type": "code",
   "execution_count": null,
   "metadata": {
    "colab": {
     "base_uri": "https://localhost:8080/",
     "height": 237
    },
    "id": "Mb4qMg36Uj5x",
    "outputId": "dd093a10-802d-4dc9-944c-8a52559e7780"
   },
   "outputs": [],
   "source": [
    "data_week_and_canceled = data[['arrival_date_week_number', 'is_canceled']]\n",
    "data_week_and_canceled = data_week_and_canceled.groupby(by=['arrival_date_week_number']).sum()\n",
    "data_week_and_canceled.head()"
   ]
  },
  {
   "cell_type": "code",
   "execution_count": null,
   "metadata": {
    "colab": {
     "base_uri": "https://localhost:8080/",
     "height": 542
    },
    "id": "K-9HAKiPUj5x",
    "outputId": "631d31f5-fa22-4f40-df3c-b31164795856"
   },
   "outputs": [],
   "source": [
    "plt.figure(figsize=(500,10));\n",
    "data_week_and_canceled.plot.bar(figsize=(30,8));\n",
    "plt.tight_layout()\n",
    "# Pintar todos los valores del eje X!!!"
   ]
  },
  {
   "cell_type": "markdown",
   "metadata": {
    "id": "fH3paBulLBUE"
   },
   "source": [
    "### arrival_date_day_of_month \t"
   ]
  },
  {
   "cell_type": "markdown",
   "metadata": {
    "id": "CKfnpnXWVcK0"
   },
   "source": [
    "##### Tabla de contingencias\n",
    "Sacamos una tabla de contingencias para ver con que probabilidad se cancela o no en función del día del mes y pintarlo en una gráfica."
   ]
  },
  {
   "cell_type": "code",
   "execution_count": null,
   "metadata": {
    "colab": {
     "base_uri": "https://localhost:8080/",
     "height": 237
    },
    "id": "dj-qVrD5VcK0",
    "outputId": "8125931e-8ac8-4b99-b702-d47d66fef6fd"
   },
   "outputs": [],
   "source": [
    "data_prob_canceled_by_daynumber = pd.crosstab(data['arrival_date_day_of_month'], data['is_canceled']).apply(lambda r: r/r.sum(), axis=1)\n",
    "data_prob_canceled_by_daynumber.head()"
   ]
  },
  {
   "cell_type": "code",
   "execution_count": null,
   "metadata": {
    "colab": {
     "base_uri": "https://localhost:8080/",
     "height": 542
    },
    "id": "z_5NyAV4VcK0",
    "outputId": "0fa40fa1-94e8-4ace-9b97-38059de933ab"
   },
   "outputs": [],
   "source": [
    "plt.figure(figsize=(500,10));\n",
    "data_prob_canceled_by_daynumber.plot.bar(figsize=(30,8));\n",
    "plt.tight_layout()\n",
    "# Pintar todos los valores del eje X!!!"
   ]
  },
  {
   "cell_type": "markdown",
   "metadata": {
    "id": "0RJtHFvPVcK1"
   },
   "source": [
    "##### Comparación con is_canceled\n",
    "Vamos a agrupar por día del mes para ver como han ido cambiando las cancelaciones a lo largo de los mismos."
   ]
  },
  {
   "cell_type": "code",
   "execution_count": null,
   "metadata": {
    "colab": {
     "base_uri": "https://localhost:8080/",
     "height": 237
    },
    "id": "NgKhGccNVcK1",
    "outputId": "709b2f5c-b2e0-4bb5-eba1-d328925517be"
   },
   "outputs": [],
   "source": [
    "data_day_and_canceled = data[['arrival_date_day_of_month', 'is_canceled']]\n",
    "data_day_and_canceled = data_day_and_canceled.groupby(by=['arrival_date_day_of_month']).sum()\n",
    "data_day_and_canceled.head()"
   ]
  },
  {
   "cell_type": "code",
   "execution_count": null,
   "metadata": {
    "colab": {
     "base_uri": "https://localhost:8080/",
     "height": 542
    },
    "id": "aOrMNdwUVcK1",
    "outputId": "4e45f9fc-5f36-4251-da45-551711c7b030"
   },
   "outputs": [],
   "source": [
    "plt.figure(figsize=(500,10));\n",
    "data_day_and_canceled.plot.bar(figsize=(30,8));\n",
    "plt.tight_layout()\n",
    "# Pintar todos los valores del eje X!!!"
   ]
  },
  {
   "cell_type": "markdown",
   "metadata": {
    "id": "XfqgHa-1LBJ4"
   },
   "source": [
    "### stays_in_weekend_nights \t"
   ]
  },
  {
   "cell_type": "code",
   "execution_count": null,
   "metadata": {
    "colab": {
     "base_uri": "https://localhost:8080/"
    },
    "id": "8BJmlwB6WLZI",
    "outputId": "438d7050-b990-47c6-8200-8269e2fa6563"
   },
   "outputs": [],
   "source": [
    "data['stays_in_weekend_nights'].describe()"
   ]
  },
  {
   "cell_type": "code",
   "execution_count": null,
   "metadata": {
    "colab": {
     "base_uri": "https://localhost:8080/",
     "height": 282
    },
    "id": "3LPfO6lYWLZM",
    "outputId": "f37465f2-2946-4ae0-e8ad-b0e1604918e8"
   },
   "outputs": [],
   "source": [
    "data['stays_in_weekend_nights'].hist()"
   ]
  },
  {
   "cell_type": "markdown",
   "metadata": {
    "id": "kJ3VtmZKWE9v"
   },
   "source": [
    "##### Tabla de contingencias\n",
    "Sacamos una tabla de contingencias para ver con que probabilidad se cancela o no en función del número de noches de fin de semana y pintarlo en una gráfica."
   ]
  },
  {
   "cell_type": "code",
   "execution_count": null,
   "metadata": {
    "colab": {
     "base_uri": "https://localhost:8080/",
     "height": 394
    },
    "id": "GaONIhBlWE9w",
    "outputId": "5b655cde-cc41-4f2e-f463-23bf8b2aee86"
   },
   "outputs": [],
   "source": [
    "data_prob_canceled_by_weekend_nights = pd.crosstab(data['stays_in_weekend_nights'], data['is_canceled']).apply(lambda r: r/r.sum(), axis=1)\n",
    "data_prob_canceled_by_weekend_nights"
   ]
  },
  {
   "cell_type": "markdown",
   "metadata": {
    "id": "kaRvIruRW4YO"
   },
   "source": [
    "Aquí se pueden ver algunos detalles significativos. Cuando se reservan 10 noches de fin de semana NADIE ha cancelado nunca la reserva. Y cuando se reservan 7 noches de fin de semana, TODO el mundo ha cancelado la reserva."
   ]
  },
  {
   "cell_type": "code",
   "execution_count": null,
   "metadata": {
    "colab": {
     "base_uri": "https://localhost:8080/",
     "height": 542
    },
    "id": "a-BZs4DCWE9z",
    "outputId": "41a9b449-ad46-4a0e-ef7f-7a9d342322e0"
   },
   "outputs": [],
   "source": [
    "plt.figure(figsize=(500,10));\n",
    "data_prob_canceled_by_weekend_nights.plot.bar(figsize=(30,8));\n",
    "plt.tight_layout()\n",
    "# Pintar todos los valores del eje X!!!"
   ]
  },
  {
   "cell_type": "markdown",
   "metadata": {
    "id": "hlPGsyttWE90"
   },
   "source": [
    "##### Comparación con is_canceled\n",
    "Vamos a agrupar por la variable para ver como han ido cambiando las cancelaciones en función de la misma."
   ]
  },
  {
   "cell_type": "code",
   "execution_count": null,
   "metadata": {
    "colab": {
     "base_uri": "https://localhost:8080/",
     "height": 394
    },
    "id": "vqZd9DMyWE91",
    "outputId": "1ceefcbb-682b-4f18-c961-811866c3f143"
   },
   "outputs": [],
   "source": [
    "data_weekend_nights_and_canceled = data[['stays_in_weekend_nights', 'is_canceled']]\n",
    "data_weekend_nights_and_canceled = data_weekend_nights_and_canceled.groupby(by=['stays_in_weekend_nights']).sum()\n",
    "data_weekend_nights_and_canceled"
   ]
  },
  {
   "cell_type": "markdown",
   "metadata": {
    "id": "vmWmmw6MXkeD"
   },
   "source": [
    "Al ver estos resultado se aprecia que la probabilidad de antes es engañosa, ya que se debe a muestras muy pequeñas o incluso vacías."
   ]
  },
  {
   "cell_type": "code",
   "execution_count": null,
   "metadata": {
    "colab": {
     "base_uri": "https://localhost:8080/",
     "height": 542
    },
    "id": "b-jIpc6jWE92",
    "outputId": "28581abb-dfda-4d21-e287-9a777dab49d4"
   },
   "outputs": [],
   "source": [
    "plt.figure(figsize=(500,10));\n",
    "data_weekend_nights_and_canceled.plot.bar(figsize=(30,8));\n",
    "plt.tight_layout()\n",
    "# Pintar todos los valores del eje X!!!"
   ]
  },
  {
   "cell_type": "markdown",
   "metadata": {
    "id": "iFN1_qG8LA9u"
   },
   "source": [
    "### stays_in_week_nights \t"
   ]
  },
  {
   "cell_type": "code",
   "execution_count": null,
   "metadata": {
    "colab": {
     "base_uri": "https://localhost:8080/"
    },
    "id": "i4UREPYnX0i1",
    "outputId": "f1681a31-fe5d-4ca8-a299-e701d81c58b4"
   },
   "outputs": [],
   "source": [
    "data['stays_in_week_nights'].describe()"
   ]
  },
  {
   "cell_type": "code",
   "execution_count": null,
   "metadata": {
    "colab": {
     "base_uri": "https://localhost:8080/",
     "height": 282
    },
    "id": "oZ41x0k1X0i4",
    "outputId": "9c5bae4c-03f9-40d9-d570-c92db4c30980"
   },
   "outputs": [],
   "source": [
    "data['stays_in_week_nights'].hist()"
   ]
  },
  {
   "cell_type": "markdown",
   "metadata": {
    "id": "ZcsyxGt1X0i7"
   },
   "source": [
    "##### Tabla de contingencias\n",
    "Sacamos una tabla de contingencias para ver con que probabilidad se cancela o no en función del número de noches entre semana y pintarlo en una gráfica."
   ]
  },
  {
   "cell_type": "code",
   "execution_count": null,
   "metadata": {
    "colab": {
     "base_uri": "https://localhost:8080/",
     "height": 739
    },
    "id": "9DuSeX8HX0i7",
    "outputId": "d850f59d-d36f-4dca-9a38-5124f9da8e42"
   },
   "outputs": [],
   "source": [
    "data_prob_canceled_by_week_nights = pd.crosstab(data['stays_in_week_nights'], data['is_canceled']).apply(lambda r: r/r.sum(), axis=1)\n",
    "data_prob_canceled_by_week_nights"
   ]
  },
  {
   "cell_type": "code",
   "execution_count": null,
   "metadata": {
    "colab": {
     "base_uri": "https://localhost:8080/",
     "height": 542
    },
    "id": "mb-xMflsX0i9",
    "outputId": "05f0d010-1499-4728-a972-7192a29dd829"
   },
   "outputs": [],
   "source": [
    "plt.figure(figsize=(500,10));\n",
    "data_prob_canceled_by_week_nights.plot.bar(figsize=(30,8));\n",
    "plt.tight_layout()\n",
    "# Pintar todos los valores del eje X!!!"
   ]
  },
  {
   "cell_type": "markdown",
   "metadata": {
    "id": "qhwjwhsyX0jA"
   },
   "source": [
    "##### Comparación con is_canceled\n",
    "Vamos a agrupar por la variable para ver como han ido cambiando las cancelaciones a lo largo de la misma."
   ]
  },
  {
   "cell_type": "code",
   "execution_count": null,
   "metadata": {
    "colab": {
     "base_uri": "https://localhost:8080/",
     "height": 739
    },
    "id": "NhPBoWskX0jB",
    "outputId": "d62883a6-0913-4c7f-92cc-951f0b6dcf80"
   },
   "outputs": [],
   "source": [
    "data_week_nights_and_canceled = data[['stays_in_week_nights', 'is_canceled']]\n",
    "data_week_nights_and_canceled = data_week_nights_and_canceled.groupby(by=['stays_in_week_nights']).sum()\n",
    "data_week_nights_and_canceled"
   ]
  },
  {
   "cell_type": "code",
   "execution_count": null,
   "metadata": {
    "colab": {
     "base_uri": "https://localhost:8080/",
     "height": 542
    },
    "id": "NSDWMDnAX0jB",
    "outputId": "e541f84b-3ea6-4110-f35d-3309228e9179"
   },
   "outputs": [],
   "source": [
    "plt.figure(figsize=(500,10));\n",
    "data_week_nights_and_canceled.plot.bar(figsize=(30,8));\n",
    "plt.tight_layout()\n",
    "# Pintar todos los valores del eje X!!!"
   ]
  },
  {
   "cell_type": "markdown",
   "metadata": {
    "id": "FMdxp0vMLAtI"
   },
   "source": [
    "### adults \t"
   ]
  },
  {
   "cell_type": "code",
   "execution_count": null,
   "metadata": {
    "colab": {
     "base_uri": "https://localhost:8080/"
    },
    "id": "O1TdfPXAYpd5",
    "outputId": "cb262a36-f5cb-4b03-f76c-592d67689f39"
   },
   "outputs": [],
   "source": [
    "data['adults'].describe()"
   ]
  },
  {
   "cell_type": "code",
   "execution_count": null,
   "metadata": {
    "colab": {
     "base_uri": "https://localhost:8080/",
     "height": 282
    },
    "id": "cOBfE5cxYpd7",
    "outputId": "59143a24-ca2c-489e-f99e-8810cd12e51a"
   },
   "outputs": [],
   "source": [
    "data['adults'].hist()"
   ]
  },
  {
   "cell_type": "markdown",
   "metadata": {
    "id": "3vYerCXDYpd8"
   },
   "source": [
    "##### Tabla de contingencias\n",
    "Sacamos una tabla de contingencias para ver con que probabilidad se cancela o no en función del número de adultos y pintarlo en una gráfica."
   ]
  },
  {
   "cell_type": "code",
   "execution_count": null,
   "metadata": {
    "colab": {
     "base_uri": "https://localhost:8080/",
     "height": 300
    },
    "id": "_7q4IYJWYpd8",
    "outputId": "46a5d481-c170-46bb-846b-9d2a6835796a"
   },
   "outputs": [],
   "source": [
    "data_prob_canceled_by_adults = pd.crosstab(data['adults'], data['is_canceled']).apply(lambda r: r/r.sum(), axis=1)\n",
    "data_prob_canceled_by_adults"
   ]
  },
  {
   "cell_type": "code",
   "execution_count": null,
   "metadata": {
    "colab": {
     "base_uri": "https://localhost:8080/",
     "height": 542
    },
    "id": "u7asDdVsYpd9",
    "outputId": "f97cdee2-c8b7-40f4-ff2f-d87d16dec33c"
   },
   "outputs": [],
   "source": [
    "plt.figure(figsize=(500,10));\n",
    "data_prob_canceled_by_adults.plot.bar(figsize=(30,8));\n",
    "plt.tight_layout()\n",
    "# Pintar todos los valores del eje X!!!"
   ]
  },
  {
   "cell_type": "markdown",
   "metadata": {
    "id": "rUAl7S-qYpd-"
   },
   "source": [
    "#### Comparación con is_canceled\n",
    "Vamos a agrupar por el número de adultos para ver como han ido cambiando las cancelaciones en función de los mismos."
   ]
  },
  {
   "cell_type": "code",
   "execution_count": null,
   "metadata": {
    "colab": {
     "base_uri": "https://localhost:8080/",
     "height": 300
    },
    "id": "Bal-6umHYpd_",
    "outputId": "af3a5ec0-ad31-4dd4-de58-1a53017a0ba7"
   },
   "outputs": [],
   "source": [
    "data_adults_and_canceled = data[['adults', 'is_canceled']]\n",
    "data_adults_and_canceled = data_adults_and_canceled.groupby(by=['adults']).sum()\n",
    "data_adults_and_canceled"
   ]
  },
  {
   "cell_type": "code",
   "execution_count": null,
   "metadata": {
    "colab": {
     "base_uri": "https://localhost:8080/",
     "height": 542
    },
    "id": "X9BVzU6qYpeA",
    "outputId": "82be61f5-4909-482c-b8ab-c64d78e16a6b"
   },
   "outputs": [],
   "source": [
    "plt.figure(figsize=(500,10));\n",
    "data_adults_and_canceled.plot.bar(figsize=(30,8));\n",
    "plt.tight_layout()\n",
    "# Pintar todos los valores del eje X!!!"
   ]
  },
  {
   "cell_type": "markdown",
   "metadata": {
    "id": "oHxhoDXGLdWx"
   },
   "source": [
    "### children \t"
   ]
  },
  {
   "cell_type": "code",
   "execution_count": null,
   "metadata": {
    "colab": {
     "base_uri": "https://localhost:8080/"
    },
    "id": "ULR_S3TtZS-0",
    "outputId": "47878695-0db4-42ed-f9a7-e5b62b5f02a9"
   },
   "outputs": [],
   "source": [
    "data['children'].describe()"
   ]
  },
  {
   "cell_type": "code",
   "execution_count": null,
   "metadata": {
    "colab": {
     "base_uri": "https://localhost:8080/",
     "height": 282
    },
    "id": "CmYp0P2QZS-6",
    "outputId": "5b50e8c7-6721-4989-9b1c-04eef39880db"
   },
   "outputs": [],
   "source": [
    "data['children'].hist()"
   ]
  },
  {
   "cell_type": "markdown",
   "metadata": {
    "id": "1eV3Ovj8ZS-9"
   },
   "source": [
    "##### Tabla de contingencias\n",
    "Sacamos una tabla de contingencias para ver con que probabilidad se cancela o no en función del número de niños y pintarlo en una gráfica."
   ]
  },
  {
   "cell_type": "code",
   "execution_count": null,
   "metadata": {
    "colab": {
     "base_uri": "https://localhost:8080/",
     "height": 206
    },
    "id": "Ht_oIb40ZS-9",
    "outputId": "c421705c-a742-43fa-dde3-bb62d8ce4eed"
   },
   "outputs": [],
   "source": [
    "data_prob_canceled_by_children = pd.crosstab(data['children'], data['is_canceled']).apply(lambda r: r/r.sum(), axis=1)\n",
    "data_prob_canceled_by_children"
   ]
  },
  {
   "cell_type": "code",
   "execution_count": null,
   "metadata": {
    "colab": {
     "base_uri": "https://localhost:8080/",
     "height": 542
    },
    "id": "s9ZYWM9_ZS-_",
    "outputId": "186ab203-a26c-46e4-ac1e-681cbbb362b1"
   },
   "outputs": [],
   "source": [
    "plt.figure(figsize=(500,10));\n",
    "data_prob_canceled_by_children.plot.bar(figsize=(30,8));\n",
    "plt.tight_layout()\n",
    "# Pintar todos los valores del eje X!!!"
   ]
  },
  {
   "cell_type": "markdown",
   "metadata": {
    "id": "fG7wnuTiZS_A"
   },
   "source": [
    "#### Comparación con is_canceled\n",
    "Vamos a agrupar por el número de niños para ver como han ido cambiando las cancelaciones en función de los mismos."
   ]
  },
  {
   "cell_type": "code",
   "execution_count": null,
   "metadata": {
    "colab": {
     "base_uri": "https://localhost:8080/",
     "height": 206
    },
    "id": "hIW0mlo9ZS_B",
    "outputId": "001bbebb-6493-494f-dae8-94a1a13a7f81"
   },
   "outputs": [],
   "source": [
    "data_children_and_canceled = data[['children', 'is_canceled']]\n",
    "data_children_and_canceled = data_children_and_canceled.groupby(by=['children']).sum()\n",
    "data_children_and_canceled"
   ]
  },
  {
   "cell_type": "code",
   "execution_count": null,
   "metadata": {
    "colab": {
     "base_uri": "https://localhost:8080/",
     "height": 542
    },
    "id": "ckdcnD6_ZS_C",
    "outputId": "665147bb-2461-46f7-f93e-9408f8a8cad1"
   },
   "outputs": [],
   "source": [
    "plt.figure(figsize=(500,10));\n",
    "data_children_and_canceled.plot.bar(figsize=(30,8));\n",
    "plt.tight_layout()\n",
    "# Pintar todos los valores del eje X!!!"
   ]
  },
  {
   "cell_type": "markdown",
   "metadata": {
    "id": "eQwjCG68LfSI"
   },
   "source": [
    "### babies"
   ]
  },
  {
   "cell_type": "code",
   "execution_count": null,
   "metadata": {
    "colab": {
     "base_uri": "https://localhost:8080/"
    },
    "id": "HwREMvKvaMry",
    "outputId": "002c705b-3c62-487b-ec33-fc85948ac647"
   },
   "outputs": [],
   "source": [
    "data['babies'].describe()"
   ]
  },
  {
   "cell_type": "code",
   "execution_count": null,
   "metadata": {
    "colab": {
     "base_uri": "https://localhost:8080/",
     "height": 282
    },
    "id": "4kfE97iHaMrz",
    "outputId": "ec711764-337b-4514-a678-c4d326d17849"
   },
   "outputs": [],
   "source": [
    "data['babies'].hist()"
   ]
  },
  {
   "cell_type": "markdown",
   "metadata": {
    "id": "aFM2T2T9aMr0"
   },
   "source": [
    "##### Tabla de contingencias\n",
    "Sacamos una tabla de contingencias para ver con que probabilidad se cancela o no en función del nñumero de bebés y pintarlo en una gráfica."
   ]
  },
  {
   "cell_type": "code",
   "execution_count": null,
   "metadata": {
    "colab": {
     "base_uri": "https://localhost:8080/",
     "height": 175
    },
    "id": "hFm6Lv3EaMr0",
    "outputId": "51a4e999-d803-4792-ccaf-de141ac46b2e"
   },
   "outputs": [],
   "source": [
    "data_prob_canceled_by_babies = pd.crosstab(data['babies'], data['is_canceled']).apply(lambda r: r/r.sum(), axis=1)\n",
    "data_prob_canceled_by_babies"
   ]
  },
  {
   "cell_type": "code",
   "execution_count": null,
   "metadata": {
    "colab": {
     "base_uri": "https://localhost:8080/",
     "height": 542
    },
    "id": "cYtAOgUlaMr1",
    "outputId": "f8d21aab-4a3e-40e7-c1aa-74d75eec3761"
   },
   "outputs": [],
   "source": [
    "plt.figure(figsize=(500,10));\n",
    "data_prob_canceled_by_babies.plot.bar(figsize=(30,8));\n",
    "plt.tight_layout()\n",
    "# Pintar todos los valores del eje X!!!"
   ]
  },
  {
   "cell_type": "markdown",
   "metadata": {
    "id": "Le4u1zpKaMr1"
   },
   "source": [
    "#### Comparación con is_canceled\n",
    "Vamos a agrupar por el número de bebés para ver como han ido cambiando las cancelaciones en función de los mismos."
   ]
  },
  {
   "cell_type": "code",
   "execution_count": null,
   "metadata": {
    "colab": {
     "base_uri": "https://localhost:8080/",
     "height": 175
    },
    "id": "-ENPM-5iaMr1",
    "outputId": "1887820d-39ce-4ff3-e8ca-6904a9183a7d"
   },
   "outputs": [],
   "source": [
    "data_babies_and_canceled = data[['babies', 'is_canceled']]\n",
    "data_babies_and_canceled = data_babies_and_canceled.groupby(by=['babies']).sum()\n",
    "data_babies_and_canceled"
   ]
  },
  {
   "cell_type": "code",
   "execution_count": null,
   "metadata": {
    "colab": {
     "base_uri": "https://localhost:8080/",
     "height": 542
    },
    "id": "2i7Nes8_aMr2",
    "outputId": "faa3c7a5-9819-468b-ca1f-21dbe8720f3b"
   },
   "outputs": [],
   "source": [
    "plt.figure(figsize=(500,10));\n",
    "data_babies_and_canceled.plot.bar(figsize=(30,8));\n",
    "plt.tight_layout()\n",
    "# Pintar todos los valores del eje X!!!"
   ]
  },
  {
   "cell_type": "markdown",
   "metadata": {
    "id": "wLVrNnmm2Suw"
   },
   "source": [
    "### meal\n"
   ]
  },
  {
   "cell_type": "markdown",
   "metadata": {},
   "source": [
    "Como podemos observar la variable info es una variable categorica con 5 valores distintos, que representan lo siguiente:\n",
    "\n",
    "* BB: Bed & Breakfast\n",
    "\n",
    "* HB: Half Board (Breakfast and Dinner normally)\n",
    "\n",
    "* FB: Full Board (Beakfast, Lunch and Dinner)\n",
    "\n",
    "* SC: Self Catering\n",
    "\n",
    "* Undefined\n",
    "\n",
    "Podemos observar que hay valores faltyas, para una posibnle posterior imputación"
   ]
  },
  {
   "cell_type": "code",
   "execution_count": null,
   "metadata": {
    "colab": {
     "base_uri": "https://localhost:8080/"
    },
    "id": "XU7M-kgcgvoD",
    "outputId": "5bbcc06d-aa4f-45ed-971f-8cba60503a6f"
   },
   "outputs": [],
   "source": [
    "data.meal.describe()"
   ]
  },
  {
   "cell_type": "code",
   "execution_count": null,
   "metadata": {},
   "outputs": [],
   "source": [
    "data.meal.value_counts()"
   ]
  },
  {
   "cell_type": "code",
   "execution_count": null,
   "metadata": {},
   "outputs": [],
   "source": [
    "data.meal.hist()"
   ]
  },
  {
   "cell_type": "code",
   "execution_count": null,
   "metadata": {},
   "outputs": [],
   "source": [
    "ax = sns.stripplot(y=\"stays_in_weekend_nights\", x=\"meal\",hue=\"is_canceled\", data=data)"
   ]
  },
  {
   "cell_type": "markdown",
   "metadata": {
    "id": "UPUwigrnfnpa"
   },
   "source": [
    "### country"
   ]
  },
  {
   "cell_type": "markdown",
   "metadata": {},
   "source": [
    "La variable country representa el país de la reserva, d emodo que constituye una variable categórica con 108 valores diferentes. El pais mas representado es Portugal."
   ]
  },
  {
   "cell_type": "code",
   "execution_count": null,
   "metadata": {},
   "outputs": [],
   "source": [
    "data.country.describe()"
   ]
  },
  {
   "cell_type": "code",
   "execution_count": null,
   "metadata": {},
   "outputs": [],
   "source": [
    "data.country.value_counts()"
   ]
  },
  {
   "cell_type": "markdown",
   "metadata": {},
   "source": [
    "Vemos que el pais del cual mas información poseemos es portugal, seguido de Reino Unido y Francia. Analizaremos el numero de cancelaciones por país de los 5 más abundantes"
   ]
  },
  {
   "cell_type": "code",
   "execution_count": null,
   "metadata": {},
   "outputs": [],
   "source": [
    "data_topcountrys= data[data.country=='PRT']\n",
    "data_topcountrys= data_topcountrys.append(data[data.country=='GBR'])\n",
    "data_topcountrys= data_topcountrys.append(data[data.country=='FRA'])\n",
    "data_topcountrys= data_topcountrys.append(data[data.country=='ESP'])\n",
    "data_topcountrys= data_topcountrys.append(data[data.country=='DEU'])\n",
    "data_prob_canceled_by_country = pd.crosstab(data_topcountrys['country'], data_topcountrys['is_canceled']).apply(lambda r: r/r.sum(), axis=1)\n",
    "data_prob_canceled_by_country"
   ]
  },
  {
   "cell_type": "code",
   "execution_count": null,
   "metadata": {},
   "outputs": [],
   "source": [
    "data_prob_canceled_by_country.plot.bar(figsize=(30,8))"
   ]
  },
  {
   "cell_type": "markdown",
   "metadata": {},
   "source": [
    "Podemos observar que el ratio de cancelaciones en portugal es bastante mas alto al del resto de los paises top de nuestro dataset."
   ]
  },
  {
   "cell_type": "markdown",
   "metadata": {
    "id": "SZ9-B3f6frPJ"
   },
   "source": [
    "### market_segment"
   ]
  },
  {
   "cell_type": "markdown",
   "metadata": {},
   "source": [
    "La variable market segment representa el segmento de mercado que ha realizado la contratacion. Es una varibale categorica con 7 valores distintos.\n",
    "El término \"TA\" significa \"Agentes de Viaje\" y \"TO\" significa \"Operadores Turísticos\""
   ]
  },
  {
   "cell_type": "code",
   "execution_count": null,
   "metadata": {},
   "outputs": [],
   "source": [
    "data.market_segment.describe()"
   ]
  },
  {
   "cell_type": "code",
   "execution_count": null,
   "metadata": {},
   "outputs": [],
   "source": [
    "data.market_segment.value_counts()"
   ]
  },
  {
   "cell_type": "code",
   "execution_count": null,
   "metadata": {},
   "outputs": [],
   "source": [
    "data_prob_canceled_by_market = pd.crosstab(data['market_segment'], data['is_canceled']).apply(lambda r: r/r.sum(), axis=1)\n",
    "data_prob_canceled_by_market"
   ]
  },
  {
   "cell_type": "code",
   "execution_count": null,
   "metadata": {},
   "outputs": [],
   "source": [
    "data_prob_canceled_by_market.plot.bar(figsize=(30,8))"
   ]
  },
  {
   "cell_type": "markdown",
   "metadata": {},
   "source": [
    "Podemos observar que las reservas de grupos son las mas propensas a cancelar las reservas, siendo esta la opcion mas habital. En el lado opuesto tenemos el caso de la aviación."
   ]
  },
  {
   "cell_type": "markdown",
   "metadata": {
    "id": "odAWRRVffwa4"
   },
   "source": [
    "### distribution_channel"
   ]
  },
  {
   "cell_type": "markdown",
   "metadata": {},
   "source": [
    "Canal de distribución de reservas. El término \"TA\" significa \"Agentes de Viaje\" y \"TO\" significa \"Operadores Turísticos\""
   ]
  },
  {
   "cell_type": "code",
   "execution_count": null,
   "metadata": {},
   "outputs": [],
   "source": [
    "data.distribution_channel.describe()"
   ]
  },
  {
   "cell_type": "code",
   "execution_count": null,
   "metadata": {},
   "outputs": [],
   "source": [
    "data.distribution_channel.value_counts()"
   ]
  },
  {
   "cell_type": "code",
   "execution_count": null,
   "metadata": {},
   "outputs": [],
   "source": [
    "data_prob_canceled_by_market = pd.crosstab(data['distribution_channel'], data['is_canceled']).apply(lambda r: r/r.sum(), axis=1)\n",
    "data_prob_canceled_by_market"
   ]
  },
  {
   "cell_type": "code",
   "execution_count": null,
   "metadata": {},
   "outputs": [],
   "source": [
    "data_prob_canceled_by_market.plot.bar(figsize=(30,8))"
   ]
  },
  {
   "cell_type": "code",
   "execution_count": null,
   "metadata": {},
   "outputs": [],
   "source": [
    "Podemos observar que las reservas por TA/TO suelen cancelarse más amenudo"
   ]
  },
  {
   "cell_type": "markdown",
   "metadata": {
    "id": "GNUJF5Xxf1uC"
   },
   "source": [
    "### is_repeated_guest"
   ]
  },
  {
   "cell_type": "markdown",
   "metadata": {},
   "source": [
    "Valor que indica si el nombre de la reserva era de un huésped repetido (1) o no (0)"
   ]
  },
  {
   "cell_type": "code",
   "execution_count": null,
   "metadata": {},
   "outputs": [],
   "source": [
    "data.is_repeated_guest.describe()"
   ]
  },
  {
   "cell_type": "code",
   "execution_count": null,
   "metadata": {},
   "outputs": [],
   "source": [
    "data.is_repeated_guest.sum()"
   ]
  },
  {
   "cell_type": "code",
   "execution_count": null,
   "metadata": {},
   "outputs": [],
   "source": [
    "data_repeted_guest=data[data.is_repeated_guest==1]\n",
    "data_repeted_guest.is_canceled.sum()"
   ]
  },
  {
   "cell_type": "code",
   "execution_count": null,
   "metadata": {},
   "outputs": [],
   "source": [
    "data_repeted_guest=data[data.is_repeated_guest==0]\n",
    "data_repeted_guest.is_canceled.sum()"
   ]
  },
  {
   "cell_type": "markdown",
   "metadata": {},
   "source": [
    "Podemos observar que de los repetidor, solo 52 cancelaron su viaje, es decir, 16%. Frente a los no repetidores, entre los que la tasa de cancelacion es 38%"
   ]
  },
  {
   "cell_type": "markdown",
   "metadata": {
    "id": "RMqROenPf8Ty"
   },
   "source": [
    "### previous_cancellations"
   ]
  },
  {
   "cell_type": "markdown",
   "metadata": {},
   "source": [
    "Número de reservas anteriores que fueron canceladas por el cliente antes de la reserva actual"
   ]
  },
  {
   "cell_type": "code",
   "execution_count": null,
   "metadata": {},
   "outputs": [],
   "source": [
    "data.previous_cancellations.describe()"
   ]
  },
  {
   "cell_type": "code",
   "execution_count": null,
   "metadata": {},
   "outputs": [],
   "source": [
    "data.previous_cancellations.value_counts()"
   ]
  },
  {
   "cell_type": "code",
   "execution_count": null,
   "metadata": {},
   "outputs": [],
   "source": [
    "data_prob_canceled = pd.crosstab(data['previous_cancellations'], data['is_canceled']).apply(lambda r: r/r.sum(), axis=1)\n",
    "data_prob_canceled"
   ]
  },
  {
   "cell_type": "code",
   "execution_count": null,
   "metadata": {},
   "outputs": [],
   "source": [
    "data_prob_canceled.plot.bar(figsize=(30,8))"
   ]
  },
  {
   "cell_type": "markdown",
   "metadata": {},
   "source": [
    "Podemos observar, que la tonica general es no tener cancelaciones previas. Pero a mayor numero de cancelaciones previas, se cancela menos la reserva."
   ]
  },
  {
   "cell_type": "markdown",
   "metadata": {
    "id": "Ac62yzqWgCDJ"
   },
   "source": [
    "### previous_bookings_not_canceled"
   ]
  },
  {
   "cell_type": "markdown",
   "metadata": {},
   "source": [
    "Número de reservas anteriores no canceladas por el cliente antes de la reserva actual"
   ]
  },
  {
   "cell_type": "code",
   "execution_count": null,
   "metadata": {},
   "outputs": [],
   "source": [
    "data.previous_bookings_not_canceled.describe()"
   ]
  },
  {
   "cell_type": "code",
   "execution_count": null,
   "metadata": {},
   "outputs": [],
   "source": [
    "data.previous_bookings_not_canceled.value_counts()"
   ]
  },
  {
   "cell_type": "code",
   "execution_count": null,
   "metadata": {},
   "outputs": [],
   "source": [
    "data_prob_ncanceled = pd.crosstab(data['previous_bookings_not_canceled'], data['is_canceled']).apply(lambda r: r/r.sum(), axis=1)\n",
    "data_prob_ncanceled"
   ]
  },
  {
   "cell_type": "code",
   "execution_count": null,
   "metadata": {},
   "outputs": [],
   "source": [
    "data_prob_ncanceled.plot.bar(figsize=(30,8))"
   ]
  },
  {
   "cell_type": "markdown",
   "metadata": {},
   "source": [
    "Podemos observar, que el comportamiento es similar al caso anterior, es decir, aquellos con pocas cancelaciones previas, es mas probable que cancelen, pero a mayor numero de cancelaciones general, es mas dificil que sea cancelado."
   ]
  },
  {
   "cell_type": "markdown",
   "metadata": {
    "id": "tZDtwENkgH1X"
   },
   "source": [
    "### reserved_room_type"
   ]
  },
  {
   "cell_type": "markdown",
   "metadata": {},
   "source": [
    "Código de tipo de habitación reservada. El código se presenta en lugar de la designación por razones de anonimato."
   ]
  },
  {
   "cell_type": "code",
   "execution_count": null,
   "metadata": {},
   "outputs": [],
   "source": [
    "data.reserved_room_type.describe()"
   ]
  },
  {
   "cell_type": "code",
   "execution_count": null,
   "metadata": {},
   "outputs": [],
   "source": [
    "data.reserved_room_type.value_counts()"
   ]
  },
  {
   "cell_type": "code",
   "execution_count": null,
   "metadata": {},
   "outputs": [],
   "source": [
    "data_prob_res = pd.crosstab(data['reserved_room_type'], data['is_canceled']).apply(lambda r: r/r.sum(), axis=1)\n",
    "data_prob_res"
   ]
  },
  {
   "cell_type": "code",
   "execution_count": null,
   "metadata": {},
   "outputs": [],
   "source": [
    "data_prob_res.plot.bar(figsize=(30,8))"
   ]
  },
  {
   "cell_type": "markdown",
   "metadata": {},
   "source": [
    "Podemos observar que las cancelaciones son similares en todos los tipos de habitacion reservada, salvo en 3 casos llamativos:\n",
    "* Tipo H donde las cancelaciones son ligeramente superiores\n",
    "* Tipo L no existen cancelaciones\n",
    "* Tipo P solo existen cancelaciones"
   ]
  },
  {
   "cell_type": "markdown",
   "metadata": {
    "id": "kpouAOfFgOva"
   },
   "source": [
    "### assigned_room_type"
   ]
  },
  {
   "cell_type": "markdown",
   "metadata": {},
   "source": [
    "Código del tipo de habitación asignada a la reserva. A veces el tipo de habitación asignada difiere del tipo de habitación reservada debido a razones de operación del hotel (por ejemplo, sobreventa) o por petición del cliente. El código se presenta en lugar de la designación por razones de anonimato."
   ]
  },
  {
   "cell_type": "code",
   "execution_count": null,
   "metadata": {},
   "outputs": [],
   "source": [
    "data.assigned_room_type.describe()"
   ]
  },
  {
   "cell_type": "code",
   "execution_count": null,
   "metadata": {},
   "outputs": [],
   "source": [
    "data.assigned_room_type.value_counts()"
   ]
  },
  {
   "cell_type": "markdown",
   "metadata": {},
   "source": [
    "Puede ser interesante si los tipos assignados son los tipos reservados, y la relación que ello tiene con la cancelación de la reserva"
   ]
  },
  {
   "cell_type": "code",
   "execution_count": null,
   "metadata": {},
   "outputs": [],
   "source": []
  },
  {
   "cell_type": "code",
   "execution_count": null,
   "metadata": {},
   "outputs": [],
   "source": []
  },
  {
   "cell_type": "markdown",
   "metadata": {
    "id": "Ttxj6GwqgVPJ"
   },
   "source": [
    "### booking_changes"
   ]
  },
  {
   "cell_type": "markdown",
   "metadata": {},
   "source": [
    "Número de cambios/enmiendas hechos a la reserva desde el momento en que la reserva fue ingresada en el PMS hasta el momento del registro o cancelación."
   ]
  },
  {
   "cell_type": "code",
   "execution_count": null,
   "metadata": {},
   "outputs": [],
   "source": [
    "data.booking_changes.describe()"
   ]
  },
  {
   "cell_type": "code",
   "execution_count": null,
   "metadata": {},
   "outputs": [],
   "source": [
    "data.booking_changes.value_counts()"
   ]
  },
  {
   "cell_type": "code",
   "execution_count": null,
   "metadata": {},
   "outputs": [],
   "source": [
    "data_prob_res = pd.crosstab(data['booking_changes'], data['is_canceled']).apply(lambda r: r/r.sum(), axis=1)\n",
    "data_prob_res"
   ]
  },
  {
   "cell_type": "code",
   "execution_count": null,
   "metadata": {},
   "outputs": [],
   "source": [
    "data_prob_res.plot.bar(figsize=(30,8))"
   ]
  },
  {
   "cell_type": "markdown",
   "metadata": {},
   "source": [
    "Podemos destacar que las cancelaciones aumentan cuando sufren un mayor numero de cambios en las reservas, ademas para cambios pequeños, las reservas no se resienten en terminos de cancelación"
   ]
  },
  {
   "cell_type": "markdown",
   "metadata": {
    "id": "anqG0ZBPgYrI"
   },
   "source": [
    "### deposit_type"
   ]
  },
  {
   "cell_type": "markdown",
   "metadata": {},
   "source": [
    "Indicación sobre si el cliente hizo un depósito para garantizar la reserva. Esta variable puede asumir tres categorías: No Deposito - no se hizo ningún depósito; No Reembolso - se hizo un depósito con un valor por debajo del costo total de la estancia."
   ]
  },
  {
   "cell_type": "code",
   "execution_count": null,
   "metadata": {},
   "outputs": [],
   "source": [
    "data.deposit_type.describe()"
   ]
  },
  {
   "cell_type": "code",
   "execution_count": null,
   "metadata": {},
   "outputs": [],
   "source": [
    "data.deposit_type.value_counts()"
   ]
  },
  {
   "cell_type": "code",
   "execution_count": null,
   "metadata": {},
   "outputs": [],
   "source": [
    "data_prob_res = pd.crosstab(data['deposit_type'], data['is_canceled']).apply(lambda r: r/r.sum(), axis=1)\n",
    "data_prob_res"
   ]
  },
  {
   "cell_type": "code",
   "execution_count": null,
   "metadata": {},
   "outputs": [],
   "source": [
    "data_prob_res.plot.bar(figsize=(30,8))"
   ]
  },
  {
   "cell_type": "markdown",
   "metadata": {},
   "source": [
    "Muy destacable que las reservas sin refound son las mas canceladas"
   ]
  },
  {
   "cell_type": "markdown",
   "metadata": {
    "id": "5xkpIPp2giRY"
   },
   "source": [
    "### agent\n"
   ]
  },
  {
   "cell_type": "markdown",
   "metadata": {},
   "source": [
    "La identificación de la agencia de viajes que hizo la reserva"
   ]
  },
  {
   "cell_type": "code",
   "execution_count": null,
   "metadata": {},
   "outputs": [],
   "source": [
    "data.agent.describe()"
   ]
  },
  {
   "cell_type": "code",
   "execution_count": null,
   "metadata": {},
   "outputs": [],
   "source": [
    "data.agent.value_counts()"
   ]
  },
  {
   "cell_type": "code",
   "execution_count": null,
   "metadata": {},
   "outputs": [],
   "source": [
    "data_prob_res = pd.crosstab(data['agent'], data['is_canceled']).apply(lambda r: r/r.sum(), axis=1)\n",
    "data_prob_res"
   ]
  },
  {
   "cell_type": "markdown",
   "metadata": {},
   "source": [
    "Mucha cardinalidad en la variable, dado que hay 500+ valores de agencia y no tenemos traduccion de estos id (VAR CANDIDATA A DESAPARECER)"
   ]
  },
  {
   "cell_type": "code",
   "execution_count": null,
   "metadata": {},
   "outputs": [],
   "source": []
  },
  {
   "cell_type": "code",
   "execution_count": null,
   "metadata": {},
   "outputs": [],
   "source": []
  }
 ],
 "metadata": {
  "colab": {
   "collapsed_sections": [],
   "name": "EDA FAD.ipynb",
   "provenance": []
  },
  "kernelspec": {
   "display_name": "Python 3",
   "language": "python",
   "name": "python3"
  },
  "language_info": {
   "codemirror_mode": {
    "name": "ipython",
    "version": 3
   },
   "file_extension": ".py",
   "mimetype": "text/x-python",
   "name": "python",
   "nbconvert_exporter": "python",
   "pygments_lexer": "ipython3",
   "version": "3.7.3"
  }
 },
 "nbformat": 4,
 "nbformat_minor": 1
}
