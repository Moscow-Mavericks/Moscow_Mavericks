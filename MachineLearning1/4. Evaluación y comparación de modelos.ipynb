{
 "cells": [
  {
   "cell_type": "markdown",
   "metadata": {},
   "source": [
    "# Evaluación y Selección de Modelos\n",
    "Vamos a resumir los resultados obtenidos centrándonos en nuestra métrica objetivo, la **accuracy**.\n",
    "\n",
    "Hemos elegido esta métrica ya que....."
   ]
  },
  {
   "cell_type": "markdown",
   "metadata": {},
   "source": [
    "| Section               | Model        | Type                               | Accuracy |\n",
    "|-----------------------|---------------|------------------------------------|----------|\n",
    "| Unsupervised learning | K-means       | -                                  | 0.5      |\n",
    "| Unsupervised learning | K-means       | -                                  | 0.09     |\n",
    "| Unsupervised learning | Random Forest | -                                  | 0.82     |\n",
    "| Unsupervised learning | Random Forest | ExtraTreesClassifier               | 0.79     |\n",
    "| Supervised learning   | Logistic Reg  | Feature Selection 1                   | 0.93     |\n",
    "| Supervised learning   | Logistic Reg  | Feature Selection 2                   | 0.75     |\n",
    "| Supervised learning   | KNN           | Feature Selection 1                   | 0.89     |\n",
    "| Supervised learning   | KNN           | Feature Selection 2                   | 0.75     |\n",
    "| Supervised learning   | SVM           | Feature Selection 1 - Linear Kernel   | 0.93     |\n",
    "| Supervised learning   | SVM           | Feature Selection 1 - Gaussian Kernel | 0.64     |\n",
    "| Supervised learning   | SVM           | Feature Selection 1 - Sigmoid Kernel  | 0.64     |\n",
    "| Supervised learning   | SVM           | Feature Selection 2 - Linear Kernel   | 0.75     |\n",
    "| Supervised learning   | SVM           | Feature Selection 2 - Gaussian Kernel | 0.75     |\n",
    "| Supervised learning   | SVM           | Feature Selection 2 - Sigmoid Kernel  | 0.64     |"
   ]
  },
  {
   "cell_type": "markdown",
   "metadata": {},
   "source": [
    "Los dos modelos que mejor performance nos han reportado son los siguientes:\n",
    "\n",
    "* Regresion logistica haciendo uso de la seleccion de features 1 (Accuracy 93%)\n",
    "* SVM haciendo uso de  de la seleccion de features 1 y kernel='linear' (Accuracy 93%)\n",
    "\n",
    "De modo que ambos modelos serian claros candidatos para su uso final."
   ]
  }
 ],
 "metadata": {
  "kernelspec": {
   "display_name": "Python 3",
   "language": "python",
   "name": "python3"
  },
  "language_info": {
   "codemirror_mode": {
    "name": "ipython",
    "version": 3
   },
   "file_extension": ".py",
   "mimetype": "text/x-python",
   "name": "python",
   "nbconvert_exporter": "python",
   "pygments_lexer": "ipython3",
   "version": "3.8.2"
  }
 },
 "nbformat": 4,
 "nbformat_minor": 4
}
