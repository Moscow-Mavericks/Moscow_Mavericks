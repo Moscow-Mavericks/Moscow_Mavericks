{
 "cells": [
  {
   "cell_type": "markdown",
   "metadata": {},
   "source": [
    "# Evaluación y Selección de Modelos\n",
    "Vamos a seleccionar los mejores modelos dentro de cada apartado de este proyecto"
   ]
  },
  {
   "cell_type": "markdown",
   "metadata": {},
   "source": [
    "PONER PARA CADA APARTADO LOS MODELOS Y SUS RESULTADOS, ASEGURARSE DE QUE ESTOS ESTÁN MEDIDOS CON MÉTRICAS COMPARABLES Y ELEGIR LOS MEJORES"
   ]
  },
  {
   "cell_type": "markdown",
   "metadata": {},
   "source": [
    "## 1. Aprendizaje no supervisado"
   ]
  },
  {
   "cell_type": "markdown",
   "metadata": {},
   "source": [
    "### 1.2 KMEANS"
   ]
  },
  {
   "cell_type": "markdown",
   "metadata": {},
   "source": [
    "#### is_canceled"
   ]
  },
  {
   "cell_type": "code",
   "execution_count": null,
   "metadata": {},
   "outputs": [],
   "source": []
  },
  {
   "cell_type": "markdown",
   "metadata": {},
   "source": [
    "#### stays_nights"
   ]
  },
  {
   "cell_type": "code",
   "execution_count": null,
   "metadata": {},
   "outputs": [],
   "source": []
  },
  {
   "cell_type": "markdown",
   "metadata": {},
   "source": [
    "Por ultimo, quisieramos remarcar los modelos que han maximizado nuestra metrica objetivo, la **accuracy**.\n",
    "\n",
    "Los dos modelos que mejor performance nos han reportado son los siguientes:\n",
    "\n",
    "* Regresion logistica haciendo uso de la seleccion de features 1 y solver='newton-cg' (Accuracy 93%)\n",
    "* SVM haciendo uso de  de la seleccion de features 1 y kernel='linear' (Accuracy 93%)\n",
    "\n",
    "De modo que ambos modelos serian claros candidatos para su uso final."
   ]
  }
 ],
 "metadata": {
  "kernelspec": {
   "display_name": "Python 3",
   "language": "python",
   "name": "python3"
  },
  "language_info": {
   "codemirror_mode": {
    "name": "ipython",
    "version": 3
   },
   "file_extension": ".py",
   "mimetype": "text/x-python",
   "name": "python",
   "nbconvert_exporter": "python",
   "pygments_lexer": "ipython3",
   "version": "3.8.2"
  }
 },
 "nbformat": 4,
 "nbformat_minor": 4
}
