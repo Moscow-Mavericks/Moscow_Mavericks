{
 "cells": [
  {
   "cell_type": "markdown",
   "metadata": {},
   "source": [
    "# Evaluación y Selección de Modelos"
   ]
  },
  {
   "cell_type": "markdown",
   "metadata": {},
   "source": [
    "## Definición de métrica objetivo\n",
    "\n",
    "En este caso de estudio, dado que nuestra variable a predecir se trata de la variable binaria **is_canceled** la cual determina si una reserva a sido o no cancelada, crremos que la metrica a maximizar es la **Accuracy**\n",
    "\n",
    "La accuracy de un algoritmo de clasificación de aprendizaje automático es una forma de medir la frecuencia con la que el algoritmo clasifica correctamente. La accuracy es el número de datos predichos correctamente de entre todos los datos. Más formalmente, se define como el número de verdaderos positivos y verdaderos negativos dividido por el número de verdaderos positivos, verdaderos negativos, falsos positivos y falsos negativos. \n",
    "\n",
    "Un verdadero positivo o un verdadero negativo es un dato que el algoritmo clasificó correctamente como verdadero o falso, respectivamente. Un falso positivo o un falso negativo, por el contrario, es un punto de datos que el algoritmo clasificó incorrectamente. \n",
    "\n",
    "La definicion en si misma de la accuracy se ajusta a nuestras necesidades, pues considerados más importante acertar la cancelación de la reserva, pues un falso positivo podría producir que el hospedador prereservara la habitación, o errores muy graves en la actualidad como posponer una desinfección de la habitación, pues el sistema le reporte un falso positivo.\n"
   ]
  },
  {
   "cell_type": "markdown",
   "metadata": {},
   "source": [
    "## Resultados Obtenidos"
   ]
  },
  {
   "cell_type": "markdown",
   "metadata": {},
   "source": [
    "| Section               | Model        | Type                               | Accuracy |\n",
    "|-----------------------|---------------|------------------------------------|----------|\n",
    "| Unsupervised learning | K-means       | -                                  | 0.5      |\n",
    "| Unsupervised learning | K-means       | -                                  | 0.09     |\n",
    "| Unsupervised learning | Random Forest | -                                  | 0.82     |\n",
    "| Unsupervised learning | Random Forest | ExtraTreesClassifier               | 0.79     |\n",
    "| Supervised learning   | Logistic Reg  | Feature Selection 1                   | 0.93     |\n",
    "| Supervised learning   | Logistic Reg  | Feature Selection 2                   | 0.75     |\n",
    "| Supervised learning   | KNN           | Feature Selection 1                   | 0.89     |\n",
    "| Supervised learning   | KNN           | Feature Selection 2                   | 0.75     |\n",
    "| Supervised learning   | SVM           | Feature Selection 1 - Linear Kernel   | 0.93     |\n",
    "| Supervised learning   | SVM           | Feature Selection 1 - Gaussian Kernel | 0.64     |\n",
    "| Supervised learning   | SVM           | Feature Selection 1 - Sigmoid Kernel  | 0.64     |\n",
    "| Supervised learning   | SVM           | Feature Selection 2 - Linear Kernel   | 0.75     |\n",
    "| Supervised learning   | SVM           | Feature Selection 2 - Gaussian Kernel | 0.75     |\n",
    "| Supervised learning   | SVM           | Feature Selection 2 - Sigmoid Kernel  | 0.64     |"
   ]
  },
  {
   "cell_type": "markdown",
   "metadata": {},
   "source": [
    "Los dos modelos que mejor performance nos han reportado son los siguientes:\n",
    "\n",
    "* Regresion logistica haciendo uso de la seleccion de features 1 (Accuracy 93%)\n",
    "* SVM haciendo uso de  de la seleccion de features 1 y kernel='linear' (Accuracy 93%)\n",
    "\n",
    "De modo que ambos modelos serian claros candidatos para su uso final."
   ]
  }
 ],
 "metadata": {
  "kernelspec": {
   "display_name": "Python 3",
   "language": "python",
   "name": "python3"
  },
  "language_info": {
   "codemirror_mode": {
    "name": "ipython",
    "version": 3
   },
   "file_extension": ".py",
   "mimetype": "text/x-python",
   "name": "python",
   "nbconvert_exporter": "python",
   "pygments_lexer": "ipython3",
   "version": "3.8.2"
  }
 },
 "nbformat": 4,
 "nbformat_minor": 4
}
