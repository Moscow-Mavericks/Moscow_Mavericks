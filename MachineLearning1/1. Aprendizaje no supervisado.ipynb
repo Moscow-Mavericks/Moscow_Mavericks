{
 "cells": [
  {
   "cell_type": "markdown",
   "metadata": {},
   "source": [
    "# Aprendizaje no supervisado"
   ]
  },
  {
   "cell_type": "markdown",
   "metadata": {},
   "source": [
    "## 1. Librerias y Datos"
   ]
  },
  {
   "cell_type": "code",
   "execution_count": 4,
   "metadata": {},
   "outputs": [],
   "source": [
    "import pandas as pd\n",
    "import numpy as np\n",
    "import io\n",
    "import warnings\n",
    "import matplotlib.pyplot as plt\n",
    "import datetime\n",
    "import sklearn.metrics\n",
    "%matplotlib inline\n",
    "warnings.filterwarnings('ignore')\n",
    "import seaborn as sb\n",
    "from sklearn.model_selection import KFold\n",
    "from sklearn import tree\n",
    "from sklearn.metrics import accuracy_score\n",
    "from sklearn.model_selection import KFold\n",
    "from sklearn.tree import export_text\n",
    "from IPython.display import Image as PImage\n",
    "from subprocess import check_call\n",
    "from PIL import Image, ImageDraw, ImageFont\n",
    "from sklearn.ensemble import RandomForestClassifier\n",
    "from sklearn.datasets import make_classification\n",
    "from matplotlib import pyplot\n",
    "from sklearn.ensemble import ExtraTreesClassifier\n",
    "from sklearn import preprocessing \n",
    "from src.utils import load_examples, plot_scatter, plot_silhouette\n",
    "from sklearn.manifold import TSNE\n",
    "from sklearn.cluster import KMeans\n",
    "from sklearn.metrics import mean_squared_error\n",
    "from sklearn.cluster import DBSCAN"
   ]
  },
  {
   "cell_type": "code",
   "execution_count": 5,
   "metadata": {
    "scrolled": true
   },
   "outputs": [
    {
     "data": {
      "text/html": [
       "<div>\n",
       "<style scoped>\n",
       "    .dataframe tbody tr th:only-of-type {\n",
       "        vertical-align: middle;\n",
       "    }\n",
       "\n",
       "    .dataframe tbody tr th {\n",
       "        vertical-align: top;\n",
       "    }\n",
       "\n",
       "    .dataframe thead th {\n",
       "        text-align: right;\n",
       "    }\n",
       "</style>\n",
       "<table border=\"1\" class=\"dataframe\">\n",
       "  <thead>\n",
       "    <tr style=\"text-align: right;\">\n",
       "      <th></th>\n",
       "      <th>Unnamed: 0</th>\n",
       "      <th>is_canceled</th>\n",
       "      <th>lead_time</th>\n",
       "      <th>arrival_date_year</th>\n",
       "      <th>arrival_date_week_number</th>\n",
       "      <th>arrival_date_day_of_month</th>\n",
       "      <th>adults</th>\n",
       "      <th>children</th>\n",
       "      <th>babies</th>\n",
       "      <th>is_repeated_guest</th>\n",
       "      <th>...</th>\n",
       "      <th>meal_FB</th>\n",
       "      <th>meal_HB</th>\n",
       "      <th>meal_SC</th>\n",
       "      <th>meal_Undefined</th>\n",
       "      <th>deposit_type_Non Refund</th>\n",
       "      <th>deposit_type_Refundable</th>\n",
       "      <th>reserverd/assigned</th>\n",
       "      <th>customer_type_Group</th>\n",
       "      <th>customer_type_Transient-Party</th>\n",
       "      <th>stays_nights</th>\n",
       "    </tr>\n",
       "  </thead>\n",
       "  <tbody>\n",
       "    <tr>\n",
       "      <th>count</th>\n",
       "      <td>30000.000000</td>\n",
       "      <td>30000.000000</td>\n",
       "      <td>30000.000000</td>\n",
       "      <td>30000.000000</td>\n",
       "      <td>30000.000000</td>\n",
       "      <td>30000.000000</td>\n",
       "      <td>30000.000000</td>\n",
       "      <td>30000.000000</td>\n",
       "      <td>30000.000000</td>\n",
       "      <td>30000.000000</td>\n",
       "      <td>...</td>\n",
       "      <td>30000.000000</td>\n",
       "      <td>30000.000000</td>\n",
       "      <td>30000.000000</td>\n",
       "      <td>30000.000000</td>\n",
       "      <td>30000.000000</td>\n",
       "      <td>30000.000000</td>\n",
       "      <td>30000.000000</td>\n",
       "      <td>30000.000000</td>\n",
       "      <td>30000.000000</td>\n",
       "      <td>30000.000000</td>\n",
       "    </tr>\n",
       "    <tr>\n",
       "      <th>mean</th>\n",
       "      <td>14999.500000</td>\n",
       "      <td>0.368367</td>\n",
       "      <td>8.280793</td>\n",
       "      <td>2016.156167</td>\n",
       "      <td>27.144700</td>\n",
       "      <td>15.785733</td>\n",
       "      <td>1.863632</td>\n",
       "      <td>0.106705</td>\n",
       "      <td>0.007900</td>\n",
       "      <td>0.032400</td>\n",
       "      <td>...</td>\n",
       "      <td>0.006100</td>\n",
       "      <td>0.122200</td>\n",
       "      <td>0.090733</td>\n",
       "      <td>0.009367</td>\n",
       "      <td>0.120433</td>\n",
       "      <td>0.001200</td>\n",
       "      <td>0.872467</td>\n",
       "      <td>0.004733</td>\n",
       "      <td>0.960500</td>\n",
       "      <td>3.440500</td>\n",
       "    </tr>\n",
       "    <tr>\n",
       "      <th>std</th>\n",
       "      <td>8660.398374</td>\n",
       "      <td>0.482370</td>\n",
       "      <td>2.027570</td>\n",
       "      <td>0.706490</td>\n",
       "      <td>13.649126</td>\n",
       "      <td>8.800606</td>\n",
       "      <td>0.635565</td>\n",
       "      <td>0.403716</td>\n",
       "      <td>0.105062</td>\n",
       "      <td>0.177063</td>\n",
       "      <td>...</td>\n",
       "      <td>0.077865</td>\n",
       "      <td>0.327522</td>\n",
       "      <td>0.287234</td>\n",
       "      <td>0.096329</td>\n",
       "      <td>0.325473</td>\n",
       "      <td>0.034621</td>\n",
       "      <td>0.333575</td>\n",
       "      <td>0.068637</td>\n",
       "      <td>0.194785</td>\n",
       "      <td>2.593791</td>\n",
       "    </tr>\n",
       "    <tr>\n",
       "      <th>min</th>\n",
       "      <td>0.000000</td>\n",
       "      <td>0.000000</td>\n",
       "      <td>0.763433</td>\n",
       "      <td>2015.000000</td>\n",
       "      <td>1.000000</td>\n",
       "      <td>1.000000</td>\n",
       "      <td>1.000000</td>\n",
       "      <td>0.000000</td>\n",
       "      <td>0.000000</td>\n",
       "      <td>0.000000</td>\n",
       "      <td>...</td>\n",
       "      <td>0.000000</td>\n",
       "      <td>0.000000</td>\n",
       "      <td>0.000000</td>\n",
       "      <td>0.000000</td>\n",
       "      <td>0.000000</td>\n",
       "      <td>0.000000</td>\n",
       "      <td>0.000000</td>\n",
       "      <td>0.000000</td>\n",
       "      <td>0.000000</td>\n",
       "      <td>0.000000</td>\n",
       "    </tr>\n",
       "    <tr>\n",
       "      <th>25%</th>\n",
       "      <td>7499.750000</td>\n",
       "      <td>0.000000</td>\n",
       "      <td>7.664083</td>\n",
       "      <td>2016.000000</td>\n",
       "      <td>16.000000</td>\n",
       "      <td>8.000000</td>\n",
       "      <td>2.000000</td>\n",
       "      <td>0.000000</td>\n",
       "      <td>0.000000</td>\n",
       "      <td>0.000000</td>\n",
       "      <td>...</td>\n",
       "      <td>0.000000</td>\n",
       "      <td>0.000000</td>\n",
       "      <td>0.000000</td>\n",
       "      <td>0.000000</td>\n",
       "      <td>0.000000</td>\n",
       "      <td>0.000000</td>\n",
       "      <td>1.000000</td>\n",
       "      <td>0.000000</td>\n",
       "      <td>1.000000</td>\n",
       "      <td>2.000000</td>\n",
       "    </tr>\n",
       "    <tr>\n",
       "      <th>50%</th>\n",
       "      <td>14999.500000</td>\n",
       "      <td>0.000000</td>\n",
       "      <td>8.326678</td>\n",
       "      <td>2016.000000</td>\n",
       "      <td>27.000000</td>\n",
       "      <td>16.000000</td>\n",
       "      <td>2.000000</td>\n",
       "      <td>0.000000</td>\n",
       "      <td>0.000000</td>\n",
       "      <td>0.000000</td>\n",
       "      <td>...</td>\n",
       "      <td>0.000000</td>\n",
       "      <td>0.000000</td>\n",
       "      <td>0.000000</td>\n",
       "      <td>0.000000</td>\n",
       "      <td>0.000000</td>\n",
       "      <td>0.000000</td>\n",
       "      <td>1.000000</td>\n",
       "      <td>0.000000</td>\n",
       "      <td>1.000000</td>\n",
       "      <td>3.000000</td>\n",
       "    </tr>\n",
       "    <tr>\n",
       "      <th>75%</th>\n",
       "      <td>22499.250000</td>\n",
       "      <td>1.000000</td>\n",
       "      <td>9.003887</td>\n",
       "      <td>2017.000000</td>\n",
       "      <td>38.000000</td>\n",
       "      <td>23.000000</td>\n",
       "      <td>2.000000</td>\n",
       "      <td>0.000000</td>\n",
       "      <td>0.000000</td>\n",
       "      <td>0.000000</td>\n",
       "      <td>...</td>\n",
       "      <td>0.000000</td>\n",
       "      <td>0.000000</td>\n",
       "      <td>0.000000</td>\n",
       "      <td>0.000000</td>\n",
       "      <td>0.000000</td>\n",
       "      <td>0.000000</td>\n",
       "      <td>1.000000</td>\n",
       "      <td>0.000000</td>\n",
       "      <td>1.000000</td>\n",
       "      <td>4.000000</td>\n",
       "    </tr>\n",
       "    <tr>\n",
       "      <th>max</th>\n",
       "      <td>29999.000000</td>\n",
       "      <td>1.000000</td>\n",
       "      <td>17.690502</td>\n",
       "      <td>2017.000000</td>\n",
       "      <td>53.000000</td>\n",
       "      <td>31.000000</td>\n",
       "      <td>55.000000</td>\n",
       "      <td>3.000000</td>\n",
       "      <td>10.000000</td>\n",
       "      <td>1.000000</td>\n",
       "      <td>...</td>\n",
       "      <td>1.000000</td>\n",
       "      <td>1.000000</td>\n",
       "      <td>1.000000</td>\n",
       "      <td>1.000000</td>\n",
       "      <td>1.000000</td>\n",
       "      <td>1.000000</td>\n",
       "      <td>1.000000</td>\n",
       "      <td>1.000000</td>\n",
       "      <td>1.000000</td>\n",
       "      <td>69.000000</td>\n",
       "    </tr>\n",
       "  </tbody>\n",
       "</table>\n",
       "<p>8 rows × 29 columns</p>\n",
       "</div>"
      ],
      "text/plain": [
       "         Unnamed: 0   is_canceled     lead_time  arrival_date_year  \\\n",
       "count  30000.000000  30000.000000  30000.000000       30000.000000   \n",
       "mean   14999.500000      0.368367      8.280793        2016.156167   \n",
       "std     8660.398374      0.482370      2.027570           0.706490   \n",
       "min        0.000000      0.000000      0.763433        2015.000000   \n",
       "25%     7499.750000      0.000000      7.664083        2016.000000   \n",
       "50%    14999.500000      0.000000      8.326678        2016.000000   \n",
       "75%    22499.250000      1.000000      9.003887        2017.000000   \n",
       "max    29999.000000      1.000000     17.690502        2017.000000   \n",
       "\n",
       "       arrival_date_week_number  arrival_date_day_of_month        adults  \\\n",
       "count              30000.000000               30000.000000  30000.000000   \n",
       "mean                  27.144700                  15.785733      1.863632   \n",
       "std                   13.649126                   8.800606      0.635565   \n",
       "min                    1.000000                   1.000000      1.000000   \n",
       "25%                   16.000000                   8.000000      2.000000   \n",
       "50%                   27.000000                  16.000000      2.000000   \n",
       "75%                   38.000000                  23.000000      2.000000   \n",
       "max                   53.000000                  31.000000     55.000000   \n",
       "\n",
       "           children        babies  is_repeated_guest  ...       meal_FB  \\\n",
       "count  30000.000000  30000.000000       30000.000000  ...  30000.000000   \n",
       "mean       0.106705      0.007900           0.032400  ...      0.006100   \n",
       "std        0.403716      0.105062           0.177063  ...      0.077865   \n",
       "min        0.000000      0.000000           0.000000  ...      0.000000   \n",
       "25%        0.000000      0.000000           0.000000  ...      0.000000   \n",
       "50%        0.000000      0.000000           0.000000  ...      0.000000   \n",
       "75%        0.000000      0.000000           0.000000  ...      0.000000   \n",
       "max        3.000000     10.000000           1.000000  ...      1.000000   \n",
       "\n",
       "            meal_HB       meal_SC  meal_Undefined  deposit_type_Non Refund  \\\n",
       "count  30000.000000  30000.000000    30000.000000             30000.000000   \n",
       "mean       0.122200      0.090733        0.009367                 0.120433   \n",
       "std        0.327522      0.287234        0.096329                 0.325473   \n",
       "min        0.000000      0.000000        0.000000                 0.000000   \n",
       "25%        0.000000      0.000000        0.000000                 0.000000   \n",
       "50%        0.000000      0.000000        0.000000                 0.000000   \n",
       "75%        0.000000      0.000000        0.000000                 0.000000   \n",
       "max        1.000000      1.000000        1.000000                 1.000000   \n",
       "\n",
       "       deposit_type_Refundable  reserverd/assigned  customer_type_Group  \\\n",
       "count             30000.000000        30000.000000         30000.000000   \n",
       "mean                  0.001200            0.872467             0.004733   \n",
       "std                   0.034621            0.333575             0.068637   \n",
       "min                   0.000000            0.000000             0.000000   \n",
       "25%                   0.000000            1.000000             0.000000   \n",
       "50%                   0.000000            1.000000             0.000000   \n",
       "75%                   0.000000            1.000000             0.000000   \n",
       "max                   1.000000            1.000000             1.000000   \n",
       "\n",
       "       customer_type_Transient-Party  stays_nights  \n",
       "count                   30000.000000  30000.000000  \n",
       "mean                        0.960500      3.440500  \n",
       "std                         0.194785      2.593791  \n",
       "min                         0.000000      0.000000  \n",
       "25%                         1.000000      2.000000  \n",
       "50%                         1.000000      3.000000  \n",
       "75%                         1.000000      4.000000  \n",
       "max                         1.000000     69.000000  \n",
       "\n",
       "[8 rows x 29 columns]"
      ]
     },
     "execution_count": 5,
     "metadata": {},
     "output_type": "execute_result"
    }
   ],
   "source": [
    "data = pd.read_csv('data.csv')\n",
    "data['stays_nights']=data.stays_in_weekend_nights+data.stays_in_week_nights\n",
    "data=data.drop(['stays_in_weekend_nights','stays_in_week_nights'],axis=1)\n",
    "data.describe()"
   ]
  },
  {
   "cell_type": "markdown",
   "metadata": {},
   "source": [
    "## 2. K-means\n",
    "\n",
    "Lo vamos a separar en dos partes:\n",
    "1. Primero vamos a usar como objetivo la variabla is_canceled, por lo que vamos a intentar clasificar nuestros datos en dos clusters y ver el resultado.\n",
    "\n",
    "2. Despúes vamos a ver cual es el número más óptimo de clusters utilizando como objetivo la variable stays_nights, para entonces ver si tiene sentido separar esa variable en varias subclases en función del número de clusters "
   ]
  },
  {
   "cell_type": "markdown",
   "metadata": {},
   "source": [
    "### Variable Objetivo: is_canceled"
   ]
  },
  {
   "cell_type": "markdown",
   "metadata": {},
   "source": [
    "Vamos a normalizar los datos y usar dos clusters para intentar clasificar en función de los dos valores de nuestra variable objetivo:"
   ]
  },
  {
   "cell_type": "code",
   "execution_count": 6,
   "metadata": {},
   "outputs": [],
   "source": [
    "X = data.drop(['is_canceled', 'Unnamed: 0'], axis=1).values\n",
    "Y = data.is_canceled"
   ]
  },
  {
   "cell_type": "code",
   "execution_count": 7,
   "metadata": {},
   "outputs": [],
   "source": [
    "scaler = preprocessing.StandardScaler().fit(X)\n",
    "Xs = scaler.transform(X)"
   ]
  },
  {
   "cell_type": "code",
   "execution_count": 8,
   "metadata": {},
   "outputs": [
    {
     "data": {
      "image/png": "[encoded data removed]",
      "text/plain": [
       "<Figure size 432x288 with 1 Axes>"
      ]
     },
     "metadata": {},
     "output_type": "display_data"
    }
   ],
   "source": [
    "k = 2\n",
    "kmeans = KMeans(n_clusters = k)\n",
    "kmeans.fit(Xs) \n",
    "centroids = kmeans.cluster_centers_\n",
    "cluster_labels = kmeans.labels_\n",
    "plot_scatter(Xs,'k = ' + str(k), cluster_labels, centroids)\n",
    "plt.show()"
   ]
  },
  {
   "cell_type": "code",
   "execution_count": 9,
   "metadata": {
    "scrolled": true
   },
   "outputs": [
    {
     "data": {
      "text/plain": [
       "array([0, 0, 0, ..., 0, 0, 0])"
      ]
     },
     "execution_count": 9,
     "metadata": {},
     "output_type": "execute_result"
    }
   ],
   "source": [
    "kmeans.predict(X)"
   ]
  },
  {
   "cell_type": "code",
   "execution_count": 10,
   "metadata": {},
   "outputs": [
    {
     "data": {
      "text/plain": [
       "12556176.141185042"
      ]
     },
     "execution_count": 10,
     "metadata": {},
     "output_type": "execute_result"
    }
   ],
   "source": [
    "k = 2\n",
    "kmeans = KMeans(n_clusters=k).fit(X)\n",
    "kmeans.inertia_"
   ]
  },
  {
   "cell_type": "code",
   "execution_count": 11,
   "metadata": {},
   "outputs": [
    {
     "data": {
      "image/png": "[encoded data removed]",
      "text/plain": [
       "<Figure size 1296x504 with 2 Axes>"
      ]
     },
     "metadata": {
      "needs_background": "light"
     },
     "output_type": "display_data"
    }
   ],
   "source": [
    "k = 2\n",
    "kmeans = KMeans(n_clusters=k).fit(X)\n",
    "plot_silhouette(X,k,kmeans.labels_,kmeans.cluster_centers_)"
   ]
  },
  {
   "cell_type": "markdown",
   "metadata": {},
   "source": [
    "Se puede ver que no funciona muy bien, ya que obtenemos un inertia muy alto y casi todos los datos pertenecen al mismo grupo."
   ]
  },
  {
   "cell_type": "markdown",
   "metadata": {},
   "source": [
    "### Variable Objetivo: stays_nights\n",
    "Normalizamos los datos y aplicamos TSNE para ver los datos en dos dimensiones:"
   ]
  },
  {
   "cell_type": "code",
   "execution_count": 12,
   "metadata": {},
   "outputs": [],
   "source": [
    "X = data.drop(['stays_nights', 'Unnamed: 0'], axis=1).values\n",
    "Y = data.stays_nights"
   ]
  },
  {
   "cell_type": "code",
   "execution_count": 13,
   "metadata": {},
   "outputs": [],
   "source": [
    "columns = data.drop(['stays_nights', 'Unnamed: 0'], axis=1).columns"
   ]
  },
  {
   "cell_type": "code",
   "execution_count": 14,
   "metadata": {},
   "outputs": [],
   "source": [
    "scaler = preprocessing.StandardScaler().fit(X)\n",
    "Xs = scaler.transform(X)"
   ]
  },
  {
   "cell_type": "markdown",
   "metadata": {},
   "source": [
    "Aplicamos TSNE para ver una representación de los datos:"
   ]
  },
  {
   "cell_type": "code",
   "execution_count": 15,
   "metadata": {},
   "outputs": [
    {
     "ename": "NameError",
     "evalue": "name 'X_tsne' is not defined",
     "output_type": "error",
     "traceback": [
      "\u001b[1;31m---------------------------------------------------------------------------\u001b[0m",
      "\u001b[1;31mNameError\u001b[0m                                 Traceback (most recent call last)",
      "\u001b[1;32m<ipython-input-15-f66910dd83bc>\u001b[0m in \u001b[0;36m<module>\u001b[1;34m\u001b[0m\n\u001b[0;32m      1\u001b[0m \u001b[0mXs\u001b[0m \u001b[1;33m=\u001b[0m \u001b[0mTSNE\u001b[0m\u001b[1;33m(\u001b[0m\u001b[0mn_components\u001b[0m\u001b[1;33m=\u001b[0m\u001b[1;36m2\u001b[0m\u001b[1;33m,\u001b[0m \u001b[0mrandom_state\u001b[0m\u001b[1;33m=\u001b[0m\u001b[1;36m0\u001b[0m\u001b[1;33m)\u001b[0m\u001b[1;33m.\u001b[0m\u001b[0mfit_transform\u001b[0m\u001b[1;33m(\u001b[0m\u001b[0mXs\u001b[0m\u001b[1;33m)\u001b[0m\u001b[1;33m\u001b[0m\u001b[1;33m\u001b[0m\u001b[0m\n\u001b[0;32m      2\u001b[0m \u001b[0mplt\u001b[0m\u001b[1;33m.\u001b[0m\u001b[0mfigure\u001b[0m\u001b[1;33m(\u001b[0m\u001b[0mfigsize\u001b[0m\u001b[1;33m=\u001b[0m\u001b[1;33m(\u001b[0m\u001b[1;36m6\u001b[0m\u001b[1;33m,\u001b[0m \u001b[1;36m6\u001b[0m\u001b[1;33m)\u001b[0m\u001b[1;33m)\u001b[0m\u001b[1;33m\u001b[0m\u001b[1;33m\u001b[0m\u001b[0m\n\u001b[1;32m----> 3\u001b[1;33m \u001b[0mplt\u001b[0m\u001b[1;33m.\u001b[0m\u001b[0mscatter\u001b[0m\u001b[1;33m(\u001b[0m\u001b[0mXs\u001b[0m\u001b[1;33m[\u001b[0m\u001b[1;33m:\u001b[0m\u001b[1;33m,\u001b[0m \u001b[1;36m0\u001b[0m\u001b[1;33m]\u001b[0m\u001b[1;33m,\u001b[0m \u001b[0mX_tsne\u001b[0m\u001b[1;33m[\u001b[0m\u001b[1;33m:\u001b[0m\u001b[1;33m,\u001b[0m \u001b[1;36m1\u001b[0m\u001b[1;33m]\u001b[0m\u001b[1;33m,\u001b[0m \u001b[0mc\u001b[0m \u001b[1;33m=\u001b[0m \u001b[1;34m'b'\u001b[0m\u001b[1;33m,\u001b[0m \u001b[0mmarker\u001b[0m\u001b[1;33m=\u001b[0m\u001b[1;34m'o'\u001b[0m\u001b[1;33m,\u001b[0m \u001b[0malpha\u001b[0m\u001b[1;33m=\u001b[0m\u001b[1;36m0.2\u001b[0m\u001b[1;33m)\u001b[0m\u001b[1;33m\u001b[0m\u001b[1;33m\u001b[0m\u001b[0m\n\u001b[0m\u001b[0;32m      4\u001b[0m \u001b[0mplt\u001b[0m\u001b[1;33m.\u001b[0m\u001b[0mxticks\u001b[0m\u001b[1;33m(\u001b[0m\u001b[1;33m[\u001b[0m\u001b[1;33m]\u001b[0m\u001b[1;33m)\u001b[0m\u001b[1;33m\u001b[0m\u001b[1;33m\u001b[0m\u001b[0m\n\u001b[0;32m      5\u001b[0m \u001b[0mplt\u001b[0m\u001b[1;33m.\u001b[0m\u001b[0myticks\u001b[0m\u001b[1;33m(\u001b[0m\u001b[1;33m[\u001b[0m\u001b[1;33m]\u001b[0m\u001b[1;33m)\u001b[0m\u001b[1;33m\u001b[0m\u001b[1;33m\u001b[0m\u001b[0m\n",
      "\u001b[1;31mNameError\u001b[0m: name 'X_tsne' is not defined"
     ]
    },
    {
     "data": {
      "text/plain": [
       "<Figure size 432x432 with 0 Axes>"
      ]
     },
     "metadata": {},
     "output_type": "display_data"
    }
   ],
   "source": [
    "Xs = TSNE(n_components=2, random_state=0).fit_transform(Xs)\n",
    "plt.figure(figsize=(6, 6))\n",
    "plt.scatter(Xs[:, 0], X_tsne[:, 1], c = 'b', marker='o', alpha=0.2)\n",
    "plt.xticks([])\n",
    "plt.yticks([])\n",
    "plt.show();"
   ]
  },
  {
   "cell_type": "markdown",
   "metadata": {},
   "source": [
    "Se puede ver no hay grandes distancias que separen unos grupos de otros.\n",
    "\n",
    "\n",
    "Aún así,vamos a ver cual es el número de cluster más óptimo para nuestros datos."
   ]
  },
  {
   "cell_type": "code",
   "execution_count": null,
   "metadata": {
    "scrolled": true
   },
   "outputs": [],
   "source": [
    "K = range(1,25)\n",
    "\n",
    "inertia = []\n",
    "for k in K:\n",
    "    kmeans = KMeans(n_clusters=k).fit(Xs)\n",
    "    inertia.append(kmeans.inertia_)\n",
    "    \n",
    "plt.plot(K,inertia,'.-')\n",
    "plt.xlabel('# of clusters')\n",
    "plt.ylabel('Inertia')\n",
    "plt.show()"
   ]
  },
  {
   "cell_type": "markdown",
   "metadata": {},
   "source": [
    "Aunque no queda un número muy claro, vamos a seleccionar K=10."
   ]
  },
  {
   "cell_type": "markdown",
   "metadata": {},
   "source": [
    "Vamos a ver las dimensiones de los distintos clusters para intentar encontrar alguna relación:"
   ]
  },
  {
   "cell_type": "code",
   "execution_count": null,
   "metadata": {},
   "outputs": [],
   "source": [
    "k = 10\n",
    "kmeans = KMeans(n_clusters=k, random_state=0)\n",
    "labels_km = kmeans.fit_predict(Xs)\n",
    "\n",
    "print(\"Cluster sizes k-means: {}\".format(np.bincount(labels_km)))\n",
    "\n",
    "distances = []\n",
    "for c in kmeans.cluster_centers_:\n",
    "    d = np.sum( np.sum((Xs - c) ** 2, axis=1) ) \n",
    "    distances.append(d.round(2))\n",
    "    \n",
    "print(\"Cluster distances k-means: {}\".format(distances))\n",
    "\n",
    "plt.figure(figsize=(12,4))\n",
    "plt.subplot(121)\n",
    "plt.bar(range(k),np.bincount(labels_km))\n",
    "\n",
    "plt.subplot(122)\n",
    "plt.bar(range(k),distances)\n",
    "plt.show()"
   ]
  },
  {
   "cell_type": "markdown",
   "metadata": {},
   "source": [
    "Podemos ver que en los clusters con más elementos, son en los que estos están más centrados.\n",
    "\n",
    "\n",
    "Ahora vamos a ver los datos del cluster con datos más centrados y los datos del cluster con datos más separados:"
   ]
  },
  {
   "cell_type": "code",
   "execution_count": null,
   "metadata": {},
   "outputs": [],
   "source": [
    "def close_to_far_from_center(x,centroid, n=5):\n",
    "    distance = np.sum((x - centroid) ** 2, axis=1)\n",
    "    print('Close to center')\n",
    "    display(pd.DataFrame(X[np.argsort(distance)[:n]], columns= columns))\n",
    "    print('Far from center')\n",
    "    display(pd.DataFrame(X[np.argsort(distance)[-n:]], columns= columns))"
   ]
  },
  {
   "cell_type": "code",
   "execution_count": null,
   "metadata": {},
   "outputs": [],
   "source": [
    "close_to_far_from_center(Xs,kmeans.cluster_centers_[9])"
   ]
  },
  {
   "cell_type": "markdown",
   "metadata": {},
   "source": [
    "Como podemos ver, los datos más cercanos son bastante parecidos."
   ]
  },
  {
   "cell_type": "code",
   "execution_count": null,
   "metadata": {},
   "outputs": [],
   "source": [
    "k = 10\n",
    "kmeans = KMeans(n_clusters = k)\n",
    "kmeans.fit(Xs)\n",
    "centroids = kmeans.cluster_centers_\n",
    "cluster_labels = kmeans.labels_\n",
    "plot_scatter(Xs,'k = ' + str(k), cluster_labels, centroids)\n",
    "plt.show()"
   ]
  },
  {
   "cell_type": "markdown",
   "metadata": {},
   "source": [
    "Vemos que son grupos que no están muy bien diferenciados unos de otros."
   ]
  },
  {
   "cell_type": "code",
   "execution_count": null,
   "metadata": {
    "scrolled": true
   },
   "outputs": [],
   "source": [
    "Y_predicted = kmeans.predict(Xs)\n",
    "mean_squared_error(Y, Y_predicted, squared=False)"
   ]
  },
  {
   "cell_type": "markdown",
   "metadata": {},
   "source": [
    "Vemos que tiene un RMSE alto para el rango en el que se mueve nuestra variable objetivo (es un poco mayor que la media)."
   ]
  },
  {
   "cell_type": "code",
   "execution_count": null,
   "metadata": {},
   "outputs": [],
   "source": [
    "k = 10\n",
    "kmeans = KMeans(n_clusters=k).fit(Xs)\n",
    "kmeans.inertia_"
   ]
  },
  {
   "cell_type": "code",
   "execution_count": null,
   "metadata": {},
   "outputs": [],
   "source": [
    "k = 10\n",
    "kmeans = KMeans(n_clusters=k).fit(Xs)\n",
    "plot_silhouette(Xs,k,kmeans.labels_,kmeans.cluster_centers_)"
   ]
  },
  {
   "cell_type": "markdown",
   "metadata": {},
   "source": [
    "La conclusión es que la separación por clusters no ha sido eficiente, ya los grupos no están lo suficientemente diferenciados y el RMSE que hemos obtenido es alto.\n",
    "\n",
    "\n",
    "Vamos a utilizar DB-SCAN para dividir nuestros datos en grupos:"
   ]
  },
  {
   "cell_type": "markdown",
   "metadata": {},
   "source": [
    "## DB-SCAN\n",
    "Vamos a probar DB-SCAN con distintos valores de eps y siempre min_samples=10"
   ]
  },
  {
   "cell_type": "markdown",
   "metadata": {},
   "source": [
    "### Variable Objetivo: is_canceled"
   ]
  },
  {
   "cell_type": "markdown",
   "metadata": {},
   "source": [
    "Vamos a normalizar los datos y aplicamos DB-SCAN tratando de encontrar dos clusters, y entonces ver cuantos elementos hay en cada uno:"
   ]
  },
  {
   "cell_type": "code",
   "execution_count": null,
   "metadata": {
    "scrolled": true
   },
   "outputs": [],
   "source": [
    "X = data.drop(['is_canceled', 'Unnamed: 0'], axis=1).values\n",
    "Y = data.is_canceled\n",
    "scaler = preprocessing.StandardScaler().fit(X)\n",
    "Xs = scaler.transform(X)"
   ]
  },
  {
   "cell_type": "code",
   "execution_count": null,
   "metadata": {},
   "outputs": [],
   "source": [
    "for eps in [7, 8, 9]:\n",
    "    print(\"\\neps={}\".format(eps))\n",
    "    dbscan = DBSCAN(eps=eps, min_samples=10)\n",
    "    labels = dbscan.fit_predict(Xs)\n",
    "    print(\"Number of clusters: {}\".format(len(np.unique(labels))))\n",
    "    print(\"Cluster sizes: {}\".format(np.bincount(labels + 1)))"
   ]
  },
  {
   "cell_type": "markdown",
   "metadata": {},
   "source": [
    "### Variable Objetivo: stays_nights\n",
    "Normalizamos los datos y aplicamos DB-SCAN:"
   ]
  },
  {
   "cell_type": "code",
   "execution_count": null,
   "metadata": {},
   "outputs": [],
   "source": [
    "X = data.drop(['stays_nights', 'Unnamed: 0'], axis=1).values\n",
    "Y = data.stays_nights\n",
    "columns = data.drop(['stays_nights', 'Unnamed: 0'], axis=1).columns\n",
    "scaler = preprocessing.StandardScaler().fit(X)\n",
    "Xs = scaler.transform(X)"
   ]
  },
  {
   "cell_type": "code",
   "execution_count": null,
   "metadata": {},
   "outputs": [],
   "source": [
    "for eps in [1, 3, 5, 6, 7, 8, 9]:\n",
    "    print(\"\\neps={}\".format(eps))\n",
    "    dbscan = DBSCAN(eps=eps, min_samples=10)\n",
    "    labels = dbscan.fit_predict(Xs)\n",
    "    print(\"Number of clusters: {}\".format(len(np.unique(labels))))\n",
    "    print(\"Cluster sizes: {}\".format(np.bincount(labels + 1)))"
   ]
  },
  {
   "cell_type": "markdown",
   "metadata": {},
   "source": [
    "## Árboles de decisión"
   ]
  },
  {
   "cell_type": "markdown",
   "metadata": {},
   "source": [
    "Un árbol de decisión es una estructura arbórea similar a un diagrama de flujo en la que un nodo interno representa una característica (o atributo), la rama representa una regla de decisión y cada nodo de hoja representa el resultado. El nodo superior de un árbol de decisión se conoce como nodo raíz. Aprende a dividir en función del valor del atributo. La partición del árbol se denomina partición recursiva. Esta estructura similar a un diagrama de flujo le ayuda en la toma de decisiones. Se visualiza como un diagrama de flujo que imita fácilmente el pensamiento a nivel humano. Por eso los árboles de decisión son fáciles de entender e interpretar.\n",
    "\n",
    "El árbol de decisión es un algoritmo de caja blanca de ML. Comparte la lógica interna de la toma de decisiones, que no está disponible en el tipo de algoritmos de caja negra como la red neuronal. Su tiempo de entrenamiento es más rápido en comparación con el algoritmo de la red neuronal. La complejidad temporal de los árboles de decisión es una función del número de registros y del número de atributos en los datos dados. El árbol de decisión es un método no paramétrico, que no depende de supuestos de distribución de probabilidad. Los árboles de decisión pueden manejar datos de alta dimensión con buena precisión.\n"
   ]
  },
  {
   "cell_type": "code",
   "execution_count": 16,
   "metadata": {},
   "outputs": [],
   "source": [
    "data_tree = pd.read_csv('simple-hotels.csv',delimiter=\",\")"
   ]
  },
  {
   "cell_type": "code",
   "execution_count": 17,
   "metadata": {},
   "outputs": [],
   "source": [
    "drop_elements=[\"arrival_date_week_number\",\"arrival_date_year\",\"arrival_date_day_of_month\",\"agent\",\"company\",\"reservation_status\",\"reservation_status_date\",\"arrival_date_month\",\"country\"]\n",
    "data_tree = data_tree.drop(drop_elements,axis=1)"
   ]
  },
  {
   "cell_type": "markdown",
   "metadata": {},
   "source": [
    "Primero observamos cómo de balanceada está la clase que queremos precedir o clasificar, ya que, si esta se eencuentra muy desbalanceada en favor de alguna de las clases puede afectar la precisión de la predicción. Como observamos abajo, la clase \"0\" (no se cancela) es, en proporción, 1.6 veces mayor que la calse \"1\" (no se cancela)."
   ]
  },
  {
   "cell_type": "code",
   "execution_count": 18,
   "metadata": {},
   "outputs": [
    {
     "data": {
      "text/plain": [
       "is_canceled\n",
       "0    6249\n",
       "1    3751\n",
       "dtype: int64"
      ]
     },
     "execution_count": 18,
     "metadata": {},
     "output_type": "execute_result"
    }
   ],
   "source": [
    "data_tree.groupby(\"is_canceled\").size()"
   ]
  },
  {
   "cell_type": "markdown",
   "metadata": {},
   "source": [
    "A continuación, el algoritmo de decision tree de scikit-learn no acepta clases categóricas etiquetadas como strings , por lo que hay que hacer su conversión numérica:"
   ]
  },
  {
   "cell_type": "code",
   "execution_count": 25,
   "metadata": {},
   "outputs": [],
   "source": [
    "data_tree['hotel_encoded'] = data_tree['hotel'].map({'City Hotel': 0, 'Resort Hotel': 1, '': 2}).astype(int)\n",
    "data_tree['meal_encoded'] = data_tree['meal'].map({'BB': 0, 'SC': 1, 'HB': 2, 'FB': 3, 'Undefined': 4, '': 5}).astype(int)\n",
    "data_tree['market_seg_encoded'] = data_tree['market_segment'].map({'Online TA': 0, 'Direct': 1, 'Groups': 2, 'Offline TA/TO': 3, 'Corporate': 4, 'Aviation': 5, 'Complementary': 6, '':7}).astype(int)\n",
    "data_tree['dist_chnl_encoded'] = data_tree['distribution_channel'].map({'TA/TO': 0, 'Direct': 1, 'Corporate': 2, 'GDS': 3, '': 4}).astype(int)\n",
    "data_tree['res_room_type_encoded'] = data_tree['reserved_room_type'].map({'D': 0, 'A': 1, 'E': 2, 'F': 3, 'G': 4, 'C': 5, 'H': 6,'B': 7, 'P': 8, 'L': 9, '':10}).astype(int)\n",
    "data_tree['asig_room_type_encoded'] = data_tree['assigned_room_type'].map({'D': 0, 'A': 1, 'E': 2, 'F': 3, 'G': 4, 'C': 5, 'H': 6,'B': 7, 'P': 8, 'K': 9, '':10, 'I': 12}).astype(int)\n",
    "data_tree['depo_type_encoded'] = data_tree['deposit_type'].map({'No Deposit': 0, 'Non Refund': 1, 'Refundable': 2, '': 3}).astype(int)\n",
    "data_tree['cust_type_encoded'] = data_tree['customer_type'].map({'Transient': 0, 'Transient-Party': 1, 'Contract': 2, 'Group': 3, '': 4}).astype(int)"
   ]
  },
  {
   "cell_type": "markdown",
   "metadata": {},
   "source": [
    "Transformadas las variables categóricas en variables categóricas numéricas, las añadimos al dataset utilizado para alimentar al modelo."
   ]
  },
  {
   "cell_type": "code",
   "execution_count": 26,
   "metadata": {},
   "outputs": [],
   "source": [
    "drop_elements=[\"hotel\",\"meal\",\"market_segment\",\"distribution_channel\",\"reserved_room_type\",\"assigned_room_type\",\"deposit_type\",\"customer_type\"]\n",
    "data_tree_encoded = data_tree.drop(drop_elements,axis=1)"
   ]
  },
  {
   "cell_type": "markdown",
   "metadata": {},
   "source": [
    "Antes de entrenar el modelo, queremos saber cuál es la profundidad apropiada del árbol, para ello, entrenamos varios árboles con distintos valores de profundidad y analizamos su precisión:"
   ]
  },
  {
   "cell_type": "code",
   "execution_count": 27,
   "metadata": {},
   "outputs": [
    {
     "name": "stdout",
     "output_type": "stream",
     "text": [
      " Max Depth  Average Accuracy\n",
      "         1            0.7430\n",
      "         2            0.7430\n",
      "         3            0.7430\n",
      "         4            0.7103\n",
      "         5            0.8013\n",
      "         6            0.8076\n",
      "         7            0.8070\n",
      "         8            0.8067\n",
      "         9            0.7971\n",
      "        10            0.7939\n",
      "        11            0.7926\n",
      "        12            0.7879\n",
      "        13            0.7874\n",
      "        14            0.7877\n",
      "        15            0.7840\n",
      "        16            0.7795\n",
      "        17            0.7805\n",
      "        18            0.7806\n",
      "        19            0.7793\n",
      "        20            0.7803\n",
      "        21            0.7802\n",
      "        22            0.7799\n",
      "        23            0.7804\n"
     ]
    }
   ],
   "source": [
    "cv = KFold(n_splits=10) # Numero deseado de \"folds\" que haremos\n",
    "accuracies = list()\n",
    "max_attributes = len(list(data_tree_encoded))\n",
    "depth_range = range(1, max_attributes + 1)\n",
    "\n",
    "for depth in depth_range:\n",
    "    fold_accuracy = []\n",
    "    tree_model = tree.DecisionTreeClassifier(criterion='entropy',\n",
    "                                             min_samples_split=50,\n",
    "                                             min_samples_leaf=25,\n",
    "                                             max_depth = depth,\n",
    "                                             class_weight={1:1.6})\n",
    "    for train_fold, valid_fold in cv.split(data_tree_encoded):\n",
    "        f_train = data_tree_encoded.loc[train_fold] \n",
    "        f_valid = data_tree_encoded.loc[valid_fold] \n",
    " \n",
    "        model = tree_model.fit(X = f_train.drop(['is_canceled'], axis=1), \n",
    "                               y = f_train[\"is_canceled\"]) \n",
    "        valid_acc = model.score(X = f_valid.drop(['is_canceled'], axis=1), \n",
    "                                y = f_valid[\"is_canceled\"]) # calculamos la precision con el segmento de validacion\n",
    "        fold_accuracy.append(valid_acc)\n",
    " \n",
    "    avg = sum(fold_accuracy)/len(fold_accuracy)\n",
    "    accuracies.append(avg)\n",
    "    \n",
    "# Mostramos los resultados obtenidos\n",
    "df = pd.DataFrame({\"Max Depth\": depth_range, \"Average Accuracy\": accuracies})\n",
    "df = df[[\"Max Depth\", \"Average Accuracy\"]]\n",
    "print(df.to_string(index=False))"
   ]
  },
  {
   "cell_type": "markdown",
   "metadata": {},
   "source": [
    "Vemos que con una profundidad entre 5 y 8 conseguimos superar un 80 % de precisión, nos decantamos por una profundidad de 6 en el árbol. Y entrenamos el modelo."
   ]
  },
  {
   "cell_type": "code",
   "execution_count": 28,
   "metadata": {
    "scrolled": false
   },
   "outputs": [
    {
     "data": {
      "image/png": "[encoded data removed]",
      "text/plain": [
       "<Figure size 432x288 with 1 Axes>"
      ]
     },
     "metadata": {
      "needs_background": "light"
     },
     "output_type": "display_data"
    }
   ],
   "source": [
    "y_train = data_tree_encoded['is_canceled']\n",
    "x_train = data_tree_encoded.drop(['is_canceled'], axis=1).values \n",
    " \n",
    "# Crear Arbol de decision con profundidad = 6\n",
    "decision_tree = tree.DecisionTreeClassifier(criterion='entropy',\n",
    "                                            min_samples_split=50,\n",
    "                                            min_samples_leaf=25,\n",
    "                                            max_depth = 6,\n",
    "                                            class_weight={1:1.6})\n",
    "decision_tree.fit(x_train, y_train)\n",
    "r = export_text(decision_tree, feature_names=list(data_tree_encoded.drop(['is_canceled'], axis=1)))\n",
    "tree.plot_tree(decision_tree, filled=True)\n",
    "plt.show()"
   ]
  },
  {
   "cell_type": "markdown",
   "metadata": {},
   "source": []
  },
  {
   "cell_type": "code",
   "execution_count": 29,
   "metadata": {},
   "outputs": [
    {
     "name": "stdout",
     "output_type": "stream",
     "text": [
      "|--- depo_type_encoded <= 0.50\n",
      "|   |--- required_car_parking_spaces <= 0.50\n",
      "|   |   |--- lead_time <= 8.50\n",
      "|   |   |   |--- booking_changes <= 0.50\n",
      "|   |   |   |   |--- stays_in_weekend_nights <= 1.50\n",
      "|   |   |   |   |   |--- lead_time <= 3.50\n",
      "|   |   |   |   |   |   |--- class: 0\n",
      "|   |   |   |   |   |--- lead_time >  3.50\n",
      "|   |   |   |   |   |   |--- class: 0\n",
      "|   |   |   |   |--- stays_in_weekend_nights >  1.50\n",
      "|   |   |   |   |   |--- adults <= 1.50\n",
      "|   |   |   |   |   |   |--- class: 1\n",
      "|   |   |   |   |   |--- adults >  1.50\n",
      "|   |   |   |   |   |   |--- class: 0\n",
      "|   |   |   |--- booking_changes >  0.50\n",
      "|   |   |   |   |--- stays_in_week_nights <= 1.50\n",
      "|   |   |   |   |   |--- market_seg_encoded <= 1.50\n",
      "|   |   |   |   |   |   |--- class: 0\n",
      "|   |   |   |   |   |--- market_seg_encoded >  1.50\n",
      "|   |   |   |   |   |   |--- class: 0\n",
      "|   |   |   |   |--- stays_in_week_nights >  1.50\n",
      "|   |   |   |   |   |--- asig_room_type_encoded <= 1.50\n",
      "|   |   |   |   |   |   |--- class: 0\n",
      "|   |   |   |   |   |--- asig_room_type_encoded >  1.50\n",
      "|   |   |   |   |   |   |--- class: 0\n",
      "|   |   |--- lead_time >  8.50\n",
      "|   |   |   |--- market_seg_encoded <= 0.50\n",
      "|   |   |   |   |--- total_of_special_requests <= 0.50\n",
      "|   |   |   |   |   |--- cust_type_encoded <= 0.50\n",
      "|   |   |   |   |   |   |--- class: 1\n",
      "|   |   |   |   |   |--- cust_type_encoded >  0.50\n",
      "|   |   |   |   |   |   |--- class: 0\n",
      "|   |   |   |   |--- total_of_special_requests >  0.50\n",
      "|   |   |   |   |   |--- previous_cancellations <= 0.50\n",
      "|   |   |   |   |   |   |--- class: 0\n",
      "|   |   |   |   |   |--- previous_cancellations >  0.50\n",
      "|   |   |   |   |   |   |--- class: 1\n",
      "|   |   |   |--- market_seg_encoded >  0.50\n",
      "|   |   |   |   |--- previous_cancellations <= 0.50\n",
      "|   |   |   |   |   |--- total_of_special_requests <= 0.50\n",
      "|   |   |   |   |   |   |--- class: 0\n",
      "|   |   |   |   |   |--- total_of_special_requests >  0.50\n",
      "|   |   |   |   |   |   |--- class: 0\n",
      "|   |   |   |   |--- previous_cancellations >  0.50\n",
      "|   |   |   |   |   |--- lead_time <= 94.50\n",
      "|   |   |   |   |   |   |--- class: 1\n",
      "|   |   |   |   |   |--- lead_time >  94.50\n",
      "|   |   |   |   |   |   |--- class: 1\n",
      "|   |--- required_car_parking_spaces >  0.50\n",
      "|   |   |--- class: 0\n",
      "|--- depo_type_encoded >  0.50\n",
      "|   |--- cust_type_encoded <= 0.50\n",
      "|   |   |--- class: 1\n",
      "|   |--- cust_type_encoded >  0.50\n",
      "|   |   |--- lead_time <= 189.00\n",
      "|   |   |   |--- class: 1\n",
      "|   |   |--- lead_time >  189.00\n",
      "|   |   |   |--- cust_type_encoded <= 1.50\n",
      "|   |   |   |   |--- class: 1\n",
      "|   |   |   |--- cust_type_encoded >  1.50\n",
      "|   |   |   |   |--- class: 1\n",
      "\n"
     ]
    }
   ],
   "source": [
    "print(r)"
   ]
  },
  {
   "cell_type": "markdown",
   "metadata": {},
   "source": [
    "## Random Forest"
   ]
  },
  {
   "cell_type": "code",
   "execution_count": 31,
   "metadata": {},
   "outputs": [
    {
     "data": {
      "text/plain": [
       "RandomForestClassifier(class_weight={1: 1.6}, max_depth=6, oob_score=True,\n",
       "                       random_state=0)"
      ]
     },
     "execution_count": 31,
     "metadata": {},
     "output_type": "execute_result"
    }
   ],
   "source": [
    "cv = KFold(n_splits=8)\n",
    "for train_fold, valid_fold in cv.split(data_tree_encoded):\n",
    "        f_train = data_tree_encoded.loc[train_fold] \n",
    "        f_valid = data_tree_encoded.loc[valid_fold] \n",
    "\n",
    "x_train = f_train.drop(['is_canceled'], axis=1)\n",
    "y_train = f_train[\"is_canceled\"]\n",
    "x_test = f_valid.drop(['is_canceled'], axis = 1)\n",
    "y_test = f_valid['is_canceled']\n",
    "\n",
    "#x_train, y_train = make_classification(n_samples=100, n_features=22,\n",
    "                           #n_informative=2, n_redundant=0,\n",
    "                            #random_state=0, shuffle=False)\n",
    "clf = RandomForestClassifier(max_depth=6, random_state=0, oob_score=True, class_weight={1:1.6})\n",
    "clf.fit(x_train, y_train)\n",
    "\n"
   ]
  },
  {
   "cell_type": "markdown",
   "metadata": {},
   "source": [
    "Entrenado el modelo del bosque de árboles, extraemos la importancia que cada variable aporta a la expliabilidad del modelo. Según este, las variables que más información sobre la respuesta tienen son: \"depo_type_encoded\", \"lead_time\", \"total_of_special_requests\", \"previous_cancellations\", \"market_seg_encoded\" y \"cust_type_encoded\"."
   ]
  },
  {
   "cell_type": "code",
   "execution_count": 33,
   "metadata": {},
   "outputs": [
    {
     "name": "stdout",
     "output_type": "stream",
     "text": [
      "[1.64646028e-01 3.19423752e-03 7.63369035e-03 5.71307617e-03\n",
      " 1.21975615e-03 6.74035868e-05 2.99747637e-03 7.30251116e-02\n",
      " 9.24856535e-03 3.78326440e-02 2.57590862e-03 2.44179806e-02\n",
      " 6.73644716e-02 9.61842723e-02 9.02919936e-03 1.68299944e-03\n",
      " 6.40609988e-02 1.76084893e-02 5.10960097e-03 1.53159940e-02\n",
      " 3.30134616e-01 6.09374795e-02]\n"
     ]
    }
   ],
   "source": [
    "print(clf.feature_importances_)"
   ]
  },
  {
   "cell_type": "code",
   "execution_count": 34,
   "metadata": {},
   "outputs": [
    {
     "data": {
      "image/png": "[encoded data removed]",
      "text/plain": [
       "<Figure size 432x288 with 1 Axes>"
      ]
     },
     "metadata": {
      "needs_background": "light"
     },
     "output_type": "display_data"
    }
   ],
   "source": [
    "pyplot.bar(range(len(clf.feature_importances_)), clf.feature_importances_)\n",
    "pyplot.show()"
   ]
  },
  {
   "cell_type": "code",
   "execution_count": 44,
   "metadata": {},
   "outputs": [
    {
     "data": {
      "text/plain": [
       "array([[717,  70],\n",
       "       [158, 305]], dtype=int64)"
      ]
     },
     "execution_count": 44,
     "metadata": {},
     "output_type": "execute_result"
    }
   ],
   "source": [
    "predictions_clf = clf.predict(x_test)\n",
    "sklearn.metrics.confusion_matrix(y_test,predictions_clf)"
   ]
  },
  {
   "cell_type": "code",
   "execution_count": 59,
   "metadata": {},
   "outputs": [
    {
     "data": {
      "text/plain": [
       "0.8176"
      ]
     },
     "execution_count": 59,
     "metadata": {},
     "output_type": "execute_result"
    }
   ],
   "source": [
    "sklearn.metrics.accuracy_score(y_test, predictions_clf)"
   ]
  },
  {
   "cell_type": "code",
   "execution_count": 45,
   "metadata": {},
   "outputs": [
    {
     "data": {
      "text/plain": [
       "0.6587473002159827"
      ]
     },
     "execution_count": 45,
     "metadata": {},
     "output_type": "execute_result"
    }
   ],
   "source": [
    "sklearn.metrics.recall_score(y_test, predictions_clf)"
   ]
  },
  {
   "cell_type": "code",
   "execution_count": 46,
   "metadata": {},
   "outputs": [
    {
     "data": {
      "text/plain": [
       "0.8133333333333334"
      ]
     },
     "execution_count": 46,
     "metadata": {},
     "output_type": "execute_result"
    }
   ],
   "source": [
    "sklearn.metrics.precision_score(y_test, predictions_clf)"
   ]
  },
  {
   "cell_type": "code",
   "execution_count": 56,
   "metadata": {},
   "outputs": [
    {
     "data": {
      "text/plain": [
       "0.7279236276849641"
      ]
     },
     "execution_count": 56,
     "metadata": {},
     "output_type": "execute_result"
    }
   ],
   "source": [
    "sklearn.metrics.f1_score(y_test, predictions_clf)"
   ]
  },
  {
   "cell_type": "markdown",
   "metadata": {},
   "source": [
    "Este modelo de random forest obtiene un buen rendimiento en accuracy, clasifica bien respecto al total de casos. Sin embargo, no es tan bueno en recall, esto es, no es tan bueno prediciendo TP (True positives), tiene bastantes falsos negativos.\n",
    "Respecto a precision score, el modelo da pocos falsos positivos y en cuanto al f1_score, se ve mermada por la no tan buena métrica de recall que tiene el modelo. "
   ]
  },
  {
   "cell_type": "markdown",
   "metadata": {},
   "source": [
    "### Algoritmo ExtraTreesClassifier"
   ]
  },
  {
   "cell_type": "markdown",
   "metadata": {},
   "source": [
    "A continuación, entrenamos otro clasificador de random forest que tiene Scikit-learn el ExtraTreesClasifier(). En este random forest, da un giro de tuerca más a la aleatoriedad al establecer aleatoriamente los valores que dividen cada nodo/caraterísitca y escogiendo la división que mejor rendimiento de como regla de división."
   ]
  },
  {
   "cell_type": "markdown",
   "metadata": {},
   "source": [
    "Para este modelo las variable que más información aportan a este son: \"lead_time\", \"adr\", \"depo_type_encoded\", \"stays_in_week_nights\", \"total_of_special_requests\"."
   ]
  },
  {
   "cell_type": "code",
   "execution_count": 63,
   "metadata": {},
   "outputs": [
    {
     "name": "stdout",
     "output_type": "stream",
     "text": [
      "[0.18888869 0.04716868 0.07538019 0.02503268 0.0122707  0.00213642\n",
      " 0.00539756 0.03172106 0.00300665 0.0293792  0.00460701 0.13715629\n",
      " 0.02710233 0.07283916 0.01797376 0.02482699 0.0460312  0.01835601\n",
      " 0.02388568 0.03441833 0.13758201 0.03483939]\n"
     ]
    }
   ],
   "source": [
    "model = ExtraTreesClassifier()\n",
    "model.fit(x_train,y_train)\n",
    "print(model.feature_importances_)"
   ]
  },
  {
   "cell_type": "code",
   "execution_count": 64,
   "metadata": {},
   "outputs": [
    {
     "data": {
      "image/png": "[encoded data removed]",
      "text/plain": [
       "<Figure size 432x288 with 1 Axes>"
      ]
     },
     "metadata": {
      "needs_background": "light"
     },
     "output_type": "display_data"
    }
   ],
   "source": [
    "pyplot.bar(range(len(model.feature_importances_)), model.feature_importances_)\n",
    "pyplot.show()"
   ]
  },
  {
   "cell_type": "code",
   "execution_count": 47,
   "metadata": {},
   "outputs": [
    {
     "data": {
      "text/plain": [
       "array([[648, 139],\n",
       "       [128, 335]], dtype=int64)"
      ]
     },
     "execution_count": 47,
     "metadata": {},
     "output_type": "execute_result"
    }
   ],
   "source": [
    "predictions_model = model.predict(x_test)\n",
    "sklearn.metrics.confusion_matrix(y_test,predictions_model)"
   ]
  },
  {
   "cell_type": "code",
   "execution_count": 48,
   "metadata": {},
   "outputs": [
    {
     "data": {
      "text/plain": [
       "0.7864"
      ]
     },
     "execution_count": 48,
     "metadata": {},
     "output_type": "execute_result"
    }
   ],
   "source": [
    "sklearn.metrics.accuracy_score(y_test, predictions_model)"
   ]
  },
  {
   "cell_type": "code",
   "execution_count": 49,
   "metadata": {},
   "outputs": [
    {
     "data": {
      "text/plain": [
       "0.7235421166306696"
      ]
     },
     "execution_count": 49,
     "metadata": {},
     "output_type": "execute_result"
    }
   ],
   "source": [
    "sklearn.metrics.recall_score(y_test, predictions_model)"
   ]
  },
  {
   "cell_type": "code",
   "execution_count": 50,
   "metadata": {},
   "outputs": [
    {
     "data": {
      "text/plain": [
       "0.7067510548523207"
      ]
     },
     "execution_count": 50,
     "metadata": {},
     "output_type": "execute_result"
    }
   ],
   "source": [
    "sklearn.metrics.precision_score(y_test, predictions_model)"
   ]
  },
  {
   "cell_type": "code",
   "execution_count": 57,
   "metadata": {},
   "outputs": [
    {
     "data": {
      "text/plain": [
       "0.7150480256136605"
      ]
     },
     "execution_count": 57,
     "metadata": {},
     "output_type": "execute_result"
    }
   ],
   "source": [
    "sklearn.metrics.f1_score(y_test, predictions_model)"
   ]
  },
  {
   "cell_type": "markdown",
   "metadata": {},
   "source": [
    "Este modelo ExtraTreesClassifier tiene su mayor fortaleza en la accuracy_score, clasifica bien en general. Pero no tan bien como el modelo anterior. Sin embargo, en recall obtiene mejor rendimiento y en precision_score también es superado por e modelo anterior.\n",
    "Se podría decir que este modelo no produce tantos falsos negativos (FN) pero a costa de reducir su precisión en los verdaderos positivos (TP). \n",
    "Sin embargo, ambos modelos mantienen un F1_score muy similar."
   ]
  }
 ],
 "metadata": {
  "kernelspec": {
   "display_name": "Python 3",
   "language": "python",
   "name": "python3"
  },
  "language_info": {
   "codemirror_mode": {
    "name": "ipython",
    "version": 3
   },
   "file_extension": ".py",
   "mimetype": "text/x-python",
   "name": "python",
   "nbconvert_exporter": "python",
   "pygments_lexer": "ipython3",
   "version": "3.7.6"
  }
 },
 "nbformat": 4,
 "nbformat_minor": 4
}
