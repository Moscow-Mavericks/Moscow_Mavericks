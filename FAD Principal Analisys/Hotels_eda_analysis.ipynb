{
  "nbformat": 4,
  "nbformat_minor": 0,
  "metadata": {
    "colab": {
      "name": "EDA FAD.ipynb",
      "provenance": [],
      "collapsed_sections": []
    },
    "kernelspec": {
      "name": "python3",
      "display_name": "Python 3"
    }
  },
  "cells": [
    {
      "cell_type": "markdown",
      "metadata": {
        "id": "rNn58UrW7OBS"
      },
      "source": [
        "# EDA - Fundamentos de Análisis de Datos"
      ]
    },
    {
      "cell_type": "markdown",
      "metadata": {
        "id": "z2L-gcvN5kKx"
      },
      "source": [
        "## Añadir heatmap de datos faltantes!!!!!!!!\n",
        "https://github.com/ResidentMario/missingno"
      ]
    },
    {
      "cell_type": "markdown",
      "metadata": {
        "id": "PRDvIszt7xI7"
      },
      "source": [
        "## Librerias\n"
      ]
    },
    {
      "cell_type": "code",
      "metadata": {
        "id": "Va_m5Mgs7Zvk"
      },
      "source": [
        "from google.colab import files\n",
        "import pandas as pd\n",
        "import pandas_profiling\n",
        "import io\n",
        "import warnings\n",
        "import matplotlib.pyplot as plt\n",
        "import datetime\n",
        "%matplotlib inline\n",
        "import seaborn as sns\n",
        "warnings.filterwarnings('ignore')"
      ],
      "execution_count": null,
      "outputs": []
    },
    {
      "cell_type": "markdown",
      "metadata": {
        "id": "wXp7DvxJ71JQ"
      },
      "source": [
        "## Datos\n"
      ]
    },
    {
      "cell_type": "code",
      "metadata": {
        "id": "CJ-z8S3I73q7",
        "colab": {
          "resources": {
            "http://localhost:8080/nbextensions/google.colab/files.js": {
              "data": "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",
              "ok": true,
              "headers": [
                [
                  "content-type",
                  "application/javascript"
                ]
              ],
              "status": 200,
              "status_text": "OK"
            }
          },
          "base_uri": "https://localhost:8080/",
          "height": 76
        },
        "outputId": "5d559ea0-5b0a-4f4b-c426-7158f5cfd1f8"
      },
      "source": [
        "uploaded = files.upload()"
      ],
      "execution_count": null,
      "outputs": [
        {
          "output_type": "display_data",
          "data": {
            "text/html": [
              "\n",
              "     <input type=\"file\" id=\"files-8fd5da14-6c05-49e6-9ce3-8e9c79c0c691\" name=\"files[]\" multiple disabled\n",
              "        style=\"border:none\" />\n",
              "     <output id=\"result-8fd5da14-6c05-49e6-9ce3-8e9c79c0c691\">\n",
              "      Upload widget is only available when the cell has been executed in the\n",
              "      current browser session. Please rerun this cell to enable.\n",
              "      </output>\n",
              "      <script src=\"/nbextensions/google.colab/files.js\"></script> "
            ],
            "text/plain": [
              "<IPython.core.display.HTML object>"
            ]
          },
          "metadata": {
            "tags": []
          }
        },
        {
          "output_type": "stream",
          "text": [
            "Saving simple_hotel_bookings.csv to simple_hotel_bookings.csv\n"
          ],
          "name": "stdout"
        }
      ]
    },
    {
      "cell_type": "code",
      "metadata": {
        "id": "seMCOLsc91dE",
        "colab": {
          "base_uri": "https://localhost:8080/",
          "height": 313
        },
        "outputId": "d7bfcf4e-6e86-44f7-817b-d577f99d35e7"
      },
      "source": [
        "data = pd.read_csv(io.BytesIO(uploaded['simple_hotel_bookings.csv']))\n",
        "data.head()\n"
      ],
      "execution_count": null,
      "outputs": [
        {
          "output_type": "execute_result",
          "data": {
            "text/html": [
              "<div>\n",
              "<style scoped>\n",
              "    .dataframe tbody tr th:only-of-type {\n",
              "        vertical-align: middle;\n",
              "    }\n",
              "\n",
              "    .dataframe tbody tr th {\n",
              "        vertical-align: top;\n",
              "    }\n",
              "\n",
              "    .dataframe thead th {\n",
              "        text-align: right;\n",
              "    }\n",
              "</style>\n",
              "<table border=\"1\" class=\"dataframe\">\n",
              "  <thead>\n",
              "    <tr style=\"text-align: right;\">\n",
              "      <th></th>\n",
              "      <th>hotel</th>\n",
              "      <th>is_canceled</th>\n",
              "      <th>lead_time</th>\n",
              "      <th>arrival_date_year</th>\n",
              "      <th>arrival_date_month</th>\n",
              "      <th>arrival_date_week_number</th>\n",
              "      <th>arrival_date_day_of_month</th>\n",
              "      <th>stays_in_weekend_nights</th>\n",
              "      <th>stays_in_week_nights</th>\n",
              "      <th>adults</th>\n",
              "      <th>children</th>\n",
              "      <th>babies</th>\n",
              "      <th>meal</th>\n",
              "      <th>country</th>\n",
              "      <th>market_segment</th>\n",
              "      <th>distribution_channel</th>\n",
              "      <th>is_repeated_guest</th>\n",
              "      <th>previous_cancellations</th>\n",
              "      <th>previous_bookings_not_canceled</th>\n",
              "      <th>reserved_room_type</th>\n",
              "      <th>assigned_room_type</th>\n",
              "      <th>booking_changes</th>\n",
              "      <th>deposit_type</th>\n",
              "      <th>agent</th>\n",
              "      <th>company</th>\n",
              "      <th>days_in_waiting_list</th>\n",
              "      <th>customer_type</th>\n",
              "      <th>adr</th>\n",
              "      <th>required_car_parking_spaces</th>\n",
              "      <th>total_of_special_requests</th>\n",
              "      <th>reservation_status</th>\n",
              "      <th>reservation_status_date</th>\n",
              "    </tr>\n",
              "  </thead>\n",
              "  <tbody>\n",
              "    <tr>\n",
              "      <th>0</th>\n",
              "      <td>City Hotel</td>\n",
              "      <td>1</td>\n",
              "      <td>177</td>\n",
              "      <td>2017</td>\n",
              "      <td>August</td>\n",
              "      <td>33</td>\n",
              "      <td>17</td>\n",
              "      <td>2</td>\n",
              "      <td>5</td>\n",
              "      <td>3</td>\n",
              "      <td>0.0</td>\n",
              "      <td>0</td>\n",
              "      <td>BB</td>\n",
              "      <td>ROU</td>\n",
              "      <td>Online TA</td>\n",
              "      <td>TA/TO</td>\n",
              "      <td>0</td>\n",
              "      <td>0</td>\n",
              "      <td>0</td>\n",
              "      <td>D</td>\n",
              "      <td>D</td>\n",
              "      <td>0</td>\n",
              "      <td>No Deposit</td>\n",
              "      <td>9.0</td>\n",
              "      <td>NaN</td>\n",
              "      <td>0</td>\n",
              "      <td>Transient</td>\n",
              "      <td>164.44</td>\n",
              "      <td>0</td>\n",
              "      <td>0</td>\n",
              "      <td>Canceled</td>\n",
              "      <td>2017-02-24</td>\n",
              "    </tr>\n",
              "    <tr>\n",
              "      <th>1</th>\n",
              "      <td>Resort Hotel</td>\n",
              "      <td>0</td>\n",
              "      <td>8</td>\n",
              "      <td>2017</td>\n",
              "      <td>February</td>\n",
              "      <td>7</td>\n",
              "      <td>17</td>\n",
              "      <td>1</td>\n",
              "      <td>2</td>\n",
              "      <td>2</td>\n",
              "      <td>0.0</td>\n",
              "      <td>0</td>\n",
              "      <td>BB</td>\n",
              "      <td>PRT</td>\n",
              "      <td>Direct</td>\n",
              "      <td>Direct</td>\n",
              "      <td>0</td>\n",
              "      <td>0</td>\n",
              "      <td>0</td>\n",
              "      <td>A</td>\n",
              "      <td>D</td>\n",
              "      <td>0</td>\n",
              "      <td>No Deposit</td>\n",
              "      <td>250.0</td>\n",
              "      <td>NaN</td>\n",
              "      <td>0</td>\n",
              "      <td>Transient</td>\n",
              "      <td>67.00</td>\n",
              "      <td>1</td>\n",
              "      <td>0</td>\n",
              "      <td>Check-Out</td>\n",
              "      <td>2017-02-20</td>\n",
              "    </tr>\n",
              "    <tr>\n",
              "      <th>2</th>\n",
              "      <td>City Hotel</td>\n",
              "      <td>1</td>\n",
              "      <td>181</td>\n",
              "      <td>2017</td>\n",
              "      <td>June</td>\n",
              "      <td>23</td>\n",
              "      <td>8</td>\n",
              "      <td>0</td>\n",
              "      <td>2</td>\n",
              "      <td>2</td>\n",
              "      <td>0.0</td>\n",
              "      <td>0</td>\n",
              "      <td>BB</td>\n",
              "      <td>PRT</td>\n",
              "      <td>Groups</td>\n",
              "      <td>TA/TO</td>\n",
              "      <td>0</td>\n",
              "      <td>0</td>\n",
              "      <td>0</td>\n",
              "      <td>A</td>\n",
              "      <td>A</td>\n",
              "      <td>0</td>\n",
              "      <td>Non Refund</td>\n",
              "      <td>58.0</td>\n",
              "      <td>NaN</td>\n",
              "      <td>0</td>\n",
              "      <td>Transient</td>\n",
              "      <td>100.00</td>\n",
              "      <td>0</td>\n",
              "      <td>0</td>\n",
              "      <td>Canceled</td>\n",
              "      <td>2017-01-24</td>\n",
              "    </tr>\n",
              "    <tr>\n",
              "      <th>3</th>\n",
              "      <td>City Hotel</td>\n",
              "      <td>0</td>\n",
              "      <td>45</td>\n",
              "      <td>2016</td>\n",
              "      <td>November</td>\n",
              "      <td>48</td>\n",
              "      <td>25</td>\n",
              "      <td>1</td>\n",
              "      <td>2</td>\n",
              "      <td>2</td>\n",
              "      <td>0.0</td>\n",
              "      <td>0</td>\n",
              "      <td>BB</td>\n",
              "      <td>BRA</td>\n",
              "      <td>Groups</td>\n",
              "      <td>Direct</td>\n",
              "      <td>0</td>\n",
              "      <td>0</td>\n",
              "      <td>0</td>\n",
              "      <td>A</td>\n",
              "      <td>A</td>\n",
              "      <td>0</td>\n",
              "      <td>No Deposit</td>\n",
              "      <td>NaN</td>\n",
              "      <td>NaN</td>\n",
              "      <td>0</td>\n",
              "      <td>Transient-Party</td>\n",
              "      <td>90.00</td>\n",
              "      <td>0</td>\n",
              "      <td>0</td>\n",
              "      <td>Check-Out</td>\n",
              "      <td>2016-11-28</td>\n",
              "    </tr>\n",
              "    <tr>\n",
              "      <th>4</th>\n",
              "      <td>City Hotel</td>\n",
              "      <td>1</td>\n",
              "      <td>64</td>\n",
              "      <td>2017</td>\n",
              "      <td>July</td>\n",
              "      <td>30</td>\n",
              "      <td>23</td>\n",
              "      <td>2</td>\n",
              "      <td>1</td>\n",
              "      <td>2</td>\n",
              "      <td>0.0</td>\n",
              "      <td>0</td>\n",
              "      <td>BB</td>\n",
              "      <td>ARG</td>\n",
              "      <td>Direct</td>\n",
              "      <td>Direct</td>\n",
              "      <td>0</td>\n",
              "      <td>0</td>\n",
              "      <td>0</td>\n",
              "      <td>E</td>\n",
              "      <td>E</td>\n",
              "      <td>0</td>\n",
              "      <td>No Deposit</td>\n",
              "      <td>14.0</td>\n",
              "      <td>NaN</td>\n",
              "      <td>0</td>\n",
              "      <td>Transient</td>\n",
              "      <td>174.33</td>\n",
              "      <td>0</td>\n",
              "      <td>1</td>\n",
              "      <td>Canceled</td>\n",
              "      <td>2017-05-22</td>\n",
              "    </tr>\n",
              "  </tbody>\n",
              "</table>\n",
              "</div>"
            ],
            "text/plain": [
              "          hotel  is_canceled  ...  reservation_status  reservation_status_date\n",
              "0    City Hotel            1  ...            Canceled               2017-02-24\n",
              "1  Resort Hotel            0  ...           Check-Out               2017-02-20\n",
              "2    City Hotel            1  ...            Canceled               2017-01-24\n",
              "3    City Hotel            0  ...           Check-Out               2016-11-28\n",
              "4    City Hotel            1  ...            Canceled               2017-05-22\n",
              "\n",
              "[5 rows x 32 columns]"
            ]
          },
          "metadata": {
            "tags": []
          },
          "execution_count": 4
        }
      ]
    },
    {
      "cell_type": "markdown",
      "metadata": {
        "id": "WCEwzOcfBqqh"
      },
      "source": [
        "Vamos a observar un resumen sobre las variables numéricas:"
      ]
    },
    {
      "cell_type": "code",
      "metadata": {
        "id": "Muc64oZ3ochw",
        "colab": {
          "base_uri": "https://localhost:8080/",
          "height": 320
        },
        "outputId": "54ab5aec-171b-43f3-a9a6-985d9aa5ac2c"
      },
      "source": [
        "data.describe()"
      ],
      "execution_count": null,
      "outputs": [
        {
          "output_type": "execute_result",
          "data": {
            "text/html": [
              "<div>\n",
              "<style scoped>\n",
              "    .dataframe tbody tr th:only-of-type {\n",
              "        vertical-align: middle;\n",
              "    }\n",
              "\n",
              "    .dataframe tbody tr th {\n",
              "        vertical-align: top;\n",
              "    }\n",
              "\n",
              "    .dataframe thead th {\n",
              "        text-align: right;\n",
              "    }\n",
              "</style>\n",
              "<table border=\"1\" class=\"dataframe\">\n",
              "  <thead>\n",
              "    <tr style=\"text-align: right;\">\n",
              "      <th></th>\n",
              "      <th>is_canceled</th>\n",
              "      <th>lead_time</th>\n",
              "      <th>arrival_date_year</th>\n",
              "      <th>arrival_date_week_number</th>\n",
              "      <th>arrival_date_day_of_month</th>\n",
              "      <th>stays_in_weekend_nights</th>\n",
              "      <th>stays_in_week_nights</th>\n",
              "      <th>adults</th>\n",
              "      <th>children</th>\n",
              "      <th>babies</th>\n",
              "      <th>is_repeated_guest</th>\n",
              "      <th>previous_cancellations</th>\n",
              "      <th>previous_bookings_not_canceled</th>\n",
              "      <th>booking_changes</th>\n",
              "      <th>agent</th>\n",
              "      <th>company</th>\n",
              "      <th>days_in_waiting_list</th>\n",
              "      <th>adr</th>\n",
              "      <th>required_car_parking_spaces</th>\n",
              "      <th>total_of_special_requests</th>\n",
              "    </tr>\n",
              "  </thead>\n",
              "  <tbody>\n",
              "    <tr>\n",
              "      <th>count</th>\n",
              "      <td>10000.000000</td>\n",
              "      <td>10000.000000</td>\n",
              "      <td>10000.000000</td>\n",
              "      <td>10000.000000</td>\n",
              "      <td>10000.000000</td>\n",
              "      <td>10000.000000</td>\n",
              "      <td>10000.000000</td>\n",
              "      <td>10000.000000</td>\n",
              "      <td>10000.000000</td>\n",
              "      <td>10000.000000</td>\n",
              "      <td>10000.000000</td>\n",
              "      <td>10000.000000</td>\n",
              "      <td>10000.000000</td>\n",
              "      <td>10000.000000</td>\n",
              "      <td>8654.000000</td>\n",
              "      <td>559.000000</td>\n",
              "      <td>10000.000000</td>\n",
              "      <td>10000.000000</td>\n",
              "      <td>10000.00000</td>\n",
              "      <td>10000.000000</td>\n",
              "    </tr>\n",
              "    <tr>\n",
              "      <th>mean</th>\n",
              "      <td>0.375100</td>\n",
              "      <td>105.393800</td>\n",
              "      <td>2016.166900</td>\n",
              "      <td>27.267700</td>\n",
              "      <td>15.864100</td>\n",
              "      <td>0.927100</td>\n",
              "      <td>2.516500</td>\n",
              "      <td>1.869600</td>\n",
              "      <td>0.108000</td>\n",
              "      <td>0.008500</td>\n",
              "      <td>0.031900</td>\n",
              "      <td>0.087500</td>\n",
              "      <td>0.127400</td>\n",
              "      <td>0.218700</td>\n",
              "      <td>89.090941</td>\n",
              "      <td>188.869410</td>\n",
              "      <td>2.201200</td>\n",
              "      <td>102.150192</td>\n",
              "      <td>0.06440</td>\n",
              "      <td>0.579300</td>\n",
              "    </tr>\n",
              "    <tr>\n",
              "      <th>std</th>\n",
              "      <td>0.484173</td>\n",
              "      <td>108.267682</td>\n",
              "      <td>0.705616</td>\n",
              "      <td>13.671588</td>\n",
              "      <td>8.725941</td>\n",
              "      <td>0.990396</td>\n",
              "      <td>1.882892</td>\n",
              "      <td>0.572912</td>\n",
              "      <td>0.405157</td>\n",
              "      <td>0.093961</td>\n",
              "      <td>0.175743</td>\n",
              "      <td>0.852242</td>\n",
              "      <td>1.269067</td>\n",
              "      <td>0.684045</td>\n",
              "      <td>112.721390</td>\n",
              "      <td>138.001931</td>\n",
              "      <td>17.405235</td>\n",
              "      <td>48.778734</td>\n",
              "      <td>0.24629</td>\n",
              "      <td>0.797731</td>\n",
              "    </tr>\n",
              "    <tr>\n",
              "      <th>min</th>\n",
              "      <td>0.000000</td>\n",
              "      <td>0.000000</td>\n",
              "      <td>2015.000000</td>\n",
              "      <td>1.000000</td>\n",
              "      <td>1.000000</td>\n",
              "      <td>0.000000</td>\n",
              "      <td>0.000000</td>\n",
              "      <td>0.000000</td>\n",
              "      <td>0.000000</td>\n",
              "      <td>0.000000</td>\n",
              "      <td>0.000000</td>\n",
              "      <td>0.000000</td>\n",
              "      <td>0.000000</td>\n",
              "      <td>0.000000</td>\n",
              "      <td>1.000000</td>\n",
              "      <td>9.000000</td>\n",
              "      <td>0.000000</td>\n",
              "      <td>0.000000</td>\n",
              "      <td>0.00000</td>\n",
              "      <td>0.000000</td>\n",
              "    </tr>\n",
              "    <tr>\n",
              "      <th>25%</th>\n",
              "      <td>0.000000</td>\n",
              "      <td>18.000000</td>\n",
              "      <td>2016.000000</td>\n",
              "      <td>16.000000</td>\n",
              "      <td>8.000000</td>\n",
              "      <td>0.000000</td>\n",
              "      <td>1.000000</td>\n",
              "      <td>2.000000</td>\n",
              "      <td>0.000000</td>\n",
              "      <td>0.000000</td>\n",
              "      <td>0.000000</td>\n",
              "      <td>0.000000</td>\n",
              "      <td>0.000000</td>\n",
              "      <td>0.000000</td>\n",
              "      <td>9.000000</td>\n",
              "      <td>49.000000</td>\n",
              "      <td>0.000000</td>\n",
              "      <td>68.530000</td>\n",
              "      <td>0.00000</td>\n",
              "      <td>0.000000</td>\n",
              "    </tr>\n",
              "    <tr>\n",
              "      <th>50%</th>\n",
              "      <td>0.000000</td>\n",
              "      <td>70.000000</td>\n",
              "      <td>2016.000000</td>\n",
              "      <td>28.000000</td>\n",
              "      <td>16.000000</td>\n",
              "      <td>1.000000</td>\n",
              "      <td>2.000000</td>\n",
              "      <td>2.000000</td>\n",
              "      <td>0.000000</td>\n",
              "      <td>0.000000</td>\n",
              "      <td>0.000000</td>\n",
              "      <td>0.000000</td>\n",
              "      <td>0.000000</td>\n",
              "      <td>0.000000</td>\n",
              "      <td>14.000000</td>\n",
              "      <td>174.000000</td>\n",
              "      <td>0.000000</td>\n",
              "      <td>94.000000</td>\n",
              "      <td>0.00000</td>\n",
              "      <td>0.000000</td>\n",
              "    </tr>\n",
              "    <tr>\n",
              "      <th>75%</th>\n",
              "      <td>1.000000</td>\n",
              "      <td>164.000000</td>\n",
              "      <td>2017.000000</td>\n",
              "      <td>38.000000</td>\n",
              "      <td>23.000000</td>\n",
              "      <td>2.000000</td>\n",
              "      <td>3.000000</td>\n",
              "      <td>2.000000</td>\n",
              "      <td>0.000000</td>\n",
              "      <td>0.000000</td>\n",
              "      <td>0.000000</td>\n",
              "      <td>0.000000</td>\n",
              "      <td>0.000000</td>\n",
              "      <td>0.000000</td>\n",
              "      <td>240.000000</td>\n",
              "      <td>280.000000</td>\n",
              "      <td>0.000000</td>\n",
              "      <td>126.000000</td>\n",
              "      <td>0.00000</td>\n",
              "      <td>1.000000</td>\n",
              "    </tr>\n",
              "    <tr>\n",
              "      <th>max</th>\n",
              "      <td>1.000000</td>\n",
              "      <td>629.000000</td>\n",
              "      <td>2017.000000</td>\n",
              "      <td>53.000000</td>\n",
              "      <td>31.000000</td>\n",
              "      <td>10.000000</td>\n",
              "      <td>25.000000</td>\n",
              "      <td>27.000000</td>\n",
              "      <td>3.000000</td>\n",
              "      <td>2.000000</td>\n",
              "      <td>1.000000</td>\n",
              "      <td>26.000000</td>\n",
              "      <td>60.000000</td>\n",
              "      <td>16.000000</td>\n",
              "      <td>531.000000</td>\n",
              "      <td>530.000000</td>\n",
              "      <td>391.000000</td>\n",
              "      <td>388.000000</td>\n",
              "      <td>2.00000</td>\n",
              "      <td>5.000000</td>\n",
              "    </tr>\n",
              "  </tbody>\n",
              "</table>\n",
              "</div>"
            ],
            "text/plain": [
              "        is_canceled  ...  total_of_special_requests\n",
              "count  10000.000000  ...               10000.000000\n",
              "mean       0.375100  ...                   0.579300\n",
              "std        0.484173  ...                   0.797731\n",
              "min        0.000000  ...                   0.000000\n",
              "25%        0.000000  ...                   0.000000\n",
              "50%        0.000000  ...                   0.000000\n",
              "75%        1.000000  ...                   1.000000\n",
              "max        1.000000  ...                   5.000000\n",
              "\n",
              "[8 rows x 20 columns]"
            ]
          },
          "metadata": {
            "tags": []
          },
          "execution_count": 5
        }
      ]
    },
    {
      "cell_type": "markdown",
      "metadata": {
        "id": "_68uTwg1VOYc"
      },
      "source": [
        "Mostramos la matriz de correlación entre las variables"
      ]
    },
    {
      "cell_type": "code",
      "metadata": {
        "id": "b5mqafXaVSaz",
        "colab": {
          "base_uri": "https://localhost:8080/",
          "height": 488
        },
        "outputId": "9bd6e455-6d8e-43c6-aa05-3cd4e60fa2b3"
      },
      "source": [
        "corr = data.corr()\n",
        "corr.style.background_gradient(cmap='coolwarm')"
      ],
      "execution_count": null,
      "outputs": [
        {
          "output_type": "execute_result",
          "data": {
            "text/html": [
              "<style  type=\"text/css\" >\n",
              "#T_d49e11b0_2b5d_11eb_afad_0242ac1c0002row0_col0,#T_d49e11b0_2b5d_11eb_afad_0242ac1c0002row1_col1,#T_d49e11b0_2b5d_11eb_afad_0242ac1c0002row2_col2,#T_d49e11b0_2b5d_11eb_afad_0242ac1c0002row3_col3,#T_d49e11b0_2b5d_11eb_afad_0242ac1c0002row4_col4,#T_d49e11b0_2b5d_11eb_afad_0242ac1c0002row5_col5,#T_d49e11b0_2b5d_11eb_afad_0242ac1c0002row6_col6,#T_d49e11b0_2b5d_11eb_afad_0242ac1c0002row7_col7,#T_d49e11b0_2b5d_11eb_afad_0242ac1c0002row8_col8,#T_d49e11b0_2b5d_11eb_afad_0242ac1c0002row9_col9,#T_d49e11b0_2b5d_11eb_afad_0242ac1c0002row10_col10,#T_d49e11b0_2b5d_11eb_afad_0242ac1c0002row11_col11,#T_d49e11b0_2b5d_11eb_afad_0242ac1c0002row12_col12,#T_d49e11b0_2b5d_11eb_afad_0242ac1c0002row13_col13,#T_d49e11b0_2b5d_11eb_afad_0242ac1c0002row14_col14,#T_d49e11b0_2b5d_11eb_afad_0242ac1c0002row15_col15,#T_d49e11b0_2b5d_11eb_afad_0242ac1c0002row16_col16,#T_d49e11b0_2b5d_11eb_afad_0242ac1c0002row17_col17,#T_d49e11b0_2b5d_11eb_afad_0242ac1c0002row18_col18,#T_d49e11b0_2b5d_11eb_afad_0242ac1c0002row19_col19{\n",
              "            background-color:  #b40426;\n",
              "            color:  #f1f1f1;\n",
              "        }#T_d49e11b0_2b5d_11eb_afad_0242ac1c0002row0_col1,#T_d49e11b0_2b5d_11eb_afad_0242ac1c0002row1_col2,#T_d49e11b0_2b5d_11eb_afad_0242ac1c0002row6_col2{\n",
              "            background-color:  #b9d0f9;\n",
              "            color:  #000000;\n",
              "        }#T_d49e11b0_2b5d_11eb_afad_0242ac1c0002row0_col2,#T_d49e11b0_2b5d_11eb_afad_0242ac1c0002row19_col3{\n",
              "            background-color:  #b5cdfa;\n",
              "            color:  #000000;\n",
              "        }#T_d49e11b0_2b5d_11eb_afad_0242ac1c0002row0_col3,#T_d49e11b0_2b5d_11eb_afad_0242ac1c0002row1_col15,#T_d49e11b0_2b5d_11eb_afad_0242ac1c0002row4_col2,#T_d49e11b0_2b5d_11eb_afad_0242ac1c0002row8_col3,#T_d49e11b0_2b5d_11eb_afad_0242ac1c0002row13_col3,#T_d49e11b0_2b5d_11eb_afad_0242ac1c0002row18_col3{\n",
              "            background-color:  #afcafc;\n",
              "            color:  #000000;\n",
              "        }#T_d49e11b0_2b5d_11eb_afad_0242ac1c0002row0_col4,#T_d49e11b0_2b5d_11eb_afad_0242ac1c0002row2_col9,#T_d49e11b0_2b5d_11eb_afad_0242ac1c0002row4_col9,#T_d49e11b0_2b5d_11eb_afad_0242ac1c0002row9_col4,#T_d49e11b0_2b5d_11eb_afad_0242ac1c0002row10_col9,#T_d49e11b0_2b5d_11eb_afad_0242ac1c0002row11_col9,#T_d49e11b0_2b5d_11eb_afad_0242ac1c0002row12_col9,#T_d49e11b0_2b5d_11eb_afad_0242ac1c0002row16_col5,#T_d49e11b0_2b5d_11eb_afad_0242ac1c0002row16_col14{\n",
              "            background-color:  #4055c8;\n",
              "            color:  #f1f1f1;\n",
              "        }#T_d49e11b0_2b5d_11eb_afad_0242ac1c0002row0_col5,#T_d49e11b0_2b5d_11eb_afad_0242ac1c0002row6_col8,#T_d49e11b0_2b5d_11eb_afad_0242ac1c0002row8_col9,#T_d49e11b0_2b5d_11eb_afad_0242ac1c0002row11_col15{\n",
              "            background-color:  #516ddb;\n",
              "            color:  #000000;\n",
              "        }#T_d49e11b0_2b5d_11eb_afad_0242ac1c0002row0_col6,#T_d49e11b0_2b5d_11eb_afad_0242ac1c0002row1_col19,#T_d49e11b0_2b5d_11eb_afad_0242ac1c0002row2_col5,#T_d49e11b0_2b5d_11eb_afad_0242ac1c0002row4_col16,#T_d49e11b0_2b5d_11eb_afad_0242ac1c0002row9_col14,#T_d49e11b0_2b5d_11eb_afad_0242ac1c0002row12_col14{\n",
              "            background-color:  #5b7ae5;\n",
              "            color:  #000000;\n",
              "        }#T_d49e11b0_2b5d_11eb_afad_0242ac1c0002row0_col7,#T_d49e11b0_2b5d_11eb_afad_0242ac1c0002row3_col0,#T_d49e11b0_2b5d_11eb_afad_0242ac1c0002row4_col19,#T_d49e11b0_2b5d_11eb_afad_0242ac1c0002row5_col1,#T_d49e11b0_2b5d_11eb_afad_0242ac1c0002row8_col10,#T_d49e11b0_2b5d_11eb_afad_0242ac1c0002row9_col13{\n",
              "            background-color:  #779af7;\n",
              "            color:  #000000;\n",
              "        }#T_d49e11b0_2b5d_11eb_afad_0242ac1c0002row0_col8,#T_d49e11b0_2b5d_11eb_afad_0242ac1c0002row2_col11,#T_d49e11b0_2b5d_11eb_afad_0242ac1c0002row3_col14,#T_d49e11b0_2b5d_11eb_afad_0242ac1c0002row4_col5,#T_d49e11b0_2b5d_11eb_afad_0242ac1c0002row5_col9{\n",
              "            background-color:  #4a63d3;\n",
              "            color:  #f1f1f1;\n",
              "        }#T_d49e11b0_2b5d_11eb_afad_0242ac1c0002row0_col9,#T_d49e11b0_2b5d_11eb_afad_0242ac1c0002row0_col13,#T_d49e11b0_2b5d_11eb_afad_0242ac1c0002row0_col14,#T_d49e11b0_2b5d_11eb_afad_0242ac1c0002row0_col18,#T_d49e11b0_2b5d_11eb_afad_0242ac1c0002row0_col19,#T_d49e11b0_2b5d_11eb_afad_0242ac1c0002row1_col8,#T_d49e11b0_2b5d_11eb_afad_0242ac1c0002row2_col3,#T_d49e11b0_2b5d_11eb_afad_0242ac1c0002row3_col2,#T_d49e11b0_2b5d_11eb_afad_0242ac1c0002row5_col4,#T_d49e11b0_2b5d_11eb_afad_0242ac1c0002row10_col1,#T_d49e11b0_2b5d_11eb_afad_0242ac1c0002row10_col5,#T_d49e11b0_2b5d_11eb_afad_0242ac1c0002row10_col6,#T_d49e11b0_2b5d_11eb_afad_0242ac1c0002row10_col7,#T_d49e11b0_2b5d_11eb_afad_0242ac1c0002row10_col8,#T_d49e11b0_2b5d_11eb_afad_0242ac1c0002row10_col15,#T_d49e11b0_2b5d_11eb_afad_0242ac1c0002row10_col17,#T_d49e11b0_2b5d_11eb_afad_0242ac1c0002row15_col10,#T_d49e11b0_2b5d_11eb_afad_0242ac1c0002row15_col11,#T_d49e11b0_2b5d_11eb_afad_0242ac1c0002row15_col12,#T_d49e11b0_2b5d_11eb_afad_0242ac1c0002row18_col1,#T_d49e11b0_2b5d_11eb_afad_0242ac1c0002row19_col0,#T_d49e11b0_2b5d_11eb_afad_0242ac1c0002row19_col16{\n",
              "            background-color:  #3b4cc0;\n",
              "            color:  #f1f1f1;\n",
              "        }#T_d49e11b0_2b5d_11eb_afad_0242ac1c0002row0_col10,#T_d49e11b0_2b5d_11eb_afad_0242ac1c0002row2_col18,#T_d49e11b0_2b5d_11eb_afad_0242ac1c0002row3_col15,#T_d49e11b0_2b5d_11eb_afad_0242ac1c0002row8_col13,#T_d49e11b0_2b5d_11eb_afad_0242ac1c0002row16_col11{\n",
              "            background-color:  #6c8ff1;\n",
              "            color:  #000000;\n",
              "        }#T_d49e11b0_2b5d_11eb_afad_0242ac1c0002row0_col11,#T_d49e11b0_2b5d_11eb_afad_0242ac1c0002row1_col6{\n",
              "            background-color:  #8badfd;\n",
              "            color:  #000000;\n",
              "        }#T_d49e11b0_2b5d_11eb_afad_0242ac1c0002row0_col12,#T_d49e11b0_2b5d_11eb_afad_0242ac1c0002row12_col0,#T_d49e11b0_2b5d_11eb_afad_0242ac1c0002row13_col11,#T_d49e11b0_2b5d_11eb_afad_0242ac1c0002row17_col13,#T_d49e11b0_2b5d_11eb_afad_0242ac1c0002row19_col8{\n",
              "            background-color:  #6485ec;\n",
              "            color:  #000000;\n",
              "        }#T_d49e11b0_2b5d_11eb_afad_0242ac1c0002row0_col15,#T_d49e11b0_2b5d_11eb_afad_0242ac1c0002row1_col7,#T_d49e11b0_2b5d_11eb_afad_0242ac1c0002row10_col11,#T_d49e11b0_2b5d_11eb_afad_0242ac1c0002row13_col19{\n",
              "            background-color:  #88abfd;\n",
              "            color:  #000000;\n",
              "        }#T_d49e11b0_2b5d_11eb_afad_0242ac1c0002row0_col16,#T_d49e11b0_2b5d_11eb_afad_0242ac1c0002row1_col10,#T_d49e11b0_2b5d_11eb_afad_0242ac1c0002row2_col6,#T_d49e11b0_2b5d_11eb_afad_0242ac1c0002row4_col13,#T_d49e11b0_2b5d_11eb_afad_0242ac1c0002row8_col5,#T_d49e11b0_2b5d_11eb_afad_0242ac1c0002row9_col6,#T_d49e11b0_2b5d_11eb_afad_0242ac1c0002row10_col0,#T_d49e11b0_2b5d_11eb_afad_0242ac1c0002row14_col0,#T_d49e11b0_2b5d_11eb_afad_0242ac1c0002row16_col19{\n",
              "            background-color:  #6282ea;\n",
              "            color:  #000000;\n",
              "        }#T_d49e11b0_2b5d_11eb_afad_0242ac1c0002row0_col17,#T_d49e11b0_2b5d_11eb_afad_0242ac1c0002row1_col5,#T_d49e11b0_2b5d_11eb_afad_0242ac1c0002row3_col12,#T_d49e11b0_2b5d_11eb_afad_0242ac1c0002row7_col5,#T_d49e11b0_2b5d_11eb_afad_0242ac1c0002row8_col7,#T_d49e11b0_2b5d_11eb_afad_0242ac1c0002row9_col0{\n",
              "            background-color:  #6f92f3;\n",
              "            color:  #000000;\n",
              "        }#T_d49e11b0_2b5d_11eb_afad_0242ac1c0002row1_col0{\n",
              "            background-color:  #cbd8ee;\n",
              "            color:  #000000;\n",
              "        }#T_d49e11b0_2b5d_11eb_afad_0242ac1c0002row1_col3,#T_d49e11b0_2b5d_11eb_afad_0242ac1c0002row8_col17{\n",
              "            background-color:  #cad8ef;\n",
              "            color:  #000000;\n",
              "        }#T_d49e11b0_2b5d_11eb_afad_0242ac1c0002row1_col4,#T_d49e11b0_2b5d_11eb_afad_0242ac1c0002row2_col4,#T_d49e11b0_2b5d_11eb_afad_0242ac1c0002row2_col16,#T_d49e11b0_2b5d_11eb_afad_0242ac1c0002row8_col4,#T_d49e11b0_2b5d_11eb_afad_0242ac1c0002row12_col5,#T_d49e11b0_2b5d_11eb_afad_0242ac1c0002row18_col0{\n",
              "            background-color:  #4358cb;\n",
              "            color:  #f1f1f1;\n",
              "        }#T_d49e11b0_2b5d_11eb_afad_0242ac1c0002row1_col9,#T_d49e11b0_2b5d_11eb_afad_0242ac1c0002row5_col16,#T_d49e11b0_2b5d_11eb_afad_0242ac1c0002row11_col8,#T_d49e11b0_2b5d_11eb_afad_0242ac1c0002row12_col8,#T_d49e11b0_2b5d_11eb_afad_0242ac1c0002row19_col1{\n",
              "            background-color:  #3e51c5;\n",
              "            color:  #f1f1f1;\n",
              "        }#T_d49e11b0_2b5d_11eb_afad_0242ac1c0002row1_col11,#T_d49e11b0_2b5d_11eb_afad_0242ac1c0002row17_col18{\n",
              "            background-color:  #84a7fc;\n",
              "            color:  #000000;\n",
              "        }#T_d49e11b0_2b5d_11eb_afad_0242ac1c0002row1_col12,#T_d49e11b0_2b5d_11eb_afad_0242ac1c0002row8_col6,#T_d49e11b0_2b5d_11eb_afad_0242ac1c0002row11_col7,#T_d49e11b0_2b5d_11eb_afad_0242ac1c0002row13_col5,#T_d49e11b0_2b5d_11eb_afad_0242ac1c0002row17_col12{\n",
              "            background-color:  #6180e9;\n",
              "            color:  #000000;\n",
              "        }#T_d49e11b0_2b5d_11eb_afad_0242ac1c0002row1_col13,#T_d49e11b0_2b5d_11eb_afad_0242ac1c0002row10_col13,#T_d49e11b0_2b5d_11eb_afad_0242ac1c0002row13_col9{\n",
              "            background-color:  #5e7de7;\n",
              "            color:  #000000;\n",
              "        }#T_d49e11b0_2b5d_11eb_afad_0242ac1c0002row1_col14,#T_d49e11b0_2b5d_11eb_afad_0242ac1c0002row11_col4{\n",
              "            background-color:  #3d50c3;\n",
              "            color:  #f1f1f1;\n",
              "        }#T_d49e11b0_2b5d_11eb_afad_0242ac1c0002row1_col16,#T_d49e11b0_2b5d_11eb_afad_0242ac1c0002row5_col14,#T_d49e11b0_2b5d_11eb_afad_0242ac1c0002row14_col19,#T_d49e11b0_2b5d_11eb_afad_0242ac1c0002row19_col10{\n",
              "            background-color:  #85a8fc;\n",
              "            color:  #000000;\n",
              "        }#T_d49e11b0_2b5d_11eb_afad_0242ac1c0002row1_col17,#T_d49e11b0_2b5d_11eb_afad_0242ac1c0002row4_col6,#T_d49e11b0_2b5d_11eb_afad_0242ac1c0002row7_col16,#T_d49e11b0_2b5d_11eb_afad_0242ac1c0002row9_col16,#T_d49e11b0_2b5d_11eb_afad_0242ac1c0002row11_col5,#T_d49e11b0_2b5d_11eb_afad_0242ac1c0002row11_col14,#T_d49e11b0_2b5d_11eb_afad_0242ac1c0002row12_col16,#T_d49e11b0_2b5d_11eb_afad_0242ac1c0002row13_col16,#T_d49e11b0_2b5d_11eb_afad_0242ac1c0002row16_col4,#T_d49e11b0_2b5d_11eb_afad_0242ac1c0002row18_col5,#T_d49e11b0_2b5d_11eb_afad_0242ac1c0002row18_col8{\n",
              "            background-color:  #4e68d8;\n",
              "            color:  #000000;\n",
              "        }#T_d49e11b0_2b5d_11eb_afad_0242ac1c0002row1_col18,#T_d49e11b0_2b5d_11eb_afad_0242ac1c0002row6_col9,#T_d49e11b0_2b5d_11eb_afad_0242ac1c0002row11_col17,#T_d49e11b0_2b5d_11eb_afad_0242ac1c0002row15_col4{\n",
              "            background-color:  #4f69d9;\n",
              "            color:  #000000;\n",
              "        }#T_d49e11b0_2b5d_11eb_afad_0242ac1c0002row2_col0,#T_d49e11b0_2b5d_11eb_afad_0242ac1c0002row2_col10,#T_d49e11b0_2b5d_11eb_afad_0242ac1c0002row3_col19,#T_d49e11b0_2b5d_11eb_afad_0242ac1c0002row10_col18,#T_d49e11b0_2b5d_11eb_afad_0242ac1c0002row12_col19,#T_d49e11b0_2b5d_11eb_afad_0242ac1c0002row19_col12{\n",
              "            background-color:  #80a3fa;\n",
              "            color:  #000000;\n",
              "        }#T_d49e11b0_2b5d_11eb_afad_0242ac1c0002row2_col1,#T_d49e11b0_2b5d_11eb_afad_0242ac1c0002row2_col13,#T_d49e11b0_2b5d_11eb_afad_0242ac1c0002row6_col10,#T_d49e11b0_2b5d_11eb_afad_0242ac1c0002row13_col17,#T_d49e11b0_2b5d_11eb_afad_0242ac1c0002row16_col18,#T_d49e11b0_2b5d_11eb_afad_0242ac1c0002row19_col9{\n",
              "            background-color:  #6788ee;\n",
              "            color:  #000000;\n",
              "        }#T_d49e11b0_2b5d_11eb_afad_0242ac1c0002row2_col7,#T_d49e11b0_2b5d_11eb_afad_0242ac1c0002row3_col7,#T_d49e11b0_2b5d_11eb_afad_0242ac1c0002row5_col18,#T_d49e11b0_2b5d_11eb_afad_0242ac1c0002row6_col18,#T_d49e11b0_2b5d_11eb_afad_0242ac1c0002row11_col18,#T_d49e11b0_2b5d_11eb_afad_0242ac1c0002row15_col5,#T_d49e11b0_2b5d_11eb_afad_0242ac1c0002row18_col13{\n",
              "            background-color:  #6b8df0;\n",
              "            color:  #000000;\n",
              "        }#T_d49e11b0_2b5d_11eb_afad_0242ac1c0002row2_col8,#T_d49e11b0_2b5d_11eb_afad_0242ac1c0002row3_col4,#T_d49e11b0_2b5d_11eb_afad_0242ac1c0002row9_col1,#T_d49e11b0_2b5d_11eb_afad_0242ac1c0002row10_col14,#T_d49e11b0_2b5d_11eb_afad_0242ac1c0002row11_col13,#T_d49e11b0_2b5d_11eb_afad_0242ac1c0002row13_col0,#T_d49e11b0_2b5d_11eb_afad_0242ac1c0002row14_col7,#T_d49e11b0_2b5d_11eb_afad_0242ac1c0002row18_col9{\n",
              "            background-color:  #5673e0;\n",
              "            color:  #000000;\n",
              "        }#T_d49e11b0_2b5d_11eb_afad_0242ac1c0002row2_col12,#T_d49e11b0_2b5d_11eb_afad_0242ac1c0002row4_col10,#T_d49e11b0_2b5d_11eb_afad_0242ac1c0002row7_col1,#T_d49e11b0_2b5d_11eb_afad_0242ac1c0002row14_col12,#T_d49e11b0_2b5d_11eb_afad_0242ac1c0002row15_col13,#T_d49e11b0_2b5d_11eb_afad_0242ac1c0002row18_col15{\n",
              "            background-color:  #81a4fb;\n",
              "            color:  #000000;\n",
              "        }#T_d49e11b0_2b5d_11eb_afad_0242ac1c0002row2_col14,#T_d49e11b0_2b5d_11eb_afad_0242ac1c0002row4_col17,#T_d49e11b0_2b5d_11eb_afad_0242ac1c0002row5_col12,#T_d49e11b0_2b5d_11eb_afad_0242ac1c0002row14_col11,#T_d49e11b0_2b5d_11eb_afad_0242ac1c0002row17_col6,#T_d49e11b0_2b5d_11eb_afad_0242ac1c0002row19_col5{\n",
              "            background-color:  #688aef;\n",
              "            color:  #000000;\n",
              "        }#T_d49e11b0_2b5d_11eb_afad_0242ac1c0002row2_col15,#T_d49e11b0_2b5d_11eb_afad_0242ac1c0002row19_col2{\n",
              "            background-color:  #c6d6f1;\n",
              "            color:  #000000;\n",
              "        }#T_d49e11b0_2b5d_11eb_afad_0242ac1c0002row2_col17,#T_d49e11b0_2b5d_11eb_afad_0242ac1c0002row13_col15,#T_d49e11b0_2b5d_11eb_afad_0242ac1c0002row14_col15{\n",
              "            background-color:  #a2c1ff;\n",
              "            color:  #000000;\n",
              "        }#T_d49e11b0_2b5d_11eb_afad_0242ac1c0002row2_col19,#T_d49e11b0_2b5d_11eb_afad_0242ac1c0002row8_col19{\n",
              "            background-color:  #96b7ff;\n",
              "            color:  #000000;\n",
              "        }#T_d49e11b0_2b5d_11eb_afad_0242ac1c0002row3_col1,#T_d49e11b0_2b5d_11eb_afad_0242ac1c0002row8_col15,#T_d49e11b0_2b5d_11eb_afad_0242ac1c0002row9_col18,#T_d49e11b0_2b5d_11eb_afad_0242ac1c0002row13_col10,#T_d49e11b0_2b5d_11eb_afad_0242ac1c0002row15_col17{\n",
              "            background-color:  #82a6fb;\n",
              "            color:  #000000;\n",
              "        }#T_d49e11b0_2b5d_11eb_afad_0242ac1c0002row3_col5,#T_d49e11b0_2b5d_11eb_afad_0242ac1c0002row3_col6,#T_d49e11b0_2b5d_11eb_afad_0242ac1c0002row13_col7{\n",
              "            background-color:  #5977e3;\n",
              "            color:  #000000;\n",
              "        }#T_d49e11b0_2b5d_11eb_afad_0242ac1c0002row3_col8,#T_d49e11b0_2b5d_11eb_afad_0242ac1c0002row3_col9,#T_d49e11b0_2b5d_11eb_afad_0242ac1c0002row12_col1,#T_d49e11b0_2b5d_11eb_afad_0242ac1c0002row12_col15{\n",
              "            background-color:  #445acc;\n",
              "            color:  #f1f1f1;\n",
              "        }#T_d49e11b0_2b5d_11eb_afad_0242ac1c0002row3_col10,#T_d49e11b0_2b5d_11eb_afad_0242ac1c0002row4_col0,#T_d49e11b0_2b5d_11eb_afad_0242ac1c0002row5_col0,#T_d49e11b0_2b5d_11eb_afad_0242ac1c0002row9_col12,#T_d49e11b0_2b5d_11eb_afad_0242ac1c0002row15_col14{\n",
              "            background-color:  #7699f6;\n",
              "            color:  #000000;\n",
              "        }#T_d49e11b0_2b5d_11eb_afad_0242ac1c0002row3_col11,#T_d49e11b0_2b5d_11eb_afad_0242ac1c0002row3_col17,#T_d49e11b0_2b5d_11eb_afad_0242ac1c0002row16_col12,#T_d49e11b0_2b5d_11eb_afad_0242ac1c0002row18_col17{\n",
              "            background-color:  #7597f6;\n",
              "            color:  #000000;\n",
              "        }#T_d49e11b0_2b5d_11eb_afad_0242ac1c0002row3_col13,#T_d49e11b0_2b5d_11eb_afad_0242ac1c0002row8_col14,#T_d49e11b0_2b5d_11eb_afad_0242ac1c0002row13_col1,#T_d49e11b0_2b5d_11eb_afad_0242ac1c0002row17_col10,#T_d49e11b0_2b5d_11eb_afad_0242ac1c0002row19_col11,#T_d49e11b0_2b5d_11eb_afad_0242ac1c0002row19_col15{\n",
              "            background-color:  #5d7ce6;\n",
              "            color:  #000000;\n",
              "        }#T_d49e11b0_2b5d_11eb_afad_0242ac1c0002row3_col16,#T_d49e11b0_2b5d_11eb_afad_0242ac1c0002row5_col8,#T_d49e11b0_2b5d_11eb_afad_0242ac1c0002row9_col8,#T_d49e11b0_2b5d_11eb_afad_0242ac1c0002row16_col6,#T_d49e11b0_2b5d_11eb_afad_0242ac1c0002row16_col17{\n",
              "            background-color:  #5470de;\n",
              "            color:  #000000;\n",
              "        }#T_d49e11b0_2b5d_11eb_afad_0242ac1c0002row3_col18,#T_d49e11b0_2b5d_11eb_afad_0242ac1c0002row7_col6,#T_d49e11b0_2b5d_11eb_afad_0242ac1c0002row13_col6,#T_d49e11b0_2b5d_11eb_afad_0242ac1c0002row14_col13,#T_d49e11b0_2b5d_11eb_afad_0242ac1c0002row15_col18{\n",
              "            background-color:  #7093f3;\n",
              "            color:  #000000;\n",
              "        }#T_d49e11b0_2b5d_11eb_afad_0242ac1c0002row4_col1,#T_d49e11b0_2b5d_11eb_afad_0242ac1c0002row7_col10,#T_d49e11b0_2b5d_11eb_afad_0242ac1c0002row9_col5,#T_d49e11b0_2b5d_11eb_afad_0242ac1c0002row14_col17,#T_d49e11b0_2b5d_11eb_afad_0242ac1c0002row15_col16,#T_d49e11b0_2b5d_11eb_afad_0242ac1c0002row16_col13,#T_d49e11b0_2b5d_11eb_afad_0242ac1c0002row17_col11{\n",
              "            background-color:  #5a78e4;\n",
              "            color:  #000000;\n",
              "        }#T_d49e11b0_2b5d_11eb_afad_0242ac1c0002row4_col3{\n",
              "            background-color:  #bed2f6;\n",
              "            color:  #000000;\n",
              "        }#T_d49e11b0_2b5d_11eb_afad_0242ac1c0002row4_col7,#T_d49e11b0_2b5d_11eb_afad_0242ac1c0002row4_col11,#T_d49e11b0_2b5d_11eb_afad_0242ac1c0002row5_col11,#T_d49e11b0_2b5d_11eb_afad_0242ac1c0002row6_col11,#T_d49e11b0_2b5d_11eb_afad_0242ac1c0002row9_col7,#T_d49e11b0_2b5d_11eb_afad_0242ac1c0002row13_col14,#T_d49e11b0_2b5d_11eb_afad_0242ac1c0002row17_col5,#T_d49e11b0_2b5d_11eb_afad_0242ac1c0002row18_col7,#T_d49e11b0_2b5d_11eb_afad_0242ac1c0002row18_col11{\n",
              "            background-color:  #6687ed;\n",
              "            color:  #000000;\n",
              "        }#T_d49e11b0_2b5d_11eb_afad_0242ac1c0002row4_col8,#T_d49e11b0_2b5d_11eb_afad_0242ac1c0002row7_col14,#T_d49e11b0_2b5d_11eb_afad_0242ac1c0002row17_col16,#T_d49e11b0_2b5d_11eb_afad_0242ac1c0002row18_col4{\n",
              "            background-color:  #455cce;\n",
              "            color:  #f1f1f1;\n",
              "        }#T_d49e11b0_2b5d_11eb_afad_0242ac1c0002row4_col12,#T_d49e11b0_2b5d_11eb_afad_0242ac1c0002row9_col15,#T_d49e11b0_2b5d_11eb_afad_0242ac1c0002row10_col19{\n",
              "            background-color:  #7b9ff9;\n",
              "            color:  #000000;\n",
              "        }#T_d49e11b0_2b5d_11eb_afad_0242ac1c0002row4_col14,#T_d49e11b0_2b5d_11eb_afad_0242ac1c0002row7_col12,#T_d49e11b0_2b5d_11eb_afad_0242ac1c0002row13_col8{\n",
              "            background-color:  #5572df;\n",
              "            color:  #000000;\n",
              "        }#T_d49e11b0_2b5d_11eb_afad_0242ac1c0002row4_col15,#T_d49e11b0_2b5d_11eb_afad_0242ac1c0002row5_col19,#T_d49e11b0_2b5d_11eb_afad_0242ac1c0002row6_col19,#T_d49e11b0_2b5d_11eb_afad_0242ac1c0002row7_col0,#T_d49e11b0_2b5d_11eb_afad_0242ac1c0002row19_col18{\n",
              "            background-color:  #8caffe;\n",
              "            color:  #000000;\n",
              "        }#T_d49e11b0_2b5d_11eb_afad_0242ac1c0002row4_col18,#T_d49e11b0_2b5d_11eb_afad_0242ac1c0002row8_col12{\n",
              "            background-color:  #7295f4;\n",
              "            color:  #000000;\n",
              "        }#T_d49e11b0_2b5d_11eb_afad_0242ac1c0002row5_col2,#T_d49e11b0_2b5d_11eb_afad_0242ac1c0002row7_col2,#T_d49e11b0_2b5d_11eb_afad_0242ac1c0002row7_col3,#T_d49e11b0_2b5d_11eb_afad_0242ac1c0002row11_col3,#T_d49e11b0_2b5d_11eb_afad_0242ac1c0002row12_col2{\n",
              "            background-color:  #b6cefa;\n",
              "            color:  #000000;\n",
              "        }#T_d49e11b0_2b5d_11eb_afad_0242ac1c0002row5_col3,#T_d49e11b0_2b5d_11eb_afad_0242ac1c0002row17_col19{\n",
              "            background-color:  #b3cdfb;\n",
              "            color:  #000000;\n",
              "        }#T_d49e11b0_2b5d_11eb_afad_0242ac1c0002row5_col6{\n",
              "            background-color:  #e7d7ce;\n",
              "            color:  #000000;\n",
              "        }#T_d49e11b0_2b5d_11eb_afad_0242ac1c0002row5_col7,#T_d49e11b0_2b5d_11eb_afad_0242ac1c0002row6_col0,#T_d49e11b0_2b5d_11eb_afad_0242ac1c0002row9_col10,#T_d49e11b0_2b5d_11eb_afad_0242ac1c0002row12_col18,#T_d49e11b0_2b5d_11eb_afad_0242ac1c0002row13_col18,#T_d49e11b0_2b5d_11eb_afad_0242ac1c0002row15_col0{\n",
              "            background-color:  #7ea1fa;\n",
              "            color:  #000000;\n",
              "        }#T_d49e11b0_2b5d_11eb_afad_0242ac1c0002row5_col10,#T_d49e11b0_2b5d_11eb_afad_0242ac1c0002row5_col13,#T_d49e11b0_2b5d_11eb_afad_0242ac1c0002row6_col12,#T_d49e11b0_2b5d_11eb_afad_0242ac1c0002row7_col11,#T_d49e11b0_2b5d_11eb_afad_0242ac1c0002row9_col11,#T_d49e11b0_2b5d_11eb_afad_0242ac1c0002row11_col19,#T_d49e11b0_2b5d_11eb_afad_0242ac1c0002row19_col6{\n",
              "            background-color:  #6a8bef;\n",
              "            color:  #000000;\n",
              "        }#T_d49e11b0_2b5d_11eb_afad_0242ac1c0002row5_col15,#T_d49e11b0_2b5d_11eb_afad_0242ac1c0002row9_col19{\n",
              "            background-color:  #98b9ff;\n",
              "            color:  #000000;\n",
              "        }#T_d49e11b0_2b5d_11eb_afad_0242ac1c0002row5_col17,#T_d49e11b0_2b5d_11eb_afad_0242ac1c0002row6_col17,#T_d49e11b0_2b5d_11eb_afad_0242ac1c0002row7_col18,#T_d49e11b0_2b5d_11eb_afad_0242ac1c0002row11_col1{\n",
              "            background-color:  #7396f5;\n",
              "            color:  #000000;\n",
              "        }#T_d49e11b0_2b5d_11eb_afad_0242ac1c0002row6_col1,#T_d49e11b0_2b5d_11eb_afad_0242ac1c0002row6_col14,#T_d49e11b0_2b5d_11eb_afad_0242ac1c0002row18_col10{\n",
              "            background-color:  #90b2fe;\n",
              "            color:  #000000;\n",
              "        }#T_d49e11b0_2b5d_11eb_afad_0242ac1c0002row6_col3,#T_d49e11b0_2b5d_11eb_afad_0242ac1c0002row16_col3{\n",
              "            background-color:  #b2ccfb;\n",
              "            color:  #000000;\n",
              "        }#T_d49e11b0_2b5d_11eb_afad_0242ac1c0002row6_col4,#T_d49e11b0_2b5d_11eb_afad_0242ac1c0002row15_col9,#T_d49e11b0_2b5d_11eb_afad_0242ac1c0002row16_col8{\n",
              "            background-color:  #3c4ec2;\n",
              "            color:  #f1f1f1;\n",
              "        }#T_d49e11b0_2b5d_11eb_afad_0242ac1c0002row6_col5{\n",
              "            background-color:  #e6d7cf;\n",
              "            color:  #000000;\n",
              "        }#T_d49e11b0_2b5d_11eb_afad_0242ac1c0002row6_col7,#T_d49e11b0_2b5d_11eb_afad_0242ac1c0002row8_col0,#T_d49e11b0_2b5d_11eb_afad_0242ac1c0002row16_col10{\n",
              "            background-color:  #7da0f9;\n",
              "            color:  #000000;\n",
              "        }#T_d49e11b0_2b5d_11eb_afad_0242ac1c0002row6_col13,#T_d49e11b0_2b5d_11eb_afad_0242ac1c0002row8_col18{\n",
              "            background-color:  #799cf8;\n",
              "            color:  #000000;\n",
              "        }#T_d49e11b0_2b5d_11eb_afad_0242ac1c0002row6_col15,#T_d49e11b0_2b5d_11eb_afad_0242ac1c0002row13_col2{\n",
              "            background-color:  #b7cff9;\n",
              "            color:  #000000;\n",
              "        }#T_d49e11b0_2b5d_11eb_afad_0242ac1c0002row6_col16,#T_d49e11b0_2b5d_11eb_afad_0242ac1c0002row8_col1,#T_d49e11b0_2b5d_11eb_afad_0242ac1c0002row11_col6,#T_d49e11b0_2b5d_11eb_afad_0242ac1c0002row14_col8,#T_d49e11b0_2b5d_11eb_afad_0242ac1c0002row17_col9,#T_d49e11b0_2b5d_11eb_afad_0242ac1c0002row18_col6{\n",
              "            background-color:  #506bda;\n",
              "            color:  #000000;\n",
              "        }#T_d49e11b0_2b5d_11eb_afad_0242ac1c0002row7_col4,#T_d49e11b0_2b5d_11eb_afad_0242ac1c0002row7_col9,#T_d49e11b0_2b5d_11eb_afad_0242ac1c0002row12_col4,#T_d49e11b0_2b5d_11eb_afad_0242ac1c0002row12_col6,#T_d49e11b0_2b5d_11eb_afad_0242ac1c0002row14_col1,#T_d49e11b0_2b5d_11eb_afad_0242ac1c0002row15_col8{\n",
              "            background-color:  #465ecf;\n",
              "            color:  #f1f1f1;\n",
              "        }#T_d49e11b0_2b5d_11eb_afad_0242ac1c0002row7_col8,#T_d49e11b0_2b5d_11eb_afad_0242ac1c0002row7_col13,#T_d49e11b0_2b5d_11eb_afad_0242ac1c0002row11_col16,#T_d49e11b0_2b5d_11eb_afad_0242ac1c0002row15_col19{\n",
              "            background-color:  #536edd;\n",
              "            color:  #000000;\n",
              "        }#T_d49e11b0_2b5d_11eb_afad_0242ac1c0002row7_col15,#T_d49e11b0_2b5d_11eb_afad_0242ac1c0002row14_col2,#T_d49e11b0_2b5d_11eb_afad_0242ac1c0002row17_col3{\n",
              "            background-color:  #bfd3f6;\n",
              "            color:  #000000;\n",
              "        }#T_d49e11b0_2b5d_11eb_afad_0242ac1c0002row7_col17{\n",
              "            background-color:  #abc8fd;\n",
              "            color:  #000000;\n",
              "        }#T_d49e11b0_2b5d_11eb_afad_0242ac1c0002row7_col19,#T_d49e11b0_2b5d_11eb_afad_0242ac1c0002row11_col10,#T_d49e11b0_2b5d_11eb_afad_0242ac1c0002row11_col12{\n",
              "            background-color:  #9bbcff;\n",
              "            color:  #000000;\n",
              "        }#T_d49e11b0_2b5d_11eb_afad_0242ac1c0002row8_col2{\n",
              "            background-color:  #bcd2f7;\n",
              "            color:  #000000;\n",
              "        }#T_d49e11b0_2b5d_11eb_afad_0242ac1c0002row8_col11{\n",
              "            background-color:  #6384eb;\n",
              "            color:  #000000;\n",
              "        }#T_d49e11b0_2b5d_11eb_afad_0242ac1c0002row8_col16,#T_d49e11b0_2b5d_11eb_afad_0242ac1c0002row12_col17,#T_d49e11b0_2b5d_11eb_afad_0242ac1c0002row14_col4,#T_d49e11b0_2b5d_11eb_afad_0242ac1c0002row18_col16{\n",
              "            background-color:  #485fd1;\n",
              "            color:  #f1f1f1;\n",
              "        }#T_d49e11b0_2b5d_11eb_afad_0242ac1c0002row9_col2,#T_d49e11b0_2b5d_11eb_afad_0242ac1c0002row10_col2,#T_d49e11b0_2b5d_11eb_afad_0242ac1c0002row17_col7{\n",
              "            background-color:  #aec9fc;\n",
              "            color:  #000000;\n",
              "        }#T_d49e11b0_2b5d_11eb_afad_0242ac1c0002row9_col3{\n",
              "            background-color:  #b1cbfc;\n",
              "            color:  #000000;\n",
              "        }#T_d49e11b0_2b5d_11eb_afad_0242ac1c0002row9_col17,#T_d49e11b0_2b5d_11eb_afad_0242ac1c0002row19_col13{\n",
              "            background-color:  #6e90f2;\n",
              "            color:  #000000;\n",
              "        }#T_d49e11b0_2b5d_11eb_afad_0242ac1c0002row10_col3,#T_d49e11b0_2b5d_11eb_afad_0242ac1c0002row15_col7{\n",
              "            background-color:  #a7c5fe;\n",
              "            color:  #000000;\n",
              "        }#T_d49e11b0_2b5d_11eb_afad_0242ac1c0002row10_col4,#T_d49e11b0_2b5d_11eb_afad_0242ac1c0002row19_col4{\n",
              "            background-color:  #4257c9;\n",
              "            color:  #f1f1f1;\n",
              "        }#T_d49e11b0_2b5d_11eb_afad_0242ac1c0002row10_col12{\n",
              "            background-color:  #ecd3c5;\n",
              "            color:  #000000;\n",
              "        }#T_d49e11b0_2b5d_11eb_afad_0242ac1c0002row10_col16,#T_d49e11b0_2b5d_11eb_afad_0242ac1c0002row17_col14{\n",
              "            background-color:  #4b64d5;\n",
              "            color:  #f1f1f1;\n",
              "        }#T_d49e11b0_2b5d_11eb_afad_0242ac1c0002row11_col0{\n",
              "            background-color:  #97b8ff;\n",
              "            color:  #000000;\n",
              "        }#T_d49e11b0_2b5d_11eb_afad_0242ac1c0002row11_col2,#T_d49e11b0_2b5d_11eb_afad_0242ac1c0002row15_col6,#T_d49e11b0_2b5d_11eb_afad_0242ac1c0002row18_col19{\n",
              "            background-color:  #94b6ff;\n",
              "            color:  #000000;\n",
              "        }#T_d49e11b0_2b5d_11eb_afad_0242ac1c0002row12_col3{\n",
              "            background-color:  #a9c6fd;\n",
              "            color:  #000000;\n",
              "        }#T_d49e11b0_2b5d_11eb_afad_0242ac1c0002row12_col7,#T_d49e11b0_2b5d_11eb_afad_0242ac1c0002row14_col16,#T_d49e11b0_2b5d_11eb_afad_0242ac1c0002row16_col9{\n",
              "            background-color:  #3f53c6;\n",
              "            color:  #f1f1f1;\n",
              "        }#T_d49e11b0_2b5d_11eb_afad_0242ac1c0002row12_col10{\n",
              "            background-color:  #efcfbf;\n",
              "            color:  #000000;\n",
              "        }#T_d49e11b0_2b5d_11eb_afad_0242ac1c0002row12_col11,#T_d49e11b0_2b5d_11eb_afad_0242ac1c0002row15_col1,#T_d49e11b0_2b5d_11eb_afad_0242ac1c0002row16_col1{\n",
              "            background-color:  #8fb1fe;\n",
              "            color:  #000000;\n",
              "        }#T_d49e11b0_2b5d_11eb_afad_0242ac1c0002row12_col13,#T_d49e11b0_2b5d_11eb_afad_0242ac1c0002row16_col7,#T_d49e11b0_2b5d_11eb_afad_0242ac1c0002row19_col14{\n",
              "            background-color:  #5f7fe8;\n",
              "            color:  #000000;\n",
              "        }#T_d49e11b0_2b5d_11eb_afad_0242ac1c0002row13_col4,#T_d49e11b0_2b5d_11eb_afad_0242ac1c0002row17_col1{\n",
              "            background-color:  #4961d2;\n",
              "            color:  #f1f1f1;\n",
              "        }#T_d49e11b0_2b5d_11eb_afad_0242ac1c0002row13_col12{\n",
              "            background-color:  #7a9df8;\n",
              "            color:  #000000;\n",
              "        }#T_d49e11b0_2b5d_11eb_afad_0242ac1c0002row14_col3{\n",
              "            background-color:  #aac7fd;\n",
              "            color:  #000000;\n",
              "        }#T_d49e11b0_2b5d_11eb_afad_0242ac1c0002row14_col5,#T_d49e11b0_2b5d_11eb_afad_0242ac1c0002row14_col10,#T_d49e11b0_2b5d_11eb_afad_0242ac1c0002row17_col0,#T_d49e11b0_2b5d_11eb_afad_0242ac1c0002row18_col12,#T_d49e11b0_2b5d_11eb_afad_0242ac1c0002row19_col7{\n",
              "            background-color:  #86a9fc;\n",
              "            color:  #000000;\n",
              "        }#T_d49e11b0_2b5d_11eb_afad_0242ac1c0002row14_col6{\n",
              "            background-color:  #93b5fe;\n",
              "            color:  #000000;\n",
              "        }#T_d49e11b0_2b5d_11eb_afad_0242ac1c0002row14_col9,#T_d49e11b0_2b5d_11eb_afad_0242ac1c0002row17_col4{\n",
              "            background-color:  #4c66d6;\n",
              "            color:  #000000;\n",
              "        }#T_d49e11b0_2b5d_11eb_afad_0242ac1c0002row14_col18{\n",
              "            background-color:  #a3c2fe;\n",
              "            color:  #000000;\n",
              "        }#T_d49e11b0_2b5d_11eb_afad_0242ac1c0002row15_col2{\n",
              "            background-color:  #e1dad6;\n",
              "            color:  #000000;\n",
              "        }#T_d49e11b0_2b5d_11eb_afad_0242ac1c0002row15_col3{\n",
              "            background-color:  #9ebeff;\n",
              "            color:  #000000;\n",
              "        }#T_d49e11b0_2b5d_11eb_afad_0242ac1c0002row16_col0,#T_d49e11b0_2b5d_11eb_afad_0242ac1c0002row16_col15,#T_d49e11b0_2b5d_11eb_afad_0242ac1c0002row18_col14{\n",
              "            background-color:  #89acfd;\n",
              "            color:  #000000;\n",
              "        }#T_d49e11b0_2b5d_11eb_afad_0242ac1c0002row16_col2{\n",
              "            background-color:  #a5c3fe;\n",
              "            color:  #000000;\n",
              "        }#T_d49e11b0_2b5d_11eb_afad_0242ac1c0002row17_col2{\n",
              "            background-color:  #dadce0;\n",
              "            color:  #000000;\n",
              "        }#T_d49e11b0_2b5d_11eb_afad_0242ac1c0002row17_col8{\n",
              "            background-color:  #bad0f8;\n",
              "            color:  #000000;\n",
              "        }#T_d49e11b0_2b5d_11eb_afad_0242ac1c0002row17_col15{\n",
              "            background-color:  #a1c0ff;\n",
              "            color:  #000000;\n",
              "        }#T_d49e11b0_2b5d_11eb_afad_0242ac1c0002row18_col2{\n",
              "            background-color:  #adc9fd;\n",
              "            color:  #000000;\n",
              "        }#T_d49e11b0_2b5d_11eb_afad_0242ac1c0002row19_col17{\n",
              "            background-color:  #9fbfff;\n",
              "            color:  #000000;\n",
              "        }</style><table id=\"T_d49e11b0_2b5d_11eb_afad_0242ac1c0002\" ><thead>    <tr>        <th class=\"blank level0\" ></th>        <th class=\"col_heading level0 col0\" >is_canceled</th>        <th class=\"col_heading level0 col1\" >lead_time</th>        <th class=\"col_heading level0 col2\" >arrival_date_year</th>        <th class=\"col_heading level0 col3\" >arrival_date_week_number</th>        <th class=\"col_heading level0 col4\" >arrival_date_day_of_month</th>        <th class=\"col_heading level0 col5\" >stays_in_weekend_nights</th>        <th class=\"col_heading level0 col6\" >stays_in_week_nights</th>        <th class=\"col_heading level0 col7\" >adults</th>        <th class=\"col_heading level0 col8\" >children</th>        <th class=\"col_heading level0 col9\" >babies</th>        <th class=\"col_heading level0 col10\" >is_repeated_guest</th>        <th class=\"col_heading level0 col11\" >previous_cancellations</th>        <th class=\"col_heading level0 col12\" >previous_bookings_not_canceled</th>        <th class=\"col_heading level0 col13\" >booking_changes</th>        <th class=\"col_heading level0 col14\" >agent</th>        <th class=\"col_heading level0 col15\" >company</th>        <th class=\"col_heading level0 col16\" >days_in_waiting_list</th>        <th class=\"col_heading level0 col17\" >adr</th>        <th class=\"col_heading level0 col18\" >required_car_parking_spaces</th>        <th class=\"col_heading level0 col19\" >total_of_special_requests</th>    </tr></thead><tbody>\n",
              "                <tr>\n",
              "                        <th id=\"T_d49e11b0_2b5d_11eb_afad_0242ac1c0002level0_row0\" class=\"row_heading level0 row0\" >is_canceled</th>\n",
              "                        <td id=\"T_d49e11b0_2b5d_11eb_afad_0242ac1c0002row0_col0\" class=\"data row0 col0\" >1.000000</td>\n",
              "                        <td id=\"T_d49e11b0_2b5d_11eb_afad_0242ac1c0002row0_col1\" class=\"data row0 col1\" >0.300322</td>\n",
              "                        <td id=\"T_d49e11b0_2b5d_11eb_afad_0242ac1c0002row0_col2\" class=\"data row0 col2\" >0.024577</td>\n",
              "                        <td id=\"T_d49e11b0_2b5d_11eb_afad_0242ac1c0002row0_col3\" class=\"data row0 col3\" >-0.002117</td>\n",
              "                        <td id=\"T_d49e11b0_2b5d_11eb_afad_0242ac1c0002row0_col4\" class=\"data row0 col4\" >-0.009072</td>\n",
              "                        <td id=\"T_d49e11b0_2b5d_11eb_afad_0242ac1c0002row0_col5\" class=\"data row0 col5\" >-0.006372</td>\n",
              "                        <td id=\"T_d49e11b0_2b5d_11eb_afad_0242ac1c0002row0_col6\" class=\"data row0 col6\" >0.019155</td>\n",
              "                        <td id=\"T_d49e11b0_2b5d_11eb_afad_0242ac1c0002row0_col7\" class=\"data row0 col7\" >0.068910</td>\n",
              "                        <td id=\"T_d49e11b0_2b5d_11eb_afad_0242ac1c0002row0_col8\" class=\"data row0 col8\" >0.013710</td>\n",
              "                        <td id=\"T_d49e11b0_2b5d_11eb_afad_0242ac1c0002row0_col9\" class=\"data row0 col9\" >-0.030521</td>\n",
              "                        <td id=\"T_d49e11b0_2b5d_11eb_afad_0242ac1c0002row0_col10\" class=\"data row0 col10\" >-0.079520</td>\n",
              "                        <td id=\"T_d49e11b0_2b5d_11eb_afad_0242ac1c0002row0_col11\" class=\"data row0 col11\" >0.105622</td>\n",
              "                        <td id=\"T_d49e11b0_2b5d_11eb_afad_0242ac1c0002row0_col12\" class=\"data row0 col12\" >-0.070294</td>\n",
              "                        <td id=\"T_d49e11b0_2b5d_11eb_afad_0242ac1c0002row0_col13\" class=\"data row0 col13\" >-0.126024</td>\n",
              "                        <td id=\"T_d49e11b0_2b5d_11eb_afad_0242ac1c0002row0_col14\" class=\"data row0 col14\" >-0.083498</td>\n",
              "                        <td id=\"T_d49e11b0_2b5d_11eb_afad_0242ac1c0002row0_col15\" class=\"data row0 col15\" >0.022658</td>\n",
              "                        <td id=\"T_d49e11b0_2b5d_11eb_afad_0242ac1c0002row0_col16\" class=\"data row0 col16\" >0.057597</td>\n",
              "                        <td id=\"T_d49e11b0_2b5d_11eb_afad_0242ac1c0002row0_col17\" class=\"data row0 col17\" >0.049155</td>\n",
              "                        <td id=\"T_d49e11b0_2b5d_11eb_afad_0242ac1c0002row0_col18\" class=\"data row0 col18\" >-0.202595</td>\n",
              "                        <td id=\"T_d49e11b0_2b5d_11eb_afad_0242ac1c0002row0_col19\" class=\"data row0 col19\" >-0.238465</td>\n",
              "            </tr>\n",
              "            <tr>\n",
              "                        <th id=\"T_d49e11b0_2b5d_11eb_afad_0242ac1c0002level0_row1\" class=\"row_heading level0 row1\" >lead_time</th>\n",
              "                        <td id=\"T_d49e11b0_2b5d_11eb_afad_0242ac1c0002row1_col0\" class=\"data row1 col0\" >0.300322</td>\n",
              "                        <td id=\"T_d49e11b0_2b5d_11eb_afad_0242ac1c0002row1_col1\" class=\"data row1 col1\" >1.000000</td>\n",
              "                        <td id=\"T_d49e11b0_2b5d_11eb_afad_0242ac1c0002row1_col2\" class=\"data row1 col2\" >0.039142</td>\n",
              "                        <td id=\"T_d49e11b0_2b5d_11eb_afad_0242ac1c0002row1_col3\" class=\"data row1 col3\" >0.125362</td>\n",
              "                        <td id=\"T_d49e11b0_2b5d_11eb_afad_0242ac1c0002row1_col4\" class=\"data row1 col4\" >-0.002752</td>\n",
              "                        <td id=\"T_d49e11b0_2b5d_11eb_afad_0242ac1c0002row1_col5\" class=\"data row1 col5\" >0.093504</td>\n",
              "                        <td id=\"T_d49e11b0_2b5d_11eb_afad_0242ac1c0002row1_col6\" class=\"data row1 col6\" >0.172592</td>\n",
              "                        <td id=\"T_d49e11b0_2b5d_11eb_afad_0242ac1c0002row1_col7\" class=\"data row1 col7\" >0.123425</td>\n",
              "                        <td id=\"T_d49e11b0_2b5d_11eb_afad_0242ac1c0002row1_col8\" class=\"data row1 col8\" >-0.039498</td>\n",
              "                        <td id=\"T_d49e11b0_2b5d_11eb_afad_0242ac1c0002row1_col9\" class=\"data row1 col9\" >-0.015174</td>\n",
              "                        <td id=\"T_d49e11b0_2b5d_11eb_afad_0242ac1c0002row1_col10\" class=\"data row1 col10\" >-0.116012</td>\n",
              "                        <td id=\"T_d49e11b0_2b5d_11eb_afad_0242ac1c0002row1_col11\" class=\"data row1 col11\" >0.081086</td>\n",
              "                        <td id=\"T_d49e11b0_2b5d_11eb_afad_0242ac1c0002row1_col12\" class=\"data row1 col12\" >-0.084707</td>\n",
              "                        <td id=\"T_d49e11b0_2b5d_11eb_afad_0242ac1c0002row1_col13\" class=\"data row1 col13\" >0.003191</td>\n",
              "                        <td id=\"T_d49e11b0_2b5d_11eb_afad_0242ac1c0002row1_col14\" class=\"data row1 col14\" >-0.074082</td>\n",
              "                        <td id=\"T_d49e11b0_2b5d_11eb_afad_0242ac1c0002row1_col15\" class=\"data row1 col15\" >0.168360</td>\n",
              "                        <td id=\"T_d49e11b0_2b5d_11eb_afad_0242ac1c0002row1_col16\" class=\"data row1 col16\" >0.165606</td>\n",
              "                        <td id=\"T_d49e11b0_2b5d_11eb_afad_0242ac1c0002row1_col17\" class=\"data row1 col17\" >-0.064772</td>\n",
              "                        <td id=\"T_d49e11b0_2b5d_11eb_afad_0242ac1c0002row1_col18\" class=\"data row1 col18\" >-0.119927</td>\n",
              "                        <td id=\"T_d49e11b0_2b5d_11eb_afad_0242ac1c0002row1_col19\" class=\"data row1 col19\" >-0.103249</td>\n",
              "            </tr>\n",
              "            <tr>\n",
              "                        <th id=\"T_d49e11b0_2b5d_11eb_afad_0242ac1c0002level0_row2\" class=\"row_heading level0 row2\" >arrival_date_year</th>\n",
              "                        <td id=\"T_d49e11b0_2b5d_11eb_afad_0242ac1c0002row2_col0\" class=\"data row2 col0\" >0.024577</td>\n",
              "                        <td id=\"T_d49e11b0_2b5d_11eb_afad_0242ac1c0002row2_col1\" class=\"data row2 col1\" >0.039142</td>\n",
              "                        <td id=\"T_d49e11b0_2b5d_11eb_afad_0242ac1c0002row2_col2\" class=\"data row2 col2\" >1.000000</td>\n",
              "                        <td id=\"T_d49e11b0_2b5d_11eb_afad_0242ac1c0002row2_col3\" class=\"data row2 col3\" >-0.539884</td>\n",
              "                        <td id=\"T_d49e11b0_2b5d_11eb_afad_0242ac1c0002row2_col4\" class=\"data row2 col4\" >-0.001400</td>\n",
              "                        <td id=\"T_d49e11b0_2b5d_11eb_afad_0242ac1c0002row2_col5\" class=\"data row2 col5\" >0.028002</td>\n",
              "                        <td id=\"T_d49e11b0_2b5d_11eb_afad_0242ac1c0002row2_col6\" class=\"data row2 col6\" >0.042828</td>\n",
              "                        <td id=\"T_d49e11b0_2b5d_11eb_afad_0242ac1c0002row2_col7\" class=\"data row2 col7\" >0.028113</td>\n",
              "                        <td id=\"T_d49e11b0_2b5d_11eb_afad_0242ac1c0002row2_col8\" class=\"data row2 col8\" >0.056933</td>\n",
              "                        <td id=\"T_d49e11b0_2b5d_11eb_afad_0242ac1c0002row2_col9\" class=\"data row2 col9\" >-0.009332</td>\n",
              "                        <td id=\"T_d49e11b0_2b5d_11eb_afad_0242ac1c0002row2_col10\" class=\"data row2 col10\" >-0.007453</td>\n",
              "                        <td id=\"T_d49e11b0_2b5d_11eb_afad_0242ac1c0002row2_col11\" class=\"data row2 col11\" >-0.122741</td>\n",
              "                        <td id=\"T_d49e11b0_2b5d_11eb_afad_0242ac1c0002row2_col12\" class=\"data row2 col12\" >0.029414</td>\n",
              "                        <td id=\"T_d49e11b0_2b5d_11eb_afad_0242ac1c0002row2_col13\" class=\"data row2 col13\" >0.035844</td>\n",
              "                        <td id=\"T_d49e11b0_2b5d_11eb_afad_0242ac1c0002row2_col14\" class=\"data row2 col14\" >0.073102</td>\n",
              "                        <td id=\"T_d49e11b0_2b5d_11eb_afad_0242ac1c0002row2_col15\" class=\"data row2 col15\" >0.259735</td>\n",
              "                        <td id=\"T_d49e11b0_2b5d_11eb_afad_0242ac1c0002row2_col16\" class=\"data row2 col16\" >-0.050217</td>\n",
              "                        <td id=\"T_d49e11b0_2b5d_11eb_afad_0242ac1c0002row2_col17\" class=\"data row2 col17\" >0.217300</td>\n",
              "                        <td id=\"T_d49e11b0_2b5d_11eb_afad_0242ac1c0002row2_col18\" class=\"data row2 col18\" >-0.011788</td>\n",
              "                        <td id=\"T_d49e11b0_2b5d_11eb_afad_0242ac1c0002row2_col19\" class=\"data row2 col19\" >0.104497</td>\n",
              "            </tr>\n",
              "            <tr>\n",
              "                        <th id=\"T_d49e11b0_2b5d_11eb_afad_0242ac1c0002level0_row3\" class=\"row_heading level0 row3\" >arrival_date_week_number</th>\n",
              "                        <td id=\"T_d49e11b0_2b5d_11eb_afad_0242ac1c0002row3_col0\" class=\"data row3 col0\" >-0.002117</td>\n",
              "                        <td id=\"T_d49e11b0_2b5d_11eb_afad_0242ac1c0002row3_col1\" class=\"data row3 col1\" >0.125362</td>\n",
              "                        <td id=\"T_d49e11b0_2b5d_11eb_afad_0242ac1c0002row3_col2\" class=\"data row3 col2\" >-0.539884</td>\n",
              "                        <td id=\"T_d49e11b0_2b5d_11eb_afad_0242ac1c0002row3_col3\" class=\"data row3 col3\" >1.000000</td>\n",
              "                        <td id=\"T_d49e11b0_2b5d_11eb_afad_0242ac1c0002row3_col4\" class=\"data row3 col4\" >0.064799</td>\n",
              "                        <td id=\"T_d49e11b0_2b5d_11eb_afad_0242ac1c0002row3_col5\" class=\"data row3 col5\" >0.018045</td>\n",
              "                        <td id=\"T_d49e11b0_2b5d_11eb_afad_0242ac1c0002row3_col6\" class=\"data row3 col6\" >0.011346</td>\n",
              "                        <td id=\"T_d49e11b0_2b5d_11eb_afad_0242ac1c0002row3_col7\" class=\"data row3 col7\" >0.029802</td>\n",
              "                        <td id=\"T_d49e11b0_2b5d_11eb_afad_0242ac1c0002row3_col8\" class=\"data row3 col8\" >-0.002981</td>\n",
              "                        <td id=\"T_d49e11b0_2b5d_11eb_afad_0242ac1c0002row3_col9\" class=\"data row3 col9\" >0.004690</td>\n",
              "                        <td id=\"T_d49e11b0_2b5d_11eb_afad_0242ac1c0002row3_col10\" class=\"data row3 col10\" >-0.040559</td>\n",
              "                        <td id=\"T_d49e11b0_2b5d_11eb_afad_0242ac1c0002row3_col11\" class=\"data row3 col11\" >0.029336</td>\n",
              "                        <td id=\"T_d49e11b0_2b5d_11eb_afad_0242ac1c0002row3_col12\" class=\"data row3 col12\" >-0.030383</td>\n",
              "                        <td id=\"T_d49e11b0_2b5d_11eb_afad_0242ac1c0002row3_col13\" class=\"data row3 col13\" >-0.002817</td>\n",
              "                        <td id=\"T_d49e11b0_2b5d_11eb_afad_0242ac1c0002row3_col14\" class=\"data row3 col14\" >-0.028062</td>\n",
              "                        <td id=\"T_d49e11b0_2b5d_11eb_afad_0242ac1c0002row3_col15\" class=\"data row3 col15\" >-0.078391</td>\n",
              "                        <td id=\"T_d49e11b0_2b5d_11eb_afad_0242ac1c0002row3_col16\" class=\"data row3 col16\" >0.011536</td>\n",
              "                        <td id=\"T_d49e11b0_2b5d_11eb_afad_0242ac1c0002row3_col17\" class=\"data row3 col17\" >0.069965</td>\n",
              "                        <td id=\"T_d49e11b0_2b5d_11eb_afad_0242ac1c0002row3_col18\" class=\"data row3 col18\" >-0.000309</td>\n",
              "                        <td id=\"T_d49e11b0_2b5d_11eb_afad_0242ac1c0002row3_col19\" class=\"data row3 col19\" >0.023936</td>\n",
              "            </tr>\n",
              "            <tr>\n",
              "                        <th id=\"T_d49e11b0_2b5d_11eb_afad_0242ac1c0002level0_row4\" class=\"row_heading level0 row4\" >arrival_date_day_of_month</th>\n",
              "                        <td id=\"T_d49e11b0_2b5d_11eb_afad_0242ac1c0002row4_col0\" class=\"data row4 col0\" >-0.009072</td>\n",
              "                        <td id=\"T_d49e11b0_2b5d_11eb_afad_0242ac1c0002row4_col1\" class=\"data row4 col1\" >-0.002752</td>\n",
              "                        <td id=\"T_d49e11b0_2b5d_11eb_afad_0242ac1c0002row4_col2\" class=\"data row4 col2\" >-0.001400</td>\n",
              "                        <td id=\"T_d49e11b0_2b5d_11eb_afad_0242ac1c0002row4_col3\" class=\"data row4 col3\" >0.064799</td>\n",
              "                        <td id=\"T_d49e11b0_2b5d_11eb_afad_0242ac1c0002row4_col4\" class=\"data row4 col4\" >1.000000</td>\n",
              "                        <td id=\"T_d49e11b0_2b5d_11eb_afad_0242ac1c0002row4_col5\" class=\"data row4 col5\" >-0.031836</td>\n",
              "                        <td id=\"T_d49e11b0_2b5d_11eb_afad_0242ac1c0002row4_col6\" class=\"data row4 col6\" >-0.027325</td>\n",
              "                        <td id=\"T_d49e11b0_2b5d_11eb_afad_0242ac1c0002row4_col7\" class=\"data row4 col7\" >0.009958</td>\n",
              "                        <td id=\"T_d49e11b0_2b5d_11eb_afad_0242ac1c0002row4_col8\" class=\"data row4 col8\" >-0.000346</td>\n",
              "                        <td id=\"T_d49e11b0_2b5d_11eb_afad_0242ac1c0002row4_col9\" class=\"data row4 col9\" >-0.008105</td>\n",
              "                        <td id=\"T_d49e11b0_2b5d_11eb_afad_0242ac1c0002row4_col10\" class=\"data row4 col10\" >-0.004933</td>\n",
              "                        <td id=\"T_d49e11b0_2b5d_11eb_afad_0242ac1c0002row4_col11\" class=\"data row4 col11\" >-0.020335</td>\n",
              "                        <td id=\"T_d49e11b0_2b5d_11eb_afad_0242ac1c0002row4_col12\" class=\"data row4 col12\" >0.011733</td>\n",
              "                        <td id=\"T_d49e11b0_2b5d_11eb_afad_0242ac1c0002row4_col13\" class=\"data row4 col13\" >0.017864</td>\n",
              "                        <td id=\"T_d49e11b0_2b5d_11eb_afad_0242ac1c0002row4_col14\" class=\"data row4 col14\" >0.013063</td>\n",
              "                        <td id=\"T_d49e11b0_2b5d_11eb_afad_0242ac1c0002row4_col15\" class=\"data row4 col15\" >0.037240</td>\n",
              "                        <td id=\"T_d49e11b0_2b5d_11eb_afad_0242ac1c0002row4_col16\" class=\"data row4 col16\" >0.034493</td>\n",
              "                        <td id=\"T_d49e11b0_2b5d_11eb_afad_0242ac1c0002row4_col17\" class=\"data row4 col17\" >0.030133</td>\n",
              "                        <td id=\"T_d49e11b0_2b5d_11eb_afad_0242ac1c0002row4_col18\" class=\"data row4 col18\" >0.005841</td>\n",
              "                        <td id=\"T_d49e11b0_2b5d_11eb_afad_0242ac1c0002row4_col19\" class=\"data row4 col19\" >-0.003962</td>\n",
              "            </tr>\n",
              "            <tr>\n",
              "                        <th id=\"T_d49e11b0_2b5d_11eb_afad_0242ac1c0002level0_row5\" class=\"row_heading level0 row5\" >stays_in_weekend_nights</th>\n",
              "                        <td id=\"T_d49e11b0_2b5d_11eb_afad_0242ac1c0002row5_col0\" class=\"data row5 col0\" >-0.006372</td>\n",
              "                        <td id=\"T_d49e11b0_2b5d_11eb_afad_0242ac1c0002row5_col1\" class=\"data row5 col1\" >0.093504</td>\n",
              "                        <td id=\"T_d49e11b0_2b5d_11eb_afad_0242ac1c0002row5_col2\" class=\"data row5 col2\" >0.028002</td>\n",
              "                        <td id=\"T_d49e11b0_2b5d_11eb_afad_0242ac1c0002row5_col3\" class=\"data row5 col3\" >0.018045</td>\n",
              "                        <td id=\"T_d49e11b0_2b5d_11eb_afad_0242ac1c0002row5_col4\" class=\"data row5 col4\" >-0.031836</td>\n",
              "                        <td id=\"T_d49e11b0_2b5d_11eb_afad_0242ac1c0002row5_col5\" class=\"data row5 col5\" >1.000000</td>\n",
              "                        <td id=\"T_d49e11b0_2b5d_11eb_afad_0242ac1c0002row5_col6\" class=\"data row5 col6\" >0.496751</td>\n",
              "                        <td id=\"T_d49e11b0_2b5d_11eb_afad_0242ac1c0002row5_col7\" class=\"data row5 col7\" >0.090233</td>\n",
              "                        <td id=\"T_d49e11b0_2b5d_11eb_afad_0242ac1c0002row5_col8\" class=\"data row5 col8\" >0.048036</td>\n",
              "                        <td id=\"T_d49e11b0_2b5d_11eb_afad_0242ac1c0002row5_col9\" class=\"data row5 col9\" >0.023855</td>\n",
              "                        <td id=\"T_d49e11b0_2b5d_11eb_afad_0242ac1c0002row5_col10\" class=\"data row5 col10\" >-0.088915</td>\n",
              "                        <td id=\"T_d49e11b0_2b5d_11eb_afad_0242ac1c0002row5_col11\" class=\"data row5 col11\" >-0.017917</td>\n",
              "                        <td id=\"T_d49e11b0_2b5d_11eb_afad_0242ac1c0002row5_col12\" class=\"data row5 col12\" >-0.055550</td>\n",
              "                        <td id=\"T_d49e11b0_2b5d_11eb_afad_0242ac1c0002row5_col13\" class=\"data row5 col13\" >0.043907</td>\n",
              "                        <td id=\"T_d49e11b0_2b5d_11eb_afad_0242ac1c0002row5_col14\" class=\"data row5 col14\" >0.162056</td>\n",
              "                        <td id=\"T_d49e11b0_2b5d_11eb_afad_0242ac1c0002row5_col15\" class=\"data row5 col15\" >0.080099</td>\n",
              "                        <td id=\"T_d49e11b0_2b5d_11eb_afad_0242ac1c0002row5_col16\" class=\"data row5 col16\" >-0.065167</td>\n",
              "                        <td id=\"T_d49e11b0_2b5d_11eb_afad_0242ac1c0002row5_col17\" class=\"data row5 col17\" >0.062446</td>\n",
              "                        <td id=\"T_d49e11b0_2b5d_11eb_afad_0242ac1c0002row5_col18\" class=\"data row5 col18\" >-0.017652</td>\n",
              "                        <td id=\"T_d49e11b0_2b5d_11eb_afad_0242ac1c0002row5_col19\" class=\"data row5 col19\" >0.070293</td>\n",
              "            </tr>\n",
              "            <tr>\n",
              "                        <th id=\"T_d49e11b0_2b5d_11eb_afad_0242ac1c0002level0_row6\" class=\"row_heading level0 row6\" >stays_in_week_nights</th>\n",
              "                        <td id=\"T_d49e11b0_2b5d_11eb_afad_0242ac1c0002row6_col0\" class=\"data row6 col0\" >0.019155</td>\n",
              "                        <td id=\"T_d49e11b0_2b5d_11eb_afad_0242ac1c0002row6_col1\" class=\"data row6 col1\" >0.172592</td>\n",
              "                        <td id=\"T_d49e11b0_2b5d_11eb_afad_0242ac1c0002row6_col2\" class=\"data row6 col2\" >0.042828</td>\n",
              "                        <td id=\"T_d49e11b0_2b5d_11eb_afad_0242ac1c0002row6_col3\" class=\"data row6 col3\" >0.011346</td>\n",
              "                        <td id=\"T_d49e11b0_2b5d_11eb_afad_0242ac1c0002row6_col4\" class=\"data row6 col4\" >-0.027325</td>\n",
              "                        <td id=\"T_d49e11b0_2b5d_11eb_afad_0242ac1c0002row6_col5\" class=\"data row6 col5\" >0.496751</td>\n",
              "                        <td id=\"T_d49e11b0_2b5d_11eb_afad_0242ac1c0002row6_col6\" class=\"data row6 col6\" >1.000000</td>\n",
              "                        <td id=\"T_d49e11b0_2b5d_11eb_afad_0242ac1c0002row6_col7\" class=\"data row6 col7\" >0.089143</td>\n",
              "                        <td id=\"T_d49e11b0_2b5d_11eb_afad_0242ac1c0002row6_col8\" class=\"data row6 col8\" >0.039615</td>\n",
              "                        <td id=\"T_d49e11b0_2b5d_11eb_afad_0242ac1c0002row6_col9\" class=\"data row6 col9\" >0.040191</td>\n",
              "                        <td id=\"T_d49e11b0_2b5d_11eb_afad_0242ac1c0002row6_col10\" class=\"data row6 col10\" >-0.097247</td>\n",
              "                        <td id=\"T_d49e11b0_2b5d_11eb_afad_0242ac1c0002row6_col11\" class=\"data row6 col11\" >-0.018070</td>\n",
              "                        <td id=\"T_d49e11b0_2b5d_11eb_afad_0242ac1c0002row6_col12\" class=\"data row6 col12\" >-0.053741</td>\n",
              "                        <td id=\"T_d49e11b0_2b5d_11eb_afad_0242ac1c0002row6_col13\" class=\"data row6 col13\" >0.090570</td>\n",
              "                        <td id=\"T_d49e11b0_2b5d_11eb_afad_0242ac1c0002row6_col14\" class=\"data row6 col14\" >0.197426</td>\n",
              "                        <td id=\"T_d49e11b0_2b5d_11eb_afad_0242ac1c0002row6_col15\" class=\"data row6 col15\" >0.199179</td>\n",
              "                        <td id=\"T_d49e11b0_2b5d_11eb_afad_0242ac1c0002row6_col16\" class=\"data row6 col16\" >-0.003306</td>\n",
              "                        <td id=\"T_d49e11b0_2b5d_11eb_afad_0242ac1c0002row6_col17\" class=\"data row6 col17\" >0.063893</td>\n",
              "                        <td id=\"T_d49e11b0_2b5d_11eb_afad_0242ac1c0002row6_col18\" class=\"data row6 col18\" >-0.016310</td>\n",
              "                        <td id=\"T_d49e11b0_2b5d_11eb_afad_0242ac1c0002row6_col19\" class=\"data row6 col19\" >0.067509</td>\n",
              "            </tr>\n",
              "            <tr>\n",
              "                        <th id=\"T_d49e11b0_2b5d_11eb_afad_0242ac1c0002level0_row7\" class=\"row_heading level0 row7\" >adults</th>\n",
              "                        <td id=\"T_d49e11b0_2b5d_11eb_afad_0242ac1c0002row7_col0\" class=\"data row7 col0\" >0.068910</td>\n",
              "                        <td id=\"T_d49e11b0_2b5d_11eb_afad_0242ac1c0002row7_col1\" class=\"data row7 col1\" >0.123425</td>\n",
              "                        <td id=\"T_d49e11b0_2b5d_11eb_afad_0242ac1c0002row7_col2\" class=\"data row7 col2\" >0.028113</td>\n",
              "                        <td id=\"T_d49e11b0_2b5d_11eb_afad_0242ac1c0002row7_col3\" class=\"data row7 col3\" >0.029802</td>\n",
              "                        <td id=\"T_d49e11b0_2b5d_11eb_afad_0242ac1c0002row7_col4\" class=\"data row7 col4\" >0.009958</td>\n",
              "                        <td id=\"T_d49e11b0_2b5d_11eb_afad_0242ac1c0002row7_col5\" class=\"data row7 col5\" >0.090233</td>\n",
              "                        <td id=\"T_d49e11b0_2b5d_11eb_afad_0242ac1c0002row7_col6\" class=\"data row7 col6\" >0.089143</td>\n",
              "                        <td id=\"T_d49e11b0_2b5d_11eb_afad_0242ac1c0002row7_col7\" class=\"data row7 col7\" >1.000000</td>\n",
              "                        <td id=\"T_d49e11b0_2b5d_11eb_afad_0242ac1c0002row7_col8\" class=\"data row7 col8\" >0.042151</td>\n",
              "                        <td id=\"T_d49e11b0_2b5d_11eb_afad_0242ac1c0002row7_col9\" class=\"data row7 col9\" >0.013161</td>\n",
              "                        <td id=\"T_d49e11b0_2b5d_11eb_afad_0242ac1c0002row7_col10\" class=\"data row7 col10\" >-0.147407</td>\n",
              "                        <td id=\"T_d49e11b0_2b5d_11eb_afad_0242ac1c0002row7_col11\" class=\"data row7 col11\" >-0.005715</td>\n",
              "                        <td id=\"T_d49e11b0_2b5d_11eb_afad_0242ac1c0002row7_col12\" class=\"data row7 col12\" >-0.127632</td>\n",
              "                        <td id=\"T_d49e11b0_2b5d_11eb_afad_0242ac1c0002row7_col13\" class=\"data row7 col13\" >-0.033894</td>\n",
              "                        <td id=\"T_d49e11b0_2b5d_11eb_afad_0242ac1c0002row7_col14\" class=\"data row7 col14\" >-0.044185</td>\n",
              "                        <td id=\"T_d49e11b0_2b5d_11eb_afad_0242ac1c0002row7_col15\" class=\"data row7 col15\" >0.227391</td>\n",
              "                        <td id=\"T_d49e11b0_2b5d_11eb_afad_0242ac1c0002row7_col16\" class=\"data row7 col16\" >-0.010477</td>\n",
              "                        <td id=\"T_d49e11b0_2b5d_11eb_afad_0242ac1c0002row7_col17\" class=\"data row7 col17\" >0.247537</td>\n",
              "                        <td id=\"T_d49e11b0_2b5d_11eb_afad_0242ac1c0002row7_col18\" class=\"data row7 col18\" >0.010616</td>\n",
              "                        <td id=\"T_d49e11b0_2b5d_11eb_afad_0242ac1c0002row7_col19\" class=\"data row7 col19\" >0.119568</td>\n",
              "            </tr>\n",
              "            <tr>\n",
              "                        <th id=\"T_d49e11b0_2b5d_11eb_afad_0242ac1c0002level0_row8\" class=\"row_heading level0 row8\" >children</th>\n",
              "                        <td id=\"T_d49e11b0_2b5d_11eb_afad_0242ac1c0002row8_col0\" class=\"data row8 col0\" >0.013710</td>\n",
              "                        <td id=\"T_d49e11b0_2b5d_11eb_afad_0242ac1c0002row8_col1\" class=\"data row8 col1\" >-0.039498</td>\n",
              "                        <td id=\"T_d49e11b0_2b5d_11eb_afad_0242ac1c0002row8_col2\" class=\"data row8 col2\" >0.056933</td>\n",
              "                        <td id=\"T_d49e11b0_2b5d_11eb_afad_0242ac1c0002row8_col3\" class=\"data row8 col3\" >-0.002981</td>\n",
              "                        <td id=\"T_d49e11b0_2b5d_11eb_afad_0242ac1c0002row8_col4\" class=\"data row8 col4\" >-0.000346</td>\n",
              "                        <td id=\"T_d49e11b0_2b5d_11eb_afad_0242ac1c0002row8_col5\" class=\"data row8 col5\" >0.048036</td>\n",
              "                        <td id=\"T_d49e11b0_2b5d_11eb_afad_0242ac1c0002row8_col6\" class=\"data row8 col6\" >0.039615</td>\n",
              "                        <td id=\"T_d49e11b0_2b5d_11eb_afad_0242ac1c0002row8_col7\" class=\"data row8 col7\" >0.042151</td>\n",
              "                        <td id=\"T_d49e11b0_2b5d_11eb_afad_0242ac1c0002row8_col8\" class=\"data row8 col8\" >1.000000</td>\n",
              "                        <td id=\"T_d49e11b0_2b5d_11eb_afad_0242ac1c0002row8_col9\" class=\"data row8 col9\" >0.046815</td>\n",
              "                        <td id=\"T_d49e11b0_2b5d_11eb_afad_0242ac1c0002row8_col10\" class=\"data row8 col10\" >-0.038558</td>\n",
              "                        <td id=\"T_d49e11b0_2b5d_11eb_afad_0242ac1c0002row8_col11\" class=\"data row8 col11\" >-0.027081</td>\n",
              "                        <td id=\"T_d49e11b0_2b5d_11eb_afad_0242ac1c0002row8_col12\" class=\"data row8 col12\" >-0.025207</td>\n",
              "                        <td id=\"T_d49e11b0_2b5d_11eb_afad_0242ac1c0002row8_col13\" class=\"data row8 col13\" >0.052975</td>\n",
              "                        <td id=\"T_d49e11b0_2b5d_11eb_afad_0242ac1c0002row8_col14\" class=\"data row8 col14\" >0.037633</td>\n",
              "                        <td id=\"T_d49e11b0_2b5d_11eb_afad_0242ac1c0002row8_col15\" class=\"data row8 col15\" >0.002325</td>\n",
              "                        <td id=\"T_d49e11b0_2b5d_11eb_afad_0242ac1c0002row8_col16\" class=\"data row8 col16\" >-0.033715</td>\n",
              "                        <td id=\"T_d49e11b0_2b5d_11eb_afad_0242ac1c0002row8_col17\" class=\"data row8 col17\" >0.354569</td>\n",
              "                        <td id=\"T_d49e11b0_2b5d_11eb_afad_0242ac1c0002row8_col18\" class=\"data row8 col18\" >0.029514</td>\n",
              "                        <td id=\"T_d49e11b0_2b5d_11eb_afad_0242ac1c0002row8_col19\" class=\"data row8 col19\" >0.100985</td>\n",
              "            </tr>\n",
              "            <tr>\n",
              "                        <th id=\"T_d49e11b0_2b5d_11eb_afad_0242ac1c0002level0_row9\" class=\"row_heading level0 row9\" >babies</th>\n",
              "                        <td id=\"T_d49e11b0_2b5d_11eb_afad_0242ac1c0002row9_col0\" class=\"data row9 col0\" >-0.030521</td>\n",
              "                        <td id=\"T_d49e11b0_2b5d_11eb_afad_0242ac1c0002row9_col1\" class=\"data row9 col1\" >-0.015174</td>\n",
              "                        <td id=\"T_d49e11b0_2b5d_11eb_afad_0242ac1c0002row9_col2\" class=\"data row9 col2\" >-0.009332</td>\n",
              "                        <td id=\"T_d49e11b0_2b5d_11eb_afad_0242ac1c0002row9_col3\" class=\"data row9 col3\" >0.004690</td>\n",
              "                        <td id=\"T_d49e11b0_2b5d_11eb_afad_0242ac1c0002row9_col4\" class=\"data row9 col4\" >-0.008105</td>\n",
              "                        <td id=\"T_d49e11b0_2b5d_11eb_afad_0242ac1c0002row9_col5\" class=\"data row9 col5\" >0.023855</td>\n",
              "                        <td id=\"T_d49e11b0_2b5d_11eb_afad_0242ac1c0002row9_col6\" class=\"data row9 col6\" >0.040191</td>\n",
              "                        <td id=\"T_d49e11b0_2b5d_11eb_afad_0242ac1c0002row9_col7\" class=\"data row9 col7\" >0.013161</td>\n",
              "                        <td id=\"T_d49e11b0_2b5d_11eb_afad_0242ac1c0002row9_col8\" class=\"data row9 col8\" >0.046815</td>\n",
              "                        <td id=\"T_d49e11b0_2b5d_11eb_afad_0242ac1c0002row9_col9\" class=\"data row9 col9\" >1.000000</td>\n",
              "                        <td id=\"T_d49e11b0_2b5d_11eb_afad_0242ac1c0002row9_col10\" class=\"data row9 col10\" >-0.010366</td>\n",
              "                        <td id=\"T_d49e11b0_2b5d_11eb_afad_0242ac1c0002row9_col11\" class=\"data row9 col11\" >-0.008040</td>\n",
              "                        <td id=\"T_d49e11b0_2b5d_11eb_afad_0242ac1c0002row9_col12\" class=\"data row9 col12\" >-0.009082</td>\n",
              "                        <td id=\"T_d49e11b0_2b5d_11eb_afad_0242ac1c0002row9_col13\" class=\"data row9 col13\" >0.086219</td>\n",
              "                        <td id=\"T_d49e11b0_2b5d_11eb_afad_0242ac1c0002row9_col14\" class=\"data row9 col14\" >0.033853</td>\n",
              "                        <td id=\"T_d49e11b0_2b5d_11eb_afad_0242ac1c0002row9_col15\" class=\"data row9 col15\" >-0.023846</td>\n",
              "                        <td id=\"T_d49e11b0_2b5d_11eb_afad_0242ac1c0002row9_col16\" class=\"data row9 col16\" >-0.011381</td>\n",
              "                        <td id=\"T_d49e11b0_2b5d_11eb_afad_0242ac1c0002row9_col17\" class=\"data row9 col17\" >0.044477</td>\n",
              "                        <td id=\"T_d49e11b0_2b5d_11eb_afad_0242ac1c0002row9_col18\" class=\"data row9 col18\" >0.062776</td>\n",
              "                        <td id=\"T_d49e11b0_2b5d_11eb_afad_0242ac1c0002row9_col19\" class=\"data row9 col19\" >0.114425</td>\n",
              "            </tr>\n",
              "            <tr>\n",
              "                        <th id=\"T_d49e11b0_2b5d_11eb_afad_0242ac1c0002level0_row10\" class=\"row_heading level0 row10\" >is_repeated_guest</th>\n",
              "                        <td id=\"T_d49e11b0_2b5d_11eb_afad_0242ac1c0002row10_col0\" class=\"data row10 col0\" >-0.079520</td>\n",
              "                        <td id=\"T_d49e11b0_2b5d_11eb_afad_0242ac1c0002row10_col1\" class=\"data row10 col1\" >-0.116012</td>\n",
              "                        <td id=\"T_d49e11b0_2b5d_11eb_afad_0242ac1c0002row10_col2\" class=\"data row10 col2\" >-0.007453</td>\n",
              "                        <td id=\"T_d49e11b0_2b5d_11eb_afad_0242ac1c0002row10_col3\" class=\"data row10 col3\" >-0.040559</td>\n",
              "                        <td id=\"T_d49e11b0_2b5d_11eb_afad_0242ac1c0002row10_col4\" class=\"data row10 col4\" >-0.004933</td>\n",
              "                        <td id=\"T_d49e11b0_2b5d_11eb_afad_0242ac1c0002row10_col5\" class=\"data row10 col5\" >-0.088915</td>\n",
              "                        <td id=\"T_d49e11b0_2b5d_11eb_afad_0242ac1c0002row10_col6\" class=\"data row10 col6\" >-0.097247</td>\n",
              "                        <td id=\"T_d49e11b0_2b5d_11eb_afad_0242ac1c0002row10_col7\" class=\"data row10 col7\" >-0.147407</td>\n",
              "                        <td id=\"T_d49e11b0_2b5d_11eb_afad_0242ac1c0002row10_col8\" class=\"data row10 col8\" >-0.038558</td>\n",
              "                        <td id=\"T_d49e11b0_2b5d_11eb_afad_0242ac1c0002row10_col9\" class=\"data row10 col9\" >-0.010366</td>\n",
              "                        <td id=\"T_d49e11b0_2b5d_11eb_afad_0242ac1c0002row10_col10\" class=\"data row10 col10\" >1.000000</td>\n",
              "                        <td id=\"T_d49e11b0_2b5d_11eb_afad_0242ac1c0002row10_col11\" class=\"data row10 col11\" >0.094209</td>\n",
              "                        <td id=\"T_d49e11b0_2b5d_11eb_afad_0242ac1c0002row10_col12\" class=\"data row10 col12\" >0.462927</td>\n",
              "                        <td id=\"T_d49e11b0_2b5d_11eb_afad_0242ac1c0002row10_col13\" class=\"data row10 col13\" >0.004355</td>\n",
              "                        <td id=\"T_d49e11b0_2b5d_11eb_afad_0242ac1c0002row10_col14\" class=\"data row10 col14\" >0.017626</td>\n",
              "                        <td id=\"T_d49e11b0_2b5d_11eb_afad_0242ac1c0002row10_col15\" class=\"data row10 col15\" >-0.279978</td>\n",
              "                        <td id=\"T_d49e11b0_2b5d_11eb_afad_0242ac1c0002row10_col16\" class=\"data row10 col16\" >-0.018413</td>\n",
              "                        <td id=\"T_d49e11b0_2b5d_11eb_afad_0242ac1c0002row10_col17\" class=\"data row10 col17\" >-0.137857</td>\n",
              "                        <td id=\"T_d49e11b0_2b5d_11eb_afad_0242ac1c0002row10_col18\" class=\"data row10 col18\" >0.051887</td>\n",
              "                        <td id=\"T_d49e11b0_2b5d_11eb_afad_0242ac1c0002row10_col19\" class=\"data row10 col19\" >0.010132</td>\n",
              "            </tr>\n",
              "            <tr>\n",
              "                        <th id=\"T_d49e11b0_2b5d_11eb_afad_0242ac1c0002level0_row11\" class=\"row_heading level0 row11\" >previous_cancellations</th>\n",
              "                        <td id=\"T_d49e11b0_2b5d_11eb_afad_0242ac1c0002row11_col0\" class=\"data row11 col0\" >0.105622</td>\n",
              "                        <td id=\"T_d49e11b0_2b5d_11eb_afad_0242ac1c0002row11_col1\" class=\"data row11 col1\" >0.081086</td>\n",
              "                        <td id=\"T_d49e11b0_2b5d_11eb_afad_0242ac1c0002row11_col2\" class=\"data row11 col2\" >-0.122741</td>\n",
              "                        <td id=\"T_d49e11b0_2b5d_11eb_afad_0242ac1c0002row11_col3\" class=\"data row11 col3\" >0.029336</td>\n",
              "                        <td id=\"T_d49e11b0_2b5d_11eb_afad_0242ac1c0002row11_col4\" class=\"data row11 col4\" >-0.020335</td>\n",
              "                        <td id=\"T_d49e11b0_2b5d_11eb_afad_0242ac1c0002row11_col5\" class=\"data row11 col5\" >-0.017917</td>\n",
              "                        <td id=\"T_d49e11b0_2b5d_11eb_afad_0242ac1c0002row11_col6\" class=\"data row11 col6\" >-0.018070</td>\n",
              "                        <td id=\"T_d49e11b0_2b5d_11eb_afad_0242ac1c0002row11_col7\" class=\"data row11 col7\" >-0.005715</td>\n",
              "                        <td id=\"T_d49e11b0_2b5d_11eb_afad_0242ac1c0002row11_col8\" class=\"data row11 col8\" >-0.027081</td>\n",
              "                        <td id=\"T_d49e11b0_2b5d_11eb_afad_0242ac1c0002row11_col9\" class=\"data row11 col9\" >-0.008040</td>\n",
              "                        <td id=\"T_d49e11b0_2b5d_11eb_afad_0242ac1c0002row11_col10\" class=\"data row11 col10\" >0.094209</td>\n",
              "                        <td id=\"T_d49e11b0_2b5d_11eb_afad_0242ac1c0002row11_col11\" class=\"data row11 col11\" >1.000000</td>\n",
              "                        <td id=\"T_d49e11b0_2b5d_11eb_afad_0242ac1c0002row11_col12\" class=\"data row11 col12\" >0.120443</td>\n",
              "                        <td id=\"T_d49e11b0_2b5d_11eb_afad_0242ac1c0002row11_col13\" class=\"data row11 col13\" >-0.022879</td>\n",
              "                        <td id=\"T_d49e11b0_2b5d_11eb_afad_0242ac1c0002row11_col14\" class=\"data row11 col14\" >-0.011720</td>\n",
              "                        <td id=\"T_d49e11b0_2b5d_11eb_afad_0242ac1c0002row11_col15\" class=\"data row11 col15\" >-0.184035</td>\n",
              "                        <td id=\"T_d49e11b0_2b5d_11eb_afad_0242ac1c0002row11_col16\" class=\"data row11 col16\" >0.003216</td>\n",
              "                        <td id=\"T_d49e11b0_2b5d_11eb_afad_0242ac1c0002row11_col17\" class=\"data row11 col17\" >-0.060605</td>\n",
              "                        <td id=\"T_d49e11b0_2b5d_11eb_afad_0242ac1c0002row11_col18\" class=\"data row11 col18\" >-0.018273</td>\n",
              "                        <td id=\"T_d49e11b0_2b5d_11eb_afad_0242ac1c0002row11_col19\" class=\"data row11 col19\" >-0.053676</td>\n",
              "            </tr>\n",
              "            <tr>\n",
              "                        <th id=\"T_d49e11b0_2b5d_11eb_afad_0242ac1c0002level0_row12\" class=\"row_heading level0 row12\" >previous_bookings_not_canceled</th>\n",
              "                        <td id=\"T_d49e11b0_2b5d_11eb_afad_0242ac1c0002row12_col0\" class=\"data row12 col0\" >-0.070294</td>\n",
              "                        <td id=\"T_d49e11b0_2b5d_11eb_afad_0242ac1c0002row12_col1\" class=\"data row12 col1\" >-0.084707</td>\n",
              "                        <td id=\"T_d49e11b0_2b5d_11eb_afad_0242ac1c0002row12_col2\" class=\"data row12 col2\" >0.029414</td>\n",
              "                        <td id=\"T_d49e11b0_2b5d_11eb_afad_0242ac1c0002row12_col3\" class=\"data row12 col3\" >-0.030383</td>\n",
              "                        <td id=\"T_d49e11b0_2b5d_11eb_afad_0242ac1c0002row12_col4\" class=\"data row12 col4\" >0.011733</td>\n",
              "                        <td id=\"T_d49e11b0_2b5d_11eb_afad_0242ac1c0002row12_col5\" class=\"data row12 col5\" >-0.055550</td>\n",
              "                        <td id=\"T_d49e11b0_2b5d_11eb_afad_0242ac1c0002row12_col6\" class=\"data row12 col6\" >-0.053741</td>\n",
              "                        <td id=\"T_d49e11b0_2b5d_11eb_afad_0242ac1c0002row12_col7\" class=\"data row12 col7\" >-0.127632</td>\n",
              "                        <td id=\"T_d49e11b0_2b5d_11eb_afad_0242ac1c0002row12_col8\" class=\"data row12 col8\" >-0.025207</td>\n",
              "                        <td id=\"T_d49e11b0_2b5d_11eb_afad_0242ac1c0002row12_col9\" class=\"data row12 col9\" >-0.009082</td>\n",
              "                        <td id=\"T_d49e11b0_2b5d_11eb_afad_0242ac1c0002row12_col10\" class=\"data row12 col10\" >0.462927</td>\n",
              "                        <td id=\"T_d49e11b0_2b5d_11eb_afad_0242ac1c0002row12_col11\" class=\"data row12 col11\" >0.120443</td>\n",
              "                        <td id=\"T_d49e11b0_2b5d_11eb_afad_0242ac1c0002row12_col12\" class=\"data row12 col12\" >1.000000</td>\n",
              "                        <td id=\"T_d49e11b0_2b5d_11eb_afad_0242ac1c0002row12_col13\" class=\"data row12 col13\" >0.006840</td>\n",
              "                        <td id=\"T_d49e11b0_2b5d_11eb_afad_0242ac1c0002row12_col14\" class=\"data row12 col14\" >0.031340</td>\n",
              "                        <td id=\"T_d49e11b0_2b5d_11eb_afad_0242ac1c0002row12_col15\" class=\"data row12 col15\" >-0.238024</td>\n",
              "                        <td id=\"T_d49e11b0_2b5d_11eb_afad_0242ac1c0002row12_col16\" class=\"data row12 col16\" >-0.011579</td>\n",
              "                        <td id=\"T_d49e11b0_2b5d_11eb_afad_0242ac1c0002row12_col17\" class=\"data row12 col17\" >-0.084632</td>\n",
              "                        <td id=\"T_d49e11b0_2b5d_11eb_afad_0242ac1c0002row12_col18\" class=\"data row12 col18\" >0.049261</td>\n",
              "                        <td id=\"T_d49e11b0_2b5d_11eb_afad_0242ac1c0002row12_col19\" class=\"data row12 col19\" >0.026769</td>\n",
              "            </tr>\n",
              "            <tr>\n",
              "                        <th id=\"T_d49e11b0_2b5d_11eb_afad_0242ac1c0002level0_row13\" class=\"row_heading level0 row13\" >booking_changes</th>\n",
              "                        <td id=\"T_d49e11b0_2b5d_11eb_afad_0242ac1c0002row13_col0\" class=\"data row13 col0\" >-0.126024</td>\n",
              "                        <td id=\"T_d49e11b0_2b5d_11eb_afad_0242ac1c0002row13_col1\" class=\"data row13 col1\" >0.003191</td>\n",
              "                        <td id=\"T_d49e11b0_2b5d_11eb_afad_0242ac1c0002row13_col2\" class=\"data row13 col2\" >0.035844</td>\n",
              "                        <td id=\"T_d49e11b0_2b5d_11eb_afad_0242ac1c0002row13_col3\" class=\"data row13 col3\" >-0.002817</td>\n",
              "                        <td id=\"T_d49e11b0_2b5d_11eb_afad_0242ac1c0002row13_col4\" class=\"data row13 col4\" >0.017864</td>\n",
              "                        <td id=\"T_d49e11b0_2b5d_11eb_afad_0242ac1c0002row13_col5\" class=\"data row13 col5\" >0.043907</td>\n",
              "                        <td id=\"T_d49e11b0_2b5d_11eb_afad_0242ac1c0002row13_col6\" class=\"data row13 col6\" >0.090570</td>\n",
              "                        <td id=\"T_d49e11b0_2b5d_11eb_afad_0242ac1c0002row13_col7\" class=\"data row13 col7\" >-0.033894</td>\n",
              "                        <td id=\"T_d49e11b0_2b5d_11eb_afad_0242ac1c0002row13_col8\" class=\"data row13 col8\" >0.052975</td>\n",
              "                        <td id=\"T_d49e11b0_2b5d_11eb_afad_0242ac1c0002row13_col9\" class=\"data row13 col9\" >0.086219</td>\n",
              "                        <td id=\"T_d49e11b0_2b5d_11eb_afad_0242ac1c0002row13_col10\" class=\"data row13 col10\" >0.004355</td>\n",
              "                        <td id=\"T_d49e11b0_2b5d_11eb_afad_0242ac1c0002row13_col11\" class=\"data row13 col11\" >-0.022879</td>\n",
              "                        <td id=\"T_d49e11b0_2b5d_11eb_afad_0242ac1c0002row13_col12\" class=\"data row13 col12\" >0.006840</td>\n",
              "                        <td id=\"T_d49e11b0_2b5d_11eb_afad_0242ac1c0002row13_col13\" class=\"data row13 col13\" >1.000000</td>\n",
              "                        <td id=\"T_d49e11b0_2b5d_11eb_afad_0242ac1c0002row13_col14\" class=\"data row13 col14\" >0.064795</td>\n",
              "                        <td id=\"T_d49e11b0_2b5d_11eb_afad_0242ac1c0002row13_col15\" class=\"data row13 col15\" >0.116448</td>\n",
              "                        <td id=\"T_d49e11b0_2b5d_11eb_afad_0242ac1c0002row13_col16\" class=\"data row13 col16\" >-0.009946</td>\n",
              "                        <td id=\"T_d49e11b0_2b5d_11eb_afad_0242ac1c0002row13_col17\" class=\"data row13 col17\" >0.024766</td>\n",
              "                        <td id=\"T_d49e11b0_2b5d_11eb_afad_0242ac1c0002row13_col18\" class=\"data row13 col18\" >0.046396</td>\n",
              "                        <td id=\"T_d49e11b0_2b5d_11eb_afad_0242ac1c0002row13_col19\" class=\"data row13 col19\" >0.054446</td>\n",
              "            </tr>\n",
              "            <tr>\n",
              "                        <th id=\"T_d49e11b0_2b5d_11eb_afad_0242ac1c0002level0_row14\" class=\"row_heading level0 row14\" >agent</th>\n",
              "                        <td id=\"T_d49e11b0_2b5d_11eb_afad_0242ac1c0002row14_col0\" class=\"data row14 col0\" >-0.083498</td>\n",
              "                        <td id=\"T_d49e11b0_2b5d_11eb_afad_0242ac1c0002row14_col1\" class=\"data row14 col1\" >-0.074082</td>\n",
              "                        <td id=\"T_d49e11b0_2b5d_11eb_afad_0242ac1c0002row14_col2\" class=\"data row14 col2\" >0.073102</td>\n",
              "                        <td id=\"T_d49e11b0_2b5d_11eb_afad_0242ac1c0002row14_col3\" class=\"data row14 col3\" >-0.028062</td>\n",
              "                        <td id=\"T_d49e11b0_2b5d_11eb_afad_0242ac1c0002row14_col4\" class=\"data row14 col4\" >0.013063</td>\n",
              "                        <td id=\"T_d49e11b0_2b5d_11eb_afad_0242ac1c0002row14_col5\" class=\"data row14 col5\" >0.162056</td>\n",
              "                        <td id=\"T_d49e11b0_2b5d_11eb_afad_0242ac1c0002row14_col6\" class=\"data row14 col6\" >0.197426</td>\n",
              "                        <td id=\"T_d49e11b0_2b5d_11eb_afad_0242ac1c0002row14_col7\" class=\"data row14 col7\" >-0.044185</td>\n",
              "                        <td id=\"T_d49e11b0_2b5d_11eb_afad_0242ac1c0002row14_col8\" class=\"data row14 col8\" >0.037633</td>\n",
              "                        <td id=\"T_d49e11b0_2b5d_11eb_afad_0242ac1c0002row14_col9\" class=\"data row14 col9\" >0.033853</td>\n",
              "                        <td id=\"T_d49e11b0_2b5d_11eb_afad_0242ac1c0002row14_col10\" class=\"data row14 col10\" >0.017626</td>\n",
              "                        <td id=\"T_d49e11b0_2b5d_11eb_afad_0242ac1c0002row14_col11\" class=\"data row14 col11\" >-0.011720</td>\n",
              "                        <td id=\"T_d49e11b0_2b5d_11eb_afad_0242ac1c0002row14_col12\" class=\"data row14 col12\" >0.031340</td>\n",
              "                        <td id=\"T_d49e11b0_2b5d_11eb_afad_0242ac1c0002row14_col13\" class=\"data row14 col13\" >0.064795</td>\n",
              "                        <td id=\"T_d49e11b0_2b5d_11eb_afad_0242ac1c0002row14_col14\" class=\"data row14 col14\" >1.000000</td>\n",
              "                        <td id=\"T_d49e11b0_2b5d_11eb_afad_0242ac1c0002row14_col15\" class=\"data row14 col15\" >0.118880</td>\n",
              "                        <td id=\"T_d49e11b0_2b5d_11eb_afad_0242ac1c0002row14_col16\" class=\"data row14 col16\" >-0.061358</td>\n",
              "                        <td id=\"T_d49e11b0_2b5d_11eb_afad_0242ac1c0002row14_col17\" class=\"data row14 col17\" >-0.020784</td>\n",
              "                        <td id=\"T_d49e11b0_2b5d_11eb_afad_0242ac1c0002row14_col18\" class=\"data row14 col18\" >0.175709</td>\n",
              "                        <td id=\"T_d49e11b0_2b5d_11eb_afad_0242ac1c0002row14_col19\" class=\"data row14 col19\" >0.044658</td>\n",
              "            </tr>\n",
              "            <tr>\n",
              "                        <th id=\"T_d49e11b0_2b5d_11eb_afad_0242ac1c0002level0_row15\" class=\"row_heading level0 row15\" >company</th>\n",
              "                        <td id=\"T_d49e11b0_2b5d_11eb_afad_0242ac1c0002row15_col0\" class=\"data row15 col0\" >0.022658</td>\n",
              "                        <td id=\"T_d49e11b0_2b5d_11eb_afad_0242ac1c0002row15_col1\" class=\"data row15 col1\" >0.168360</td>\n",
              "                        <td id=\"T_d49e11b0_2b5d_11eb_afad_0242ac1c0002row15_col2\" class=\"data row15 col2\" >0.259735</td>\n",
              "                        <td id=\"T_d49e11b0_2b5d_11eb_afad_0242ac1c0002row15_col3\" class=\"data row15 col3\" >-0.078391</td>\n",
              "                        <td id=\"T_d49e11b0_2b5d_11eb_afad_0242ac1c0002row15_col4\" class=\"data row15 col4\" >0.037240</td>\n",
              "                        <td id=\"T_d49e11b0_2b5d_11eb_afad_0242ac1c0002row15_col5\" class=\"data row15 col5\" >0.080099</td>\n",
              "                        <td id=\"T_d49e11b0_2b5d_11eb_afad_0242ac1c0002row15_col6\" class=\"data row15 col6\" >0.199179</td>\n",
              "                        <td id=\"T_d49e11b0_2b5d_11eb_afad_0242ac1c0002row15_col7\" class=\"data row15 col7\" >0.227391</td>\n",
              "                        <td id=\"T_d49e11b0_2b5d_11eb_afad_0242ac1c0002row15_col8\" class=\"data row15 col8\" >0.002325</td>\n",
              "                        <td id=\"T_d49e11b0_2b5d_11eb_afad_0242ac1c0002row15_col9\" class=\"data row15 col9\" >-0.023846</td>\n",
              "                        <td id=\"T_d49e11b0_2b5d_11eb_afad_0242ac1c0002row15_col10\" class=\"data row15 col10\" >-0.279978</td>\n",
              "                        <td id=\"T_d49e11b0_2b5d_11eb_afad_0242ac1c0002row15_col11\" class=\"data row15 col11\" >-0.184035</td>\n",
              "                        <td id=\"T_d49e11b0_2b5d_11eb_afad_0242ac1c0002row15_col12\" class=\"data row15 col12\" >-0.238024</td>\n",
              "                        <td id=\"T_d49e11b0_2b5d_11eb_afad_0242ac1c0002row15_col13\" class=\"data row15 col13\" >0.116448</td>\n",
              "                        <td id=\"T_d49e11b0_2b5d_11eb_afad_0242ac1c0002row15_col14\" class=\"data row15 col14\" >0.118880</td>\n",
              "                        <td id=\"T_d49e11b0_2b5d_11eb_afad_0242ac1c0002row15_col15\" class=\"data row15 col15\" >1.000000</td>\n",
              "                        <td id=\"T_d49e11b0_2b5d_11eb_afad_0242ac1c0002row15_col16\" class=\"data row15 col16\" >0.028927</td>\n",
              "                        <td id=\"T_d49e11b0_2b5d_11eb_afad_0242ac1c0002row15_col17\" class=\"data row15 col17\" >0.112783</td>\n",
              "                        <td id=\"T_d49e11b0_2b5d_11eb_afad_0242ac1c0002row15_col18\" class=\"data row15 col18\" >-0.000571</td>\n",
              "                        <td id=\"T_d49e11b0_2b5d_11eb_afad_0242ac1c0002row15_col19\" class=\"data row15 col19\" >-0.137899</td>\n",
              "            </tr>\n",
              "            <tr>\n",
              "                        <th id=\"T_d49e11b0_2b5d_11eb_afad_0242ac1c0002level0_row16\" class=\"row_heading level0 row16\" >days_in_waiting_list</th>\n",
              "                        <td id=\"T_d49e11b0_2b5d_11eb_afad_0242ac1c0002row16_col0\" class=\"data row16 col0\" >0.057597</td>\n",
              "                        <td id=\"T_d49e11b0_2b5d_11eb_afad_0242ac1c0002row16_col1\" class=\"data row16 col1\" >0.165606</td>\n",
              "                        <td id=\"T_d49e11b0_2b5d_11eb_afad_0242ac1c0002row16_col2\" class=\"data row16 col2\" >-0.050217</td>\n",
              "                        <td id=\"T_d49e11b0_2b5d_11eb_afad_0242ac1c0002row16_col3\" class=\"data row16 col3\" >0.011536</td>\n",
              "                        <td id=\"T_d49e11b0_2b5d_11eb_afad_0242ac1c0002row16_col4\" class=\"data row16 col4\" >0.034493</td>\n",
              "                        <td id=\"T_d49e11b0_2b5d_11eb_afad_0242ac1c0002row16_col5\" class=\"data row16 col5\" >-0.065167</td>\n",
              "                        <td id=\"T_d49e11b0_2b5d_11eb_afad_0242ac1c0002row16_col6\" class=\"data row16 col6\" >-0.003306</td>\n",
              "                        <td id=\"T_d49e11b0_2b5d_11eb_afad_0242ac1c0002row16_col7\" class=\"data row16 col7\" >-0.010477</td>\n",
              "                        <td id=\"T_d49e11b0_2b5d_11eb_afad_0242ac1c0002row16_col8\" class=\"data row16 col8\" >-0.033715</td>\n",
              "                        <td id=\"T_d49e11b0_2b5d_11eb_afad_0242ac1c0002row16_col9\" class=\"data row16 col9\" >-0.011381</td>\n",
              "                        <td id=\"T_d49e11b0_2b5d_11eb_afad_0242ac1c0002row16_col10\" class=\"data row16 col10\" >-0.018413</td>\n",
              "                        <td id=\"T_d49e11b0_2b5d_11eb_afad_0242ac1c0002row16_col11\" class=\"data row16 col11\" >0.003216</td>\n",
              "                        <td id=\"T_d49e11b0_2b5d_11eb_afad_0242ac1c0002row16_col12\" class=\"data row16 col12\" >-0.011579</td>\n",
              "                        <td id=\"T_d49e11b0_2b5d_11eb_afad_0242ac1c0002row16_col13\" class=\"data row16 col13\" >-0.009946</td>\n",
              "                        <td id=\"T_d49e11b0_2b5d_11eb_afad_0242ac1c0002row16_col14\" class=\"data row16 col14\" >-0.061358</td>\n",
              "                        <td id=\"T_d49e11b0_2b5d_11eb_afad_0242ac1c0002row16_col15\" class=\"data row16 col15\" >0.028927</td>\n",
              "                        <td id=\"T_d49e11b0_2b5d_11eb_afad_0242ac1c0002row16_col16\" class=\"data row16 col16\" >1.000000</td>\n",
              "                        <td id=\"T_d49e11b0_2b5d_11eb_afad_0242ac1c0002row16_col17\" class=\"data row16 col17\" >-0.042381</td>\n",
              "                        <td id=\"T_d49e11b0_2b5d_11eb_afad_0242ac1c0002row16_col18\" class=\"data row16 col18\" >-0.030902</td>\n",
              "                        <td id=\"T_d49e11b0_2b5d_11eb_afad_0242ac1c0002row16_col19\" class=\"data row16 col19\" >-0.081353</td>\n",
              "            </tr>\n",
              "            <tr>\n",
              "                        <th id=\"T_d49e11b0_2b5d_11eb_afad_0242ac1c0002level0_row17\" class=\"row_heading level0 row17\" >adr</th>\n",
              "                        <td id=\"T_d49e11b0_2b5d_11eb_afad_0242ac1c0002row17_col0\" class=\"data row17 col0\" >0.049155</td>\n",
              "                        <td id=\"T_d49e11b0_2b5d_11eb_afad_0242ac1c0002row17_col1\" class=\"data row17 col1\" >-0.064772</td>\n",
              "                        <td id=\"T_d49e11b0_2b5d_11eb_afad_0242ac1c0002row17_col2\" class=\"data row17 col2\" >0.217300</td>\n",
              "                        <td id=\"T_d49e11b0_2b5d_11eb_afad_0242ac1c0002row17_col3\" class=\"data row17 col3\" >0.069965</td>\n",
              "                        <td id=\"T_d49e11b0_2b5d_11eb_afad_0242ac1c0002row17_col4\" class=\"data row17 col4\" >0.030133</td>\n",
              "                        <td id=\"T_d49e11b0_2b5d_11eb_afad_0242ac1c0002row17_col5\" class=\"data row17 col5\" >0.062446</td>\n",
              "                        <td id=\"T_d49e11b0_2b5d_11eb_afad_0242ac1c0002row17_col6\" class=\"data row17 col6\" >0.063893</td>\n",
              "                        <td id=\"T_d49e11b0_2b5d_11eb_afad_0242ac1c0002row17_col7\" class=\"data row17 col7\" >0.247537</td>\n",
              "                        <td id=\"T_d49e11b0_2b5d_11eb_afad_0242ac1c0002row17_col8\" class=\"data row17 col8\" >0.354569</td>\n",
              "                        <td id=\"T_d49e11b0_2b5d_11eb_afad_0242ac1c0002row17_col9\" class=\"data row17 col9\" >0.044477</td>\n",
              "                        <td id=\"T_d49e11b0_2b5d_11eb_afad_0242ac1c0002row17_col10\" class=\"data row17 col10\" >-0.137857</td>\n",
              "                        <td id=\"T_d49e11b0_2b5d_11eb_afad_0242ac1c0002row17_col11\" class=\"data row17 col11\" >-0.060605</td>\n",
              "                        <td id=\"T_d49e11b0_2b5d_11eb_afad_0242ac1c0002row17_col12\" class=\"data row17 col12\" >-0.084632</td>\n",
              "                        <td id=\"T_d49e11b0_2b5d_11eb_afad_0242ac1c0002row17_col13\" class=\"data row17 col13\" >0.024766</td>\n",
              "                        <td id=\"T_d49e11b0_2b5d_11eb_afad_0242ac1c0002row17_col14\" class=\"data row17 col14\" >-0.020784</td>\n",
              "                        <td id=\"T_d49e11b0_2b5d_11eb_afad_0242ac1c0002row17_col15\" class=\"data row17 col15\" >0.112783</td>\n",
              "                        <td id=\"T_d49e11b0_2b5d_11eb_afad_0242ac1c0002row17_col16\" class=\"data row17 col16\" >-0.042381</td>\n",
              "                        <td id=\"T_d49e11b0_2b5d_11eb_afad_0242ac1c0002row17_col17\" class=\"data row17 col17\" >1.000000</td>\n",
              "                        <td id=\"T_d49e11b0_2b5d_11eb_afad_0242ac1c0002row17_col18\" class=\"data row17 col18\" >0.068119</td>\n",
              "                        <td id=\"T_d49e11b0_2b5d_11eb_afad_0242ac1c0002row17_col19\" class=\"data row17 col19\" >0.207506</td>\n",
              "            </tr>\n",
              "            <tr>\n",
              "                        <th id=\"T_d49e11b0_2b5d_11eb_afad_0242ac1c0002level0_row18\" class=\"row_heading level0 row18\" >required_car_parking_spaces</th>\n",
              "                        <td id=\"T_d49e11b0_2b5d_11eb_afad_0242ac1c0002row18_col0\" class=\"data row18 col0\" >-0.202595</td>\n",
              "                        <td id=\"T_d49e11b0_2b5d_11eb_afad_0242ac1c0002row18_col1\" class=\"data row18 col1\" >-0.119927</td>\n",
              "                        <td id=\"T_d49e11b0_2b5d_11eb_afad_0242ac1c0002row18_col2\" class=\"data row18 col2\" >-0.011788</td>\n",
              "                        <td id=\"T_d49e11b0_2b5d_11eb_afad_0242ac1c0002row18_col3\" class=\"data row18 col3\" >-0.000309</td>\n",
              "                        <td id=\"T_d49e11b0_2b5d_11eb_afad_0242ac1c0002row18_col4\" class=\"data row18 col4\" >0.005841</td>\n",
              "                        <td id=\"T_d49e11b0_2b5d_11eb_afad_0242ac1c0002row18_col5\" class=\"data row18 col5\" >-0.017652</td>\n",
              "                        <td id=\"T_d49e11b0_2b5d_11eb_afad_0242ac1c0002row18_col6\" class=\"data row18 col6\" >-0.016310</td>\n",
              "                        <td id=\"T_d49e11b0_2b5d_11eb_afad_0242ac1c0002row18_col7\" class=\"data row18 col7\" >0.010616</td>\n",
              "                        <td id=\"T_d49e11b0_2b5d_11eb_afad_0242ac1c0002row18_col8\" class=\"data row18 col8\" >0.029514</td>\n",
              "                        <td id=\"T_d49e11b0_2b5d_11eb_afad_0242ac1c0002row18_col9\" class=\"data row18 col9\" >0.062776</td>\n",
              "                        <td id=\"T_d49e11b0_2b5d_11eb_afad_0242ac1c0002row18_col10\" class=\"data row18 col10\" >0.051887</td>\n",
              "                        <td id=\"T_d49e11b0_2b5d_11eb_afad_0242ac1c0002row18_col11\" class=\"data row18 col11\" >-0.018273</td>\n",
              "                        <td id=\"T_d49e11b0_2b5d_11eb_afad_0242ac1c0002row18_col12\" class=\"data row18 col12\" >0.049261</td>\n",
              "                        <td id=\"T_d49e11b0_2b5d_11eb_afad_0242ac1c0002row18_col13\" class=\"data row18 col13\" >0.046396</td>\n",
              "                        <td id=\"T_d49e11b0_2b5d_11eb_afad_0242ac1c0002row18_col14\" class=\"data row18 col14\" >0.175709</td>\n",
              "                        <td id=\"T_d49e11b0_2b5d_11eb_afad_0242ac1c0002row18_col15\" class=\"data row18 col15\" >-0.000571</td>\n",
              "                        <td id=\"T_d49e11b0_2b5d_11eb_afad_0242ac1c0002row18_col16\" class=\"data row18 col16\" >-0.030902</td>\n",
              "                        <td id=\"T_d49e11b0_2b5d_11eb_afad_0242ac1c0002row18_col17\" class=\"data row18 col17\" >0.068119</td>\n",
              "                        <td id=\"T_d49e11b0_2b5d_11eb_afad_0242ac1c0002row18_col18\" class=\"data row18 col18\" >1.000000</td>\n",
              "                        <td id=\"T_d49e11b0_2b5d_11eb_afad_0242ac1c0002row18_col19\" class=\"data row18 col19\" >0.096171</td>\n",
              "            </tr>\n",
              "            <tr>\n",
              "                        <th id=\"T_d49e11b0_2b5d_11eb_afad_0242ac1c0002level0_row19\" class=\"row_heading level0 row19\" >total_of_special_requests</th>\n",
              "                        <td id=\"T_d49e11b0_2b5d_11eb_afad_0242ac1c0002row19_col0\" class=\"data row19 col0\" >-0.238465</td>\n",
              "                        <td id=\"T_d49e11b0_2b5d_11eb_afad_0242ac1c0002row19_col1\" class=\"data row19 col1\" >-0.103249</td>\n",
              "                        <td id=\"T_d49e11b0_2b5d_11eb_afad_0242ac1c0002row19_col2\" class=\"data row19 col2\" >0.104497</td>\n",
              "                        <td id=\"T_d49e11b0_2b5d_11eb_afad_0242ac1c0002row19_col3\" class=\"data row19 col3\" >0.023936</td>\n",
              "                        <td id=\"T_d49e11b0_2b5d_11eb_afad_0242ac1c0002row19_col4\" class=\"data row19 col4\" >-0.003962</td>\n",
              "                        <td id=\"T_d49e11b0_2b5d_11eb_afad_0242ac1c0002row19_col5\" class=\"data row19 col5\" >0.070293</td>\n",
              "                        <td id=\"T_d49e11b0_2b5d_11eb_afad_0242ac1c0002row19_col6\" class=\"data row19 col6\" >0.067509</td>\n",
              "                        <td id=\"T_d49e11b0_2b5d_11eb_afad_0242ac1c0002row19_col7\" class=\"data row19 col7\" >0.119568</td>\n",
              "                        <td id=\"T_d49e11b0_2b5d_11eb_afad_0242ac1c0002row19_col8\" class=\"data row19 col8\" >0.100985</td>\n",
              "                        <td id=\"T_d49e11b0_2b5d_11eb_afad_0242ac1c0002row19_col9\" class=\"data row19 col9\" >0.114425</td>\n",
              "                        <td id=\"T_d49e11b0_2b5d_11eb_afad_0242ac1c0002row19_col10\" class=\"data row19 col10\" >0.010132</td>\n",
              "                        <td id=\"T_d49e11b0_2b5d_11eb_afad_0242ac1c0002row19_col11\" class=\"data row19 col11\" >-0.053676</td>\n",
              "                        <td id=\"T_d49e11b0_2b5d_11eb_afad_0242ac1c0002row19_col12\" class=\"data row19 col12\" >0.026769</td>\n",
              "                        <td id=\"T_d49e11b0_2b5d_11eb_afad_0242ac1c0002row19_col13\" class=\"data row19 col13\" >0.054446</td>\n",
              "                        <td id=\"T_d49e11b0_2b5d_11eb_afad_0242ac1c0002row19_col14\" class=\"data row19 col14\" >0.044658</td>\n",
              "                        <td id=\"T_d49e11b0_2b5d_11eb_afad_0242ac1c0002row19_col15\" class=\"data row19 col15\" >-0.137899</td>\n",
              "                        <td id=\"T_d49e11b0_2b5d_11eb_afad_0242ac1c0002row19_col16\" class=\"data row19 col16\" >-0.081353</td>\n",
              "                        <td id=\"T_d49e11b0_2b5d_11eb_afad_0242ac1c0002row19_col17\" class=\"data row19 col17\" >0.207506</td>\n",
              "                        <td id=\"T_d49e11b0_2b5d_11eb_afad_0242ac1c0002row19_col18\" class=\"data row19 col18\" >0.096171</td>\n",
              "                        <td id=\"T_d49e11b0_2b5d_11eb_afad_0242ac1c0002row19_col19\" class=\"data row19 col19\" >1.000000</td>\n",
              "            </tr>\n",
              "    </tbody></table>"
            ],
            "text/plain": [
              "<pandas.io.formats.style.Styler at 0x7f1f34b5fa90>"
            ]
          },
          "metadata": {
            "tags": []
          },
          "execution_count": 6
        }
      ]
    },
    {
      "cell_type": "markdown",
      "metadata": {
        "id": "IAgci7iXBtTN"
      },
      "source": [
        "Juntamos las columnas de año, mes y dia para crear un único datetime.\n",
        "También añadimos una con el mes de forma numérica para usarlas posteriormente."
      ]
    },
    {
      "cell_type": "code",
      "metadata": {
        "id": "YMg05sEIG_-7"
      },
      "source": [
        "data['arrival_datetime'] = pd.to_datetime(data['arrival_date_year'].map(str) + \"-\" + data['arrival_date_month'].map(str) + \"-\" + data['arrival_date_day_of_month'].map(str))\n",
        "data['arrival_month'] = data['arrival_datetime'].map(str).str[5:7]"
      ],
      "execution_count": null,
      "outputs": []
    },
    {
      "cell_type": "code",
      "metadata": {
        "id": "sPigjpzHQp56",
        "colab": {
          "base_uri": "https://localhost:8080/",
          "height": 617
        },
        "outputId": "9d1e22fd-9b52-4e9c-dead-5a7dcb5188f1"
      },
      "source": [
        "data = data.sort_values(by=['arrival_datetime'], ascending=True)\n",
        "data"
      ],
      "execution_count": null,
      "outputs": [
        {
          "output_type": "execute_result",
          "data": {
            "text/html": [
              "<div>\n",
              "<style scoped>\n",
              "    .dataframe tbody tr th:only-of-type {\n",
              "        vertical-align: middle;\n",
              "    }\n",
              "\n",
              "    .dataframe tbody tr th {\n",
              "        vertical-align: top;\n",
              "    }\n",
              "\n",
              "    .dataframe thead th {\n",
              "        text-align: right;\n",
              "    }\n",
              "</style>\n",
              "<table border=\"1\" class=\"dataframe\">\n",
              "  <thead>\n",
              "    <tr style=\"text-align: right;\">\n",
              "      <th></th>\n",
              "      <th>hotel</th>\n",
              "      <th>is_canceled</th>\n",
              "      <th>lead_time</th>\n",
              "      <th>arrival_date_year</th>\n",
              "      <th>arrival_date_month</th>\n",
              "      <th>arrival_date_week_number</th>\n",
              "      <th>arrival_date_day_of_month</th>\n",
              "      <th>stays_in_weekend_nights</th>\n",
              "      <th>stays_in_week_nights</th>\n",
              "      <th>adults</th>\n",
              "      <th>children</th>\n",
              "      <th>babies</th>\n",
              "      <th>meal</th>\n",
              "      <th>country</th>\n",
              "      <th>market_segment</th>\n",
              "      <th>distribution_channel</th>\n",
              "      <th>is_repeated_guest</th>\n",
              "      <th>previous_cancellations</th>\n",
              "      <th>previous_bookings_not_canceled</th>\n",
              "      <th>reserved_room_type</th>\n",
              "      <th>assigned_room_type</th>\n",
              "      <th>booking_changes</th>\n",
              "      <th>deposit_type</th>\n",
              "      <th>agent</th>\n",
              "      <th>company</th>\n",
              "      <th>days_in_waiting_list</th>\n",
              "      <th>customer_type</th>\n",
              "      <th>adr</th>\n",
              "      <th>required_car_parking_spaces</th>\n",
              "      <th>total_of_special_requests</th>\n",
              "      <th>reservation_status</th>\n",
              "      <th>reservation_status_date</th>\n",
              "      <th>arrival_datetime</th>\n",
              "      <th>arrival_month</th>\n",
              "    </tr>\n",
              "  </thead>\n",
              "  <tbody>\n",
              "    <tr>\n",
              "      <th>8095</th>\n",
              "      <td>City Hotel</td>\n",
              "      <td>0</td>\n",
              "      <td>257</td>\n",
              "      <td>2015</td>\n",
              "      <td>July</td>\n",
              "      <td>27</td>\n",
              "      <td>1</td>\n",
              "      <td>0</td>\n",
              "      <td>2</td>\n",
              "      <td>2</td>\n",
              "      <td>0.0</td>\n",
              "      <td>0</td>\n",
              "      <td>HB</td>\n",
              "      <td>PRT</td>\n",
              "      <td>Offline TA/TO</td>\n",
              "      <td>TA/TO</td>\n",
              "      <td>0</td>\n",
              "      <td>0</td>\n",
              "      <td>0</td>\n",
              "      <td>A</td>\n",
              "      <td>A</td>\n",
              "      <td>0</td>\n",
              "      <td>No Deposit</td>\n",
              "      <td>6.0</td>\n",
              "      <td>NaN</td>\n",
              "      <td>0</td>\n",
              "      <td>Transient</td>\n",
              "      <td>101.50</td>\n",
              "      <td>0</td>\n",
              "      <td>0</td>\n",
              "      <td>Check-Out</td>\n",
              "      <td>2015-07-03</td>\n",
              "      <td>2015-07-01</td>\n",
              "      <td>07</td>\n",
              "    </tr>\n",
              "    <tr>\n",
              "      <th>5423</th>\n",
              "      <td>City Hotel</td>\n",
              "      <td>0</td>\n",
              "      <td>257</td>\n",
              "      <td>2015</td>\n",
              "      <td>July</td>\n",
              "      <td>27</td>\n",
              "      <td>1</td>\n",
              "      <td>0</td>\n",
              "      <td>2</td>\n",
              "      <td>2</td>\n",
              "      <td>0.0</td>\n",
              "      <td>0</td>\n",
              "      <td>HB</td>\n",
              "      <td>PRT</td>\n",
              "      <td>Offline TA/TO</td>\n",
              "      <td>TA/TO</td>\n",
              "      <td>0</td>\n",
              "      <td>0</td>\n",
              "      <td>0</td>\n",
              "      <td>A</td>\n",
              "      <td>A</td>\n",
              "      <td>0</td>\n",
              "      <td>No Deposit</td>\n",
              "      <td>6.0</td>\n",
              "      <td>NaN</td>\n",
              "      <td>0</td>\n",
              "      <td>Transient</td>\n",
              "      <td>101.50</td>\n",
              "      <td>0</td>\n",
              "      <td>0</td>\n",
              "      <td>Check-Out</td>\n",
              "      <td>2015-07-03</td>\n",
              "      <td>2015-07-01</td>\n",
              "      <td>07</td>\n",
              "    </tr>\n",
              "    <tr>\n",
              "      <th>1182</th>\n",
              "      <td>City Hotel</td>\n",
              "      <td>0</td>\n",
              "      <td>257</td>\n",
              "      <td>2015</td>\n",
              "      <td>July</td>\n",
              "      <td>27</td>\n",
              "      <td>1</td>\n",
              "      <td>0</td>\n",
              "      <td>2</td>\n",
              "      <td>1</td>\n",
              "      <td>0.0</td>\n",
              "      <td>0</td>\n",
              "      <td>HB</td>\n",
              "      <td>PRT</td>\n",
              "      <td>Offline TA/TO</td>\n",
              "      <td>TA/TO</td>\n",
              "      <td>0</td>\n",
              "      <td>0</td>\n",
              "      <td>0</td>\n",
              "      <td>A</td>\n",
              "      <td>A</td>\n",
              "      <td>1</td>\n",
              "      <td>No Deposit</td>\n",
              "      <td>6.0</td>\n",
              "      <td>NaN</td>\n",
              "      <td>0</td>\n",
              "      <td>Transient</td>\n",
              "      <td>80.00</td>\n",
              "      <td>0</td>\n",
              "      <td>0</td>\n",
              "      <td>Check-Out</td>\n",
              "      <td>2015-07-03</td>\n",
              "      <td>2015-07-01</td>\n",
              "      <td>07</td>\n",
              "    </tr>\n",
              "    <tr>\n",
              "      <th>5157</th>\n",
              "      <td>City Hotel</td>\n",
              "      <td>0</td>\n",
              "      <td>257</td>\n",
              "      <td>2015</td>\n",
              "      <td>July</td>\n",
              "      <td>27</td>\n",
              "      <td>1</td>\n",
              "      <td>0</td>\n",
              "      <td>2</td>\n",
              "      <td>2</td>\n",
              "      <td>0.0</td>\n",
              "      <td>0</td>\n",
              "      <td>HB</td>\n",
              "      <td>PRT</td>\n",
              "      <td>Offline TA/TO</td>\n",
              "      <td>TA/TO</td>\n",
              "      <td>0</td>\n",
              "      <td>0</td>\n",
              "      <td>0</td>\n",
              "      <td>A</td>\n",
              "      <td>A</td>\n",
              "      <td>0</td>\n",
              "      <td>No Deposit</td>\n",
              "      <td>6.0</td>\n",
              "      <td>NaN</td>\n",
              "      <td>0</td>\n",
              "      <td>Transient</td>\n",
              "      <td>101.50</td>\n",
              "      <td>0</td>\n",
              "      <td>0</td>\n",
              "      <td>Check-Out</td>\n",
              "      <td>2015-07-03</td>\n",
              "      <td>2015-07-01</td>\n",
              "      <td>07</td>\n",
              "    </tr>\n",
              "    <tr>\n",
              "      <th>5772</th>\n",
              "      <td>City Hotel</td>\n",
              "      <td>0</td>\n",
              "      <td>257</td>\n",
              "      <td>2015</td>\n",
              "      <td>July</td>\n",
              "      <td>27</td>\n",
              "      <td>1</td>\n",
              "      <td>0</td>\n",
              "      <td>2</td>\n",
              "      <td>2</td>\n",
              "      <td>0.0</td>\n",
              "      <td>0</td>\n",
              "      <td>HB</td>\n",
              "      <td>PRT</td>\n",
              "      <td>Offline TA/TO</td>\n",
              "      <td>TA/TO</td>\n",
              "      <td>0</td>\n",
              "      <td>0</td>\n",
              "      <td>0</td>\n",
              "      <td>A</td>\n",
              "      <td>A</td>\n",
              "      <td>0</td>\n",
              "      <td>No Deposit</td>\n",
              "      <td>6.0</td>\n",
              "      <td>NaN</td>\n",
              "      <td>0</td>\n",
              "      <td>Transient</td>\n",
              "      <td>101.50</td>\n",
              "      <td>0</td>\n",
              "      <td>0</td>\n",
              "      <td>Check-Out</td>\n",
              "      <td>2015-07-03</td>\n",
              "      <td>2015-07-01</td>\n",
              "      <td>07</td>\n",
              "    </tr>\n",
              "    <tr>\n",
              "      <th>...</th>\n",
              "      <td>...</td>\n",
              "      <td>...</td>\n",
              "      <td>...</td>\n",
              "      <td>...</td>\n",
              "      <td>...</td>\n",
              "      <td>...</td>\n",
              "      <td>...</td>\n",
              "      <td>...</td>\n",
              "      <td>...</td>\n",
              "      <td>...</td>\n",
              "      <td>...</td>\n",
              "      <td>...</td>\n",
              "      <td>...</td>\n",
              "      <td>...</td>\n",
              "      <td>...</td>\n",
              "      <td>...</td>\n",
              "      <td>...</td>\n",
              "      <td>...</td>\n",
              "      <td>...</td>\n",
              "      <td>...</td>\n",
              "      <td>...</td>\n",
              "      <td>...</td>\n",
              "      <td>...</td>\n",
              "      <td>...</td>\n",
              "      <td>...</td>\n",
              "      <td>...</td>\n",
              "      <td>...</td>\n",
              "      <td>...</td>\n",
              "      <td>...</td>\n",
              "      <td>...</td>\n",
              "      <td>...</td>\n",
              "      <td>...</td>\n",
              "      <td>...</td>\n",
              "      <td>...</td>\n",
              "    </tr>\n",
              "    <tr>\n",
              "      <th>2640</th>\n",
              "      <td>Resort Hotel</td>\n",
              "      <td>0</td>\n",
              "      <td>2</td>\n",
              "      <td>2017</td>\n",
              "      <td>August</td>\n",
              "      <td>35</td>\n",
              "      <td>31</td>\n",
              "      <td>0</td>\n",
              "      <td>3</td>\n",
              "      <td>2</td>\n",
              "      <td>2.0</td>\n",
              "      <td>0</td>\n",
              "      <td>BB</td>\n",
              "      <td>PRT</td>\n",
              "      <td>Direct</td>\n",
              "      <td>Direct</td>\n",
              "      <td>0</td>\n",
              "      <td>0</td>\n",
              "      <td>0</td>\n",
              "      <td>C</td>\n",
              "      <td>C</td>\n",
              "      <td>0</td>\n",
              "      <td>No Deposit</td>\n",
              "      <td>NaN</td>\n",
              "      <td>NaN</td>\n",
              "      <td>0</td>\n",
              "      <td>Transient-Party</td>\n",
              "      <td>200.00</td>\n",
              "      <td>0</td>\n",
              "      <td>2</td>\n",
              "      <td>Check-Out</td>\n",
              "      <td>2017-09-03</td>\n",
              "      <td>2017-08-31</td>\n",
              "      <td>08</td>\n",
              "    </tr>\n",
              "    <tr>\n",
              "      <th>3980</th>\n",
              "      <td>City Hotel</td>\n",
              "      <td>0</td>\n",
              "      <td>63</td>\n",
              "      <td>2017</td>\n",
              "      <td>August</td>\n",
              "      <td>35</td>\n",
              "      <td>31</td>\n",
              "      <td>0</td>\n",
              "      <td>3</td>\n",
              "      <td>3</td>\n",
              "      <td>0.0</td>\n",
              "      <td>0</td>\n",
              "      <td>BB</td>\n",
              "      <td>SWE</td>\n",
              "      <td>Online TA</td>\n",
              "      <td>TA/TO</td>\n",
              "      <td>0</td>\n",
              "      <td>0</td>\n",
              "      <td>0</td>\n",
              "      <td>D</td>\n",
              "      <td>D</td>\n",
              "      <td>0</td>\n",
              "      <td>No Deposit</td>\n",
              "      <td>9.0</td>\n",
              "      <td>NaN</td>\n",
              "      <td>0</td>\n",
              "      <td>Transient-Party</td>\n",
              "      <td>195.33</td>\n",
              "      <td>0</td>\n",
              "      <td>2</td>\n",
              "      <td>Check-Out</td>\n",
              "      <td>2017-09-03</td>\n",
              "      <td>2017-08-31</td>\n",
              "      <td>08</td>\n",
              "    </tr>\n",
              "    <tr>\n",
              "      <th>94</th>\n",
              "      <td>City Hotel</td>\n",
              "      <td>1</td>\n",
              "      <td>218</td>\n",
              "      <td>2017</td>\n",
              "      <td>August</td>\n",
              "      <td>35</td>\n",
              "      <td>31</td>\n",
              "      <td>2</td>\n",
              "      <td>5</td>\n",
              "      <td>3</td>\n",
              "      <td>0.0</td>\n",
              "      <td>0</td>\n",
              "      <td>BB</td>\n",
              "      <td>RUS</td>\n",
              "      <td>Online TA</td>\n",
              "      <td>TA/TO</td>\n",
              "      <td>0</td>\n",
              "      <td>0</td>\n",
              "      <td>0</td>\n",
              "      <td>D</td>\n",
              "      <td>D</td>\n",
              "      <td>0</td>\n",
              "      <td>No Deposit</td>\n",
              "      <td>9.0</td>\n",
              "      <td>NaN</td>\n",
              "      <td>0</td>\n",
              "      <td>Transient</td>\n",
              "      <td>162.00</td>\n",
              "      <td>0</td>\n",
              "      <td>0</td>\n",
              "      <td>Canceled</td>\n",
              "      <td>2017-01-31</td>\n",
              "      <td>2017-08-31</td>\n",
              "      <td>08</td>\n",
              "    </tr>\n",
              "    <tr>\n",
              "      <th>8322</th>\n",
              "      <td>Resort Hotel</td>\n",
              "      <td>0</td>\n",
              "      <td>2</td>\n",
              "      <td>2017</td>\n",
              "      <td>August</td>\n",
              "      <td>35</td>\n",
              "      <td>31</td>\n",
              "      <td>0</td>\n",
              "      <td>3</td>\n",
              "      <td>2</td>\n",
              "      <td>0.0</td>\n",
              "      <td>0</td>\n",
              "      <td>Undefined</td>\n",
              "      <td>PRT</td>\n",
              "      <td>Direct</td>\n",
              "      <td>Direct</td>\n",
              "      <td>0</td>\n",
              "      <td>0</td>\n",
              "      <td>0</td>\n",
              "      <td>A</td>\n",
              "      <td>D</td>\n",
              "      <td>2</td>\n",
              "      <td>No Deposit</td>\n",
              "      <td>250.0</td>\n",
              "      <td>NaN</td>\n",
              "      <td>0</td>\n",
              "      <td>Transient</td>\n",
              "      <td>245.33</td>\n",
              "      <td>0</td>\n",
              "      <td>2</td>\n",
              "      <td>Check-Out</td>\n",
              "      <td>2017-09-03</td>\n",
              "      <td>2017-08-31</td>\n",
              "      <td>08</td>\n",
              "    </tr>\n",
              "    <tr>\n",
              "      <th>2212</th>\n",
              "      <td>City Hotel</td>\n",
              "      <td>0</td>\n",
              "      <td>194</td>\n",
              "      <td>2017</td>\n",
              "      <td>August</td>\n",
              "      <td>35</td>\n",
              "      <td>31</td>\n",
              "      <td>0</td>\n",
              "      <td>3</td>\n",
              "      <td>2</td>\n",
              "      <td>0.0</td>\n",
              "      <td>0</td>\n",
              "      <td>SC</td>\n",
              "      <td>ZAF</td>\n",
              "      <td>Online TA</td>\n",
              "      <td>TA/TO</td>\n",
              "      <td>0</td>\n",
              "      <td>0</td>\n",
              "      <td>0</td>\n",
              "      <td>A</td>\n",
              "      <td>A</td>\n",
              "      <td>0</td>\n",
              "      <td>No Deposit</td>\n",
              "      <td>9.0</td>\n",
              "      <td>NaN</td>\n",
              "      <td>0</td>\n",
              "      <td>Transient</td>\n",
              "      <td>99.00</td>\n",
              "      <td>0</td>\n",
              "      <td>0</td>\n",
              "      <td>Check-Out</td>\n",
              "      <td>2017-09-03</td>\n",
              "      <td>2017-08-31</td>\n",
              "      <td>08</td>\n",
              "    </tr>\n",
              "  </tbody>\n",
              "</table>\n",
              "<p>10000 rows × 34 columns</p>\n",
              "</div>"
            ],
            "text/plain": [
              "             hotel  is_canceled  ...  arrival_datetime  arrival_month\n",
              "8095    City Hotel            0  ...        2015-07-01             07\n",
              "5423    City Hotel            0  ...        2015-07-01             07\n",
              "1182    City Hotel            0  ...        2015-07-01             07\n",
              "5157    City Hotel            0  ...        2015-07-01             07\n",
              "5772    City Hotel            0  ...        2015-07-01             07\n",
              "...            ...          ...  ...               ...            ...\n",
              "2640  Resort Hotel            0  ...        2017-08-31             08\n",
              "3980    City Hotel            0  ...        2017-08-31             08\n",
              "94      City Hotel            1  ...        2017-08-31             08\n",
              "8322  Resort Hotel            0  ...        2017-08-31             08\n",
              "2212    City Hotel            0  ...        2017-08-31             08\n",
              "\n",
              "[10000 rows x 34 columns]"
            ]
          },
          "metadata": {
            "tags": []
          },
          "execution_count": 8
        }
      ]
    },
    {
      "cell_type": "markdown",
      "metadata": {
        "id": "uHu_Xw8dCVVt"
      },
      "source": [
        "Agrupamos los datos por la fecha total, y por año y mes para estudiar los cambios a lo largo del tiempo."
      ]
    },
    {
      "cell_type": "code",
      "metadata": {
        "id": "VQNGrPhIPTzb"
      },
      "source": [
        "data_groupby_year_month = data.groupby(by=[\"arrival_date_year\", \"arrival_date_month\"])\n",
        "data_groupby_date = data.groupby(by=[\"arrival_datetime\"])"
      ],
      "execution_count": null,
      "outputs": []
    },
    {
      "cell_type": "markdown",
      "metadata": {
        "id": "LB5m6Ezqo3zK"
      },
      "source": [
        "### hotel\n",
        "Primero comenzamos observando la columna de hotel\n",
        "\n"
      ]
    },
    {
      "cell_type": "code",
      "metadata": {
        "id": "4MnkJhB5o2wb",
        "colab": {
          "base_uri": "https://localhost:8080/"
        },
        "outputId": "402dcb5d-f763-4658-aa65-4657eb443f41"
      },
      "source": [
        "data['hotel'].describe()"
      ],
      "execution_count": null,
      "outputs": [
        {
          "output_type": "execute_result",
          "data": {
            "text/plain": [
              "count          10000\n",
              "unique             2\n",
              "top       City Hotel\n",
              "freq            6564\n",
              "Name: hotel, dtype: object"
            ]
          },
          "metadata": {
            "tags": []
          },
          "execution_count": 10
        }
      ]
    },
    {
      "cell_type": "markdown",
      "metadata": {
        "id": "Awc384_JsBIO"
      },
      "source": [
        "Como vemos, solo hay dos tipos distintos de hoteles, y el más repetido es el \"City Hotel\".\n",
        "\n"
      ]
    },
    {
      "cell_type": "code",
      "metadata": {
        "id": "L4AiHnqSpXHp",
        "colab": {
          "base_uri": "https://localhost:8080/",
          "height": 282
        },
        "outputId": "8a1b96ba-75ec-4d64-9b5a-1fbbc3e43e45"
      },
      "source": [
        "data['hotel'].hist()"
      ],
      "execution_count": null,
      "outputs": [
        {
          "output_type": "execute_result",
          "data": {
            "text/plain": [
              "<matplotlib.axes._subplots.AxesSubplot at 0x7f1f332187f0>"
            ]
          },
          "metadata": {
            "tags": []
          },
          "execution_count": 11
        },
        {
          "output_type": "display_data",
          "data": {
            "image/png": "[encoded data removed]",
            "text/plain": [
              "<Figure size 432x288 with 1 Axes>"
            ]
          },
          "metadata": {
            "tags": [],
            "needs_background": "light"
          }
        }
      ]
    },
    {
      "cell_type": "markdown",
      "metadata": {
        "id": "gZ7Q6yHY7qR5"
      },
      "source": [
        "##### Tabla de contingencias"
      ]
    },
    {
      "cell_type": "code",
      "metadata": {
        "id": "GWwVWJ_nstD6",
        "colab": {
          "base_uri": "https://localhost:8080/",
          "height": 143
        },
        "outputId": "dd678d30-32a8-48e6-cf2d-7ba5095542b7"
      },
      "source": [
        "pd.crosstab(data['hotel'], data['is_canceled']).apply(lambda r: r/r.sum(), axis=1)\n"
      ],
      "execution_count": null,
      "outputs": [
        {
          "output_type": "execute_result",
          "data": {
            "text/html": [
              "<div>\n",
              "<style scoped>\n",
              "    .dataframe tbody tr th:only-of-type {\n",
              "        vertical-align: middle;\n",
              "    }\n",
              "\n",
              "    .dataframe tbody tr th {\n",
              "        vertical-align: top;\n",
              "    }\n",
              "\n",
              "    .dataframe thead th {\n",
              "        text-align: right;\n",
              "    }\n",
              "</style>\n",
              "<table border=\"1\" class=\"dataframe\">\n",
              "  <thead>\n",
              "    <tr style=\"text-align: right;\">\n",
              "      <th>is_canceled</th>\n",
              "      <th>0</th>\n",
              "      <th>1</th>\n",
              "    </tr>\n",
              "    <tr>\n",
              "      <th>hotel</th>\n",
              "      <th></th>\n",
              "      <th></th>\n",
              "    </tr>\n",
              "  </thead>\n",
              "  <tbody>\n",
              "    <tr>\n",
              "      <th>City Hotel</th>\n",
              "      <td>0.578458</td>\n",
              "      <td>0.421542</td>\n",
              "    </tr>\n",
              "    <tr>\n",
              "      <th>Resort Hotel</th>\n",
              "      <td>0.713620</td>\n",
              "      <td>0.286380</td>\n",
              "    </tr>\n",
              "  </tbody>\n",
              "</table>\n",
              "</div>"
            ],
            "text/plain": [
              "is_canceled          0         1\n",
              "hotel                           \n",
              "City Hotel    0.578458  0.421542\n",
              "Resort Hotel  0.713620  0.286380"
            ]
          },
          "metadata": {
            "tags": []
          },
          "execution_count": 12
        }
      ]
    },
    {
      "cell_type": "markdown",
      "metadata": {
        "id": "qvWODL2ysJOE"
      },
      "source": [
        "Creamos una tabla de contiengencias, y después esa misma tabla de contingencias pero observando los porcentajes, de tal forma que se puede ver que el porcentaje de cancelados es mayor en \"City Hotel\".\n"
      ]
    },
    {
      "cell_type": "markdown",
      "metadata": {
        "id": "e4Lc0_4NMU6G"
      },
      "source": [
        "##### Evolución Histórica\n",
        "Ahora vamos a obtener columnas númericas a partir de la columna \"hotel\" (**one hot encoder**) para poder agrupar cuantos hoteles se reservan cada mes.\n"
      ]
    },
    {
      "cell_type": "code",
      "metadata": {
        "id": "rQNDfn2QKl4s",
        "colab": {
          "base_uri": "https://localhost:8080/",
          "height": 896
        },
        "outputId": "c40a184e-af69-453a-c922-1cf0ff196187"
      },
      "source": [
        "data_hotel_and_date = data[['arrival_date_year', 'arrival_month', 'hotel']]\n",
        "data_hotel_and_date = pd.get_dummies(data_hotel_and_date, columns=[\"hotel\"])[['arrival_date_year', 'arrival_month', 'hotel_City Hotel', 'hotel_Resort Hotel']]\n",
        "data_hotel_and_date = data_hotel_and_date.groupby(by=['arrival_date_year', 'arrival_month']).sum()\n",
        "data_hotel_and_date"
      ],
      "execution_count": null,
      "outputs": [
        {
          "output_type": "execute_result",
          "data": {
            "text/html": [
              "<div>\n",
              "<style scoped>\n",
              "    .dataframe tbody tr th:only-of-type {\n",
              "        vertical-align: middle;\n",
              "    }\n",
              "\n",
              "    .dataframe tbody tr th {\n",
              "        vertical-align: top;\n",
              "    }\n",
              "\n",
              "    .dataframe thead th {\n",
              "        text-align: right;\n",
              "    }\n",
              "</style>\n",
              "<table border=\"1\" class=\"dataframe\">\n",
              "  <thead>\n",
              "    <tr style=\"text-align: right;\">\n",
              "      <th></th>\n",
              "      <th></th>\n",
              "      <th>hotel_City Hotel</th>\n",
              "      <th>hotel_Resort Hotel</th>\n",
              "    </tr>\n",
              "    <tr>\n",
              "      <th>arrival_date_year</th>\n",
              "      <th>arrival_month</th>\n",
              "      <th></th>\n",
              "      <th></th>\n",
              "    </tr>\n",
              "  </thead>\n",
              "  <tbody>\n",
              "    <tr>\n",
              "      <th rowspan=\"6\" valign=\"top\">2015</th>\n",
              "      <th>07</th>\n",
              "      <td>122.0</td>\n",
              "      <td>111.0</td>\n",
              "    </tr>\n",
              "    <tr>\n",
              "      <th>08</th>\n",
              "      <td>195.0</td>\n",
              "      <td>117.0</td>\n",
              "    </tr>\n",
              "    <tr>\n",
              "      <th>09</th>\n",
              "      <td>276.0</td>\n",
              "      <td>132.0</td>\n",
              "    </tr>\n",
              "    <tr>\n",
              "      <th>10</th>\n",
              "      <td>283.0</td>\n",
              "      <td>133.0</td>\n",
              "    </tr>\n",
              "    <tr>\n",
              "      <th>11</th>\n",
              "      <td>89.0</td>\n",
              "      <td>86.0</td>\n",
              "    </tr>\n",
              "    <tr>\n",
              "      <th>12</th>\n",
              "      <td>137.0</td>\n",
              "      <td>113.0</td>\n",
              "    </tr>\n",
              "    <tr>\n",
              "      <th rowspan=\"12\" valign=\"top\">2016</th>\n",
              "      <th>01</th>\n",
              "      <td>113.0</td>\n",
              "      <td>65.0</td>\n",
              "    </tr>\n",
              "    <tr>\n",
              "      <th>02</th>\n",
              "      <td>172.0</td>\n",
              "      <td>136.0</td>\n",
              "    </tr>\n",
              "    <tr>\n",
              "      <th>03</th>\n",
              "      <td>263.0</td>\n",
              "      <td>137.0</td>\n",
              "    </tr>\n",
              "    <tr>\n",
              "      <th>04</th>\n",
              "      <td>300.0</td>\n",
              "      <td>155.0</td>\n",
              "    </tr>\n",
              "    <tr>\n",
              "      <th>05</th>\n",
              "      <td>279.0</td>\n",
              "      <td>166.0</td>\n",
              "    </tr>\n",
              "    <tr>\n",
              "      <th>06</th>\n",
              "      <td>318.0</td>\n",
              "      <td>115.0</td>\n",
              "    </tr>\n",
              "    <tr>\n",
              "      <th>07</th>\n",
              "      <td>250.0</td>\n",
              "      <td>121.0</td>\n",
              "    </tr>\n",
              "    <tr>\n",
              "      <th>08</th>\n",
              "      <td>277.0</td>\n",
              "      <td>137.0</td>\n",
              "    </tr>\n",
              "    <tr>\n",
              "      <th>09</th>\n",
              "      <td>332.0</td>\n",
              "      <td>145.0</td>\n",
              "    </tr>\n",
              "    <tr>\n",
              "      <th>10</th>\n",
              "      <td>347.0</td>\n",
              "      <td>183.0</td>\n",
              "    </tr>\n",
              "    <tr>\n",
              "      <th>11</th>\n",
              "      <td>258.0</td>\n",
              "      <td>118.0</td>\n",
              "    </tr>\n",
              "    <tr>\n",
              "      <th>12</th>\n",
              "      <td>225.0</td>\n",
              "      <td>131.0</td>\n",
              "    </tr>\n",
              "    <tr>\n",
              "      <th rowspan=\"8\" valign=\"top\">2017</th>\n",
              "      <th>01</th>\n",
              "      <td>220.0</td>\n",
              "      <td>106.0</td>\n",
              "    </tr>\n",
              "    <tr>\n",
              "      <th>02</th>\n",
              "      <td>194.0</td>\n",
              "      <td>142.0</td>\n",
              "    </tr>\n",
              "    <tr>\n",
              "      <th>03</th>\n",
              "      <td>330.0</td>\n",
              "      <td>131.0</td>\n",
              "    </tr>\n",
              "    <tr>\n",
              "      <th>04</th>\n",
              "      <td>327.0</td>\n",
              "      <td>143.0</td>\n",
              "    </tr>\n",
              "    <tr>\n",
              "      <th>05</th>\n",
              "      <td>343.0</td>\n",
              "      <td>158.0</td>\n",
              "    </tr>\n",
              "    <tr>\n",
              "      <th>06</th>\n",
              "      <td>325.0</td>\n",
              "      <td>134.0</td>\n",
              "    </tr>\n",
              "    <tr>\n",
              "      <th>07</th>\n",
              "      <td>298.0</td>\n",
              "      <td>177.0</td>\n",
              "    </tr>\n",
              "    <tr>\n",
              "      <th>08</th>\n",
              "      <td>291.0</td>\n",
              "      <td>144.0</td>\n",
              "    </tr>\n",
              "  </tbody>\n",
              "</table>\n",
              "</div>"
            ],
            "text/plain": [
              "                                 hotel_City Hotel  hotel_Resort Hotel\n",
              "arrival_date_year arrival_month                                      \n",
              "2015              07                        122.0               111.0\n",
              "                  08                        195.0               117.0\n",
              "                  09                        276.0               132.0\n",
              "                  10                        283.0               133.0\n",
              "                  11                         89.0                86.0\n",
              "                  12                        137.0               113.0\n",
              "2016              01                        113.0                65.0\n",
              "                  02                        172.0               136.0\n",
              "                  03                        263.0               137.0\n",
              "                  04                        300.0               155.0\n",
              "                  05                        279.0               166.0\n",
              "                  06                        318.0               115.0\n",
              "                  07                        250.0               121.0\n",
              "                  08                        277.0               137.0\n",
              "                  09                        332.0               145.0\n",
              "                  10                        347.0               183.0\n",
              "                  11                        258.0               118.0\n",
              "                  12                        225.0               131.0\n",
              "2017              01                        220.0               106.0\n",
              "                  02                        194.0               142.0\n",
              "                  03                        330.0               131.0\n",
              "                  04                        327.0               143.0\n",
              "                  05                        343.0               158.0\n",
              "                  06                        325.0               134.0\n",
              "                  07                        298.0               177.0\n",
              "                  08                        291.0               144.0"
            ]
          },
          "metadata": {
            "tags": []
          },
          "execution_count": 13
        }
      ]
    },
    {
      "cell_type": "code",
      "metadata": {
        "id": "BYYcJVylNT0D",
        "colab": {
          "base_uri": "https://localhost:8080/",
          "height": 542
        },
        "outputId": "5175b13a-7d64-428c-ded7-735b4fca52ab"
      },
      "source": [
        "plt.figure(figsize=(500,10));\n",
        "data_hotel_and_date.plot.bar(figsize=(30,8));\n",
        "plt.tight_layout()\n",
        "# Pintar todos los valores del eje X!!!"
      ],
      "execution_count": null,
      "outputs": [
        {
          "output_type": "display_data",
          "data": {
            "text/plain": [
              "<Figure size 36000x720 with 0 Axes>"
            ]
          },
          "metadata": {
            "tags": []
          }
        },
        {
          "output_type": "display_data",
          "data": {
            "image/png": "[encoded data removed]",
            "text/plain": [
              "<Figure size 2160x576 with 1 Axes>"
            ]
          },
          "metadata": {
            "tags": [],
            "needs_background": "light"
          }
        }
      ]
    },
    {
      "cell_type": "markdown",
      "metadata": {
        "id": "Pv9Boax2CspI"
      },
      "source": [
        "### is_canceled\n",
        "\n",
        "Se trata de unas de las variables más importantes, pues sería interesante tratar de predecirla en un futuro."
      ]
    },
    {
      "cell_type": "code",
      "metadata": {
        "id": "BK4Fj1OnDBe5",
        "colab": {
          "base_uri": "https://localhost:8080/"
        },
        "outputId": "ee590d46-cd64-4b01-e20f-db63ee126e01"
      },
      "source": [
        "data['is_canceled'].describe()"
      ],
      "execution_count": null,
      "outputs": [
        {
          "output_type": "execute_result",
          "data": {
            "text/plain": [
              "count    10000.000000\n",
              "mean         0.375100\n",
              "std          0.484173\n",
              "min          0.000000\n",
              "25%          0.000000\n",
              "50%          0.000000\n",
              "75%          1.000000\n",
              "max          1.000000\n",
              "Name: is_canceled, dtype: float64"
            ]
          },
          "metadata": {
            "tags": []
          },
          "execution_count": 15
        }
      ]
    },
    {
      "cell_type": "code",
      "metadata": {
        "id": "oLjtjy_ADNBT",
        "colab": {
          "base_uri": "https://localhost:8080/",
          "height": 282
        },
        "outputId": "14bd0acc-3187-49d1-e108-310086c2149e"
      },
      "source": [
        "data['is_canceled'].hist()"
      ],
      "execution_count": null,
      "outputs": [
        {
          "output_type": "execute_result",
          "data": {
            "text/plain": [
              "<matplotlib.axes._subplots.AxesSubplot at 0x7f1f31e89860>"
            ]
          },
          "metadata": {
            "tags": []
          },
          "execution_count": 16
        },
        {
          "output_type": "display_data",
          "data": {
            "image/png": "[encoded data removed]",
            "text/plain": [
              "<Figure size 432x288 with 1 Axes>"
            ]
          },
          "metadata": {
            "tags": [],
            "needs_background": "light"
          }
        }
      ]
    },
    {
      "cell_type": "markdown",
      "metadata": {
        "id": "3WHQh7eALvkq"
      },
      "source": [
        "##### Evolución histórica"
      ]
    },
    {
      "cell_type": "code",
      "metadata": {
        "id": "yTbYNGTmDNBb",
        "colab": {
          "base_uri": "https://localhost:8080/",
          "height": 237
        },
        "outputId": "39470e95-5506-46d2-acbc-cc16246a888a"
      },
      "source": [
        "data_canceled_and_date = data[['arrival_date_year', 'arrival_month', 'is_canceled']].groupby(by=['arrival_date_year', 'arrival_month']).sum()\n",
        "data_canceled_and_date.head()"
      ],
      "execution_count": null,
      "outputs": [
        {
          "output_type": "execute_result",
          "data": {
            "text/html": [
              "<div>\n",
              "<style scoped>\n",
              "    .dataframe tbody tr th:only-of-type {\n",
              "        vertical-align: middle;\n",
              "    }\n",
              "\n",
              "    .dataframe tbody tr th {\n",
              "        vertical-align: top;\n",
              "    }\n",
              "\n",
              "    .dataframe thead th {\n",
              "        text-align: right;\n",
              "    }\n",
              "</style>\n",
              "<table border=\"1\" class=\"dataframe\">\n",
              "  <thead>\n",
              "    <tr style=\"text-align: right;\">\n",
              "      <th></th>\n",
              "      <th></th>\n",
              "      <th>is_canceled</th>\n",
              "    </tr>\n",
              "    <tr>\n",
              "      <th>arrival_date_year</th>\n",
              "      <th>arrival_month</th>\n",
              "      <th></th>\n",
              "    </tr>\n",
              "  </thead>\n",
              "  <tbody>\n",
              "    <tr>\n",
              "      <th rowspan=\"5\" valign=\"top\">2015</th>\n",
              "      <th>07</th>\n",
              "      <td>106</td>\n",
              "    </tr>\n",
              "    <tr>\n",
              "      <th>08</th>\n",
              "      <td>139</td>\n",
              "    </tr>\n",
              "    <tr>\n",
              "      <th>09</th>\n",
              "      <td>167</td>\n",
              "    </tr>\n",
              "    <tr>\n",
              "      <th>10</th>\n",
              "      <td>129</td>\n",
              "    </tr>\n",
              "    <tr>\n",
              "      <th>11</th>\n",
              "      <td>43</td>\n",
              "    </tr>\n",
              "  </tbody>\n",
              "</table>\n",
              "</div>"
            ],
            "text/plain": [
              "                                 is_canceled\n",
              "arrival_date_year arrival_month             \n",
              "2015              07                     106\n",
              "                  08                     139\n",
              "                  09                     167\n",
              "                  10                     129\n",
              "                  11                      43"
            ]
          },
          "metadata": {
            "tags": []
          },
          "execution_count": 17
        }
      ]
    },
    {
      "cell_type": "code",
      "metadata": {
        "id": "LfG2M-CuDNBc",
        "colab": {
          "base_uri": "https://localhost:8080/",
          "height": 542
        },
        "outputId": "7052efb5-9c88-4ca2-bb4a-4b3ca92e61bf"
      },
      "source": [
        "plt.figure(figsize=(500,10));\n",
        "data_canceled_and_date.plot.bar(figsize=(30,8));\n",
        "plt.tight_layout()\n",
        "# Pintar todos los valores del eje X!!!"
      ],
      "execution_count": null,
      "outputs": [
        {
          "output_type": "display_data",
          "data": {
            "text/plain": [
              "<Figure size 36000x720 with 0 Axes>"
            ]
          },
          "metadata": {
            "tags": []
          }
        },
        {
          "output_type": "display_data",
          "data": {
            "image/png": "[encoded data removed]",
            "text/plain": [
              "<Figure size 2160x576 with 1 Axes>"
            ]
          },
          "metadata": {
            "tags": [],
            "needs_background": "light"
          }
        }
      ]
    },
    {
      "cell_type": "markdown",
      "metadata": {
        "id": "KfrXc8nPK2q-"
      },
      "source": [
        "### lead_time \t\n"
      ]
    },
    {
      "cell_type": "code",
      "metadata": {
        "id": "8XrpF9o3LmDP",
        "colab": {
          "base_uri": "https://localhost:8080/"
        },
        "outputId": "5378b79a-c9e1-4647-8b4c-dfce507e78dc"
      },
      "source": [
        "data['lead_time'].describe()"
      ],
      "execution_count": null,
      "outputs": [
        {
          "output_type": "execute_result",
          "data": {
            "text/plain": [
              "count    10000.000000\n",
              "mean       105.393800\n",
              "std        108.267682\n",
              "min          0.000000\n",
              "25%         18.000000\n",
              "50%         70.000000\n",
              "75%        164.000000\n",
              "max        629.000000\n",
              "Name: lead_time, dtype: float64"
            ]
          },
          "metadata": {
            "tags": []
          },
          "execution_count": 19
        }
      ]
    },
    {
      "cell_type": "code",
      "metadata": {
        "id": "-q4AfaYrLmDZ",
        "colab": {
          "base_uri": "https://localhost:8080/",
          "height": 282
        },
        "outputId": "914808e2-7b3b-4cfe-de15-891e0bde5768"
      },
      "source": [
        "data['lead_time'].hist()"
      ],
      "execution_count": null,
      "outputs": [
        {
          "output_type": "execute_result",
          "data": {
            "text/plain": [
              "<matplotlib.axes._subplots.AxesSubplot at 0x7f1f2f033eb8>"
            ]
          },
          "metadata": {
            "tags": []
          },
          "execution_count": 20
        },
        {
          "output_type": "display_data",
          "data": {
            "image/png": "[encoded data removed]",
            "text/plain": [
              "<Figure size 432x288 with 1 Axes>"
            ]
          },
          "metadata": {
            "tags": [],
            "needs_background": "light"
          }
        }
      ]
    },
    {
      "cell_type": "markdown",
      "metadata": {
        "id": "1teS032jMJiz"
      },
      "source": [
        "##### Evolución histórica\n",
        "Vamos a mostrar como ha ido evolucionando la variable a lo largo de cada mes."
      ]
    },
    {
      "cell_type": "code",
      "metadata": {
        "id": "_K4G60SQLmDb",
        "colab": {
          "base_uri": "https://localhost:8080/",
          "height": 237
        },
        "outputId": "669fed93-36d0-4a44-f9b8-fdd79bc2dd95"
      },
      "source": [
        "data_lead_time_and_date = data[['arrival_date_year', 'arrival_month', 'lead_time']].groupby(by=['arrival_date_year', 'arrival_month']).sum()\n",
        "data_lead_time_and_date.head()"
      ],
      "execution_count": null,
      "outputs": [
        {
          "output_type": "execute_result",
          "data": {
            "text/html": [
              "<div>\n",
              "<style scoped>\n",
              "    .dataframe tbody tr th:only-of-type {\n",
              "        vertical-align: middle;\n",
              "    }\n",
              "\n",
              "    .dataframe tbody tr th {\n",
              "        vertical-align: top;\n",
              "    }\n",
              "\n",
              "    .dataframe thead th {\n",
              "        text-align: right;\n",
              "    }\n",
              "</style>\n",
              "<table border=\"1\" class=\"dataframe\">\n",
              "  <thead>\n",
              "    <tr style=\"text-align: right;\">\n",
              "      <th></th>\n",
              "      <th></th>\n",
              "      <th>lead_time</th>\n",
              "    </tr>\n",
              "    <tr>\n",
              "      <th>arrival_date_year</th>\n",
              "      <th>arrival_month</th>\n",
              "      <th></th>\n",
              "    </tr>\n",
              "  </thead>\n",
              "  <tbody>\n",
              "    <tr>\n",
              "      <th rowspan=\"5\" valign=\"top\">2015</th>\n",
              "      <th>07</th>\n",
              "      <td>30640</td>\n",
              "    </tr>\n",
              "    <tr>\n",
              "      <th>08</th>\n",
              "      <td>32627</td>\n",
              "    </tr>\n",
              "    <tr>\n",
              "      <th>09</th>\n",
              "      <td>50643</td>\n",
              "    </tr>\n",
              "    <tr>\n",
              "      <th>10</th>\n",
              "      <td>42165</td>\n",
              "    </tr>\n",
              "    <tr>\n",
              "      <th>11</th>\n",
              "      <td>7546</td>\n",
              "    </tr>\n",
              "  </tbody>\n",
              "</table>\n",
              "</div>"
            ],
            "text/plain": [
              "                                 lead_time\n",
              "arrival_date_year arrival_month           \n",
              "2015              07                 30640\n",
              "                  08                 32627\n",
              "                  09                 50643\n",
              "                  10                 42165\n",
              "                  11                  7546"
            ]
          },
          "metadata": {
            "tags": []
          },
          "execution_count": 21
        }
      ]
    },
    {
      "cell_type": "code",
      "metadata": {
        "id": "yY4NDnLFLmDe",
        "colab": {
          "base_uri": "https://localhost:8080/",
          "height": 542
        },
        "outputId": "acaa8788-edb9-475e-cde3-731687ae5ce4"
      },
      "source": [
        "plt.figure(figsize=(500,10));\n",
        "data_lead_time_and_date.plot.bar(figsize=(30,8));\n",
        "plt.tight_layout()\n",
        "# Pintar todos los valores del eje X!!!"
      ],
      "execution_count": null,
      "outputs": [
        {
          "output_type": "display_data",
          "data": {
            "text/plain": [
              "<Figure size 36000x720 with 0 Axes>"
            ]
          },
          "metadata": {
            "tags": []
          }
        },
        {
          "output_type": "display_data",
          "data": {
            "image/png": "[encoded data removed]",
            "text/plain": [
              "<Figure size 2160x576 with 1 Axes>"
            ]
          },
          "metadata": {
            "tags": [],
            "needs_background": "light"
          }
        }
      ]
    },
    {
      "cell_type": "code",
      "metadata": {
        "id": "rSKXgSqzNlgU",
        "colab": {
          "base_uri": "https://localhost:8080/",
          "height": 565
        },
        "outputId": "549c4b02-6128-42d3-89c1-dd309a418863"
      },
      "source": [
        "data_lead_time_and_date.plot.scatter(x=['arrival_date_year', 'arrival_month'], y=['lead_time'])"
      ],
      "execution_count": null,
      "outputs": [
        {
          "output_type": "error",
          "ename": "KeyError",
          "evalue": "ignored",
          "traceback": [
            "\u001b[0;31m---------------------------------------------------------------------------\u001b[0m",
            "\u001b[0;31mKeyError\u001b[0m                                  Traceback (most recent call last)",
            "\u001b[0;32m<ipython-input-24-997fa6212eb8>\u001b[0m in \u001b[0;36m<module>\u001b[0;34m()\u001b[0m\n\u001b[0;32m----> 1\u001b[0;31m \u001b[0mdata_lead_time_and_date\u001b[0m\u001b[0;34m.\u001b[0m\u001b[0mplot\u001b[0m\u001b[0;34m.\u001b[0m\u001b[0mscatter\u001b[0m\u001b[0;34m(\u001b[0m\u001b[0mx\u001b[0m\u001b[0;34m=\u001b[0m\u001b[0;34m[\u001b[0m\u001b[0;34m[\u001b[0m\u001b[0;34m'arrival_date_year'\u001b[0m\u001b[0;34m,\u001b[0m \u001b[0;34m'arrival_month'\u001b[0m\u001b[0;34m]\u001b[0m\u001b[0;34m]\u001b[0m\u001b[0;34m,\u001b[0m \u001b[0my\u001b[0m\u001b[0;34m=\u001b[0m\u001b[0;34m[\u001b[0m\u001b[0;34m'lead_time'\u001b[0m\u001b[0;34m]\u001b[0m\u001b[0;34m)\u001b[0m\u001b[0;34m\u001b[0m\u001b[0;34m\u001b[0m\u001b[0m\n\u001b[0m",
            "\u001b[0;32m/usr/local/lib/python3.6/dist-packages/pandas/plotting/_core.py\u001b[0m in \u001b[0;36mscatter\u001b[0;34m(self, x, y, s, c, **kwargs)\u001b[0m\n\u001b[1;32m   1611\u001b[0m             ...                       colormap='viridis')\n\u001b[1;32m   1612\u001b[0m         \"\"\"\n\u001b[0;32m-> 1613\u001b[0;31m         \u001b[0;32mreturn\u001b[0m \u001b[0mself\u001b[0m\u001b[0;34m(\u001b[0m\u001b[0mkind\u001b[0m\u001b[0;34m=\u001b[0m\u001b[0;34m\"scatter\"\u001b[0m\u001b[0;34m,\u001b[0m \u001b[0mx\u001b[0m\u001b[0;34m=\u001b[0m\u001b[0mx\u001b[0m\u001b[0;34m,\u001b[0m \u001b[0my\u001b[0m\u001b[0;34m=\u001b[0m\u001b[0my\u001b[0m\u001b[0;34m,\u001b[0m \u001b[0ms\u001b[0m\u001b[0;34m=\u001b[0m\u001b[0ms\u001b[0m\u001b[0;34m,\u001b[0m \u001b[0mc\u001b[0m\u001b[0;34m=\u001b[0m\u001b[0mc\u001b[0m\u001b[0;34m,\u001b[0m \u001b[0;34m**\u001b[0m\u001b[0mkwargs\u001b[0m\u001b[0;34m)\u001b[0m\u001b[0;34m\u001b[0m\u001b[0;34m\u001b[0m\u001b[0m\n\u001b[0m\u001b[1;32m   1614\u001b[0m \u001b[0;34m\u001b[0m\u001b[0m\n\u001b[1;32m   1615\u001b[0m     \u001b[0;32mdef\u001b[0m \u001b[0mhexbin\u001b[0m\u001b[0;34m(\u001b[0m\u001b[0mself\u001b[0m\u001b[0;34m,\u001b[0m \u001b[0mx\u001b[0m\u001b[0;34m,\u001b[0m \u001b[0my\u001b[0m\u001b[0;34m,\u001b[0m \u001b[0mC\u001b[0m\u001b[0;34m=\u001b[0m\u001b[0;32mNone\u001b[0m\u001b[0;34m,\u001b[0m \u001b[0mreduce_C_function\u001b[0m\u001b[0;34m=\u001b[0m\u001b[0;32mNone\u001b[0m\u001b[0;34m,\u001b[0m \u001b[0mgridsize\u001b[0m\u001b[0;34m=\u001b[0m\u001b[0;32mNone\u001b[0m\u001b[0;34m,\u001b[0m \u001b[0;34m**\u001b[0m\u001b[0mkwargs\u001b[0m\u001b[0;34m)\u001b[0m\u001b[0;34m:\u001b[0m\u001b[0;34m\u001b[0m\u001b[0;34m\u001b[0m\u001b[0m\n",
            "\u001b[0;32m/usr/local/lib/python3.6/dist-packages/pandas/plotting/_core.py\u001b[0m in \u001b[0;36m__call__\u001b[0;34m(self, *args, **kwargs)\u001b[0m\n\u001b[1;32m    892\u001b[0m         \u001b[0;32mif\u001b[0m \u001b[0mkind\u001b[0m \u001b[0;32min\u001b[0m \u001b[0mself\u001b[0m\u001b[0;34m.\u001b[0m\u001b[0m_dataframe_kinds\u001b[0m\u001b[0;34m:\u001b[0m\u001b[0;34m\u001b[0m\u001b[0;34m\u001b[0m\u001b[0m\n\u001b[1;32m    893\u001b[0m             \u001b[0;32mif\u001b[0m \u001b[0misinstance\u001b[0m\u001b[0;34m(\u001b[0m\u001b[0mdata\u001b[0m\u001b[0;34m,\u001b[0m \u001b[0mABCDataFrame\u001b[0m\u001b[0;34m)\u001b[0m\u001b[0;34m:\u001b[0m\u001b[0;34m\u001b[0m\u001b[0;34m\u001b[0m\u001b[0m\n\u001b[0;32m--> 894\u001b[0;31m                 \u001b[0;32mreturn\u001b[0m \u001b[0mplot_backend\u001b[0m\u001b[0;34m.\u001b[0m\u001b[0mplot\u001b[0m\u001b[0;34m(\u001b[0m\u001b[0mdata\u001b[0m\u001b[0;34m,\u001b[0m \u001b[0mx\u001b[0m\u001b[0;34m=\u001b[0m\u001b[0mx\u001b[0m\u001b[0;34m,\u001b[0m \u001b[0my\u001b[0m\u001b[0;34m=\u001b[0m\u001b[0my\u001b[0m\u001b[0;34m,\u001b[0m \u001b[0mkind\u001b[0m\u001b[0;34m=\u001b[0m\u001b[0mkind\u001b[0m\u001b[0;34m,\u001b[0m \u001b[0;34m**\u001b[0m\u001b[0mkwargs\u001b[0m\u001b[0;34m)\u001b[0m\u001b[0;34m\u001b[0m\u001b[0;34m\u001b[0m\u001b[0m\n\u001b[0m\u001b[1;32m    895\u001b[0m             \u001b[0;32melse\u001b[0m\u001b[0;34m:\u001b[0m\u001b[0;34m\u001b[0m\u001b[0;34m\u001b[0m\u001b[0m\n\u001b[1;32m    896\u001b[0m                 \u001b[0;32mraise\u001b[0m \u001b[0mValueError\u001b[0m\u001b[0;34m(\u001b[0m\u001b[0;34mf\"plot kind {kind} can only be used for data frames\"\u001b[0m\u001b[0;34m)\u001b[0m\u001b[0;34m\u001b[0m\u001b[0;34m\u001b[0m\u001b[0m\n",
            "\u001b[0;32m/usr/local/lib/python3.6/dist-packages/pandas/plotting/_matplotlib/__init__.py\u001b[0m in \u001b[0;36mplot\u001b[0;34m(data, kind, **kwargs)\u001b[0m\n\u001b[1;32m     59\u001b[0m             \u001b[0mkwargs\u001b[0m\u001b[0;34m[\u001b[0m\u001b[0;34m\"ax\"\u001b[0m\u001b[0;34m]\u001b[0m \u001b[0;34m=\u001b[0m \u001b[0mgetattr\u001b[0m\u001b[0;34m(\u001b[0m\u001b[0max\u001b[0m\u001b[0;34m,\u001b[0m \u001b[0;34m\"left_ax\"\u001b[0m\u001b[0;34m,\u001b[0m \u001b[0max\u001b[0m\u001b[0;34m)\u001b[0m\u001b[0;34m\u001b[0m\u001b[0;34m\u001b[0m\u001b[0m\n\u001b[1;32m     60\u001b[0m     \u001b[0mplot_obj\u001b[0m \u001b[0;34m=\u001b[0m \u001b[0mPLOT_CLASSES\u001b[0m\u001b[0;34m[\u001b[0m\u001b[0mkind\u001b[0m\u001b[0;34m]\u001b[0m\u001b[0;34m(\u001b[0m\u001b[0mdata\u001b[0m\u001b[0;34m,\u001b[0m \u001b[0;34m**\u001b[0m\u001b[0mkwargs\u001b[0m\u001b[0;34m)\u001b[0m\u001b[0;34m\u001b[0m\u001b[0;34m\u001b[0m\u001b[0m\n\u001b[0;32m---> 61\u001b[0;31m     \u001b[0mplot_obj\u001b[0m\u001b[0;34m.\u001b[0m\u001b[0mgenerate\u001b[0m\u001b[0;34m(\u001b[0m\u001b[0;34m)\u001b[0m\u001b[0;34m\u001b[0m\u001b[0;34m\u001b[0m\u001b[0m\n\u001b[0m\u001b[1;32m     62\u001b[0m     \u001b[0mplot_obj\u001b[0m\u001b[0;34m.\u001b[0m\u001b[0mdraw\u001b[0m\u001b[0;34m(\u001b[0m\u001b[0;34m)\u001b[0m\u001b[0;34m\u001b[0m\u001b[0;34m\u001b[0m\u001b[0m\n\u001b[1;32m     63\u001b[0m     \u001b[0;32mreturn\u001b[0m \u001b[0mplot_obj\u001b[0m\u001b[0;34m.\u001b[0m\u001b[0mresult\u001b[0m\u001b[0;34m\u001b[0m\u001b[0;34m\u001b[0m\u001b[0m\n",
            "\u001b[0;32m/usr/local/lib/python3.6/dist-packages/pandas/plotting/_matplotlib/core.py\u001b[0m in \u001b[0;36mgenerate\u001b[0;34m(self)\u001b[0m\n\u001b[1;32m    269\u001b[0m         \u001b[0mself\u001b[0m\u001b[0;34m.\u001b[0m\u001b[0m_compute_plot_data\u001b[0m\u001b[0;34m(\u001b[0m\u001b[0;34m)\u001b[0m\u001b[0;34m\u001b[0m\u001b[0;34m\u001b[0m\u001b[0m\n\u001b[1;32m    270\u001b[0m         \u001b[0mself\u001b[0m\u001b[0;34m.\u001b[0m\u001b[0m_setup_subplots\u001b[0m\u001b[0;34m(\u001b[0m\u001b[0;34m)\u001b[0m\u001b[0;34m\u001b[0m\u001b[0;34m\u001b[0m\u001b[0m\n\u001b[0;32m--> 271\u001b[0;31m         \u001b[0mself\u001b[0m\u001b[0;34m.\u001b[0m\u001b[0m_make_plot\u001b[0m\u001b[0;34m(\u001b[0m\u001b[0;34m)\u001b[0m\u001b[0;34m\u001b[0m\u001b[0;34m\u001b[0m\u001b[0m\n\u001b[0m\u001b[1;32m    272\u001b[0m         \u001b[0mself\u001b[0m\u001b[0;34m.\u001b[0m\u001b[0m_add_table\u001b[0m\u001b[0;34m(\u001b[0m\u001b[0;34m)\u001b[0m\u001b[0;34m\u001b[0m\u001b[0;34m\u001b[0m\u001b[0m\n\u001b[1;32m    273\u001b[0m         \u001b[0mself\u001b[0m\u001b[0;34m.\u001b[0m\u001b[0m_make_legend\u001b[0m\u001b[0;34m(\u001b[0m\u001b[0;34m)\u001b[0m\u001b[0;34m\u001b[0m\u001b[0;34m\u001b[0m\u001b[0m\n",
            "\u001b[0;32m/usr/local/lib/python3.6/dist-packages/pandas/plotting/_matplotlib/core.py\u001b[0m in \u001b[0;36m_make_plot\u001b[0;34m(self)\u001b[0m\n\u001b[1;32m   1009\u001b[0m             \u001b[0mlabel\u001b[0m \u001b[0;34m=\u001b[0m \u001b[0;32mNone\u001b[0m\u001b[0;34m\u001b[0m\u001b[0;34m\u001b[0m\u001b[0m\n\u001b[1;32m   1010\u001b[0m         scatter = ax.scatter(\n\u001b[0;32m-> 1011\u001b[0;31m             \u001b[0mdata\u001b[0m\u001b[0;34m[\u001b[0m\u001b[0mx\u001b[0m\u001b[0;34m]\u001b[0m\u001b[0;34m.\u001b[0m\u001b[0mvalues\u001b[0m\u001b[0;34m,\u001b[0m\u001b[0;34m\u001b[0m\u001b[0;34m\u001b[0m\u001b[0m\n\u001b[0m\u001b[1;32m   1012\u001b[0m             \u001b[0mdata\u001b[0m\u001b[0;34m[\u001b[0m\u001b[0my\u001b[0m\u001b[0;34m]\u001b[0m\u001b[0;34m.\u001b[0m\u001b[0mvalues\u001b[0m\u001b[0;34m,\u001b[0m\u001b[0;34m\u001b[0m\u001b[0;34m\u001b[0m\u001b[0m\n\u001b[1;32m   1013\u001b[0m             \u001b[0mc\u001b[0m\u001b[0;34m=\u001b[0m\u001b[0mc_values\u001b[0m\u001b[0;34m,\u001b[0m\u001b[0;34m\u001b[0m\u001b[0;34m\u001b[0m\u001b[0m\n",
            "\u001b[0;32m/usr/local/lib/python3.6/dist-packages/pandas/core/frame.py\u001b[0m in \u001b[0;36m__getitem__\u001b[0;34m(self, key)\u001b[0m\n\u001b[1;32m   2910\u001b[0m             \u001b[0;32mif\u001b[0m \u001b[0mis_iterator\u001b[0m\u001b[0;34m(\u001b[0m\u001b[0mkey\u001b[0m\u001b[0;34m)\u001b[0m\u001b[0;34m:\u001b[0m\u001b[0;34m\u001b[0m\u001b[0;34m\u001b[0m\u001b[0m\n\u001b[1;32m   2911\u001b[0m                 \u001b[0mkey\u001b[0m \u001b[0;34m=\u001b[0m \u001b[0mlist\u001b[0m\u001b[0;34m(\u001b[0m\u001b[0mkey\u001b[0m\u001b[0;34m)\u001b[0m\u001b[0;34m\u001b[0m\u001b[0;34m\u001b[0m\u001b[0m\n\u001b[0;32m-> 2912\u001b[0;31m             \u001b[0mindexer\u001b[0m \u001b[0;34m=\u001b[0m \u001b[0mself\u001b[0m\u001b[0;34m.\u001b[0m\u001b[0mloc\u001b[0m\u001b[0;34m.\u001b[0m\u001b[0m_get_listlike_indexer\u001b[0m\u001b[0;34m(\u001b[0m\u001b[0mkey\u001b[0m\u001b[0;34m,\u001b[0m \u001b[0maxis\u001b[0m\u001b[0;34m=\u001b[0m\u001b[0;36m1\u001b[0m\u001b[0;34m,\u001b[0m \u001b[0mraise_missing\u001b[0m\u001b[0;34m=\u001b[0m\u001b[0;32mTrue\u001b[0m\u001b[0;34m)\u001b[0m\u001b[0;34m[\u001b[0m\u001b[0;36m1\u001b[0m\u001b[0;34m]\u001b[0m\u001b[0;34m\u001b[0m\u001b[0;34m\u001b[0m\u001b[0m\n\u001b[0m\u001b[1;32m   2913\u001b[0m \u001b[0;34m\u001b[0m\u001b[0m\n\u001b[1;32m   2914\u001b[0m         \u001b[0;31m# take() does not accept boolean indexers\u001b[0m\u001b[0;34m\u001b[0m\u001b[0;34m\u001b[0m\u001b[0;34m\u001b[0m\u001b[0m\n",
            "\u001b[0;32m/usr/local/lib/python3.6/dist-packages/pandas/core/indexing.py\u001b[0m in \u001b[0;36m_get_listlike_indexer\u001b[0;34m(self, key, axis, raise_missing)\u001b[0m\n\u001b[1;32m   1252\u001b[0m             \u001b[0mkeyarr\u001b[0m\u001b[0;34m,\u001b[0m \u001b[0mindexer\u001b[0m\u001b[0;34m,\u001b[0m \u001b[0mnew_indexer\u001b[0m \u001b[0;34m=\u001b[0m \u001b[0max\u001b[0m\u001b[0;34m.\u001b[0m\u001b[0m_reindex_non_unique\u001b[0m\u001b[0;34m(\u001b[0m\u001b[0mkeyarr\u001b[0m\u001b[0;34m)\u001b[0m\u001b[0;34m\u001b[0m\u001b[0;34m\u001b[0m\u001b[0m\n\u001b[1;32m   1253\u001b[0m \u001b[0;34m\u001b[0m\u001b[0m\n\u001b[0;32m-> 1254\u001b[0;31m         \u001b[0mself\u001b[0m\u001b[0;34m.\u001b[0m\u001b[0m_validate_read_indexer\u001b[0m\u001b[0;34m(\u001b[0m\u001b[0mkeyarr\u001b[0m\u001b[0;34m,\u001b[0m \u001b[0mindexer\u001b[0m\u001b[0;34m,\u001b[0m \u001b[0maxis\u001b[0m\u001b[0;34m,\u001b[0m \u001b[0mraise_missing\u001b[0m\u001b[0;34m=\u001b[0m\u001b[0mraise_missing\u001b[0m\u001b[0;34m)\u001b[0m\u001b[0;34m\u001b[0m\u001b[0;34m\u001b[0m\u001b[0m\n\u001b[0m\u001b[1;32m   1255\u001b[0m         \u001b[0;32mreturn\u001b[0m \u001b[0mkeyarr\u001b[0m\u001b[0;34m,\u001b[0m \u001b[0mindexer\u001b[0m\u001b[0;34m\u001b[0m\u001b[0;34m\u001b[0m\u001b[0m\n\u001b[1;32m   1256\u001b[0m \u001b[0;34m\u001b[0m\u001b[0m\n",
            "\u001b[0;32m/usr/local/lib/python3.6/dist-packages/pandas/core/indexing.py\u001b[0m in \u001b[0;36m_validate_read_indexer\u001b[0;34m(self, key, indexer, axis, raise_missing)\u001b[0m\n\u001b[1;32m   1296\u001b[0m             \u001b[0;32mif\u001b[0m \u001b[0mmissing\u001b[0m \u001b[0;34m==\u001b[0m \u001b[0mlen\u001b[0m\u001b[0;34m(\u001b[0m\u001b[0mindexer\u001b[0m\u001b[0;34m)\u001b[0m\u001b[0;34m:\u001b[0m\u001b[0;34m\u001b[0m\u001b[0;34m\u001b[0m\u001b[0m\n\u001b[1;32m   1297\u001b[0m                 \u001b[0maxis_name\u001b[0m \u001b[0;34m=\u001b[0m \u001b[0mself\u001b[0m\u001b[0;34m.\u001b[0m\u001b[0mobj\u001b[0m\u001b[0;34m.\u001b[0m\u001b[0m_get_axis_name\u001b[0m\u001b[0;34m(\u001b[0m\u001b[0maxis\u001b[0m\u001b[0;34m)\u001b[0m\u001b[0;34m\u001b[0m\u001b[0;34m\u001b[0m\u001b[0m\n\u001b[0;32m-> 1298\u001b[0;31m                 \u001b[0;32mraise\u001b[0m \u001b[0mKeyError\u001b[0m\u001b[0;34m(\u001b[0m\u001b[0;34mf\"None of [{key}] are in the [{axis_name}]\"\u001b[0m\u001b[0;34m)\u001b[0m\u001b[0;34m\u001b[0m\u001b[0;34m\u001b[0m\u001b[0m\n\u001b[0m\u001b[1;32m   1299\u001b[0m \u001b[0;34m\u001b[0m\u001b[0m\n\u001b[1;32m   1300\u001b[0m             \u001b[0;31m# We (temporarily) allow for some missing keys with .loc, except in\u001b[0m\u001b[0;34m\u001b[0m\u001b[0;34m\u001b[0m\u001b[0;34m\u001b[0m\u001b[0m\n",
            "\u001b[0;31mKeyError\u001b[0m: \"None of [Index([('arrival_date_year', 'arrival_month')], dtype='object')] are in the [columns]\""
          ]
        },
        {
          "output_type": "display_data",
          "data": {
            "image/png": "[encoded data removed]",
            "text/plain": [
              "<Figure size 432x288 with 1 Axes>"
            ]
          },
          "metadata": {
            "tags": [],
            "needs_background": "light"
          }
        }
      ]
    },
    {
      "cell_type": "markdown",
      "metadata": {
        "id": "fpQldNnHK-Al"
      },
      "source": [
        "### arrival_date_year \t"
      ]
    },
    {
      "cell_type": "code",
      "metadata": {
        "id": "fmZ_Hp5TQp3b",
        "colab": {
          "base_uri": "https://localhost:8080/"
        },
        "outputId": "6e048e08-fa12-4d58-d85b-c66e9b7b46ea"
      },
      "source": [
        "data['arrival_date_year'].describe()"
      ],
      "execution_count": null,
      "outputs": [
        {
          "output_type": "execute_result",
          "data": {
            "text/plain": [
              "count    10000.000000\n",
              "mean      2016.166900\n",
              "std          0.705616\n",
              "min       2015.000000\n",
              "25%       2016.000000\n",
              "50%       2016.000000\n",
              "75%       2017.000000\n",
              "max       2017.000000\n",
              "Name: arrival_date_year, dtype: float64"
            ]
          },
          "metadata": {
            "tags": []
          },
          "execution_count": 25
        }
      ]
    },
    {
      "cell_type": "code",
      "metadata": {
        "id": "cyy6qm-_Qp3f",
        "colab": {
          "base_uri": "https://localhost:8080/",
          "height": 309
        },
        "outputId": "7c7aeb34-6e5d-4f15-84f5-7738ed457c5d"
      },
      "source": [
        "plt.xticks(rotation=45)\n",
        "data['arrival_date_year'].hist()"
      ],
      "execution_count": null,
      "outputs": [
        {
          "output_type": "execute_result",
          "data": {
            "text/plain": [
              "<matplotlib.axes._subplots.AxesSubplot at 0x7f1f26e148d0>"
            ]
          },
          "metadata": {
            "tags": []
          },
          "execution_count": 26
        },
        {
          "output_type": "display_data",
          "data": {
            "image/png": "[encoded data removed]",
            "text/plain": [
              "<Figure size 432x288 with 1 Axes>"
            ]
          },
          "metadata": {
            "tags": [],
            "needs_background": "light"
          }
        }
      ]
    },
    {
      "cell_type": "markdown",
      "metadata": {
        "id": "zWDevJcCSVd9"
      },
      "source": [
        "##### Tabla de contingencias\n",
        "Sacamos una tabla de contingencias para ver con que probabilidad se cancela o no en función del año y pintarlo en una gráfica."
      ]
    },
    {
      "cell_type": "code",
      "metadata": {
        "id": "st_EZKjiRTRC",
        "colab": {
          "base_uri": "https://localhost:8080/",
          "height": 175
        },
        "outputId": "be483fe1-d2b1-4a06-a9b6-731757095d16"
      },
      "source": [
        "data_prob_canceled_by_year = pd.crosstab(data['arrival_date_year'], data['is_canceled']).apply(lambda r: r/r.sum(), axis=1)\n",
        "data_prob_canceled_by_year"
      ],
      "execution_count": null,
      "outputs": [
        {
          "output_type": "execute_result",
          "data": {
            "text/html": [
              "<div>\n",
              "<style scoped>\n",
              "    .dataframe tbody tr th:only-of-type {\n",
              "        vertical-align: middle;\n",
              "    }\n",
              "\n",
              "    .dataframe tbody tr th {\n",
              "        vertical-align: top;\n",
              "    }\n",
              "\n",
              "    .dataframe thead th {\n",
              "        text-align: right;\n",
              "    }\n",
              "</style>\n",
              "<table border=\"1\" class=\"dataframe\">\n",
              "  <thead>\n",
              "    <tr style=\"text-align: right;\">\n",
              "      <th>is_canceled</th>\n",
              "      <th>0</th>\n",
              "      <th>1</th>\n",
              "    </tr>\n",
              "    <tr>\n",
              "      <th>arrival_date_year</th>\n",
              "      <th></th>\n",
              "      <th></th>\n",
              "    </tr>\n",
              "  </thead>\n",
              "  <tbody>\n",
              "    <tr>\n",
              "      <th>2015</th>\n",
              "      <td>0.632107</td>\n",
              "      <td>0.367893</td>\n",
              "    </tr>\n",
              "    <tr>\n",
              "      <th>2016</th>\n",
              "      <td>0.637149</td>\n",
              "      <td>0.362851</td>\n",
              "    </tr>\n",
              "    <tr>\n",
              "      <th>2017</th>\n",
              "      <td>0.604389</td>\n",
              "      <td>0.395611</td>\n",
              "    </tr>\n",
              "  </tbody>\n",
              "</table>\n",
              "</div>"
            ],
            "text/plain": [
              "is_canceled               0         1\n",
              "arrival_date_year                    \n",
              "2015               0.632107  0.367893\n",
              "2016               0.637149  0.362851\n",
              "2017               0.604389  0.395611"
            ]
          },
          "metadata": {
            "tags": []
          },
          "execution_count": 27
        }
      ]
    },
    {
      "cell_type": "code",
      "metadata": {
        "id": "LvwRlLLAS3K_",
        "colab": {
          "base_uri": "https://localhost:8080/",
          "height": 542
        },
        "outputId": "98b17cd7-003a-450b-dcf2-a743eead3253"
      },
      "source": [
        "plt.figure(figsize=(500,10));\n",
        "data_prob_canceled_by_year.plot.bar(figsize=(30,8));\n",
        "plt.tight_layout()"
      ],
      "execution_count": null,
      "outputs": [
        {
          "output_type": "display_data",
          "data": {
            "text/plain": [
              "<Figure size 36000x720 with 0 Axes>"
            ]
          },
          "metadata": {
            "tags": []
          }
        },
        {
          "output_type": "display_data",
          "data": {
            "image/png": "[encoded data removed]",
            "text/plain": [
              "<Figure size 2160x576 with 1 Axes>"
            ]
          },
          "metadata": {
            "tags": [],
            "needs_background": "light"
          }
        }
      ]
    },
    {
      "cell_type": "markdown",
      "metadata": {
        "id": "HnwfxgUkSCkp"
      },
      "source": [
        "##### Comparación con is_canceled\n",
        "Vamos a agrupar por año para ver como han ido cambiando las cancelaciones a lo largo de los años."
      ]
    },
    {
      "cell_type": "code",
      "metadata": {
        "id": "kEQhlTqMRTRE",
        "colab": {
          "base_uri": "https://localhost:8080/",
          "height": 175
        },
        "outputId": "177216f0-0e99-4a2a-da02-1e6c614a3c31"
      },
      "source": [
        "data_year_and_canceled = data[['arrival_date_year', 'is_canceled']]\n",
        "data_year_and_canceled = data_year_and_canceled.groupby(by=['arrival_date_year']).sum()\n",
        "data_year_and_canceled"
      ],
      "execution_count": null,
      "outputs": [
        {
          "output_type": "execute_result",
          "data": {
            "text/html": [
              "<div>\n",
              "<style scoped>\n",
              "    .dataframe tbody tr th:only-of-type {\n",
              "        vertical-align: middle;\n",
              "    }\n",
              "\n",
              "    .dataframe tbody tr th {\n",
              "        vertical-align: top;\n",
              "    }\n",
              "\n",
              "    .dataframe thead th {\n",
              "        text-align: right;\n",
              "    }\n",
              "</style>\n",
              "<table border=\"1\" class=\"dataframe\">\n",
              "  <thead>\n",
              "    <tr style=\"text-align: right;\">\n",
              "      <th></th>\n",
              "      <th>is_canceled</th>\n",
              "    </tr>\n",
              "    <tr>\n",
              "      <th>arrival_date_year</th>\n",
              "      <th></th>\n",
              "    </tr>\n",
              "  </thead>\n",
              "  <tbody>\n",
              "    <tr>\n",
              "      <th>2015</th>\n",
              "      <td>660</td>\n",
              "    </tr>\n",
              "    <tr>\n",
              "      <th>2016</th>\n",
              "      <td>1721</td>\n",
              "    </tr>\n",
              "    <tr>\n",
              "      <th>2017</th>\n",
              "      <td>1370</td>\n",
              "    </tr>\n",
              "  </tbody>\n",
              "</table>\n",
              "</div>"
            ],
            "text/plain": [
              "                   is_canceled\n",
              "arrival_date_year             \n",
              "2015                       660\n",
              "2016                      1721\n",
              "2017                      1370"
            ]
          },
          "metadata": {
            "tags": []
          },
          "execution_count": 29
        }
      ]
    },
    {
      "cell_type": "code",
      "metadata": {
        "id": "DvbDNoclRTRF",
        "colab": {
          "base_uri": "https://localhost:8080/",
          "height": 542
        },
        "outputId": "aa6bbda6-6458-4f2c-8753-a5028357e81f"
      },
      "source": [
        "plt.figure(figsize=(500,10));\n",
        "data_year_and_canceled.plot(figsize=(30,8));\n",
        "plt.tight_layout()\n",
        "# Pintar todos los valores del eje X!!!"
      ],
      "execution_count": null,
      "outputs": [
        {
          "output_type": "display_data",
          "data": {
            "text/plain": [
              "<Figure size 36000x720 with 0 Axes>"
            ]
          },
          "metadata": {
            "tags": []
          }
        },
        {
          "output_type": "display_data",
          "data": {
            "image/png": "[encoded data removed]",
            "text/plain": [
              "<Figure size 2160x576 with 1 Axes>"
            ]
          },
          "metadata": {
            "tags": [],
            "needs_background": "light"
          }
        }
      ]
    },
    {
      "cell_type": "markdown",
      "metadata": {
        "id": "bIkhoVR9LBoh"
      },
      "source": [
        "### arrival_month \t\n",
        "Usamos arrival_month(numérica), en lugar de arrival_date_month(categórica), pues son equivalentes."
      ]
    },
    {
      "cell_type": "code",
      "metadata": {
        "id": "uCPrRdPrTFkl",
        "colab": {
          "base_uri": "https://localhost:8080/"
        },
        "outputId": "3b89760f-2b39-4970-bf5b-8bfa2f8870dd"
      },
      "source": [
        "data['arrival_month'].describe()"
      ],
      "execution_count": null,
      "outputs": [
        {
          "output_type": "execute_result",
          "data": {
            "text/plain": [
              "count     10000\n",
              "unique       12\n",
              "top          08\n",
              "freq       1161\n",
              "Name: arrival_month, dtype: object"
            ]
          },
          "metadata": {
            "tags": []
          },
          "execution_count": 31
        }
      ]
    },
    {
      "cell_type": "code",
      "metadata": {
        "id": "7rKi0HStTFkp",
        "colab": {
          "base_uri": "https://localhost:8080/",
          "height": 282
        },
        "outputId": "19429cb3-b92a-42ab-bd6b-bd4310aa60e2"
      },
      "source": [
        "data['arrival_month'].hist()"
      ],
      "execution_count": null,
      "outputs": [
        {
          "output_type": "execute_result",
          "data": {
            "text/plain": [
              "<matplotlib.axes._subplots.AxesSubplot at 0x7f1f26cc6320>"
            ]
          },
          "metadata": {
            "tags": []
          },
          "execution_count": 32
        },
        {
          "output_type": "display_data",
          "data": {
            "image/png": "[encoded data removed]",
            "text/plain": [
              "<Figure size 432x288 with 1 Axes>"
            ]
          },
          "metadata": {
            "tags": [],
            "needs_background": "light"
          }
        }
      ]
    },
    {
      "cell_type": "markdown",
      "metadata": {
        "id": "lEpLkBHRTFkr"
      },
      "source": [
        "##### Tabla de contingencias\n",
        "Sacamos una tabla de contingencias para ver con que probabilidad se cancela o no en función del mes y pintarlo en una gráfica."
      ]
    },
    {
      "cell_type": "code",
      "metadata": {
        "id": "0XIc5gYjTFkr",
        "colab": {
          "base_uri": "https://localhost:8080/",
          "height": 457
        },
        "outputId": "828e1281-843d-4d9c-9534-215260518c74"
      },
      "source": [
        "data_prob_canceled_by_month = pd.crosstab(data['arrival_month'], data['is_canceled']).apply(lambda r: r/r.sum(), axis=1)\n",
        "data_prob_canceled_by_month"
      ],
      "execution_count": null,
      "outputs": [
        {
          "output_type": "execute_result",
          "data": {
            "text/html": [
              "<div>\n",
              "<style scoped>\n",
              "    .dataframe tbody tr th:only-of-type {\n",
              "        vertical-align: middle;\n",
              "    }\n",
              "\n",
              "    .dataframe tbody tr th {\n",
              "        vertical-align: top;\n",
              "    }\n",
              "\n",
              "    .dataframe thead th {\n",
              "        text-align: right;\n",
              "    }\n",
              "</style>\n",
              "<table border=\"1\" class=\"dataframe\">\n",
              "  <thead>\n",
              "    <tr style=\"text-align: right;\">\n",
              "      <th>is_canceled</th>\n",
              "      <th>0</th>\n",
              "      <th>1</th>\n",
              "    </tr>\n",
              "    <tr>\n",
              "      <th>arrival_month</th>\n",
              "      <th></th>\n",
              "      <th></th>\n",
              "    </tr>\n",
              "  </thead>\n",
              "  <tbody>\n",
              "    <tr>\n",
              "      <th>01</th>\n",
              "      <td>0.686508</td>\n",
              "      <td>0.313492</td>\n",
              "    </tr>\n",
              "    <tr>\n",
              "      <th>02</th>\n",
              "      <td>0.673913</td>\n",
              "      <td>0.326087</td>\n",
              "    </tr>\n",
              "    <tr>\n",
              "      <th>03</th>\n",
              "      <td>0.652729</td>\n",
              "      <td>0.347271</td>\n",
              "    </tr>\n",
              "    <tr>\n",
              "      <th>04</th>\n",
              "      <td>0.588108</td>\n",
              "      <td>0.411892</td>\n",
              "    </tr>\n",
              "    <tr>\n",
              "      <th>05</th>\n",
              "      <td>0.613108</td>\n",
              "      <td>0.386892</td>\n",
              "    </tr>\n",
              "    <tr>\n",
              "      <th>06</th>\n",
              "      <td>0.550448</td>\n",
              "      <td>0.449552</td>\n",
              "    </tr>\n",
              "    <tr>\n",
              "      <th>07</th>\n",
              "      <td>0.619092</td>\n",
              "      <td>0.380908</td>\n",
              "    </tr>\n",
              "    <tr>\n",
              "      <th>08</th>\n",
              "      <td>0.606374</td>\n",
              "      <td>0.393626</td>\n",
              "    </tr>\n",
              "    <tr>\n",
              "      <th>09</th>\n",
              "      <td>0.601130</td>\n",
              "      <td>0.398870</td>\n",
              "    </tr>\n",
              "    <tr>\n",
              "      <th>10</th>\n",
              "      <td>0.643763</td>\n",
              "      <td>0.356237</td>\n",
              "    </tr>\n",
              "    <tr>\n",
              "      <th>11</th>\n",
              "      <td>0.693285</td>\n",
              "      <td>0.306715</td>\n",
              "    </tr>\n",
              "    <tr>\n",
              "      <th>12</th>\n",
              "      <td>0.655116</td>\n",
              "      <td>0.344884</td>\n",
              "    </tr>\n",
              "  </tbody>\n",
              "</table>\n",
              "</div>"
            ],
            "text/plain": [
              "is_canceled           0         1\n",
              "arrival_month                    \n",
              "01             0.686508  0.313492\n",
              "02             0.673913  0.326087\n",
              "03             0.652729  0.347271\n",
              "04             0.588108  0.411892\n",
              "05             0.613108  0.386892\n",
              "06             0.550448  0.449552\n",
              "07             0.619092  0.380908\n",
              "08             0.606374  0.393626\n",
              "09             0.601130  0.398870\n",
              "10             0.643763  0.356237\n",
              "11             0.693285  0.306715\n",
              "12             0.655116  0.344884"
            ]
          },
          "metadata": {
            "tags": []
          },
          "execution_count": 33
        }
      ]
    },
    {
      "cell_type": "code",
      "metadata": {
        "id": "PbAQ2mYiTFkt",
        "colab": {
          "base_uri": "https://localhost:8080/",
          "height": 542
        },
        "outputId": "f045741e-4f1d-4c41-99a3-127b2e7af63c"
      },
      "source": [
        "plt.figure(figsize=(500,10));\n",
        "data_prob_canceled_by_month.plot(figsize=(30,8));\n",
        "plt.tight_layout()\n",
        "# Pintar todos los valores del eje X!!!"
      ],
      "execution_count": null,
      "outputs": [
        {
          "output_type": "display_data",
          "data": {
            "text/plain": [
              "<Figure size 36000x720 with 0 Axes>"
            ]
          },
          "metadata": {
            "tags": []
          }
        },
        {
          "output_type": "display_data",
          "data": {
            "image/png": "[encoded data removed]",
            "text/plain": [
              "<Figure size 2160x576 with 1 Axes>"
            ]
          },
          "metadata": {
            "tags": [],
            "needs_background": "light"
          }
        }
      ]
    },
    {
      "cell_type": "markdown",
      "metadata": {
        "id": "JXsbkGNNTFkv"
      },
      "source": [
        "#### Comparación con is_canceled\n",
        "Vamos a agrupar por mes para ver como han ido cambiando las cancelaciones a lo largo de los meses."
      ]
    },
    {
      "cell_type": "code",
      "metadata": {
        "id": "iwFpr4SlTFkv",
        "colab": {
          "base_uri": "https://localhost:8080/",
          "height": 457
        },
        "outputId": "e72e0291-8ff4-4dc3-a415-3590937ce7a7"
      },
      "source": [
        "data_month_and_canceled = data[['arrival_month', 'is_canceled']]\n",
        "data_month_and_canceled = data_month_and_canceled.groupby(by=['arrival_month']).sum()\n",
        "data_month_and_canceled"
      ],
      "execution_count": null,
      "outputs": [
        {
          "output_type": "execute_result",
          "data": {
            "text/html": [
              "<div>\n",
              "<style scoped>\n",
              "    .dataframe tbody tr th:only-of-type {\n",
              "        vertical-align: middle;\n",
              "    }\n",
              "\n",
              "    .dataframe tbody tr th {\n",
              "        vertical-align: top;\n",
              "    }\n",
              "\n",
              "    .dataframe thead th {\n",
              "        text-align: right;\n",
              "    }\n",
              "</style>\n",
              "<table border=\"1\" class=\"dataframe\">\n",
              "  <thead>\n",
              "    <tr style=\"text-align: right;\">\n",
              "      <th></th>\n",
              "      <th>is_canceled</th>\n",
              "    </tr>\n",
              "    <tr>\n",
              "      <th>arrival_month</th>\n",
              "      <th></th>\n",
              "    </tr>\n",
              "  </thead>\n",
              "  <tbody>\n",
              "    <tr>\n",
              "      <th>01</th>\n",
              "      <td>158</td>\n",
              "    </tr>\n",
              "    <tr>\n",
              "      <th>02</th>\n",
              "      <td>210</td>\n",
              "    </tr>\n",
              "    <tr>\n",
              "      <th>03</th>\n",
              "      <td>299</td>\n",
              "    </tr>\n",
              "    <tr>\n",
              "      <th>04</th>\n",
              "      <td>381</td>\n",
              "    </tr>\n",
              "    <tr>\n",
              "      <th>05</th>\n",
              "      <td>366</td>\n",
              "    </tr>\n",
              "    <tr>\n",
              "      <th>06</th>\n",
              "      <td>401</td>\n",
              "    </tr>\n",
              "    <tr>\n",
              "      <th>07</th>\n",
              "      <td>411</td>\n",
              "    </tr>\n",
              "    <tr>\n",
              "      <th>08</th>\n",
              "      <td>457</td>\n",
              "    </tr>\n",
              "    <tr>\n",
              "      <th>09</th>\n",
              "      <td>353</td>\n",
              "    </tr>\n",
              "    <tr>\n",
              "      <th>10</th>\n",
              "      <td>337</td>\n",
              "    </tr>\n",
              "    <tr>\n",
              "      <th>11</th>\n",
              "      <td>169</td>\n",
              "    </tr>\n",
              "    <tr>\n",
              "      <th>12</th>\n",
              "      <td>209</td>\n",
              "    </tr>\n",
              "  </tbody>\n",
              "</table>\n",
              "</div>"
            ],
            "text/plain": [
              "               is_canceled\n",
              "arrival_month             \n",
              "01                     158\n",
              "02                     210\n",
              "03                     299\n",
              "04                     381\n",
              "05                     366\n",
              "06                     401\n",
              "07                     411\n",
              "08                     457\n",
              "09                     353\n",
              "10                     337\n",
              "11                     169\n",
              "12                     209"
            ]
          },
          "metadata": {
            "tags": []
          },
          "execution_count": 35
        }
      ]
    },
    {
      "cell_type": "code",
      "metadata": {
        "id": "cu55AjdGTFky",
        "colab": {
          "base_uri": "https://localhost:8080/",
          "height": 542
        },
        "outputId": "bc30952f-f077-4c1d-c1c3-88db14a7097f"
      },
      "source": [
        "plt.figure(figsize=(500,10));\n",
        "data_month_and_canceled.plot(figsize=(30,8));\n",
        "plt.tight_layout()\n",
        "# Pintar todos los valores del eje X!!!"
      ],
      "execution_count": null,
      "outputs": [
        {
          "output_type": "display_data",
          "data": {
            "text/plain": [
              "<Figure size 36000x720 with 0 Axes>"
            ]
          },
          "metadata": {
            "tags": []
          }
        },
        {
          "output_type": "display_data",
          "data": {
            "image/png": "[encoded data removed]",
            "text/plain": [
              "<Figure size 2160x576 with 1 Axes>"
            ]
          },
          "metadata": {
            "tags": [],
            "needs_background": "light"
          }
        }
      ]
    },
    {
      "cell_type": "markdown",
      "metadata": {
        "id": "YAzRvPzZLBeS"
      },
      "source": [
        "### arrival_date_week_number \t"
      ]
    },
    {
      "cell_type": "code",
      "metadata": {
        "id": "TyeD2KI1Uj5n",
        "colab": {
          "base_uri": "https://localhost:8080/"
        },
        "outputId": "e0fd3901-c1ac-43ef-b9a8-484c198f9ade"
      },
      "source": [
        "data['arrival_date_week_number'].describe()"
      ],
      "execution_count": null,
      "outputs": [
        {
          "output_type": "execute_result",
          "data": {
            "text/plain": [
              "count    10000.000000\n",
              "mean        27.267700\n",
              "std         13.671588\n",
              "min          1.000000\n",
              "25%         16.000000\n",
              "50%         28.000000\n",
              "75%         38.000000\n",
              "max         53.000000\n",
              "Name: arrival_date_week_number, dtype: float64"
            ]
          },
          "metadata": {
            "tags": []
          },
          "execution_count": 37
        }
      ]
    },
    {
      "cell_type": "code",
      "metadata": {
        "id": "YZ7jwIi6Uj5r",
        "colab": {
          "base_uri": "https://localhost:8080/",
          "height": 282
        },
        "outputId": "167dbd98-b6f1-4e4c-f619-be75f25c1035"
      },
      "source": [
        "data['arrival_date_week_number'].hist()"
      ],
      "execution_count": null,
      "outputs": [
        {
          "output_type": "execute_result",
          "data": {
            "text/plain": [
              "<matplotlib.axes._subplots.AxesSubplot at 0x7f1f26bf3198>"
            ]
          },
          "metadata": {
            "tags": []
          },
          "execution_count": 38
        },
        {
          "output_type": "display_data",
          "data": {
            "image/png": "[encoded data removed]",
            "text/plain": [
              "<Figure size 432x288 with 1 Axes>"
            ]
          },
          "metadata": {
            "tags": [],
            "needs_background": "light"
          }
        }
      ]
    },
    {
      "cell_type": "markdown",
      "metadata": {
        "id": "p6yxLempUj5t"
      },
      "source": [
        "##### Tabla de contingencias\n",
        "Sacamos una tabla de contingencias para ver con que probabilidad se cancela o no en función de la semana y pintarlo en una gráfica."
      ]
    },
    {
      "cell_type": "code",
      "metadata": {
        "id": "wLnPp2C_Uj5t",
        "colab": {
          "base_uri": "https://localhost:8080/",
          "height": 237
        },
        "outputId": "82aebba1-b945-4862-9912-a15d0ac6ee51"
      },
      "source": [
        "data_prob_canceled_by_weeknumber = pd.crosstab(data['arrival_date_week_number'], data['is_canceled']).apply(lambda r: r/r.sum(), axis=1)\n",
        "data_prob_canceled_by_weeknumber.head()"
      ],
      "execution_count": null,
      "outputs": [
        {
          "output_type": "execute_result",
          "data": {
            "text/html": [
              "<div>\n",
              "<style scoped>\n",
              "    .dataframe tbody tr th:only-of-type {\n",
              "        vertical-align: middle;\n",
              "    }\n",
              "\n",
              "    .dataframe tbody tr th {\n",
              "        vertical-align: top;\n",
              "    }\n",
              "\n",
              "    .dataframe thead th {\n",
              "        text-align: right;\n",
              "    }\n",
              "</style>\n",
              "<table border=\"1\" class=\"dataframe\">\n",
              "  <thead>\n",
              "    <tr style=\"text-align: right;\">\n",
              "      <th>is_canceled</th>\n",
              "      <th>0</th>\n",
              "      <th>1</th>\n",
              "    </tr>\n",
              "    <tr>\n",
              "      <th>arrival_date_week_number</th>\n",
              "      <th></th>\n",
              "      <th></th>\n",
              "    </tr>\n",
              "  </thead>\n",
              "  <tbody>\n",
              "    <tr>\n",
              "      <th>1</th>\n",
              "      <td>0.619048</td>\n",
              "      <td>0.380952</td>\n",
              "    </tr>\n",
              "    <tr>\n",
              "      <th>2</th>\n",
              "      <td>0.611650</td>\n",
              "      <td>0.388350</td>\n",
              "    </tr>\n",
              "    <tr>\n",
              "      <th>3</th>\n",
              "      <td>0.750000</td>\n",
              "      <td>0.250000</td>\n",
              "    </tr>\n",
              "    <tr>\n",
              "      <th>4</th>\n",
              "      <td>0.685484</td>\n",
              "      <td>0.314516</td>\n",
              "    </tr>\n",
              "    <tr>\n",
              "      <th>5</th>\n",
              "      <td>0.685950</td>\n",
              "      <td>0.314050</td>\n",
              "    </tr>\n",
              "  </tbody>\n",
              "</table>\n",
              "</div>"
            ],
            "text/plain": [
              "is_canceled                      0         1\n",
              "arrival_date_week_number                    \n",
              "1                         0.619048  0.380952\n",
              "2                         0.611650  0.388350\n",
              "3                         0.750000  0.250000\n",
              "4                         0.685484  0.314516\n",
              "5                         0.685950  0.314050"
            ]
          },
          "metadata": {
            "tags": []
          },
          "execution_count": 39
        }
      ]
    },
    {
      "cell_type": "code",
      "metadata": {
        "id": "GMyVYuLsUj5v",
        "colab": {
          "base_uri": "https://localhost:8080/",
          "height": 542
        },
        "outputId": "1dc83e6a-a06a-4fba-f6d5-05f565f26bcb"
      },
      "source": [
        "plt.figure(figsize=(500,10));\n",
        "data_prob_canceled_by_weeknumber.plot.bar(figsize=(30,8));\n",
        "plt.tight_layout()\n",
        "# Pintar todos los valores del eje X!!!"
      ],
      "execution_count": null,
      "outputs": [
        {
          "output_type": "display_data",
          "data": {
            "text/plain": [
              "<Figure size 36000x720 with 0 Axes>"
            ]
          },
          "metadata": {
            "tags": []
          }
        },
        {
          "output_type": "display_data",
          "data": {
            "image/png": "[encoded data removed]",
            "text/plain": [
              "<Figure size 2160x576 with 1 Axes>"
            ]
          },
          "metadata": {
            "tags": [],
            "needs_background": "light"
          }
        }
      ]
    },
    {
      "cell_type": "markdown",
      "metadata": {
        "id": "bQv0tNOtUj5x"
      },
      "source": [
        "#### Comparación con is_canceled\n",
        "Vamos a agrupar por el número de la semana para ver como han ido cambiando las cancelaciones a lo largo de las mismas."
      ]
    },
    {
      "cell_type": "code",
      "metadata": {
        "id": "Mb4qMg36Uj5x",
        "colab": {
          "base_uri": "https://localhost:8080/",
          "height": 237
        },
        "outputId": "dd093a10-802d-4dc9-944c-8a52559e7780"
      },
      "source": [
        "data_week_and_canceled = data[['arrival_date_week_number', 'is_canceled']]\n",
        "data_week_and_canceled = data_week_and_canceled.groupby(by=['arrival_date_week_number']).sum()\n",
        "data_week_and_canceled.head()"
      ],
      "execution_count": null,
      "outputs": [
        {
          "output_type": "execute_result",
          "data": {
            "text/html": [
              "<div>\n",
              "<style scoped>\n",
              "    .dataframe tbody tr th:only-of-type {\n",
              "        vertical-align: middle;\n",
              "    }\n",
              "\n",
              "    .dataframe tbody tr th {\n",
              "        vertical-align: top;\n",
              "    }\n",
              "\n",
              "    .dataframe thead th {\n",
              "        text-align: right;\n",
              "    }\n",
              "</style>\n",
              "<table border=\"1\" class=\"dataframe\">\n",
              "  <thead>\n",
              "    <tr style=\"text-align: right;\">\n",
              "      <th></th>\n",
              "      <th>is_canceled</th>\n",
              "    </tr>\n",
              "    <tr>\n",
              "      <th>arrival_date_week_number</th>\n",
              "      <th></th>\n",
              "    </tr>\n",
              "  </thead>\n",
              "  <tbody>\n",
              "    <tr>\n",
              "      <th>1</th>\n",
              "      <td>32</td>\n",
              "    </tr>\n",
              "    <tr>\n",
              "      <th>2</th>\n",
              "      <td>40</td>\n",
              "    </tr>\n",
              "    <tr>\n",
              "      <th>3</th>\n",
              "      <td>29</td>\n",
              "    </tr>\n",
              "    <tr>\n",
              "      <th>4</th>\n",
              "      <td>39</td>\n",
              "    </tr>\n",
              "    <tr>\n",
              "      <th>5</th>\n",
              "      <td>38</td>\n",
              "    </tr>\n",
              "  </tbody>\n",
              "</table>\n",
              "</div>"
            ],
            "text/plain": [
              "                          is_canceled\n",
              "arrival_date_week_number             \n",
              "1                                  32\n",
              "2                                  40\n",
              "3                                  29\n",
              "4                                  39\n",
              "5                                  38"
            ]
          },
          "metadata": {
            "tags": []
          },
          "execution_count": 41
        }
      ]
    },
    {
      "cell_type": "code",
      "metadata": {
        "id": "K-9HAKiPUj5x",
        "colab": {
          "base_uri": "https://localhost:8080/",
          "height": 542
        },
        "outputId": "631d31f5-fa22-4f40-df3c-b31164795856"
      },
      "source": [
        "plt.figure(figsize=(500,10));\n",
        "data_week_and_canceled.plot.bar(figsize=(30,8));\n",
        "plt.tight_layout()\n",
        "# Pintar todos los valores del eje X!!!"
      ],
      "execution_count": null,
      "outputs": [
        {
          "output_type": "display_data",
          "data": {
            "text/plain": [
              "<Figure size 36000x720 with 0 Axes>"
            ]
          },
          "metadata": {
            "tags": []
          }
        },
        {
          "output_type": "display_data",
          "data": {
            "image/png": "[encoded data removed]",
            "text/plain": [
              "<Figure size 2160x576 with 1 Axes>"
            ]
          },
          "metadata": {
            "tags": [],
            "needs_background": "light"
          }
        }
      ]
    },
    {
      "cell_type": "markdown",
      "metadata": {
        "id": "fH3paBulLBUE"
      },
      "source": [
        "### arrival_date_day_of_month \t"
      ]
    },
    {
      "cell_type": "markdown",
      "metadata": {
        "id": "CKfnpnXWVcK0"
      },
      "source": [
        "##### Tabla de contingencias\n",
        "Sacamos una tabla de contingencias para ver con que probabilidad se cancela o no en función del día del mes y pintarlo en una gráfica."
      ]
    },
    {
      "cell_type": "code",
      "metadata": {
        "id": "dj-qVrD5VcK0",
        "colab": {
          "base_uri": "https://localhost:8080/",
          "height": 237
        },
        "outputId": "8125931e-8ac8-4b99-b702-d47d66fef6fd"
      },
      "source": [
        "data_prob_canceled_by_daynumber = pd.crosstab(data['arrival_date_day_of_month'], data['is_canceled']).apply(lambda r: r/r.sum(), axis=1)\n",
        "data_prob_canceled_by_daynumber.head()"
      ],
      "execution_count": null,
      "outputs": [
        {
          "output_type": "execute_result",
          "data": {
            "text/html": [
              "<div>\n",
              "<style scoped>\n",
              "    .dataframe tbody tr th:only-of-type {\n",
              "        vertical-align: middle;\n",
              "    }\n",
              "\n",
              "    .dataframe tbody tr th {\n",
              "        vertical-align: top;\n",
              "    }\n",
              "\n",
              "    .dataframe thead th {\n",
              "        text-align: right;\n",
              "    }\n",
              "</style>\n",
              "<table border=\"1\" class=\"dataframe\">\n",
              "  <thead>\n",
              "    <tr style=\"text-align: right;\">\n",
              "      <th>is_canceled</th>\n",
              "      <th>0</th>\n",
              "      <th>1</th>\n",
              "    </tr>\n",
              "    <tr>\n",
              "      <th>arrival_date_day_of_month</th>\n",
              "      <th></th>\n",
              "      <th></th>\n",
              "    </tr>\n",
              "  </thead>\n",
              "  <tbody>\n",
              "    <tr>\n",
              "      <th>1</th>\n",
              "      <td>0.564286</td>\n",
              "      <td>0.435714</td>\n",
              "    </tr>\n",
              "    <tr>\n",
              "      <th>2</th>\n",
              "      <td>0.658610</td>\n",
              "      <td>0.341390</td>\n",
              "    </tr>\n",
              "    <tr>\n",
              "      <th>3</th>\n",
              "      <td>0.603125</td>\n",
              "      <td>0.396875</td>\n",
              "    </tr>\n",
              "    <tr>\n",
              "      <th>4</th>\n",
              "      <td>0.637363</td>\n",
              "      <td>0.362637</td>\n",
              "    </tr>\n",
              "    <tr>\n",
              "      <th>5</th>\n",
              "      <td>0.623188</td>\n",
              "      <td>0.376812</td>\n",
              "    </tr>\n",
              "  </tbody>\n",
              "</table>\n",
              "</div>"
            ],
            "text/plain": [
              "is_canceled                       0         1\n",
              "arrival_date_day_of_month                    \n",
              "1                          0.564286  0.435714\n",
              "2                          0.658610  0.341390\n",
              "3                          0.603125  0.396875\n",
              "4                          0.637363  0.362637\n",
              "5                          0.623188  0.376812"
            ]
          },
          "metadata": {
            "tags": []
          },
          "execution_count": 43
        }
      ]
    },
    {
      "cell_type": "code",
      "metadata": {
        "id": "z_5NyAV4VcK0",
        "colab": {
          "base_uri": "https://localhost:8080/",
          "height": 542
        },
        "outputId": "0fa40fa1-94e8-4ace-9b97-38059de933ab"
      },
      "source": [
        "plt.figure(figsize=(500,10));\n",
        "data_prob_canceled_by_daynumber.plot.bar(figsize=(30,8));\n",
        "plt.tight_layout()\n",
        "# Pintar todos los valores del eje X!!!"
      ],
      "execution_count": null,
      "outputs": [
        {
          "output_type": "display_data",
          "data": {
            "text/plain": [
              "<Figure size 36000x720 with 0 Axes>"
            ]
          },
          "metadata": {
            "tags": []
          }
        },
        {
          "output_type": "display_data",
          "data": {
            "image/png": "[encoded data removed]",
            "text/plain": [
              "<Figure size 2160x576 with 1 Axes>"
            ]
          },
          "metadata": {
            "tags": [],
            "needs_background": "light"
          }
        }
      ]
    },
    {
      "cell_type": "markdown",
      "metadata": {
        "id": "0RJtHFvPVcK1"
      },
      "source": [
        "##### Comparación con is_canceled\n",
        "Vamos a agrupar por día del mes para ver como han ido cambiando las cancelaciones a lo largo de los mismos."
      ]
    },
    {
      "cell_type": "code",
      "metadata": {
        "id": "NgKhGccNVcK1",
        "colab": {
          "base_uri": "https://localhost:8080/",
          "height": 237
        },
        "outputId": "709b2f5c-b2e0-4bb5-eba1-d328925517be"
      },
      "source": [
        "data_day_and_canceled = data[['arrival_date_day_of_month', 'is_canceled']]\n",
        "data_day_and_canceled = data_day_and_canceled.groupby(by=['arrival_date_day_of_month']).sum()\n",
        "data_day_and_canceled.head()"
      ],
      "execution_count": null,
      "outputs": [
        {
          "output_type": "execute_result",
          "data": {
            "text/html": [
              "<div>\n",
              "<style scoped>\n",
              "    .dataframe tbody tr th:only-of-type {\n",
              "        vertical-align: middle;\n",
              "    }\n",
              "\n",
              "    .dataframe tbody tr th {\n",
              "        vertical-align: top;\n",
              "    }\n",
              "\n",
              "    .dataframe thead th {\n",
              "        text-align: right;\n",
              "    }\n",
              "</style>\n",
              "<table border=\"1\" class=\"dataframe\">\n",
              "  <thead>\n",
              "    <tr style=\"text-align: right;\">\n",
              "      <th></th>\n",
              "      <th>is_canceled</th>\n",
              "    </tr>\n",
              "    <tr>\n",
              "      <th>arrival_date_day_of_month</th>\n",
              "      <th></th>\n",
              "    </tr>\n",
              "  </thead>\n",
              "  <tbody>\n",
              "    <tr>\n",
              "      <th>1</th>\n",
              "      <td>122</td>\n",
              "    </tr>\n",
              "    <tr>\n",
              "      <th>2</th>\n",
              "      <td>113</td>\n",
              "    </tr>\n",
              "    <tr>\n",
              "      <th>3</th>\n",
              "      <td>127</td>\n",
              "    </tr>\n",
              "    <tr>\n",
              "      <th>4</th>\n",
              "      <td>99</td>\n",
              "    </tr>\n",
              "    <tr>\n",
              "      <th>5</th>\n",
              "      <td>130</td>\n",
              "    </tr>\n",
              "  </tbody>\n",
              "</table>\n",
              "</div>"
            ],
            "text/plain": [
              "                           is_canceled\n",
              "arrival_date_day_of_month             \n",
              "1                                  122\n",
              "2                                  113\n",
              "3                                  127\n",
              "4                                   99\n",
              "5                                  130"
            ]
          },
          "metadata": {
            "tags": []
          },
          "execution_count": 45
        }
      ]
    },
    {
      "cell_type": "code",
      "metadata": {
        "id": "aOrMNdwUVcK1",
        "colab": {
          "base_uri": "https://localhost:8080/",
          "height": 542
        },
        "outputId": "4e45f9fc-5f36-4251-da45-551711c7b030"
      },
      "source": [
        "plt.figure(figsize=(500,10));\n",
        "data_day_and_canceled.plot.bar(figsize=(30,8));\n",
        "plt.tight_layout()\n",
        "# Pintar todos los valores del eje X!!!"
      ],
      "execution_count": null,
      "outputs": [
        {
          "output_type": "display_data",
          "data": {
            "text/plain": [
              "<Figure size 36000x720 with 0 Axes>"
            ]
          },
          "metadata": {
            "tags": []
          }
        },
        {
          "output_type": "display_data",
          "data": {
            "image/png": "[encoded data removed]",
            "text/plain": [
              "<Figure size 2160x576 with 1 Axes>"
            ]
          },
          "metadata": {
            "tags": [],
            "needs_background": "light"
          }
        }
      ]
    },
    {
      "cell_type": "markdown",
      "metadata": {
        "id": "XfqgHa-1LBJ4"
      },
      "source": [
        "### stays_in_weekend_nights \t"
      ]
    },
    {
      "cell_type": "code",
      "metadata": {
        "id": "8BJmlwB6WLZI",
        "colab": {
          "base_uri": "https://localhost:8080/"
        },
        "outputId": "438d7050-b990-47c6-8200-8269e2fa6563"
      },
      "source": [
        "data['stays_in_weekend_nights'].describe()"
      ],
      "execution_count": null,
      "outputs": [
        {
          "output_type": "execute_result",
          "data": {
            "text/plain": [
              "count    10000.000000\n",
              "mean         0.927100\n",
              "std          0.990396\n",
              "min          0.000000\n",
              "25%          0.000000\n",
              "50%          1.000000\n",
              "75%          2.000000\n",
              "max         10.000000\n",
              "Name: stays_in_weekend_nights, dtype: float64"
            ]
          },
          "metadata": {
            "tags": []
          },
          "execution_count": 47
        }
      ]
    },
    {
      "cell_type": "code",
      "metadata": {
        "id": "3LPfO6lYWLZM",
        "colab": {
          "base_uri": "https://localhost:8080/",
          "height": 282
        },
        "outputId": "f37465f2-2946-4ae0-e8ad-b0e1604918e8"
      },
      "source": [
        "data['stays_in_weekend_nights'].hist()"
      ],
      "execution_count": null,
      "outputs": [
        {
          "output_type": "execute_result",
          "data": {
            "text/plain": [
              "<matplotlib.axes._subplots.AxesSubplot at 0x7f1f267416d8>"
            ]
          },
          "metadata": {
            "tags": []
          },
          "execution_count": 48
        },
        {
          "output_type": "display_data",
          "data": {
            "image/png": "[encoded data removed]",
            "text/plain": [
              "<Figure size 432x288 with 1 Axes>"
            ]
          },
          "metadata": {
            "tags": [],
            "needs_background": "light"
          }
        }
      ]
    },
    {
      "cell_type": "markdown",
      "metadata": {
        "id": "kJ3VtmZKWE9v"
      },
      "source": [
        "##### Tabla de contingencias\n",
        "Sacamos una tabla de contingencias para ver con que probabilidad se cancela o no en función del número de noches de fin de semana y pintarlo en una gráfica."
      ]
    },
    {
      "cell_type": "code",
      "metadata": {
        "id": "GaONIhBlWE9w",
        "colab": {
          "base_uri": "https://localhost:8080/",
          "height": 394
        },
        "outputId": "5b655cde-cc41-4f2e-f463-23bf8b2aee86"
      },
      "source": [
        "data_prob_canceled_by_weekend_nights = pd.crosstab(data['stays_in_weekend_nights'], data['is_canceled']).apply(lambda r: r/r.sum(), axis=1)\n",
        "data_prob_canceled_by_weekend_nights"
      ],
      "execution_count": null,
      "outputs": [
        {
          "output_type": "execute_result",
          "data": {
            "text/html": [
              "<div>\n",
              "<style scoped>\n",
              "    .dataframe tbody tr th:only-of-type {\n",
              "        vertical-align: middle;\n",
              "    }\n",
              "\n",
              "    .dataframe tbody tr th {\n",
              "        vertical-align: top;\n",
              "    }\n",
              "\n",
              "    .dataframe thead th {\n",
              "        text-align: right;\n",
              "    }\n",
              "</style>\n",
              "<table border=\"1\" class=\"dataframe\">\n",
              "  <thead>\n",
              "    <tr style=\"text-align: right;\">\n",
              "      <th>is_canceled</th>\n",
              "      <th>0</th>\n",
              "      <th>1</th>\n",
              "    </tr>\n",
              "    <tr>\n",
              "      <th>stays_in_weekend_nights</th>\n",
              "      <th></th>\n",
              "      <th></th>\n",
              "    </tr>\n",
              "  </thead>\n",
              "  <tbody>\n",
              "    <tr>\n",
              "      <th>0</th>\n",
              "      <td>0.622447</td>\n",
              "      <td>0.377553</td>\n",
              "    </tr>\n",
              "    <tr>\n",
              "      <th>1</th>\n",
              "      <td>0.626595</td>\n",
              "      <td>0.373405</td>\n",
              "    </tr>\n",
              "    <tr>\n",
              "      <th>2</th>\n",
              "      <td>0.623495</td>\n",
              "      <td>0.376505</td>\n",
              "    </tr>\n",
              "    <tr>\n",
              "      <th>3</th>\n",
              "      <td>0.623932</td>\n",
              "      <td>0.376068</td>\n",
              "    </tr>\n",
              "    <tr>\n",
              "      <th>4</th>\n",
              "      <td>0.713450</td>\n",
              "      <td>0.286550</td>\n",
              "    </tr>\n",
              "    <tr>\n",
              "      <th>5</th>\n",
              "      <td>0.000000</td>\n",
              "      <td>1.000000</td>\n",
              "    </tr>\n",
              "    <tr>\n",
              "      <th>6</th>\n",
              "      <td>0.588235</td>\n",
              "      <td>0.411765</td>\n",
              "    </tr>\n",
              "    <tr>\n",
              "      <th>7</th>\n",
              "      <td>0.000000</td>\n",
              "      <td>1.000000</td>\n",
              "    </tr>\n",
              "    <tr>\n",
              "      <th>8</th>\n",
              "      <td>0.500000</td>\n",
              "      <td>0.500000</td>\n",
              "    </tr>\n",
              "    <tr>\n",
              "      <th>10</th>\n",
              "      <td>1.000000</td>\n",
              "      <td>0.000000</td>\n",
              "    </tr>\n",
              "  </tbody>\n",
              "</table>\n",
              "</div>"
            ],
            "text/plain": [
              "is_canceled                     0         1\n",
              "stays_in_weekend_nights                    \n",
              "0                        0.622447  0.377553\n",
              "1                        0.626595  0.373405\n",
              "2                        0.623495  0.376505\n",
              "3                        0.623932  0.376068\n",
              "4                        0.713450  0.286550\n",
              "5                        0.000000  1.000000\n",
              "6                        0.588235  0.411765\n",
              "7                        0.000000  1.000000\n",
              "8                        0.500000  0.500000\n",
              "10                       1.000000  0.000000"
            ]
          },
          "metadata": {
            "tags": []
          },
          "execution_count": 49
        }
      ]
    },
    {
      "cell_type": "markdown",
      "metadata": {
        "id": "kaRvIruRW4YO"
      },
      "source": [
        "Aquí se pueden ver algunos detalles significativos. Cuando se reservan 10 noches de fin de semana NADIE ha cancelado nunca la reserva. Y cuando se reservan 7 noches de fin de semana, TODO el mundo ha cancelado la reserva."
      ]
    },
    {
      "cell_type": "code",
      "metadata": {
        "id": "a-BZs4DCWE9z",
        "colab": {
          "base_uri": "https://localhost:8080/",
          "height": 542
        },
        "outputId": "41a9b449-ad46-4a0e-ef7f-7a9d342322e0"
      },
      "source": [
        "plt.figure(figsize=(500,10));\n",
        "data_prob_canceled_by_weekend_nights.plot.bar(figsize=(30,8));\n",
        "plt.tight_layout()\n",
        "# Pintar todos los valores del eje X!!!"
      ],
      "execution_count": null,
      "outputs": [
        {
          "output_type": "display_data",
          "data": {
            "text/plain": [
              "<Figure size 36000x720 with 0 Axes>"
            ]
          },
          "metadata": {
            "tags": []
          }
        },
        {
          "output_type": "display_data",
          "data": {
            "image/png": "[encoded data removed]",
            "text/plain": [
              "<Figure size 2160x576 with 1 Axes>"
            ]
          },
          "metadata": {
            "tags": [],
            "needs_background": "light"
          }
        }
      ]
    },
    {
      "cell_type": "markdown",
      "metadata": {
        "id": "hlPGsyttWE90"
      },
      "source": [
        "##### Comparación con is_canceled\n",
        "Vamos a agrupar por la variable para ver como han ido cambiando las cancelaciones en función de la misma."
      ]
    },
    {
      "cell_type": "code",
      "metadata": {
        "id": "vqZd9DMyWE91",
        "colab": {
          "base_uri": "https://localhost:8080/",
          "height": 394
        },
        "outputId": "1ceefcbb-682b-4f18-c961-811866c3f143"
      },
      "source": [
        "data_weekend_nights_and_canceled = data[['stays_in_weekend_nights', 'is_canceled']]\n",
        "data_weekend_nights_and_canceled = data_weekend_nights_and_canceled.groupby(by=['stays_in_weekend_nights']).sum()\n",
        "data_weekend_nights_and_canceled"
      ],
      "execution_count": null,
      "outputs": [
        {
          "output_type": "execute_result",
          "data": {
            "text/html": [
              "<div>\n",
              "<style scoped>\n",
              "    .dataframe tbody tr th:only-of-type {\n",
              "        vertical-align: middle;\n",
              "    }\n",
              "\n",
              "    .dataframe tbody tr th {\n",
              "        vertical-align: top;\n",
              "    }\n",
              "\n",
              "    .dataframe thead th {\n",
              "        text-align: right;\n",
              "    }\n",
              "</style>\n",
              "<table border=\"1\" class=\"dataframe\">\n",
              "  <thead>\n",
              "    <tr style=\"text-align: right;\">\n",
              "      <th></th>\n",
              "      <th>is_canceled</th>\n",
              "    </tr>\n",
              "    <tr>\n",
              "      <th>stays_in_weekend_nights</th>\n",
              "      <th></th>\n",
              "    </tr>\n",
              "  </thead>\n",
              "  <tbody>\n",
              "    <tr>\n",
              "      <th>0</th>\n",
              "      <td>1645</td>\n",
              "    </tr>\n",
              "    <tr>\n",
              "      <th>1</th>\n",
              "      <td>966</td>\n",
              "    </tr>\n",
              "    <tr>\n",
              "      <th>2</th>\n",
              "      <td>1032</td>\n",
              "    </tr>\n",
              "    <tr>\n",
              "      <th>3</th>\n",
              "      <td>44</td>\n",
              "    </tr>\n",
              "    <tr>\n",
              "      <th>4</th>\n",
              "      <td>49</td>\n",
              "    </tr>\n",
              "    <tr>\n",
              "      <th>5</th>\n",
              "      <td>5</td>\n",
              "    </tr>\n",
              "    <tr>\n",
              "      <th>6</th>\n",
              "      <td>7</td>\n",
              "    </tr>\n",
              "    <tr>\n",
              "      <th>7</th>\n",
              "      <td>2</td>\n",
              "    </tr>\n",
              "    <tr>\n",
              "      <th>8</th>\n",
              "      <td>1</td>\n",
              "    </tr>\n",
              "    <tr>\n",
              "      <th>10</th>\n",
              "      <td>0</td>\n",
              "    </tr>\n",
              "  </tbody>\n",
              "</table>\n",
              "</div>"
            ],
            "text/plain": [
              "                         is_canceled\n",
              "stays_in_weekend_nights             \n",
              "0                               1645\n",
              "1                                966\n",
              "2                               1032\n",
              "3                                 44\n",
              "4                                 49\n",
              "5                                  5\n",
              "6                                  7\n",
              "7                                  2\n",
              "8                                  1\n",
              "10                                 0"
            ]
          },
          "metadata": {
            "tags": []
          },
          "execution_count": 51
        }
      ]
    },
    {
      "cell_type": "markdown",
      "metadata": {
        "id": "vmWmmw6MXkeD"
      },
      "source": [
        "Al ver estos resultado se aprecia que la probabilidad de antes es engañosa, ya que se debe a muestras muy pequeñas o incluso vacías."
      ]
    },
    {
      "cell_type": "code",
      "metadata": {
        "id": "b-jIpc6jWE92",
        "colab": {
          "base_uri": "https://localhost:8080/",
          "height": 542
        },
        "outputId": "28581abb-dfda-4d21-e287-9a777dab49d4"
      },
      "source": [
        "plt.figure(figsize=(500,10));\n",
        "data_weekend_nights_and_canceled.plot.bar(figsize=(30,8));\n",
        "plt.tight_layout()\n",
        "# Pintar todos los valores del eje X!!!"
      ],
      "execution_count": null,
      "outputs": [
        {
          "output_type": "display_data",
          "data": {
            "text/plain": [
              "<Figure size 36000x720 with 0 Axes>"
            ]
          },
          "metadata": {
            "tags": []
          }
        },
        {
          "output_type": "display_data",
          "data": {
            "image/png": "[encoded data removed]",
            "text/plain": [
              "<Figure size 2160x576 with 1 Axes>"
            ]
          },
          "metadata": {
            "tags": [],
            "needs_background": "light"
          }
        }
      ]
    },
    {
      "cell_type": "markdown",
      "metadata": {
        "id": "iFN1_qG8LA9u"
      },
      "source": [
        "### stays_in_week_nights \t"
      ]
    },
    {
      "cell_type": "code",
      "metadata": {
        "id": "i4UREPYnX0i1",
        "colab": {
          "base_uri": "https://localhost:8080/"
        },
        "outputId": "f1681a31-fe5d-4ca8-a299-e701d81c58b4"
      },
      "source": [
        "data['stays_in_week_nights'].describe()"
      ],
      "execution_count": null,
      "outputs": [
        {
          "output_type": "execute_result",
          "data": {
            "text/plain": [
              "count    10000.000000\n",
              "mean         2.516500\n",
              "std          1.882892\n",
              "min          0.000000\n",
              "25%          1.000000\n",
              "50%          2.000000\n",
              "75%          3.000000\n",
              "max         25.000000\n",
              "Name: stays_in_week_nights, dtype: float64"
            ]
          },
          "metadata": {
            "tags": []
          },
          "execution_count": 53
        }
      ]
    },
    {
      "cell_type": "code",
      "metadata": {
        "id": "oZ41x0k1X0i4",
        "colab": {
          "base_uri": "https://localhost:8080/",
          "height": 282
        },
        "outputId": "9c5bae4c-03f9-40d9-d570-c92db4c30980"
      },
      "source": [
        "data['stays_in_week_nights'].hist()"
      ],
      "execution_count": null,
      "outputs": [
        {
          "output_type": "execute_result",
          "data": {
            "text/plain": [
              "<matplotlib.axes._subplots.AxesSubplot at 0x7f1f2658eeb8>"
            ]
          },
          "metadata": {
            "tags": []
          },
          "execution_count": 54
        },
        {
          "output_type": "display_data",
          "data": {
            "image/png": "[encoded data removed]",
            "text/plain": [
              "<Figure size 432x288 with 1 Axes>"
            ]
          },
          "metadata": {
            "tags": [],
            "needs_background": "light"
          }
        }
      ]
    },
    {
      "cell_type": "markdown",
      "metadata": {
        "id": "ZcsyxGt1X0i7"
      },
      "source": [
        "##### Tabla de contingencias\n",
        "Sacamos una tabla de contingencias para ver con que probabilidad se cancela o no en función del número de noches entre semana y pintarlo en una gráfica."
      ]
    },
    {
      "cell_type": "code",
      "metadata": {
        "id": "9DuSeX8HX0i7",
        "colab": {
          "base_uri": "https://localhost:8080/",
          "height": 739
        },
        "outputId": "d850f59d-d36f-4dca-9a38-5124f9da8e42"
      },
      "source": [
        "data_prob_canceled_by_week_nights = pd.crosstab(data['stays_in_week_nights'], data['is_canceled']).apply(lambda r: r/r.sum(), axis=1)\n",
        "data_prob_canceled_by_week_nights"
      ],
      "execution_count": null,
      "outputs": [
        {
          "output_type": "execute_result",
          "data": {
            "text/html": [
              "<div>\n",
              "<style scoped>\n",
              "    .dataframe tbody tr th:only-of-type {\n",
              "        vertical-align: middle;\n",
              "    }\n",
              "\n",
              "    .dataframe tbody tr th {\n",
              "        vertical-align: top;\n",
              "    }\n",
              "\n",
              "    .dataframe thead th {\n",
              "        text-align: right;\n",
              "    }\n",
              "</style>\n",
              "<table border=\"1\" class=\"dataframe\">\n",
              "  <thead>\n",
              "    <tr style=\"text-align: right;\">\n",
              "      <th>is_canceled</th>\n",
              "      <th>0</th>\n",
              "      <th>1</th>\n",
              "    </tr>\n",
              "    <tr>\n",
              "      <th>stays_in_week_nights</th>\n",
              "      <th></th>\n",
              "      <th></th>\n",
              "    </tr>\n",
              "  </thead>\n",
              "  <tbody>\n",
              "    <tr>\n",
              "      <th>0</th>\n",
              "      <td>0.731942</td>\n",
              "      <td>0.268058</td>\n",
              "    </tr>\n",
              "    <tr>\n",
              "      <th>1</th>\n",
              "      <td>0.678247</td>\n",
              "      <td>0.321753</td>\n",
              "    </tr>\n",
              "    <tr>\n",
              "      <th>2</th>\n",
              "      <td>0.548654</td>\n",
              "      <td>0.451346</td>\n",
              "    </tr>\n",
              "    <tr>\n",
              "      <th>3</th>\n",
              "      <td>0.605885</td>\n",
              "      <td>0.394115</td>\n",
              "    </tr>\n",
              "    <tr>\n",
              "      <th>4</th>\n",
              "      <td>0.628971</td>\n",
              "      <td>0.371029</td>\n",
              "    </tr>\n",
              "    <tr>\n",
              "      <th>5</th>\n",
              "      <td>0.661070</td>\n",
              "      <td>0.338930</td>\n",
              "    </tr>\n",
              "    <tr>\n",
              "      <th>6</th>\n",
              "      <td>0.659574</td>\n",
              "      <td>0.340426</td>\n",
              "    </tr>\n",
              "    <tr>\n",
              "      <th>7</th>\n",
              "      <td>0.636364</td>\n",
              "      <td>0.363636</td>\n",
              "    </tr>\n",
              "    <tr>\n",
              "      <th>8</th>\n",
              "      <td>0.606557</td>\n",
              "      <td>0.393443</td>\n",
              "    </tr>\n",
              "    <tr>\n",
              "      <th>9</th>\n",
              "      <td>0.411765</td>\n",
              "      <td>0.588235</td>\n",
              "    </tr>\n",
              "    <tr>\n",
              "      <th>10</th>\n",
              "      <td>0.789474</td>\n",
              "      <td>0.210526</td>\n",
              "    </tr>\n",
              "    <tr>\n",
              "      <th>11</th>\n",
              "      <td>0.400000</td>\n",
              "      <td>0.600000</td>\n",
              "    </tr>\n",
              "    <tr>\n",
              "      <th>12</th>\n",
              "      <td>0.333333</td>\n",
              "      <td>0.666667</td>\n",
              "    </tr>\n",
              "    <tr>\n",
              "      <th>13</th>\n",
              "      <td>1.000000</td>\n",
              "      <td>0.000000</td>\n",
              "    </tr>\n",
              "    <tr>\n",
              "      <th>14</th>\n",
              "      <td>0.000000</td>\n",
              "      <td>1.000000</td>\n",
              "    </tr>\n",
              "    <tr>\n",
              "      <th>15</th>\n",
              "      <td>0.583333</td>\n",
              "      <td>0.416667</td>\n",
              "    </tr>\n",
              "    <tr>\n",
              "      <th>16</th>\n",
              "      <td>0.000000</td>\n",
              "      <td>1.000000</td>\n",
              "    </tr>\n",
              "    <tr>\n",
              "      <th>17</th>\n",
              "      <td>1.000000</td>\n",
              "      <td>0.000000</td>\n",
              "    </tr>\n",
              "    <tr>\n",
              "      <th>19</th>\n",
              "      <td>0.000000</td>\n",
              "      <td>1.000000</td>\n",
              "    </tr>\n",
              "    <tr>\n",
              "      <th>20</th>\n",
              "      <td>0.500000</td>\n",
              "      <td>0.500000</td>\n",
              "    </tr>\n",
              "    <tr>\n",
              "      <th>25</th>\n",
              "      <td>1.000000</td>\n",
              "      <td>0.000000</td>\n",
              "    </tr>\n",
              "  </tbody>\n",
              "</table>\n",
              "</div>"
            ],
            "text/plain": [
              "is_canceled                  0         1\n",
              "stays_in_week_nights                    \n",
              "0                     0.731942  0.268058\n",
              "1                     0.678247  0.321753\n",
              "2                     0.548654  0.451346\n",
              "3                     0.605885  0.394115\n",
              "4                     0.628971  0.371029\n",
              "5                     0.661070  0.338930\n",
              "6                     0.659574  0.340426\n",
              "7                     0.636364  0.363636\n",
              "8                     0.606557  0.393443\n",
              "9                     0.411765  0.588235\n",
              "10                    0.789474  0.210526\n",
              "11                    0.400000  0.600000\n",
              "12                    0.333333  0.666667\n",
              "13                    1.000000  0.000000\n",
              "14                    0.000000  1.000000\n",
              "15                    0.583333  0.416667\n",
              "16                    0.000000  1.000000\n",
              "17                    1.000000  0.000000\n",
              "19                    0.000000  1.000000\n",
              "20                    0.500000  0.500000\n",
              "25                    1.000000  0.000000"
            ]
          },
          "metadata": {
            "tags": []
          },
          "execution_count": 55
        }
      ]
    },
    {
      "cell_type": "code",
      "metadata": {
        "id": "mb-xMflsX0i9",
        "colab": {
          "base_uri": "https://localhost:8080/",
          "height": 542
        },
        "outputId": "05f0d010-1499-4728-a972-7192a29dd829"
      },
      "source": [
        "plt.figure(figsize=(500,10));\n",
        "data_prob_canceled_by_week_nights.plot.bar(figsize=(30,8));\n",
        "plt.tight_layout()\n",
        "# Pintar todos los valores del eje X!!!"
      ],
      "execution_count": null,
      "outputs": [
        {
          "output_type": "display_data",
          "data": {
            "text/plain": [
              "<Figure size 36000x720 with 0 Axes>"
            ]
          },
          "metadata": {
            "tags": []
          }
        },
        {
          "output_type": "display_data",
          "data": {
            "image/png": "[encoded data removed]",
            "text/plain": [
              "<Figure size 2160x576 with 1 Axes>"
            ]
          },
          "metadata": {
            "tags": [],
            "needs_background": "light"
          }
        }
      ]
    },
    {
      "cell_type": "markdown",
      "metadata": {
        "id": "qhwjwhsyX0jA"
      },
      "source": [
        "##### Comparación con is_canceled\n",
        "Vamos a agrupar por la variable para ver como han ido cambiando las cancelaciones a lo largo de la misma."
      ]
    },
    {
      "cell_type": "code",
      "metadata": {
        "id": "NhPBoWskX0jB",
        "colab": {
          "base_uri": "https://localhost:8080/",
          "height": 739
        },
        "outputId": "d62883a6-0913-4c7f-92cc-951f0b6dcf80"
      },
      "source": [
        "data_week_nights_and_canceled = data[['stays_in_week_nights', 'is_canceled']]\n",
        "data_week_nights_and_canceled = data_week_nights_and_canceled.groupby(by=['stays_in_week_nights']).sum()\n",
        "data_week_nights_and_canceled"
      ],
      "execution_count": null,
      "outputs": [
        {
          "output_type": "execute_result",
          "data": {
            "text/html": [
              "<div>\n",
              "<style scoped>\n",
              "    .dataframe tbody tr th:only-of-type {\n",
              "        vertical-align: middle;\n",
              "    }\n",
              "\n",
              "    .dataframe tbody tr th {\n",
              "        vertical-align: top;\n",
              "    }\n",
              "\n",
              "    .dataframe thead th {\n",
              "        text-align: right;\n",
              "    }\n",
              "</style>\n",
              "<table border=\"1\" class=\"dataframe\">\n",
              "  <thead>\n",
              "    <tr style=\"text-align: right;\">\n",
              "      <th></th>\n",
              "      <th>is_canceled</th>\n",
              "    </tr>\n",
              "    <tr>\n",
              "      <th>stays_in_week_nights</th>\n",
              "      <th></th>\n",
              "    </tr>\n",
              "  </thead>\n",
              "  <tbody>\n",
              "    <tr>\n",
              "      <th>0</th>\n",
              "      <td>167</td>\n",
              "    </tr>\n",
              "    <tr>\n",
              "      <th>1</th>\n",
              "      <td>815</td>\n",
              "    </tr>\n",
              "    <tr>\n",
              "      <th>2</th>\n",
              "      <td>1257</td>\n",
              "    </tr>\n",
              "    <tr>\n",
              "      <th>3</th>\n",
              "      <td>750</td>\n",
              "    </tr>\n",
              "    <tr>\n",
              "      <th>4</th>\n",
              "      <td>292</td>\n",
              "    </tr>\n",
              "    <tr>\n",
              "      <th>5</th>\n",
              "      <td>323</td>\n",
              "    </tr>\n",
              "    <tr>\n",
              "      <th>6</th>\n",
              "      <td>48</td>\n",
              "    </tr>\n",
              "    <tr>\n",
              "      <th>7</th>\n",
              "      <td>24</td>\n",
              "    </tr>\n",
              "    <tr>\n",
              "      <th>8</th>\n",
              "      <td>24</td>\n",
              "    </tr>\n",
              "    <tr>\n",
              "      <th>9</th>\n",
              "      <td>10</td>\n",
              "    </tr>\n",
              "    <tr>\n",
              "      <th>10</th>\n",
              "      <td>20</td>\n",
              "    </tr>\n",
              "    <tr>\n",
              "      <th>11</th>\n",
              "      <td>3</td>\n",
              "    </tr>\n",
              "    <tr>\n",
              "      <th>12</th>\n",
              "      <td>2</td>\n",
              "    </tr>\n",
              "    <tr>\n",
              "      <th>13</th>\n",
              "      <td>0</td>\n",
              "    </tr>\n",
              "    <tr>\n",
              "      <th>14</th>\n",
              "      <td>5</td>\n",
              "    </tr>\n",
              "    <tr>\n",
              "      <th>15</th>\n",
              "      <td>5</td>\n",
              "    </tr>\n",
              "    <tr>\n",
              "      <th>16</th>\n",
              "      <td>1</td>\n",
              "    </tr>\n",
              "    <tr>\n",
              "      <th>17</th>\n",
              "      <td>0</td>\n",
              "    </tr>\n",
              "    <tr>\n",
              "      <th>19</th>\n",
              "      <td>4</td>\n",
              "    </tr>\n",
              "    <tr>\n",
              "      <th>20</th>\n",
              "      <td>1</td>\n",
              "    </tr>\n",
              "    <tr>\n",
              "      <th>25</th>\n",
              "      <td>0</td>\n",
              "    </tr>\n",
              "  </tbody>\n",
              "</table>\n",
              "</div>"
            ],
            "text/plain": [
              "                      is_canceled\n",
              "stays_in_week_nights             \n",
              "0                             167\n",
              "1                             815\n",
              "2                            1257\n",
              "3                             750\n",
              "4                             292\n",
              "5                             323\n",
              "6                              48\n",
              "7                              24\n",
              "8                              24\n",
              "9                              10\n",
              "10                             20\n",
              "11                              3\n",
              "12                              2\n",
              "13                              0\n",
              "14                              5\n",
              "15                              5\n",
              "16                              1\n",
              "17                              0\n",
              "19                              4\n",
              "20                              1\n",
              "25                              0"
            ]
          },
          "metadata": {
            "tags": []
          },
          "execution_count": 57
        }
      ]
    },
    {
      "cell_type": "code",
      "metadata": {
        "id": "NSDWMDnAX0jB",
        "colab": {
          "base_uri": "https://localhost:8080/",
          "height": 542
        },
        "outputId": "e541f84b-3ea6-4110-f35d-3309228e9179"
      },
      "source": [
        "plt.figure(figsize=(500,10));\n",
        "data_week_nights_and_canceled.plot.bar(figsize=(30,8));\n",
        "plt.tight_layout()\n",
        "# Pintar todos los valores del eje X!!!"
      ],
      "execution_count": null,
      "outputs": [
        {
          "output_type": "display_data",
          "data": {
            "text/plain": [
              "<Figure size 36000x720 with 0 Axes>"
            ]
          },
          "metadata": {
            "tags": []
          }
        },
        {
          "output_type": "display_data",
          "data": {
            "image/png": "[encoded data removed]",
            "text/plain": [
              "<Figure size 2160x576 with 1 Axes>"
            ]
          },
          "metadata": {
            "tags": [],
            "needs_background": "light"
          }
        }
      ]
    },
    {
      "cell_type": "markdown",
      "metadata": {
        "id": "FMdxp0vMLAtI"
      },
      "source": [
        "### adults \t"
      ]
    },
    {
      "cell_type": "code",
      "metadata": {
        "id": "O1TdfPXAYpd5",
        "colab": {
          "base_uri": "https://localhost:8080/"
        },
        "outputId": "cb262a36-f5cb-4b03-f76c-592d67689f39"
      },
      "source": [
        "data['adults'].describe()"
      ],
      "execution_count": null,
      "outputs": [
        {
          "output_type": "execute_result",
          "data": {
            "text/plain": [
              "count    10000.000000\n",
              "mean         1.869600\n",
              "std          0.572912\n",
              "min          0.000000\n",
              "25%          2.000000\n",
              "50%          2.000000\n",
              "75%          2.000000\n",
              "max         27.000000\n",
              "Name: adults, dtype: float64"
            ]
          },
          "metadata": {
            "tags": []
          },
          "execution_count": 59
        }
      ]
    },
    {
      "cell_type": "code",
      "metadata": {
        "id": "cOBfE5cxYpd7",
        "colab": {
          "base_uri": "https://localhost:8080/",
          "height": 282
        },
        "outputId": "59143a24-ca2c-489e-f99e-8810cd12e51a"
      },
      "source": [
        "data['adults'].hist()"
      ],
      "execution_count": null,
      "outputs": [
        {
          "output_type": "execute_result",
          "data": {
            "text/plain": [
              "<matplotlib.axes._subplots.AxesSubplot at 0x7f1f263c9710>"
            ]
          },
          "metadata": {
            "tags": []
          },
          "execution_count": 60
        },
        {
          "output_type": "display_data",
          "data": {
            "image/png": "[encoded data removed]",
            "text/plain": [
              "<Figure size 432x288 with 1 Axes>"
            ]
          },
          "metadata": {
            "tags": [],
            "needs_background": "light"
          }
        }
      ]
    },
    {
      "cell_type": "markdown",
      "metadata": {
        "id": "3vYerCXDYpd8"
      },
      "source": [
        "##### Tabla de contingencias\n",
        "Sacamos una tabla de contingencias para ver con que probabilidad se cancela o no en función del número de adultos y pintarlo en una gráfica."
      ]
    },
    {
      "cell_type": "code",
      "metadata": {
        "id": "_7q4IYJWYpd8",
        "colab": {
          "base_uri": "https://localhost:8080/",
          "height": 300
        },
        "outputId": "46a5d481-c170-46bb-846b-9d2a6835796a"
      },
      "source": [
        "data_prob_canceled_by_adults = pd.crosstab(data['adults'], data['is_canceled']).apply(lambda r: r/r.sum(), axis=1)\n",
        "data_prob_canceled_by_adults"
      ],
      "execution_count": null,
      "outputs": [
        {
          "output_type": "execute_result",
          "data": {
            "text/html": [
              "<div>\n",
              "<style scoped>\n",
              "    .dataframe tbody tr th:only-of-type {\n",
              "        vertical-align: middle;\n",
              "    }\n",
              "\n",
              "    .dataframe tbody tr th {\n",
              "        vertical-align: top;\n",
              "    }\n",
              "\n",
              "    .dataframe thead th {\n",
              "        text-align: right;\n",
              "    }\n",
              "</style>\n",
              "<table border=\"1\" class=\"dataframe\">\n",
              "  <thead>\n",
              "    <tr style=\"text-align: right;\">\n",
              "      <th>is_canceled</th>\n",
              "      <th>0</th>\n",
              "      <th>1</th>\n",
              "    </tr>\n",
              "    <tr>\n",
              "      <th>adults</th>\n",
              "      <th></th>\n",
              "      <th></th>\n",
              "    </tr>\n",
              "  </thead>\n",
              "  <tbody>\n",
              "    <tr>\n",
              "      <th>0</th>\n",
              "      <td>0.692308</td>\n",
              "      <td>0.307692</td>\n",
              "    </tr>\n",
              "    <tr>\n",
              "      <th>1</th>\n",
              "      <td>0.713666</td>\n",
              "      <td>0.286334</td>\n",
              "    </tr>\n",
              "    <tr>\n",
              "      <th>2</th>\n",
              "      <td>0.603007</td>\n",
              "      <td>0.396993</td>\n",
              "    </tr>\n",
              "    <tr>\n",
              "      <th>3</th>\n",
              "      <td>0.626151</td>\n",
              "      <td>0.373849</td>\n",
              "    </tr>\n",
              "    <tr>\n",
              "      <th>4</th>\n",
              "      <td>1.000000</td>\n",
              "      <td>0.000000</td>\n",
              "    </tr>\n",
              "    <tr>\n",
              "      <th>20</th>\n",
              "      <td>0.000000</td>\n",
              "      <td>1.000000</td>\n",
              "    </tr>\n",
              "    <tr>\n",
              "      <th>27</th>\n",
              "      <td>0.000000</td>\n",
              "      <td>1.000000</td>\n",
              "    </tr>\n",
              "  </tbody>\n",
              "</table>\n",
              "</div>"
            ],
            "text/plain": [
              "is_canceled         0         1\n",
              "adults                         \n",
              "0            0.692308  0.307692\n",
              "1            0.713666  0.286334\n",
              "2            0.603007  0.396993\n",
              "3            0.626151  0.373849\n",
              "4            1.000000  0.000000\n",
              "20           0.000000  1.000000\n",
              "27           0.000000  1.000000"
            ]
          },
          "metadata": {
            "tags": []
          },
          "execution_count": 61
        }
      ]
    },
    {
      "cell_type": "code",
      "metadata": {
        "id": "u7asDdVsYpd9",
        "colab": {
          "base_uri": "https://localhost:8080/",
          "height": 542
        },
        "outputId": "f97cdee2-c8b7-40f4-ff2f-d87d16dec33c"
      },
      "source": [
        "plt.figure(figsize=(500,10));\n",
        "data_prob_canceled_by_adults.plot.bar(figsize=(30,8));\n",
        "plt.tight_layout()\n",
        "# Pintar todos los valores del eje X!!!"
      ],
      "execution_count": null,
      "outputs": [
        {
          "output_type": "display_data",
          "data": {
            "text/plain": [
              "<Figure size 36000x720 with 0 Axes>"
            ]
          },
          "metadata": {
            "tags": []
          }
        },
        {
          "output_type": "display_data",
          "data": {
            "image/png": "[encoded data removed]",
            "text/plain": [
              "<Figure size 2160x576 with 1 Axes>"
            ]
          },
          "metadata": {
            "tags": [],
            "needs_background": "light"
          }
        }
      ]
    },
    {
      "cell_type": "markdown",
      "metadata": {
        "id": "rUAl7S-qYpd-"
      },
      "source": [
        "#### Comparación con is_canceled\n",
        "Vamos a agrupar por el número de adultos para ver como han ido cambiando las cancelaciones en función de los mismos."
      ]
    },
    {
      "cell_type": "code",
      "metadata": {
        "id": "Bal-6umHYpd_",
        "colab": {
          "base_uri": "https://localhost:8080/",
          "height": 300
        },
        "outputId": "af3a5ec0-ad31-4dd4-de58-1a53017a0ba7"
      },
      "source": [
        "data_adults_and_canceled = data[['adults', 'is_canceled']]\n",
        "data_adults_and_canceled = data_adults_and_canceled.groupby(by=['adults']).sum()\n",
        "data_adults_and_canceled"
      ],
      "execution_count": null,
      "outputs": [
        {
          "output_type": "execute_result",
          "data": {
            "text/html": [
              "<div>\n",
              "<style scoped>\n",
              "    .dataframe tbody tr th:only-of-type {\n",
              "        vertical-align: middle;\n",
              "    }\n",
              "\n",
              "    .dataframe tbody tr th {\n",
              "        vertical-align: top;\n",
              "    }\n",
              "\n",
              "    .dataframe thead th {\n",
              "        text-align: right;\n",
              "    }\n",
              "</style>\n",
              "<table border=\"1\" class=\"dataframe\">\n",
              "  <thead>\n",
              "    <tr style=\"text-align: right;\">\n",
              "      <th></th>\n",
              "      <th>is_canceled</th>\n",
              "    </tr>\n",
              "    <tr>\n",
              "      <th>adults</th>\n",
              "      <th></th>\n",
              "    </tr>\n",
              "  </thead>\n",
              "  <tbody>\n",
              "    <tr>\n",
              "      <th>0</th>\n",
              "      <td>8</td>\n",
              "    </tr>\n",
              "    <tr>\n",
              "      <th>1</th>\n",
              "      <td>528</td>\n",
              "    </tr>\n",
              "    <tr>\n",
              "      <th>2</th>\n",
              "      <td>3010</td>\n",
              "    </tr>\n",
              "    <tr>\n",
              "      <th>3</th>\n",
              "      <td>203</td>\n",
              "    </tr>\n",
              "    <tr>\n",
              "      <th>4</th>\n",
              "      <td>0</td>\n",
              "    </tr>\n",
              "    <tr>\n",
              "      <th>20</th>\n",
              "      <td>1</td>\n",
              "    </tr>\n",
              "    <tr>\n",
              "      <th>27</th>\n",
              "      <td>1</td>\n",
              "    </tr>\n",
              "  </tbody>\n",
              "</table>\n",
              "</div>"
            ],
            "text/plain": [
              "        is_canceled\n",
              "adults             \n",
              "0                 8\n",
              "1               528\n",
              "2              3010\n",
              "3               203\n",
              "4                 0\n",
              "20                1\n",
              "27                1"
            ]
          },
          "metadata": {
            "tags": []
          },
          "execution_count": 63
        }
      ]
    },
    {
      "cell_type": "code",
      "metadata": {
        "id": "X9BVzU6qYpeA",
        "colab": {
          "base_uri": "https://localhost:8080/",
          "height": 542
        },
        "outputId": "82be61f5-4909-482c-b8ab-c64d78e16a6b"
      },
      "source": [
        "plt.figure(figsize=(500,10));\n",
        "data_adults_and_canceled.plot.bar(figsize=(30,8));\n",
        "plt.tight_layout()\n",
        "# Pintar todos los valores del eje X!!!"
      ],
      "execution_count": null,
      "outputs": [
        {
          "output_type": "display_data",
          "data": {
            "text/plain": [
              "<Figure size 36000x720 with 0 Axes>"
            ]
          },
          "metadata": {
            "tags": []
          }
        },
        {
          "output_type": "display_data",
          "data": {
            "image/png": "[encoded data removed]",
            "text/plain": [
              "<Figure size 2160x576 with 1 Axes>"
            ]
          },
          "metadata": {
            "tags": [],
            "needs_background": "light"
          }
        }
      ]
    },
    {
      "cell_type": "markdown",
      "metadata": {
        "id": "oHxhoDXGLdWx"
      },
      "source": [
        "### children \t"
      ]
    },
    {
      "cell_type": "code",
      "metadata": {
        "id": "ULR_S3TtZS-0",
        "colab": {
          "base_uri": "https://localhost:8080/"
        },
        "outputId": "47878695-0db4-42ed-f9a7-e5b62b5f02a9"
      },
      "source": [
        "data['children'].describe()"
      ],
      "execution_count": null,
      "outputs": [
        {
          "output_type": "execute_result",
          "data": {
            "text/plain": [
              "count    10000.000000\n",
              "mean         0.108000\n",
              "std          0.405157\n",
              "min          0.000000\n",
              "25%          0.000000\n",
              "50%          0.000000\n",
              "75%          0.000000\n",
              "max          3.000000\n",
              "Name: children, dtype: float64"
            ]
          },
          "metadata": {
            "tags": []
          },
          "execution_count": 65
        }
      ]
    },
    {
      "cell_type": "code",
      "metadata": {
        "id": "CmYp0P2QZS-6",
        "colab": {
          "base_uri": "https://localhost:8080/",
          "height": 282
        },
        "outputId": "5b50e8c7-6721-4989-9b1c-04eef39880db"
      },
      "source": [
        "data['children'].hist()"
      ],
      "execution_count": null,
      "outputs": [
        {
          "output_type": "execute_result",
          "data": {
            "text/plain": [
              "<matplotlib.axes._subplots.AxesSubplot at 0x7f1f26cb93c8>"
            ]
          },
          "metadata": {
            "tags": []
          },
          "execution_count": 66
        },
        {
          "output_type": "display_data",
          "data": {
            "image/png": "[encoded data removed]",
            "text/plain": [
              "<Figure size 432x288 with 1 Axes>"
            ]
          },
          "metadata": {
            "tags": [],
            "needs_background": "light"
          }
        }
      ]
    },
    {
      "cell_type": "markdown",
      "metadata": {
        "id": "1eV3Ovj8ZS-9"
      },
      "source": [
        "##### Tabla de contingencias\n",
        "Sacamos una tabla de contingencias para ver con que probabilidad se cancela o no en función del número de niños y pintarlo en una gráfica."
      ]
    },
    {
      "cell_type": "code",
      "metadata": {
        "id": "Ht_oIb40ZS-9",
        "colab": {
          "base_uri": "https://localhost:8080/",
          "height": 206
        },
        "outputId": "c421705c-a742-43fa-dde3-bb62d8ce4eed"
      },
      "source": [
        "data_prob_canceled_by_children = pd.crosstab(data['children'], data['is_canceled']).apply(lambda r: r/r.sum(), axis=1)\n",
        "data_prob_canceled_by_children"
      ],
      "execution_count": null,
      "outputs": [
        {
          "output_type": "execute_result",
          "data": {
            "text/html": [
              "<div>\n",
              "<style scoped>\n",
              "    .dataframe tbody tr th:only-of-type {\n",
              "        vertical-align: middle;\n",
              "    }\n",
              "\n",
              "    .dataframe tbody tr th {\n",
              "        vertical-align: top;\n",
              "    }\n",
              "\n",
              "    .dataframe thead th {\n",
              "        text-align: right;\n",
              "    }\n",
              "</style>\n",
              "<table border=\"1\" class=\"dataframe\">\n",
              "  <thead>\n",
              "    <tr style=\"text-align: right;\">\n",
              "      <th>is_canceled</th>\n",
              "      <th>0</th>\n",
              "      <th>1</th>\n",
              "    </tr>\n",
              "    <tr>\n",
              "      <th>children</th>\n",
              "      <th></th>\n",
              "      <th></th>\n",
              "    </tr>\n",
              "  </thead>\n",
              "  <tbody>\n",
              "    <tr>\n",
              "      <th>0.0</th>\n",
              "      <td>0.625554</td>\n",
              "      <td>0.374446</td>\n",
              "    </tr>\n",
              "    <tr>\n",
              "      <th>1.0</th>\n",
              "      <td>0.661972</td>\n",
              "      <td>0.338028</td>\n",
              "    </tr>\n",
              "    <tr>\n",
              "      <th>2.0</th>\n",
              "      <td>0.552381</td>\n",
              "      <td>0.447619</td>\n",
              "    </tr>\n",
              "    <tr>\n",
              "      <th>3.0</th>\n",
              "      <td>0.750000</td>\n",
              "      <td>0.250000</td>\n",
              "    </tr>\n",
              "  </tbody>\n",
              "</table>\n",
              "</div>"
            ],
            "text/plain": [
              "is_canceled         0         1\n",
              "children                       \n",
              "0.0          0.625554  0.374446\n",
              "1.0          0.661972  0.338028\n",
              "2.0          0.552381  0.447619\n",
              "3.0          0.750000  0.250000"
            ]
          },
          "metadata": {
            "tags": []
          },
          "execution_count": 67
        }
      ]
    },
    {
      "cell_type": "code",
      "metadata": {
        "id": "s9ZYWM9_ZS-_",
        "colab": {
          "base_uri": "https://localhost:8080/",
          "height": 542
        },
        "outputId": "186ab203-a26c-46e4-ac1e-681cbbb362b1"
      },
      "source": [
        "plt.figure(figsize=(500,10));\n",
        "data_prob_canceled_by_children.plot.bar(figsize=(30,8));\n",
        "plt.tight_layout()\n",
        "# Pintar todos los valores del eje X!!!"
      ],
      "execution_count": null,
      "outputs": [
        {
          "output_type": "display_data",
          "data": {
            "text/plain": [
              "<Figure size 36000x720 with 0 Axes>"
            ]
          },
          "metadata": {
            "tags": []
          }
        },
        {
          "output_type": "display_data",
          "data": {
            "image/png": "[encoded data removed]",
            "text/plain": [
              "<Figure size 2160x576 with 1 Axes>"
            ]
          },
          "metadata": {
            "tags": [],
            "needs_background": "light"
          }
        }
      ]
    },
    {
      "cell_type": "markdown",
      "metadata": {
        "id": "fG7wnuTiZS_A"
      },
      "source": [
        "#### Comparación con is_canceled\n",
        "Vamos a agrupar por el número de niños para ver como han ido cambiando las cancelaciones en función de los mismos."
      ]
    },
    {
      "cell_type": "code",
      "metadata": {
        "id": "hIW0mlo9ZS_B",
        "colab": {
          "base_uri": "https://localhost:8080/",
          "height": 206
        },
        "outputId": "001bbebb-6493-494f-dae8-94a1a13a7f81"
      },
      "source": [
        "data_children_and_canceled = data[['children', 'is_canceled']]\n",
        "data_children_and_canceled = data_children_and_canceled.groupby(by=['children']).sum()\n",
        "data_children_and_canceled"
      ],
      "execution_count": null,
      "outputs": [
        {
          "output_type": "execute_result",
          "data": {
            "text/html": [
              "<div>\n",
              "<style scoped>\n",
              "    .dataframe tbody tr th:only-of-type {\n",
              "        vertical-align: middle;\n",
              "    }\n",
              "\n",
              "    .dataframe tbody tr th {\n",
              "        vertical-align: top;\n",
              "    }\n",
              "\n",
              "    .dataframe thead th {\n",
              "        text-align: right;\n",
              "    }\n",
              "</style>\n",
              "<table border=\"1\" class=\"dataframe\">\n",
              "  <thead>\n",
              "    <tr style=\"text-align: right;\">\n",
              "      <th></th>\n",
              "      <th>is_canceled</th>\n",
              "    </tr>\n",
              "    <tr>\n",
              "      <th>children</th>\n",
              "      <th></th>\n",
              "    </tr>\n",
              "  </thead>\n",
              "  <tbody>\n",
              "    <tr>\n",
              "      <th>0.0</th>\n",
              "      <td>3464</td>\n",
              "    </tr>\n",
              "    <tr>\n",
              "      <th>1.0</th>\n",
              "      <td>144</td>\n",
              "    </tr>\n",
              "    <tr>\n",
              "      <th>2.0</th>\n",
              "      <td>141</td>\n",
              "    </tr>\n",
              "    <tr>\n",
              "      <th>3.0</th>\n",
              "      <td>2</td>\n",
              "    </tr>\n",
              "  </tbody>\n",
              "</table>\n",
              "</div>"
            ],
            "text/plain": [
              "          is_canceled\n",
              "children             \n",
              "0.0              3464\n",
              "1.0               144\n",
              "2.0               141\n",
              "3.0                 2"
            ]
          },
          "metadata": {
            "tags": []
          },
          "execution_count": 69
        }
      ]
    },
    {
      "cell_type": "code",
      "metadata": {
        "id": "ckdcnD6_ZS_C",
        "colab": {
          "base_uri": "https://localhost:8080/",
          "height": 542
        },
        "outputId": "665147bb-2461-46f7-f93e-9408f8a8cad1"
      },
      "source": [
        "plt.figure(figsize=(500,10));\n",
        "data_children_and_canceled.plot.bar(figsize=(30,8));\n",
        "plt.tight_layout()\n",
        "# Pintar todos los valores del eje X!!!"
      ],
      "execution_count": null,
      "outputs": [
        {
          "output_type": "display_data",
          "data": {
            "text/plain": [
              "<Figure size 36000x720 with 0 Axes>"
            ]
          },
          "metadata": {
            "tags": []
          }
        },
        {
          "output_type": "display_data",
          "data": {
            "image/png": "[encoded data removed]",
            "text/plain": [
              "<Figure size 2160x576 with 1 Axes>"
            ]
          },
          "metadata": {
            "tags": [],
            "needs_background": "light"
          }
        }
      ]
    },
    {
      "cell_type": "markdown",
      "metadata": {
        "id": "eQwjCG68LfSI"
      },
      "source": [
        "### babies"
      ]
    },
    {
      "cell_type": "code",
      "metadata": {
        "id": "HwREMvKvaMry",
        "colab": {
          "base_uri": "https://localhost:8080/"
        },
        "outputId": "002c705b-3c62-487b-ec33-fc85948ac647"
      },
      "source": [
        "data['babies'].describe()"
      ],
      "execution_count": null,
      "outputs": [
        {
          "output_type": "execute_result",
          "data": {
            "text/plain": [
              "count    10000.000000\n",
              "mean         0.008500\n",
              "std          0.093961\n",
              "min          0.000000\n",
              "25%          0.000000\n",
              "50%          0.000000\n",
              "75%          0.000000\n",
              "max          2.000000\n",
              "Name: babies, dtype: float64"
            ]
          },
          "metadata": {
            "tags": []
          },
          "execution_count": 71
        }
      ]
    },
    {
      "cell_type": "code",
      "metadata": {
        "id": "4kfE97iHaMrz",
        "colab": {
          "base_uri": "https://localhost:8080/",
          "height": 282
        },
        "outputId": "ec711764-337b-4514-a678-c4d326d17849"
      },
      "source": [
        "data['babies'].hist()"
      ],
      "execution_count": null,
      "outputs": [
        {
          "output_type": "execute_result",
          "data": {
            "text/plain": [
              "<matplotlib.axes._subplots.AxesSubplot at 0x7f1f26a18f98>"
            ]
          },
          "metadata": {
            "tags": []
          },
          "execution_count": 72
        },
        {
          "output_type": "display_data",
          "data": {
            "image/png": "[encoded data removed]",
            "text/plain": [
              "<Figure size 432x288 with 1 Axes>"
            ]
          },
          "metadata": {
            "tags": [],
            "needs_background": "light"
          }
        }
      ]
    },
    {
      "cell_type": "markdown",
      "metadata": {
        "id": "aFM2T2T9aMr0"
      },
      "source": [
        "##### Tabla de contingencias\n",
        "Sacamos una tabla de contingencias para ver con que probabilidad se cancela o no en función del nñumero de bebés y pintarlo en una gráfica."
      ]
    },
    {
      "cell_type": "code",
      "metadata": {
        "id": "hFm6Lv3EaMr0",
        "colab": {
          "base_uri": "https://localhost:8080/",
          "height": 175
        },
        "outputId": "51a4e999-d803-4792-ccaf-de141ac46b2e"
      },
      "source": [
        "data_prob_canceled_by_babies = pd.crosstab(data['babies'], data['is_canceled']).apply(lambda r: r/r.sum(), axis=1)\n",
        "data_prob_canceled_by_babies"
      ],
      "execution_count": null,
      "outputs": [
        {
          "output_type": "execute_result",
          "data": {
            "text/html": [
              "<div>\n",
              "<style scoped>\n",
              "    .dataframe tbody tr th:only-of-type {\n",
              "        vertical-align: middle;\n",
              "    }\n",
              "\n",
              "    .dataframe tbody tr th {\n",
              "        vertical-align: top;\n",
              "    }\n",
              "\n",
              "    .dataframe thead th {\n",
              "        text-align: right;\n",
              "    }\n",
              "</style>\n",
              "<table border=\"1\" class=\"dataframe\">\n",
              "  <thead>\n",
              "    <tr style=\"text-align: right;\">\n",
              "      <th>is_canceled</th>\n",
              "      <th>0</th>\n",
              "      <th>1</th>\n",
              "    </tr>\n",
              "    <tr>\n",
              "      <th>babies</th>\n",
              "      <th></th>\n",
              "      <th></th>\n",
              "    </tr>\n",
              "  </thead>\n",
              "  <tbody>\n",
              "    <tr>\n",
              "      <th>0</th>\n",
              "      <td>0.623576</td>\n",
              "      <td>0.376424</td>\n",
              "    </tr>\n",
              "    <tr>\n",
              "      <th>1</th>\n",
              "      <td>0.777778</td>\n",
              "      <td>0.222222</td>\n",
              "    </tr>\n",
              "    <tr>\n",
              "      <th>2</th>\n",
              "      <td>1.000000</td>\n",
              "      <td>0.000000</td>\n",
              "    </tr>\n",
              "  </tbody>\n",
              "</table>\n",
              "</div>"
            ],
            "text/plain": [
              "is_canceled         0         1\n",
              "babies                         \n",
              "0            0.623576  0.376424\n",
              "1            0.777778  0.222222\n",
              "2            1.000000  0.000000"
            ]
          },
          "metadata": {
            "tags": []
          },
          "execution_count": 73
        }
      ]
    },
    {
      "cell_type": "code",
      "metadata": {
        "id": "cYtAOgUlaMr1",
        "colab": {
          "base_uri": "https://localhost:8080/",
          "height": 542
        },
        "outputId": "f8d21aab-4a3e-40e7-c1aa-74d75eec3761"
      },
      "source": [
        "plt.figure(figsize=(500,10));\n",
        "data_prob_canceled_by_babies.plot.bar(figsize=(30,8));\n",
        "plt.tight_layout()\n",
        "# Pintar todos los valores del eje X!!!"
      ],
      "execution_count": null,
      "outputs": [
        {
          "output_type": "display_data",
          "data": {
            "text/plain": [
              "<Figure size 36000x720 with 0 Axes>"
            ]
          },
          "metadata": {
            "tags": []
          }
        },
        {
          "output_type": "display_data",
          "data": {
            "image/png": "[encoded data removed]",
            "text/plain": [
              "<Figure size 2160x576 with 1 Axes>"
            ]
          },
          "metadata": {
            "tags": [],
            "needs_background": "light"
          }
        }
      ]
    },
    {
      "cell_type": "markdown",
      "metadata": {
        "id": "Le4u1zpKaMr1"
      },
      "source": [
        "#### Comparación con is_canceled\n",
        "Vamos a agrupar por el número de bebés para ver como han ido cambiando las cancelaciones en función de los mismos."
      ]
    },
    {
      "cell_type": "code",
      "metadata": {
        "id": "-ENPM-5iaMr1",
        "colab": {
          "base_uri": "https://localhost:8080/",
          "height": 175
        },
        "outputId": "1887820d-39ce-4ff3-e8ca-6904a9183a7d"
      },
      "source": [
        "data_babies_and_canceled = data[['babies', 'is_canceled']]\n",
        "data_babies_and_canceled = data_babies_and_canceled.groupby(by=['babies']).sum()\n",
        "data_babies_and_canceled"
      ],
      "execution_count": null,
      "outputs": [
        {
          "output_type": "execute_result",
          "data": {
            "text/html": [
              "<div>\n",
              "<style scoped>\n",
              "    .dataframe tbody tr th:only-of-type {\n",
              "        vertical-align: middle;\n",
              "    }\n",
              "\n",
              "    .dataframe tbody tr th {\n",
              "        vertical-align: top;\n",
              "    }\n",
              "\n",
              "    .dataframe thead th {\n",
              "        text-align: right;\n",
              "    }\n",
              "</style>\n",
              "<table border=\"1\" class=\"dataframe\">\n",
              "  <thead>\n",
              "    <tr style=\"text-align: right;\">\n",
              "      <th></th>\n",
              "      <th>is_canceled</th>\n",
              "    </tr>\n",
              "    <tr>\n",
              "      <th>babies</th>\n",
              "      <th></th>\n",
              "    </tr>\n",
              "  </thead>\n",
              "  <tbody>\n",
              "    <tr>\n",
              "      <th>0</th>\n",
              "      <td>3733</td>\n",
              "    </tr>\n",
              "    <tr>\n",
              "      <th>1</th>\n",
              "      <td>18</td>\n",
              "    </tr>\n",
              "    <tr>\n",
              "      <th>2</th>\n",
              "      <td>0</td>\n",
              "    </tr>\n",
              "  </tbody>\n",
              "</table>\n",
              "</div>"
            ],
            "text/plain": [
              "        is_canceled\n",
              "babies             \n",
              "0              3733\n",
              "1                18\n",
              "2                 0"
            ]
          },
          "metadata": {
            "tags": []
          },
          "execution_count": 75
        }
      ]
    },
    {
      "cell_type": "code",
      "metadata": {
        "id": "2i7Nes8_aMr2",
        "colab": {
          "base_uri": "https://localhost:8080/",
          "height": 542
        },
        "outputId": "faa3c7a5-9819-468b-ca1f-21dbe8720f3b"
      },
      "source": [
        "plt.figure(figsize=(500,10));\n",
        "data_babies_and_canceled.plot.bar(figsize=(30,8));\n",
        "plt.tight_layout()\n",
        "# Pintar todos los valores del eje X!!!"
      ],
      "execution_count": null,
      "outputs": [
        {
          "output_type": "display_data",
          "data": {
            "text/plain": [
              "<Figure size 36000x720 with 0 Axes>"
            ]
          },
          "metadata": {
            "tags": []
          }
        },
        {
          "output_type": "display_data",
          "data": {
            "image/png": "[encoded data removed]",
            "text/plain": [
              "<Figure size 2160x576 with 1 Axes>"
            ]
          },
          "metadata": {
            "tags": [],
            "needs_background": "light"
          }
        }
      ]
    },
    {
      "cell_type": "markdown",
      "metadata": {
        "id": "wLVrNnmm2Suw"
      },
      "source": [
        "### meal\n"
      ]
    },
    {
      "cell_type": "code",
      "metadata": {
        "colab": {
          "base_uri": "https://localhost:8080/"
        },
        "id": "XU7M-kgcgvoD",
        "outputId": "5bbcc06d-aa4f-45ed-971f-8cba60503a6f"
      },
      "source": [
        "data.meal.describe()"
      ],
      "execution_count": null,
      "outputs": [
        {
          "output_type": "execute_result",
          "data": {
            "text/plain": [
              "count     10000\n",
              "unique        5\n",
              "top          BB\n",
              "freq       7726\n",
              "Name: meal, dtype: object"
            ]
          },
          "metadata": {
            "tags": []
          },
          "execution_count": 77
        }
      ]
    },
    {
      "cell_type": "markdown",
      "metadata": {
        "id": "UPUwigrnfnpa"
      },
      "source": [
        "### country"
      ]
    },
    {
      "cell_type": "markdown",
      "metadata": {
        "id": "SZ9-B3f6frPJ"
      },
      "source": [
        "### market_segment"
      ]
    },
    {
      "cell_type": "markdown",
      "metadata": {
        "id": "odAWRRVffwa4"
      },
      "source": [
        "### distribution_channel"
      ]
    },
    {
      "cell_type": "markdown",
      "metadata": {
        "id": "GNUJF5Xxf1uC"
      },
      "source": [
        "### is_repeated_guest"
      ]
    },
    {
      "cell_type": "markdown",
      "metadata": {
        "id": "RMqROenPf8Ty"
      },
      "source": [
        "### previous_cancellations"
      ]
    },
    {
      "cell_type": "markdown",
      "metadata": {
        "id": "Ac62yzqWgCDJ"
      },
      "source": [
        "### previous_bookings_not_canceled"
      ]
    },
    {
      "cell_type": "markdown",
      "metadata": {
        "id": "tZDtwENkgH1X"
      },
      "source": [
        "### reserved_room_type"
      ]
    },
    {
      "cell_type": "markdown",
      "metadata": {
        "id": "kpouAOfFgOva"
      },
      "source": [
        "### assigned_room_type"
      ]
    },
    {
      "cell_type": "markdown",
      "metadata": {
        "id": "Ttxj6GwqgVPJ"
      },
      "source": [
        "### booking_changes"
      ]
    },
    {
      "cell_type": "markdown",
      "metadata": {
        "id": "anqG0ZBPgYrI"
      },
      "source": [
        "### deposit_type"
      ]
    },
    {
      "cell_type": "markdown",
      "metadata": {
        "id": "5xkpIPp2giRY"
      },
      "source": [
        "### agent\n"
      ]
    }
  ]
}